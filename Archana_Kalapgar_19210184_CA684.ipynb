{
  "nbformat": 4,
  "nbformat_minor": 0,
  "metadata": {
    "colab": {
      "name": "ML.ipynb",
      "provenance": [],
      "collapsed_sections": []
    },
    "kernelspec": {
      "name": "python3",
      "display_name": "Python 3"
    },
    "accelerator": "TPU"
  },
  "cells": [
    {
      "cell_type": "code",
      "metadata": {
        "id": "_HwXGrKIr9hr",
        "colab_type": "code",
        "outputId": "6f4f04c6-9ecf-4657-c16c-1e6938eec350",
        "colab": {
          "base_uri": "https://localhost:8080/",
          "height": 87
        }
      },
      "source": [
        "!pip install pyprind"
      ],
      "execution_count": 2,
      "outputs": [
        {
          "output_type": "stream",
          "text": [
            "Collecting pyprind\n",
            "  Downloading https://files.pythonhosted.org/packages/1e/30/e76fb0c45da8aef49ea8d2a90d4e7a6877b45894c25f12fb961f009a891e/PyPrind-2.11.2-py3-none-any.whl\n",
            "Installing collected packages: pyprind\n",
            "Successfully installed pyprind-2.11.2\n"
          ],
          "name": "stdout"
        }
      ]
    },
    {
      "cell_type": "code",
      "metadata": {
        "id": "ycqWsrxOYRpa",
        "colab_type": "code",
        "outputId": "1f9dd62c-a7e6-429d-98ee-4ae34fb3e996",
        "colab": {
          "base_uri": "https://localhost:8080/",
          "height": 34
        }
      },
      "source": [
        "print(tf.__version__)"
      ],
      "execution_count": 6,
      "outputs": [
        {
          "output_type": "stream",
          "text": [
            "2.2.0-rc3\n"
          ],
          "name": "stdout"
        }
      ]
    },
    {
      "cell_type": "code",
      "metadata": {
        "id": "cPIaovXNsFDb",
        "colab_type": "code",
        "colab": {}
      },
      "source": [
        "import pandas as pd\n",
        "import numpy as np\n",
        "import pyprind\n",
        "import matplotlib.pyplot as plt\n",
        "import os\n",
        "import glob\n",
        "import tensorflow as tf\n",
        "\n",
        "from tensorflow.python.keras import Sequential\n",
        "from tensorflow.python.keras import layers\n",
        "from tensorflow.python.keras import regularizers\n",
        "from tensorflow.python.keras.preprocessing.text import Tokenizer\n",
        "from sklearn.model_selection import train_test_split\n",
        "from string import punctuation\n",
        "from collections import Counter"
      ],
      "execution_count": 0,
      "outputs": []
    },
    {
      "cell_type": "code",
      "metadata": {
        "id": "e4YNBaqd7ZZo",
        "colab_type": "code",
        "outputId": "64b1a153-19a3-4882-ff23-0186c1fd22b5",
        "colab": {
          "base_uri": "https://localhost:8080/",
          "height": 125
        }
      },
      "source": [
        "from google.colab import drive\n",
        "import os\n",
        "drive.mount('/content/drive/')"
      ],
      "execution_count": 5,
      "outputs": [
        {
          "output_type": "stream",
          "text": [
            "Go to this URL in a browser: https://accounts.google.com/o/oauth2/auth?client_id=947318989803-6bn6qk8qdgf4n4g3pfee6491hc0brc4i.apps.googleusercontent.com&redirect_uri=urn%3aietf%3awg%3aoauth%3a2.0%3aoob&response_type=code&scope=email%20https%3a%2f%2fwww.googleapis.com%2fauth%2fdocs.test%20https%3a%2f%2fwww.googleapis.com%2fauth%2fdrive%20https%3a%2f%2fwww.googleapis.com%2fauth%2fdrive.photos.readonly%20https%3a%2f%2fwww.googleapis.com%2fauth%2fpeopleapi.readonly\n",
            "\n",
            "Enter your authorization code:\n",
            "··········\n",
            "Mounted at /content/drive/\n"
          ],
          "name": "stdout"
        }
      ]
    },
    {
      "cell_type": "code",
      "metadata": {
        "id": "8Hkpj6HysJs0",
        "colab_type": "code",
        "colab": {}
      },
      "source": [
        "os.chdir('/content/drive/My Drive/CA684_Assignment')"
      ],
      "execution_count": 0,
      "outputs": []
    },
    {
      "cell_type": "markdown",
      "metadata": {
        "id": "G-GzKgwZsrsw",
        "colab_type": "text"
      },
      "source": [
        "#C3D FEATURE EXTRACTION:\n",
        "\n"
      ]
    },
    {
      "cell_type": "code",
      "metadata": {
        "id": "8l8Ui5GusyFG",
        "colab_type": "code",
        "colab": {}
      },
      "source": [
        "C3D_feature_list= []\n",
        "video_names_list = []\n",
        "path = 'C3D/*.txt'\n",
        "for filename in glob.glob('./Dev-set/C3D/*.txt'):\n",
        "    name = ((filename.split('/')[-1]).split('.')[0])\n",
        "    video_names_list.append(name) \n",
        "    with open(filename) as f:\n",
        "        for line in f:\n",
        "            C3D_features =[float(item) for item in line.split()] \n",
        "    C3D_feature_list.append(C3D_features)\n"
      ],
      "execution_count": 0,
      "outputs": []
    },
    {
      "cell_type": "code",
      "metadata": {
        "id": "iTE-YhXns2jT",
        "colab_type": "code",
        "colab": {}
      },
      "source": [
        "C3D_features = pd.DataFrame(np.array(C3D_feature_list).reshape(6000,101))\n",
        "C3D_features[\"video\"] = video_names_list"
      ],
      "execution_count": 0,
      "outputs": []
    },
    {
      "cell_type": "markdown",
      "metadata": {
        "id": "MFfX1mKL50hy",
        "colab_type": "text"
      },
      "source": [
        "To save the extracted features and to access them back, run the following commands"
      ]
    },
    {
      "cell_type": "code",
      "metadata": {
        "id": "BOhkwQ5Rt1RV",
        "colab_type": "code",
        "colab": {}
      },
      "source": [
        "np.save(\"/content/drive/My Drive/Features/C3D_Feature.npy\",C3D_feature_list)\n",
        "#C3D_feature_list =  np.load(\"/content/drive/My Drive/Features/C3D_Feature.npy\")"
      ],
      "execution_count": 0,
      "outputs": []
    },
    {
      "cell_type": "code",
      "metadata": {
        "id": "pVomBbzMTzbf",
        "colab_type": "code",
        "colab": {}
      },
      "source": [
        "C3D_features.to_csv('/content/drive/My Drive/Features/C3D_features.csv', index=False)"
      ],
      "execution_count": 0,
      "outputs": []
    },
    {
      "cell_type": "code",
      "metadata": {
        "id": "jKBurutEXk96",
        "colab_type": "code",
        "colab": {}
      },
      "source": [
        "C3D_featu = pd.read_csv('/content/drive/My Drive/Features/C3D_features.csv')"
      ],
      "execution_count": 0,
      "outputs": []
    },
    {
      "cell_type": "code",
      "metadata": {
        "id": "y65AJSsK5IGY",
        "colab_type": "code",
        "outputId": "2a947d72-6e24-42e4-96c6-87552bc67841",
        "colab": {
          "base_uri": "https://localhost:8080/",
          "height": 328
        }
      },
      "source": [
        "C3D_featu.head()"
      ],
      "execution_count": 0,
      "outputs": [
        {
          "output_type": "execute_result",
          "data": {
            "text/html": [
              "<div>\n",
              "<style scoped>\n",
              "    .dataframe tbody tr th:only-of-type {\n",
              "        vertical-align: middle;\n",
              "    }\n",
              "\n",
              "    .dataframe tbody tr th {\n",
              "        vertical-align: top;\n",
              "    }\n",
              "\n",
              "    .dataframe thead th {\n",
              "        text-align: right;\n",
              "    }\n",
              "</style>\n",
              "<table border=\"1\" class=\"dataframe\">\n",
              "  <thead>\n",
              "    <tr style=\"text-align: right;\">\n",
              "      <th></th>\n",
              "      <th>0</th>\n",
              "      <th>1</th>\n",
              "      <th>2</th>\n",
              "      <th>3</th>\n",
              "      <th>4</th>\n",
              "      <th>5</th>\n",
              "      <th>6</th>\n",
              "      <th>7</th>\n",
              "      <th>8</th>\n",
              "      <th>9</th>\n",
              "      <th>10</th>\n",
              "      <th>11</th>\n",
              "      <th>12</th>\n",
              "      <th>13</th>\n",
              "      <th>14</th>\n",
              "      <th>15</th>\n",
              "      <th>16</th>\n",
              "      <th>17</th>\n",
              "      <th>18</th>\n",
              "      <th>19</th>\n",
              "      <th>20</th>\n",
              "      <th>21</th>\n",
              "      <th>22</th>\n",
              "      <th>23</th>\n",
              "      <th>24</th>\n",
              "      <th>25</th>\n",
              "      <th>26</th>\n",
              "      <th>27</th>\n",
              "      <th>28</th>\n",
              "      <th>29</th>\n",
              "      <th>30</th>\n",
              "      <th>31</th>\n",
              "      <th>32</th>\n",
              "      <th>33</th>\n",
              "      <th>34</th>\n",
              "      <th>35</th>\n",
              "      <th>36</th>\n",
              "      <th>37</th>\n",
              "      <th>38</th>\n",
              "      <th>39</th>\n",
              "      <th>...</th>\n",
              "      <th>62</th>\n",
              "      <th>63</th>\n",
              "      <th>64</th>\n",
              "      <th>65</th>\n",
              "      <th>66</th>\n",
              "      <th>67</th>\n",
              "      <th>68</th>\n",
              "      <th>69</th>\n",
              "      <th>70</th>\n",
              "      <th>71</th>\n",
              "      <th>72</th>\n",
              "      <th>73</th>\n",
              "      <th>74</th>\n",
              "      <th>75</th>\n",
              "      <th>76</th>\n",
              "      <th>77</th>\n",
              "      <th>78</th>\n",
              "      <th>79</th>\n",
              "      <th>80</th>\n",
              "      <th>81</th>\n",
              "      <th>82</th>\n",
              "      <th>83</th>\n",
              "      <th>84</th>\n",
              "      <th>85</th>\n",
              "      <th>86</th>\n",
              "      <th>87</th>\n",
              "      <th>88</th>\n",
              "      <th>89</th>\n",
              "      <th>90</th>\n",
              "      <th>91</th>\n",
              "      <th>92</th>\n",
              "      <th>93</th>\n",
              "      <th>94</th>\n",
              "      <th>95</th>\n",
              "      <th>96</th>\n",
              "      <th>97</th>\n",
              "      <th>98</th>\n",
              "      <th>99</th>\n",
              "      <th>100</th>\n",
              "      <th>video</th>\n",
              "    </tr>\n",
              "  </thead>\n",
              "  <tbody>\n",
              "    <tr>\n",
              "      <th>0</th>\n",
              "      <td>0.010858</td>\n",
              "      <td>0.010386</td>\n",
              "      <td>0.000000</td>\n",
              "      <td>0.000000e+00</td>\n",
              "      <td>0.000000e+00</td>\n",
              "      <td>0.000000</td>\n",
              "      <td>2.700000e-07</td>\n",
              "      <td>0.000000</td>\n",
              "      <td>1.000000e-08</td>\n",
              "      <td>3.400000e-07</td>\n",
              "      <td>8.000000e-08</td>\n",
              "      <td>1.000000e-08</td>\n",
              "      <td>0.000004</td>\n",
              "      <td>0.000105</td>\n",
              "      <td>0.000000e+00</td>\n",
              "      <td>4.000000e-08</td>\n",
              "      <td>1.000000e-08</td>\n",
              "      <td>0.000000</td>\n",
              "      <td>0.000000</td>\n",
              "      <td>1.331800e-04</td>\n",
              "      <td>0.000000e+00</td>\n",
              "      <td>0.000000</td>\n",
              "      <td>0.000000e+00</td>\n",
              "      <td>0.000000e+00</td>\n",
              "      <td>7.600000e-07</td>\n",
              "      <td>0.000000</td>\n",
              "      <td>9.800000e-07</td>\n",
              "      <td>0.000000e+00</td>\n",
              "      <td>0.000000</td>\n",
              "      <td>0.000000e+00</td>\n",
              "      <td>0.000000</td>\n",
              "      <td>0.000000</td>\n",
              "      <td>6.000000e-08</td>\n",
              "      <td>0.000021</td>\n",
              "      <td>5.000000e-08</td>\n",
              "      <td>0.000000e+00</td>\n",
              "      <td>1.000000e-08</td>\n",
              "      <td>3.000000e-08</td>\n",
              "      <td>2.000000e-08</td>\n",
              "      <td>0.000000e+00</td>\n",
              "      <td>...</td>\n",
              "      <td>0.970125</td>\n",
              "      <td>0.000016</td>\n",
              "      <td>0.001298</td>\n",
              "      <td>0.000032</td>\n",
              "      <td>0.000001</td>\n",
              "      <td>0.000000</td>\n",
              "      <td>0.000000</td>\n",
              "      <td>1.000000e-08</td>\n",
              "      <td>2.500000e-07</td>\n",
              "      <td>0.000000e+00</td>\n",
              "      <td>0.000000</td>\n",
              "      <td>5.000000e-08</td>\n",
              "      <td>0.000000</td>\n",
              "      <td>1.000000e-08</td>\n",
              "      <td>1.000000e-08</td>\n",
              "      <td>4.200000e-07</td>\n",
              "      <td>0.000000e+00</td>\n",
              "      <td>3.000000e-08</td>\n",
              "      <td>2.000000e-08</td>\n",
              "      <td>0.000000</td>\n",
              "      <td>0.000000</td>\n",
              "      <td>0.000000</td>\n",
              "      <td>6.000000e-08</td>\n",
              "      <td>0.000000</td>\n",
              "      <td>0.000000</td>\n",
              "      <td>9.000000e-08</td>\n",
              "      <td>0.000000</td>\n",
              "      <td>0.000000e+00</td>\n",
              "      <td>1.100000e-07</td>\n",
              "      <td>1.400000e-07</td>\n",
              "      <td>0.000000</td>\n",
              "      <td>0.000000</td>\n",
              "      <td>1.700000e-07</td>\n",
              "      <td>0.000000</td>\n",
              "      <td>0.000000e+00</td>\n",
              "      <td>1.000000e-08</td>\n",
              "      <td>1.300000e-06</td>\n",
              "      <td>2.600000e-06</td>\n",
              "      <td>8.000000e-08</td>\n",
              "      <td>video6632</td>\n",
              "    </tr>\n",
              "    <tr>\n",
              "      <th>1</th>\n",
              "      <td>0.000200</td>\n",
              "      <td>0.000065</td>\n",
              "      <td>0.993807</td>\n",
              "      <td>2.000000e-07</td>\n",
              "      <td>4.700000e-07</td>\n",
              "      <td>0.000073</td>\n",
              "      <td>3.700000e-06</td>\n",
              "      <td>0.000337</td>\n",
              "      <td>6.710000e-06</td>\n",
              "      <td>2.290000e-06</td>\n",
              "      <td>6.380000e-06</td>\n",
              "      <td>7.340000e-06</td>\n",
              "      <td>0.000019</td>\n",
              "      <td>0.000007</td>\n",
              "      <td>3.240000e-06</td>\n",
              "      <td>3.810000e-06</td>\n",
              "      <td>1.411000e-05</td>\n",
              "      <td>0.000001</td>\n",
              "      <td>0.000003</td>\n",
              "      <td>2.300000e-07</td>\n",
              "      <td>1.900000e-07</td>\n",
              "      <td>0.002938</td>\n",
              "      <td>5.200000e-07</td>\n",
              "      <td>9.200000e-07</td>\n",
              "      <td>1.136000e-05</td>\n",
              "      <td>0.000011</td>\n",
              "      <td>3.310400e-04</td>\n",
              "      <td>9.200000e-07</td>\n",
              "      <td>0.000022</td>\n",
              "      <td>8.000000e-08</td>\n",
              "      <td>0.000028</td>\n",
              "      <td>0.000013</td>\n",
              "      <td>5.778000e-05</td>\n",
              "      <td>0.000037</td>\n",
              "      <td>1.683000e-05</td>\n",
              "      <td>6.860000e-06</td>\n",
              "      <td>3.990000e-06</td>\n",
              "      <td>8.030000e-06</td>\n",
              "      <td>1.450000e-06</td>\n",
              "      <td>3.800000e-07</td>\n",
              "      <td>...</td>\n",
              "      <td>0.000027</td>\n",
              "      <td>0.000013</td>\n",
              "      <td>0.000077</td>\n",
              "      <td>0.000050</td>\n",
              "      <td>0.000138</td>\n",
              "      <td>0.000012</td>\n",
              "      <td>0.000007</td>\n",
              "      <td>4.100000e-07</td>\n",
              "      <td>5.440000e-06</td>\n",
              "      <td>3.400000e-07</td>\n",
              "      <td>0.000007</td>\n",
              "      <td>8.399000e-05</td>\n",
              "      <td>0.000004</td>\n",
              "      <td>3.970000e-06</td>\n",
              "      <td>5.900000e-07</td>\n",
              "      <td>1.285300e-04</td>\n",
              "      <td>8.800000e-07</td>\n",
              "      <td>2.228000e-05</td>\n",
              "      <td>1.105000e-05</td>\n",
              "      <td>0.000003</td>\n",
              "      <td>0.000015</td>\n",
              "      <td>0.000014</td>\n",
              "      <td>4.090000e-06</td>\n",
              "      <td>0.000003</td>\n",
              "      <td>0.000005</td>\n",
              "      <td>4.920000e-06</td>\n",
              "      <td>0.000005</td>\n",
              "      <td>6.400000e-07</td>\n",
              "      <td>2.372000e-05</td>\n",
              "      <td>6.610000e-06</td>\n",
              "      <td>0.000010</td>\n",
              "      <td>0.000002</td>\n",
              "      <td>5.800000e-06</td>\n",
              "      <td>0.000001</td>\n",
              "      <td>1.490000e-06</td>\n",
              "      <td>1.170000e-05</td>\n",
              "      <td>1.500000e-07</td>\n",
              "      <td>8.300000e-07</td>\n",
              "      <td>1.060000e-04</td>\n",
              "      <td>video6634</td>\n",
              "    </tr>\n",
              "    <tr>\n",
              "      <th>2</th>\n",
              "      <td>0.000000</td>\n",
              "      <td>0.000000</td>\n",
              "      <td>0.000000</td>\n",
              "      <td>0.000000e+00</td>\n",
              "      <td>0.000000e+00</td>\n",
              "      <td>0.000000</td>\n",
              "      <td>0.000000e+00</td>\n",
              "      <td>0.000000</td>\n",
              "      <td>0.000000e+00</td>\n",
              "      <td>0.000000e+00</td>\n",
              "      <td>0.000000e+00</td>\n",
              "      <td>0.000000e+00</td>\n",
              "      <td>0.000000</td>\n",
              "      <td>0.000000</td>\n",
              "      <td>0.000000e+00</td>\n",
              "      <td>0.000000e+00</td>\n",
              "      <td>0.000000e+00</td>\n",
              "      <td>0.000000</td>\n",
              "      <td>0.000000</td>\n",
              "      <td>0.000000e+00</td>\n",
              "      <td>0.000000e+00</td>\n",
              "      <td>0.000008</td>\n",
              "      <td>0.000000e+00</td>\n",
              "      <td>0.000000e+00</td>\n",
              "      <td>0.000000e+00</td>\n",
              "      <td>0.000000</td>\n",
              "      <td>0.000000e+00</td>\n",
              "      <td>0.000000e+00</td>\n",
              "      <td>0.000000</td>\n",
              "      <td>0.000000e+00</td>\n",
              "      <td>0.000000</td>\n",
              "      <td>0.000000</td>\n",
              "      <td>0.000000e+00</td>\n",
              "      <td>0.000000</td>\n",
              "      <td>0.000000e+00</td>\n",
              "      <td>0.000000e+00</td>\n",
              "      <td>0.000000e+00</td>\n",
              "      <td>0.000000e+00</td>\n",
              "      <td>0.000000e+00</td>\n",
              "      <td>0.000000e+00</td>\n",
              "      <td>...</td>\n",
              "      <td>0.000000</td>\n",
              "      <td>0.000000</td>\n",
              "      <td>0.000000</td>\n",
              "      <td>0.000000</td>\n",
              "      <td>0.000000</td>\n",
              "      <td>0.000000</td>\n",
              "      <td>0.000000</td>\n",
              "      <td>0.000000e+00</td>\n",
              "      <td>0.000000e+00</td>\n",
              "      <td>0.000000e+00</td>\n",
              "      <td>0.000000</td>\n",
              "      <td>0.000000e+00</td>\n",
              "      <td>0.000000</td>\n",
              "      <td>0.000000e+00</td>\n",
              "      <td>0.000000e+00</td>\n",
              "      <td>0.000000e+00</td>\n",
              "      <td>0.000000e+00</td>\n",
              "      <td>0.000000e+00</td>\n",
              "      <td>0.000000e+00</td>\n",
              "      <td>0.000000</td>\n",
              "      <td>0.999985</td>\n",
              "      <td>0.000000</td>\n",
              "      <td>0.000000e+00</td>\n",
              "      <td>0.000000</td>\n",
              "      <td>0.000000</td>\n",
              "      <td>0.000000e+00</td>\n",
              "      <td>0.000000</td>\n",
              "      <td>0.000000e+00</td>\n",
              "      <td>0.000000e+00</td>\n",
              "      <td>0.000000e+00</td>\n",
              "      <td>0.000000</td>\n",
              "      <td>0.000000</td>\n",
              "      <td>0.000000e+00</td>\n",
              "      <td>0.000000</td>\n",
              "      <td>0.000000e+00</td>\n",
              "      <td>0.000000e+00</td>\n",
              "      <td>0.000000e+00</td>\n",
              "      <td>0.000000e+00</td>\n",
              "      <td>7.120000e-06</td>\n",
              "      <td>video6633</td>\n",
              "    </tr>\n",
              "    <tr>\n",
              "      <th>3</th>\n",
              "      <td>0.005959</td>\n",
              "      <td>0.004765</td>\n",
              "      <td>0.003757</td>\n",
              "      <td>5.787100e-04</td>\n",
              "      <td>7.344000e-05</td>\n",
              "      <td>0.000129</td>\n",
              "      <td>4.665300e-04</td>\n",
              "      <td>0.010266</td>\n",
              "      <td>3.028100e-04</td>\n",
              "      <td>2.196500e-04</td>\n",
              "      <td>2.521800e-04</td>\n",
              "      <td>2.963730e-03</td>\n",
              "      <td>0.000032</td>\n",
              "      <td>0.000592</td>\n",
              "      <td>3.260000e-05</td>\n",
              "      <td>1.466430e-03</td>\n",
              "      <td>2.430700e-04</td>\n",
              "      <td>0.000181</td>\n",
              "      <td>0.004019</td>\n",
              "      <td>2.390960e-03</td>\n",
              "      <td>1.206900e-04</td>\n",
              "      <td>0.008488</td>\n",
              "      <td>5.216200e-04</td>\n",
              "      <td>4.164600e-04</td>\n",
              "      <td>1.643420e-02</td>\n",
              "      <td>0.049686</td>\n",
              "      <td>1.470550e-03</td>\n",
              "      <td>5.432000e-05</td>\n",
              "      <td>0.001055</td>\n",
              "      <td>5.442770e-03</td>\n",
              "      <td>0.000173</td>\n",
              "      <td>0.024688</td>\n",
              "      <td>9.640700e-04</td>\n",
              "      <td>0.000880</td>\n",
              "      <td>1.140529e-02</td>\n",
              "      <td>4.522160e-03</td>\n",
              "      <td>8.594500e-04</td>\n",
              "      <td>6.573000e-04</td>\n",
              "      <td>6.942400e-04</td>\n",
              "      <td>1.823110e-03</td>\n",
              "      <td>...</td>\n",
              "      <td>0.000639</td>\n",
              "      <td>0.014109</td>\n",
              "      <td>0.000471</td>\n",
              "      <td>0.002461</td>\n",
              "      <td>0.004046</td>\n",
              "      <td>0.000905</td>\n",
              "      <td>0.000997</td>\n",
              "      <td>2.514660e-03</td>\n",
              "      <td>1.587440e-03</td>\n",
              "      <td>1.125030e-03</td>\n",
              "      <td>0.001008</td>\n",
              "      <td>2.133877e-02</td>\n",
              "      <td>0.000647</td>\n",
              "      <td>1.373010e-03</td>\n",
              "      <td>9.568000e-05</td>\n",
              "      <td>5.635083e-02</td>\n",
              "      <td>1.628000e-05</td>\n",
              "      <td>5.379910e-03</td>\n",
              "      <td>6.020020e-03</td>\n",
              "      <td>0.046499</td>\n",
              "      <td>0.023942</td>\n",
              "      <td>0.020658</td>\n",
              "      <td>3.349520e-03</td>\n",
              "      <td>0.002637</td>\n",
              "      <td>0.000094</td>\n",
              "      <td>1.170705e-02</td>\n",
              "      <td>0.000229</td>\n",
              "      <td>9.789210e-03</td>\n",
              "      <td>2.764390e-03</td>\n",
              "      <td>8.052350e-03</td>\n",
              "      <td>0.003992</td>\n",
              "      <td>0.004137</td>\n",
              "      <td>3.670390e-02</td>\n",
              "      <td>0.000767</td>\n",
              "      <td>3.692100e-04</td>\n",
              "      <td>1.251980e-02</td>\n",
              "      <td>8.422000e-05</td>\n",
              "      <td>1.159825e-02</td>\n",
              "      <td>1.155040e-03</td>\n",
              "      <td>video6645</td>\n",
              "    </tr>\n",
              "    <tr>\n",
              "      <th>4</th>\n",
              "      <td>0.005782</td>\n",
              "      <td>0.000306</td>\n",
              "      <td>0.004011</td>\n",
              "      <td>1.007000e-05</td>\n",
              "      <td>1.034000e-05</td>\n",
              "      <td>0.000002</td>\n",
              "      <td>3.160000e-06</td>\n",
              "      <td>0.000003</td>\n",
              "      <td>1.984000e-05</td>\n",
              "      <td>5.750000e-06</td>\n",
              "      <td>6.642000e-05</td>\n",
              "      <td>6.690000e-06</td>\n",
              "      <td>0.000301</td>\n",
              "      <td>0.004799</td>\n",
              "      <td>2.800000e-07</td>\n",
              "      <td>1.669000e-05</td>\n",
              "      <td>2.670000e-06</td>\n",
              "      <td>0.000001</td>\n",
              "      <td>0.000011</td>\n",
              "      <td>6.526000e-05</td>\n",
              "      <td>3.100000e-07</td>\n",
              "      <td>0.000036</td>\n",
              "      <td>1.400000e-06</td>\n",
              "      <td>6.260000e-06</td>\n",
              "      <td>1.750103e-02</td>\n",
              "      <td>0.000019</td>\n",
              "      <td>1.190515e-02</td>\n",
              "      <td>4.450000e-06</td>\n",
              "      <td>0.000005</td>\n",
              "      <td>2.387000e-05</td>\n",
              "      <td>0.000007</td>\n",
              "      <td>0.000035</td>\n",
              "      <td>3.630000e-06</td>\n",
              "      <td>0.667420</td>\n",
              "      <td>3.482400e-04</td>\n",
              "      <td>1.900000e-07</td>\n",
              "      <td>1.121000e-05</td>\n",
              "      <td>6.830000e-06</td>\n",
              "      <td>1.837600e-04</td>\n",
              "      <td>1.250000e-06</td>\n",
              "      <td>...</td>\n",
              "      <td>0.005818</td>\n",
              "      <td>0.000535</td>\n",
              "      <td>0.001711</td>\n",
              "      <td>0.112263</td>\n",
              "      <td>0.000408</td>\n",
              "      <td>0.000035</td>\n",
              "      <td>0.000267</td>\n",
              "      <td>5.395000e-05</td>\n",
              "      <td>3.899000e-05</td>\n",
              "      <td>3.619000e-05</td>\n",
              "      <td>0.000321</td>\n",
              "      <td>4.550900e-04</td>\n",
              "      <td>0.000002</td>\n",
              "      <td>6.200000e-06</td>\n",
              "      <td>7.510000e-06</td>\n",
              "      <td>7.971920e-03</td>\n",
              "      <td>7.000000e-08</td>\n",
              "      <td>1.873000e-05</td>\n",
              "      <td>1.511100e-04</td>\n",
              "      <td>0.000011</td>\n",
              "      <td>0.000398</td>\n",
              "      <td>0.000001</td>\n",
              "      <td>4.090000e-06</td>\n",
              "      <td>0.000004</td>\n",
              "      <td>0.000005</td>\n",
              "      <td>2.080000e-06</td>\n",
              "      <td>0.000001</td>\n",
              "      <td>1.651800e-04</td>\n",
              "      <td>2.738000e-05</td>\n",
              "      <td>2.106000e-05</td>\n",
              "      <td>0.000002</td>\n",
              "      <td>0.000004</td>\n",
              "      <td>6.818350e-03</td>\n",
              "      <td>0.000005</td>\n",
              "      <td>5.000000e-08</td>\n",
              "      <td>2.088000e-05</td>\n",
              "      <td>1.271750e-03</td>\n",
              "      <td>4.862200e-04</td>\n",
              "      <td>1.965000e-05</td>\n",
              "      <td>video6643</td>\n",
              "    </tr>\n",
              "  </tbody>\n",
              "</table>\n",
              "<p>5 rows × 102 columns</p>\n",
              "</div>"
            ],
            "text/plain": [
              "          0         1         2  ...            99           100      video\n",
              "0  0.010858  0.010386  0.000000  ...  2.600000e-06  8.000000e-08  video6632\n",
              "1  0.000200  0.000065  0.993807  ...  8.300000e-07  1.060000e-04  video6634\n",
              "2  0.000000  0.000000  0.000000  ...  0.000000e+00  7.120000e-06  video6633\n",
              "3  0.005959  0.004765  0.003757  ...  1.159825e-02  1.155040e-03  video6645\n",
              "4  0.005782  0.000306  0.004011  ...  4.862200e-04  1.965000e-05  video6643\n",
              "\n",
              "[5 rows x 102 columns]"
            ]
          },
          "metadata": {
            "tags": []
          },
          "execution_count": 13
        }
      ]
    },
    {
      "cell_type": "code",
      "metadata": {
        "id": "7UA4qqGNYqXJ",
        "colab_type": "code",
        "outputId": "e84d5cef-0d50-4ddc-c122-7d37bee340b5",
        "colab": {
          "base_uri": "https://localhost:8080/",
          "height": 328
        }
      },
      "source": [
        "C3D_features.head()"
      ],
      "execution_count": 0,
      "outputs": [
        {
          "output_type": "execute_result",
          "data": {
            "text/html": [
              "<div>\n",
              "<style scoped>\n",
              "    .dataframe tbody tr th:only-of-type {\n",
              "        vertical-align: middle;\n",
              "    }\n",
              "\n",
              "    .dataframe tbody tr th {\n",
              "        vertical-align: top;\n",
              "    }\n",
              "\n",
              "    .dataframe thead th {\n",
              "        text-align: right;\n",
              "    }\n",
              "</style>\n",
              "<table border=\"1\" class=\"dataframe\">\n",
              "  <thead>\n",
              "    <tr style=\"text-align: right;\">\n",
              "      <th></th>\n",
              "      <th>0</th>\n",
              "      <th>1</th>\n",
              "      <th>2</th>\n",
              "      <th>3</th>\n",
              "      <th>4</th>\n",
              "      <th>5</th>\n",
              "      <th>6</th>\n",
              "      <th>7</th>\n",
              "      <th>8</th>\n",
              "      <th>9</th>\n",
              "      <th>10</th>\n",
              "      <th>11</th>\n",
              "      <th>12</th>\n",
              "      <th>13</th>\n",
              "      <th>14</th>\n",
              "      <th>15</th>\n",
              "      <th>16</th>\n",
              "      <th>17</th>\n",
              "      <th>18</th>\n",
              "      <th>19</th>\n",
              "      <th>20</th>\n",
              "      <th>21</th>\n",
              "      <th>22</th>\n",
              "      <th>23</th>\n",
              "      <th>24</th>\n",
              "      <th>25</th>\n",
              "      <th>26</th>\n",
              "      <th>27</th>\n",
              "      <th>28</th>\n",
              "      <th>29</th>\n",
              "      <th>30</th>\n",
              "      <th>31</th>\n",
              "      <th>32</th>\n",
              "      <th>33</th>\n",
              "      <th>34</th>\n",
              "      <th>35</th>\n",
              "      <th>36</th>\n",
              "      <th>37</th>\n",
              "      <th>38</th>\n",
              "      <th>39</th>\n",
              "      <th>...</th>\n",
              "      <th>62</th>\n",
              "      <th>63</th>\n",
              "      <th>64</th>\n",
              "      <th>65</th>\n",
              "      <th>66</th>\n",
              "      <th>67</th>\n",
              "      <th>68</th>\n",
              "      <th>69</th>\n",
              "      <th>70</th>\n",
              "      <th>71</th>\n",
              "      <th>72</th>\n",
              "      <th>73</th>\n",
              "      <th>74</th>\n",
              "      <th>75</th>\n",
              "      <th>76</th>\n",
              "      <th>77</th>\n",
              "      <th>78</th>\n",
              "      <th>79</th>\n",
              "      <th>80</th>\n",
              "      <th>81</th>\n",
              "      <th>82</th>\n",
              "      <th>83</th>\n",
              "      <th>84</th>\n",
              "      <th>85</th>\n",
              "      <th>86</th>\n",
              "      <th>87</th>\n",
              "      <th>88</th>\n",
              "      <th>89</th>\n",
              "      <th>90</th>\n",
              "      <th>91</th>\n",
              "      <th>92</th>\n",
              "      <th>93</th>\n",
              "      <th>94</th>\n",
              "      <th>95</th>\n",
              "      <th>96</th>\n",
              "      <th>97</th>\n",
              "      <th>98</th>\n",
              "      <th>99</th>\n",
              "      <th>100</th>\n",
              "      <th>video</th>\n",
              "    </tr>\n",
              "  </thead>\n",
              "  <tbody>\n",
              "    <tr>\n",
              "      <th>0</th>\n",
              "      <td>0.010858</td>\n",
              "      <td>0.010386</td>\n",
              "      <td>0.000000</td>\n",
              "      <td>0.000000e+00</td>\n",
              "      <td>0.000000e+00</td>\n",
              "      <td>0.000000</td>\n",
              "      <td>2.700000e-07</td>\n",
              "      <td>0.000000</td>\n",
              "      <td>1.000000e-08</td>\n",
              "      <td>3.400000e-07</td>\n",
              "      <td>8.000000e-08</td>\n",
              "      <td>1.000000e-08</td>\n",
              "      <td>0.000004</td>\n",
              "      <td>0.000105</td>\n",
              "      <td>0.000000e+00</td>\n",
              "      <td>4.000000e-08</td>\n",
              "      <td>1.000000e-08</td>\n",
              "      <td>0.000000</td>\n",
              "      <td>0.000000</td>\n",
              "      <td>1.331800e-04</td>\n",
              "      <td>0.000000e+00</td>\n",
              "      <td>0.000000</td>\n",
              "      <td>0.000000e+00</td>\n",
              "      <td>0.000000e+00</td>\n",
              "      <td>7.600000e-07</td>\n",
              "      <td>0.000000</td>\n",
              "      <td>9.800000e-07</td>\n",
              "      <td>0.000000e+00</td>\n",
              "      <td>0.000000</td>\n",
              "      <td>0.000000e+00</td>\n",
              "      <td>0.000000</td>\n",
              "      <td>0.000000</td>\n",
              "      <td>6.000000e-08</td>\n",
              "      <td>0.000021</td>\n",
              "      <td>5.000000e-08</td>\n",
              "      <td>0.000000e+00</td>\n",
              "      <td>1.000000e-08</td>\n",
              "      <td>3.000000e-08</td>\n",
              "      <td>2.000000e-08</td>\n",
              "      <td>0.000000e+00</td>\n",
              "      <td>...</td>\n",
              "      <td>0.970125</td>\n",
              "      <td>0.000016</td>\n",
              "      <td>0.001298</td>\n",
              "      <td>0.000032</td>\n",
              "      <td>0.000001</td>\n",
              "      <td>0.000000</td>\n",
              "      <td>0.000000</td>\n",
              "      <td>1.000000e-08</td>\n",
              "      <td>2.500000e-07</td>\n",
              "      <td>0.000000e+00</td>\n",
              "      <td>0.000000</td>\n",
              "      <td>5.000000e-08</td>\n",
              "      <td>0.000000</td>\n",
              "      <td>1.000000e-08</td>\n",
              "      <td>1.000000e-08</td>\n",
              "      <td>4.200000e-07</td>\n",
              "      <td>0.000000e+00</td>\n",
              "      <td>3.000000e-08</td>\n",
              "      <td>2.000000e-08</td>\n",
              "      <td>0.000000</td>\n",
              "      <td>0.000000</td>\n",
              "      <td>0.000000</td>\n",
              "      <td>6.000000e-08</td>\n",
              "      <td>0.000000</td>\n",
              "      <td>0.000000</td>\n",
              "      <td>9.000000e-08</td>\n",
              "      <td>0.000000</td>\n",
              "      <td>0.000000e+00</td>\n",
              "      <td>1.100000e-07</td>\n",
              "      <td>1.400000e-07</td>\n",
              "      <td>0.000000</td>\n",
              "      <td>0.000000</td>\n",
              "      <td>1.700000e-07</td>\n",
              "      <td>0.000000</td>\n",
              "      <td>0.000000e+00</td>\n",
              "      <td>1.000000e-08</td>\n",
              "      <td>1.300000e-06</td>\n",
              "      <td>2.600000e-06</td>\n",
              "      <td>8.000000e-08</td>\n",
              "      <td>video6632</td>\n",
              "    </tr>\n",
              "    <tr>\n",
              "      <th>1</th>\n",
              "      <td>0.000200</td>\n",
              "      <td>0.000065</td>\n",
              "      <td>0.993807</td>\n",
              "      <td>2.000000e-07</td>\n",
              "      <td>4.700000e-07</td>\n",
              "      <td>0.000073</td>\n",
              "      <td>3.700000e-06</td>\n",
              "      <td>0.000337</td>\n",
              "      <td>6.710000e-06</td>\n",
              "      <td>2.290000e-06</td>\n",
              "      <td>6.380000e-06</td>\n",
              "      <td>7.340000e-06</td>\n",
              "      <td>0.000019</td>\n",
              "      <td>0.000007</td>\n",
              "      <td>3.240000e-06</td>\n",
              "      <td>3.810000e-06</td>\n",
              "      <td>1.411000e-05</td>\n",
              "      <td>0.000001</td>\n",
              "      <td>0.000003</td>\n",
              "      <td>2.300000e-07</td>\n",
              "      <td>1.900000e-07</td>\n",
              "      <td>0.002938</td>\n",
              "      <td>5.200000e-07</td>\n",
              "      <td>9.200000e-07</td>\n",
              "      <td>1.136000e-05</td>\n",
              "      <td>0.000011</td>\n",
              "      <td>3.310400e-04</td>\n",
              "      <td>9.200000e-07</td>\n",
              "      <td>0.000022</td>\n",
              "      <td>8.000000e-08</td>\n",
              "      <td>0.000028</td>\n",
              "      <td>0.000013</td>\n",
              "      <td>5.778000e-05</td>\n",
              "      <td>0.000037</td>\n",
              "      <td>1.683000e-05</td>\n",
              "      <td>6.860000e-06</td>\n",
              "      <td>3.990000e-06</td>\n",
              "      <td>8.030000e-06</td>\n",
              "      <td>1.450000e-06</td>\n",
              "      <td>3.800000e-07</td>\n",
              "      <td>...</td>\n",
              "      <td>0.000027</td>\n",
              "      <td>0.000013</td>\n",
              "      <td>0.000077</td>\n",
              "      <td>0.000050</td>\n",
              "      <td>0.000138</td>\n",
              "      <td>0.000012</td>\n",
              "      <td>0.000007</td>\n",
              "      <td>4.100000e-07</td>\n",
              "      <td>5.440000e-06</td>\n",
              "      <td>3.400000e-07</td>\n",
              "      <td>0.000007</td>\n",
              "      <td>8.399000e-05</td>\n",
              "      <td>0.000004</td>\n",
              "      <td>3.970000e-06</td>\n",
              "      <td>5.900000e-07</td>\n",
              "      <td>1.285300e-04</td>\n",
              "      <td>8.800000e-07</td>\n",
              "      <td>2.228000e-05</td>\n",
              "      <td>1.105000e-05</td>\n",
              "      <td>0.000003</td>\n",
              "      <td>0.000015</td>\n",
              "      <td>0.000014</td>\n",
              "      <td>4.090000e-06</td>\n",
              "      <td>0.000003</td>\n",
              "      <td>0.000005</td>\n",
              "      <td>4.920000e-06</td>\n",
              "      <td>0.000005</td>\n",
              "      <td>6.400000e-07</td>\n",
              "      <td>2.372000e-05</td>\n",
              "      <td>6.610000e-06</td>\n",
              "      <td>0.000010</td>\n",
              "      <td>0.000002</td>\n",
              "      <td>5.800000e-06</td>\n",
              "      <td>0.000001</td>\n",
              "      <td>1.490000e-06</td>\n",
              "      <td>1.170000e-05</td>\n",
              "      <td>1.500000e-07</td>\n",
              "      <td>8.300000e-07</td>\n",
              "      <td>1.060000e-04</td>\n",
              "      <td>video6634</td>\n",
              "    </tr>\n",
              "    <tr>\n",
              "      <th>2</th>\n",
              "      <td>0.000000</td>\n",
              "      <td>0.000000</td>\n",
              "      <td>0.000000</td>\n",
              "      <td>0.000000e+00</td>\n",
              "      <td>0.000000e+00</td>\n",
              "      <td>0.000000</td>\n",
              "      <td>0.000000e+00</td>\n",
              "      <td>0.000000</td>\n",
              "      <td>0.000000e+00</td>\n",
              "      <td>0.000000e+00</td>\n",
              "      <td>0.000000e+00</td>\n",
              "      <td>0.000000e+00</td>\n",
              "      <td>0.000000</td>\n",
              "      <td>0.000000</td>\n",
              "      <td>0.000000e+00</td>\n",
              "      <td>0.000000e+00</td>\n",
              "      <td>0.000000e+00</td>\n",
              "      <td>0.000000</td>\n",
              "      <td>0.000000</td>\n",
              "      <td>0.000000e+00</td>\n",
              "      <td>0.000000e+00</td>\n",
              "      <td>0.000008</td>\n",
              "      <td>0.000000e+00</td>\n",
              "      <td>0.000000e+00</td>\n",
              "      <td>0.000000e+00</td>\n",
              "      <td>0.000000</td>\n",
              "      <td>0.000000e+00</td>\n",
              "      <td>0.000000e+00</td>\n",
              "      <td>0.000000</td>\n",
              "      <td>0.000000e+00</td>\n",
              "      <td>0.000000</td>\n",
              "      <td>0.000000</td>\n",
              "      <td>0.000000e+00</td>\n",
              "      <td>0.000000</td>\n",
              "      <td>0.000000e+00</td>\n",
              "      <td>0.000000e+00</td>\n",
              "      <td>0.000000e+00</td>\n",
              "      <td>0.000000e+00</td>\n",
              "      <td>0.000000e+00</td>\n",
              "      <td>0.000000e+00</td>\n",
              "      <td>...</td>\n",
              "      <td>0.000000</td>\n",
              "      <td>0.000000</td>\n",
              "      <td>0.000000</td>\n",
              "      <td>0.000000</td>\n",
              "      <td>0.000000</td>\n",
              "      <td>0.000000</td>\n",
              "      <td>0.000000</td>\n",
              "      <td>0.000000e+00</td>\n",
              "      <td>0.000000e+00</td>\n",
              "      <td>0.000000e+00</td>\n",
              "      <td>0.000000</td>\n",
              "      <td>0.000000e+00</td>\n",
              "      <td>0.000000</td>\n",
              "      <td>0.000000e+00</td>\n",
              "      <td>0.000000e+00</td>\n",
              "      <td>0.000000e+00</td>\n",
              "      <td>0.000000e+00</td>\n",
              "      <td>0.000000e+00</td>\n",
              "      <td>0.000000e+00</td>\n",
              "      <td>0.000000</td>\n",
              "      <td>0.999985</td>\n",
              "      <td>0.000000</td>\n",
              "      <td>0.000000e+00</td>\n",
              "      <td>0.000000</td>\n",
              "      <td>0.000000</td>\n",
              "      <td>0.000000e+00</td>\n",
              "      <td>0.000000</td>\n",
              "      <td>0.000000e+00</td>\n",
              "      <td>0.000000e+00</td>\n",
              "      <td>0.000000e+00</td>\n",
              "      <td>0.000000</td>\n",
              "      <td>0.000000</td>\n",
              "      <td>0.000000e+00</td>\n",
              "      <td>0.000000</td>\n",
              "      <td>0.000000e+00</td>\n",
              "      <td>0.000000e+00</td>\n",
              "      <td>0.000000e+00</td>\n",
              "      <td>0.000000e+00</td>\n",
              "      <td>7.120000e-06</td>\n",
              "      <td>video6633</td>\n",
              "    </tr>\n",
              "    <tr>\n",
              "      <th>3</th>\n",
              "      <td>0.005959</td>\n",
              "      <td>0.004765</td>\n",
              "      <td>0.003757</td>\n",
              "      <td>5.787100e-04</td>\n",
              "      <td>7.344000e-05</td>\n",
              "      <td>0.000129</td>\n",
              "      <td>4.665300e-04</td>\n",
              "      <td>0.010266</td>\n",
              "      <td>3.028100e-04</td>\n",
              "      <td>2.196500e-04</td>\n",
              "      <td>2.521800e-04</td>\n",
              "      <td>2.963730e-03</td>\n",
              "      <td>0.000032</td>\n",
              "      <td>0.000592</td>\n",
              "      <td>3.260000e-05</td>\n",
              "      <td>1.466430e-03</td>\n",
              "      <td>2.430700e-04</td>\n",
              "      <td>0.000181</td>\n",
              "      <td>0.004019</td>\n",
              "      <td>2.390960e-03</td>\n",
              "      <td>1.206900e-04</td>\n",
              "      <td>0.008488</td>\n",
              "      <td>5.216200e-04</td>\n",
              "      <td>4.164600e-04</td>\n",
              "      <td>1.643420e-02</td>\n",
              "      <td>0.049686</td>\n",
              "      <td>1.470550e-03</td>\n",
              "      <td>5.432000e-05</td>\n",
              "      <td>0.001055</td>\n",
              "      <td>5.442770e-03</td>\n",
              "      <td>0.000173</td>\n",
              "      <td>0.024688</td>\n",
              "      <td>9.640700e-04</td>\n",
              "      <td>0.000880</td>\n",
              "      <td>1.140529e-02</td>\n",
              "      <td>4.522160e-03</td>\n",
              "      <td>8.594500e-04</td>\n",
              "      <td>6.573000e-04</td>\n",
              "      <td>6.942400e-04</td>\n",
              "      <td>1.823110e-03</td>\n",
              "      <td>...</td>\n",
              "      <td>0.000639</td>\n",
              "      <td>0.014109</td>\n",
              "      <td>0.000472</td>\n",
              "      <td>0.002461</td>\n",
              "      <td>0.004046</td>\n",
              "      <td>0.000905</td>\n",
              "      <td>0.000997</td>\n",
              "      <td>2.514660e-03</td>\n",
              "      <td>1.587440e-03</td>\n",
              "      <td>1.125030e-03</td>\n",
              "      <td>0.001008</td>\n",
              "      <td>2.133877e-02</td>\n",
              "      <td>0.000647</td>\n",
              "      <td>1.373010e-03</td>\n",
              "      <td>9.568000e-05</td>\n",
              "      <td>5.635083e-02</td>\n",
              "      <td>1.628000e-05</td>\n",
              "      <td>5.379910e-03</td>\n",
              "      <td>6.020020e-03</td>\n",
              "      <td>0.046499</td>\n",
              "      <td>0.023942</td>\n",
              "      <td>0.020658</td>\n",
              "      <td>3.349520e-03</td>\n",
              "      <td>0.002637</td>\n",
              "      <td>0.000094</td>\n",
              "      <td>1.170705e-02</td>\n",
              "      <td>0.000229</td>\n",
              "      <td>9.789210e-03</td>\n",
              "      <td>2.764390e-03</td>\n",
              "      <td>8.052350e-03</td>\n",
              "      <td>0.003992</td>\n",
              "      <td>0.004137</td>\n",
              "      <td>3.670390e-02</td>\n",
              "      <td>0.000767</td>\n",
              "      <td>3.692100e-04</td>\n",
              "      <td>1.251980e-02</td>\n",
              "      <td>8.422000e-05</td>\n",
              "      <td>1.159825e-02</td>\n",
              "      <td>1.155040e-03</td>\n",
              "      <td>video6645</td>\n",
              "    </tr>\n",
              "    <tr>\n",
              "      <th>4</th>\n",
              "      <td>0.005782</td>\n",
              "      <td>0.000306</td>\n",
              "      <td>0.004011</td>\n",
              "      <td>1.007000e-05</td>\n",
              "      <td>1.034000e-05</td>\n",
              "      <td>0.000002</td>\n",
              "      <td>3.160000e-06</td>\n",
              "      <td>0.000003</td>\n",
              "      <td>1.984000e-05</td>\n",
              "      <td>5.750000e-06</td>\n",
              "      <td>6.642000e-05</td>\n",
              "      <td>6.690000e-06</td>\n",
              "      <td>0.000301</td>\n",
              "      <td>0.004799</td>\n",
              "      <td>2.800000e-07</td>\n",
              "      <td>1.669000e-05</td>\n",
              "      <td>2.670000e-06</td>\n",
              "      <td>0.000001</td>\n",
              "      <td>0.000011</td>\n",
              "      <td>6.526000e-05</td>\n",
              "      <td>3.100000e-07</td>\n",
              "      <td>0.000036</td>\n",
              "      <td>1.400000e-06</td>\n",
              "      <td>6.260000e-06</td>\n",
              "      <td>1.750103e-02</td>\n",
              "      <td>0.000019</td>\n",
              "      <td>1.190515e-02</td>\n",
              "      <td>4.450000e-06</td>\n",
              "      <td>0.000005</td>\n",
              "      <td>2.387000e-05</td>\n",
              "      <td>0.000007</td>\n",
              "      <td>0.000035</td>\n",
              "      <td>3.630000e-06</td>\n",
              "      <td>0.667420</td>\n",
              "      <td>3.482400e-04</td>\n",
              "      <td>1.900000e-07</td>\n",
              "      <td>1.121000e-05</td>\n",
              "      <td>6.830000e-06</td>\n",
              "      <td>1.837600e-04</td>\n",
              "      <td>1.250000e-06</td>\n",
              "      <td>...</td>\n",
              "      <td>0.005818</td>\n",
              "      <td>0.000535</td>\n",
              "      <td>0.001711</td>\n",
              "      <td>0.112263</td>\n",
              "      <td>0.000408</td>\n",
              "      <td>0.000035</td>\n",
              "      <td>0.000267</td>\n",
              "      <td>5.395000e-05</td>\n",
              "      <td>3.899000e-05</td>\n",
              "      <td>3.619000e-05</td>\n",
              "      <td>0.000321</td>\n",
              "      <td>4.550900e-04</td>\n",
              "      <td>0.000002</td>\n",
              "      <td>6.200000e-06</td>\n",
              "      <td>7.510000e-06</td>\n",
              "      <td>7.971920e-03</td>\n",
              "      <td>7.000000e-08</td>\n",
              "      <td>1.873000e-05</td>\n",
              "      <td>1.511100e-04</td>\n",
              "      <td>0.000011</td>\n",
              "      <td>0.000398</td>\n",
              "      <td>0.000001</td>\n",
              "      <td>4.090000e-06</td>\n",
              "      <td>0.000004</td>\n",
              "      <td>0.000005</td>\n",
              "      <td>2.080000e-06</td>\n",
              "      <td>0.000001</td>\n",
              "      <td>1.651800e-04</td>\n",
              "      <td>2.738000e-05</td>\n",
              "      <td>2.106000e-05</td>\n",
              "      <td>0.000002</td>\n",
              "      <td>0.000004</td>\n",
              "      <td>6.818350e-03</td>\n",
              "      <td>0.000005</td>\n",
              "      <td>5.000000e-08</td>\n",
              "      <td>2.088000e-05</td>\n",
              "      <td>1.271750e-03</td>\n",
              "      <td>4.862200e-04</td>\n",
              "      <td>1.965000e-05</td>\n",
              "      <td>video6643</td>\n",
              "    </tr>\n",
              "  </tbody>\n",
              "</table>\n",
              "<p>5 rows × 102 columns</p>\n",
              "</div>"
            ],
            "text/plain": [
              "          0         1         2  ...            99           100      video\n",
              "0  0.010858  0.010386  0.000000  ...  2.600000e-06  8.000000e-08  video6632\n",
              "1  0.000200  0.000065  0.993807  ...  8.300000e-07  1.060000e-04  video6634\n",
              "2  0.000000  0.000000  0.000000  ...  0.000000e+00  7.120000e-06  video6633\n",
              "3  0.005959  0.004765  0.003757  ...  1.159825e-02  1.155040e-03  video6645\n",
              "4  0.005782  0.000306  0.004011  ...  4.862200e-04  1.965000e-05  video6643\n",
              "\n",
              "[5 rows x 102 columns]"
            ]
          },
          "metadata": {
            "tags": []
          },
          "execution_count": 17
        }
      ]
    },
    {
      "cell_type": "markdown",
      "metadata": {
        "id": "tSW_JuMP68ZW",
        "colab_type": "text"
      },
      "source": [
        "# HMP FEATURE EXTRACTION:"
      ]
    },
    {
      "cell_type": "code",
      "metadata": {
        "id": "HkQjVnF35I3r",
        "colab_type": "code",
        "colab": {}
      },
      "source": [
        "def read_HMP(fname):\n",
        "    \"\"\"Scan HMP(Histogram of Motion Patterns) features from file\"\"\"\n",
        "    with open(fname) as f:\n",
        "        for line in f:\n",
        "            pairs=line.split()\n",
        "            HMP_temp = { int(p.split(':')[0]) : float(p.split(':')[1]) for p in pairs}\n",
        "    # there are 6075 bins, fill zeros\n",
        "    HMP = np.zeros(6075)\n",
        "    for idx in HMP_temp.keys():\n",
        "        HMP[idx-1] = HMP_temp[idx]            \n",
        "    return HMP"
      ],
      "execution_count": 0,
      "outputs": []
    },
    {
      "cell_type": "code",
      "metadata": {
        "id": "MPjgWWkg7Ljt",
        "colab_type": "code",
        "colab": {}
      },
      "source": [
        "HMP_feature_list= []\n",
        "video_names_list = []\n",
        "path = 'HMP/*.txt' \n",
        "for filename in glob.glob('./Dev-set/HMP/*.txt'):\n",
        "    name = ((filename.split('/')[-1]).split('.')[0])\n",
        "    video_names_list.append(name)\n",
        "    HMP_features = read_HMP(filename)\n",
        "    HMP_feature_list.append(HMP_features)"
      ],
      "execution_count": 0,
      "outputs": []
    },
    {
      "cell_type": "code",
      "metadata": {
        "id": "H9Gn4RIrJ8I_",
        "colab_type": "code",
        "colab": {}
      },
      "source": [
        "HMP_features = pd.DataFrame(np.array(HMP_feature_list).reshape(6000,6075))\n",
        "HMP_features[\"video\"] = video_names_list"
      ],
      "execution_count": 0,
      "outputs": []
    },
    {
      "cell_type": "code",
      "metadata": {
        "id": "7FEQxnH5Id1z",
        "colab_type": "code",
        "colab": {}
      },
      "source": [
        "HMP_features.to_csv('/content/drive/My Drive/Features/HMP_features.csv', index=False)"
      ],
      "execution_count": 0,
      "outputs": []
    },
    {
      "cell_type": "code",
      "metadata": {
        "id": "NTls3V3Nml9B",
        "colab_type": "code",
        "colab": {}
      },
      "source": [
        "HMP_featu = pd.read_csv('/content/drive/My Drive/Features/HMP_features.csv')"
      ],
      "execution_count": 0,
      "outputs": []
    },
    {
      "cell_type": "code",
      "metadata": {
        "id": "fkL7xcwq7lkC",
        "colab_type": "code",
        "colab": {}
      },
      "source": [
        "np.save(\"/content/drive/My Drive/Features/HMP_Feature.npy\",HMP_feature_list)\n",
        "HMP_feature_list =  np.load(\"/content/drive/My Drive/Features/HMP_Feature.npy\")"
      ],
      "execution_count": 0,
      "outputs": []
    },
    {
      "cell_type": "code",
      "metadata": {
        "id": "Yw6N-r6ZKLNr",
        "colab_type": "code",
        "outputId": "5efb0657-844b-4d6b-a80a-1ef220a2372b",
        "colab": {
          "base_uri": "https://localhost:8080/",
          "height": 244
        }
      },
      "source": [
        "HMP_featu.head()"
      ],
      "execution_count": 0,
      "outputs": [
        {
          "output_type": "execute_result",
          "data": {
            "text/html": [
              "<div>\n",
              "<style scoped>\n",
              "    .dataframe tbody tr th:only-of-type {\n",
              "        vertical-align: middle;\n",
              "    }\n",
              "\n",
              "    .dataframe tbody tr th {\n",
              "        vertical-align: top;\n",
              "    }\n",
              "\n",
              "    .dataframe thead th {\n",
              "        text-align: right;\n",
              "    }\n",
              "</style>\n",
              "<table border=\"1\" class=\"dataframe\">\n",
              "  <thead>\n",
              "    <tr style=\"text-align: right;\">\n",
              "      <th></th>\n",
              "      <th>0</th>\n",
              "      <th>1</th>\n",
              "      <th>2</th>\n",
              "      <th>3</th>\n",
              "      <th>4</th>\n",
              "      <th>5</th>\n",
              "      <th>6</th>\n",
              "      <th>7</th>\n",
              "      <th>8</th>\n",
              "      <th>9</th>\n",
              "      <th>10</th>\n",
              "      <th>11</th>\n",
              "      <th>12</th>\n",
              "      <th>13</th>\n",
              "      <th>14</th>\n",
              "      <th>15</th>\n",
              "      <th>16</th>\n",
              "      <th>17</th>\n",
              "      <th>18</th>\n",
              "      <th>19</th>\n",
              "      <th>20</th>\n",
              "      <th>21</th>\n",
              "      <th>22</th>\n",
              "      <th>23</th>\n",
              "      <th>24</th>\n",
              "      <th>25</th>\n",
              "      <th>26</th>\n",
              "      <th>27</th>\n",
              "      <th>28</th>\n",
              "      <th>29</th>\n",
              "      <th>30</th>\n",
              "      <th>31</th>\n",
              "      <th>32</th>\n",
              "      <th>33</th>\n",
              "      <th>34</th>\n",
              "      <th>35</th>\n",
              "      <th>36</th>\n",
              "      <th>37</th>\n",
              "      <th>38</th>\n",
              "      <th>39</th>\n",
              "      <th>...</th>\n",
              "      <th>6036</th>\n",
              "      <th>6037</th>\n",
              "      <th>6038</th>\n",
              "      <th>6039</th>\n",
              "      <th>6040</th>\n",
              "      <th>6041</th>\n",
              "      <th>6042</th>\n",
              "      <th>6043</th>\n",
              "      <th>6044</th>\n",
              "      <th>6045</th>\n",
              "      <th>6046</th>\n",
              "      <th>6047</th>\n",
              "      <th>6048</th>\n",
              "      <th>6049</th>\n",
              "      <th>6050</th>\n",
              "      <th>6051</th>\n",
              "      <th>6052</th>\n",
              "      <th>6053</th>\n",
              "      <th>6054</th>\n",
              "      <th>6055</th>\n",
              "      <th>6056</th>\n",
              "      <th>6057</th>\n",
              "      <th>6058</th>\n",
              "      <th>6059</th>\n",
              "      <th>6060</th>\n",
              "      <th>6061</th>\n",
              "      <th>6062</th>\n",
              "      <th>6063</th>\n",
              "      <th>6064</th>\n",
              "      <th>6065</th>\n",
              "      <th>6066</th>\n",
              "      <th>6067</th>\n",
              "      <th>6068</th>\n",
              "      <th>6069</th>\n",
              "      <th>6070</th>\n",
              "      <th>6071</th>\n",
              "      <th>6072</th>\n",
              "      <th>6073</th>\n",
              "      <th>6074</th>\n",
              "      <th>video</th>\n",
              "    </tr>\n",
              "  </thead>\n",
              "  <tbody>\n",
              "    <tr>\n",
              "      <th>0</th>\n",
              "      <td>0.012099</td>\n",
              "      <td>0.001466</td>\n",
              "      <td>0.000017</td>\n",
              "      <td>0.0</td>\n",
              "      <td>0.000683</td>\n",
              "      <td>0.000007</td>\n",
              "      <td>0.0</td>\n",
              "      <td>0.000000</td>\n",
              "      <td>0.000007</td>\n",
              "      <td>0.0</td>\n",
              "      <td>0.0</td>\n",
              "      <td>0.0</td>\n",
              "      <td>0.0</td>\n",
              "      <td>0.000170</td>\n",
              "      <td>0.000002</td>\n",
              "      <td>0.0</td>\n",
              "      <td>0.000002</td>\n",
              "      <td>0.000000</td>\n",
              "      <td>0.0</td>\n",
              "      <td>0.0</td>\n",
              "      <td>0.0</td>\n",
              "      <td>0.0</td>\n",
              "      <td>0.0</td>\n",
              "      <td>0.0</td>\n",
              "      <td>0.0</td>\n",
              "      <td>0.0</td>\n",
              "      <td>0.000002</td>\n",
              "      <td>0.0</td>\n",
              "      <td>0.0</td>\n",
              "      <td>0.0</td>\n",
              "      <td>0.0</td>\n",
              "      <td>0.0</td>\n",
              "      <td>0.0</td>\n",
              "      <td>0.0</td>\n",
              "      <td>0.0</td>\n",
              "      <td>0.0</td>\n",
              "      <td>0.0</td>\n",
              "      <td>0.0</td>\n",
              "      <td>0.0</td>\n",
              "      <td>0.0</td>\n",
              "      <td>...</td>\n",
              "      <td>0.000239</td>\n",
              "      <td>0.000324</td>\n",
              "      <td>0.000151</td>\n",
              "      <td>0.000106</td>\n",
              "      <td>0.000050</td>\n",
              "      <td>0.000014</td>\n",
              "      <td>0.000156</td>\n",
              "      <td>0.000123</td>\n",
              "      <td>0.000031</td>\n",
              "      <td>0.000163</td>\n",
              "      <td>0.000177</td>\n",
              "      <td>0.000097</td>\n",
              "      <td>0.000047</td>\n",
              "      <td>0.000021</td>\n",
              "      <td>0.000002</td>\n",
              "      <td>0.000019</td>\n",
              "      <td>0.000021</td>\n",
              "      <td>0.000000</td>\n",
              "      <td>0.000002</td>\n",
              "      <td>0.000009</td>\n",
              "      <td>0.000002</td>\n",
              "      <td>0.000059</td>\n",
              "      <td>0.000024</td>\n",
              "      <td>0.000007</td>\n",
              "      <td>0.000057</td>\n",
              "      <td>0.000052</td>\n",
              "      <td>0.000012</td>\n",
              "      <td>0.000026</td>\n",
              "      <td>0.000007</td>\n",
              "      <td>0.000014</td>\n",
              "      <td>0.000057</td>\n",
              "      <td>0.000028</td>\n",
              "      <td>0.000007</td>\n",
              "      <td>0.000059</td>\n",
              "      <td>0.000097</td>\n",
              "      <td>0.000012</td>\n",
              "      <td>0.000135</td>\n",
              "      <td>0.000111</td>\n",
              "      <td>0.000076</td>\n",
              "      <td>video6634</td>\n",
              "    </tr>\n",
              "    <tr>\n",
              "      <th>1</th>\n",
              "      <td>0.078170</td>\n",
              "      <td>0.013597</td>\n",
              "      <td>0.000122</td>\n",
              "      <td>0.0</td>\n",
              "      <td>0.005590</td>\n",
              "      <td>0.000074</td>\n",
              "      <td>0.0</td>\n",
              "      <td>0.000000</td>\n",
              "      <td>0.000026</td>\n",
              "      <td>0.0</td>\n",
              "      <td>0.0</td>\n",
              "      <td>0.0</td>\n",
              "      <td>0.0</td>\n",
              "      <td>0.001137</td>\n",
              "      <td>0.000017</td>\n",
              "      <td>0.0</td>\n",
              "      <td>0.000000</td>\n",
              "      <td>0.000017</td>\n",
              "      <td>0.0</td>\n",
              "      <td>0.0</td>\n",
              "      <td>0.0</td>\n",
              "      <td>0.0</td>\n",
              "      <td>0.0</td>\n",
              "      <td>0.0</td>\n",
              "      <td>0.0</td>\n",
              "      <td>0.0</td>\n",
              "      <td>0.000000</td>\n",
              "      <td>0.0</td>\n",
              "      <td>0.0</td>\n",
              "      <td>0.0</td>\n",
              "      <td>0.0</td>\n",
              "      <td>0.0</td>\n",
              "      <td>0.0</td>\n",
              "      <td>0.0</td>\n",
              "      <td>0.0</td>\n",
              "      <td>0.0</td>\n",
              "      <td>0.0</td>\n",
              "      <td>0.0</td>\n",
              "      <td>0.0</td>\n",
              "      <td>0.0</td>\n",
              "      <td>...</td>\n",
              "      <td>0.000069</td>\n",
              "      <td>0.000091</td>\n",
              "      <td>0.000026</td>\n",
              "      <td>0.000061</td>\n",
              "      <td>0.000022</td>\n",
              "      <td>0.000004</td>\n",
              "      <td>0.000091</td>\n",
              "      <td>0.000048</td>\n",
              "      <td>0.000013</td>\n",
              "      <td>0.000043</td>\n",
              "      <td>0.000095</td>\n",
              "      <td>0.000030</td>\n",
              "      <td>0.000043</td>\n",
              "      <td>0.000013</td>\n",
              "      <td>0.000000</td>\n",
              "      <td>0.000039</td>\n",
              "      <td>0.000026</td>\n",
              "      <td>0.000000</td>\n",
              "      <td>0.000009</td>\n",
              "      <td>0.000013</td>\n",
              "      <td>0.000000</td>\n",
              "      <td>0.000069</td>\n",
              "      <td>0.000026</td>\n",
              "      <td>0.000004</td>\n",
              "      <td>0.000143</td>\n",
              "      <td>0.000139</td>\n",
              "      <td>0.000009</td>\n",
              "      <td>0.000017</td>\n",
              "      <td>0.000043</td>\n",
              "      <td>0.000022</td>\n",
              "      <td>0.000043</td>\n",
              "      <td>0.000026</td>\n",
              "      <td>0.000004</td>\n",
              "      <td>0.000078</td>\n",
              "      <td>0.000074</td>\n",
              "      <td>0.000022</td>\n",
              "      <td>0.000052</td>\n",
              "      <td>0.000082</td>\n",
              "      <td>0.000061</td>\n",
              "      <td>video6633</td>\n",
              "    </tr>\n",
              "    <tr>\n",
              "      <th>2</th>\n",
              "      <td>0.112506</td>\n",
              "      <td>0.014053</td>\n",
              "      <td>0.000263</td>\n",
              "      <td>0.0</td>\n",
              "      <td>0.043205</td>\n",
              "      <td>0.000560</td>\n",
              "      <td>0.0</td>\n",
              "      <td>0.000005</td>\n",
              "      <td>0.000364</td>\n",
              "      <td>0.0</td>\n",
              "      <td>0.0</td>\n",
              "      <td>0.0</td>\n",
              "      <td>0.0</td>\n",
              "      <td>0.002472</td>\n",
              "      <td>0.000206</td>\n",
              "      <td>0.0</td>\n",
              "      <td>0.000002</td>\n",
              "      <td>0.000064</td>\n",
              "      <td>0.0</td>\n",
              "      <td>0.0</td>\n",
              "      <td>0.0</td>\n",
              "      <td>0.0</td>\n",
              "      <td>0.0</td>\n",
              "      <td>0.0</td>\n",
              "      <td>0.0</td>\n",
              "      <td>0.0</td>\n",
              "      <td>0.000000</td>\n",
              "      <td>0.0</td>\n",
              "      <td>0.0</td>\n",
              "      <td>0.0</td>\n",
              "      <td>0.0</td>\n",
              "      <td>0.0</td>\n",
              "      <td>0.0</td>\n",
              "      <td>0.0</td>\n",
              "      <td>0.0</td>\n",
              "      <td>0.0</td>\n",
              "      <td>0.0</td>\n",
              "      <td>0.0</td>\n",
              "      <td>0.0</td>\n",
              "      <td>0.0</td>\n",
              "      <td>...</td>\n",
              "      <td>0.000310</td>\n",
              "      <td>0.000629</td>\n",
              "      <td>0.000263</td>\n",
              "      <td>0.000145</td>\n",
              "      <td>0.000061</td>\n",
              "      <td>0.000002</td>\n",
              "      <td>0.000098</td>\n",
              "      <td>0.000248</td>\n",
              "      <td>0.000007</td>\n",
              "      <td>0.000125</td>\n",
              "      <td>0.000354</td>\n",
              "      <td>0.000076</td>\n",
              "      <td>0.000135</td>\n",
              "      <td>0.000049</td>\n",
              "      <td>0.000000</td>\n",
              "      <td>0.000074</td>\n",
              "      <td>0.000103</td>\n",
              "      <td>0.000000</td>\n",
              "      <td>0.000012</td>\n",
              "      <td>0.000039</td>\n",
              "      <td>0.000002</td>\n",
              "      <td>0.000066</td>\n",
              "      <td>0.000012</td>\n",
              "      <td>0.000002</td>\n",
              "      <td>0.000098</td>\n",
              "      <td>0.000221</td>\n",
              "      <td>0.000012</td>\n",
              "      <td>0.000029</td>\n",
              "      <td>0.000076</td>\n",
              "      <td>0.000022</td>\n",
              "      <td>0.000261</td>\n",
              "      <td>0.000069</td>\n",
              "      <td>0.000000</td>\n",
              "      <td>0.000157</td>\n",
              "      <td>0.000558</td>\n",
              "      <td>0.000017</td>\n",
              "      <td>0.000285</td>\n",
              "      <td>0.000504</td>\n",
              "      <td>0.000179</td>\n",
              "      <td>video6639</td>\n",
              "    </tr>\n",
              "    <tr>\n",
              "      <th>3</th>\n",
              "      <td>0.066072</td>\n",
              "      <td>0.012682</td>\n",
              "      <td>0.000283</td>\n",
              "      <td>0.0</td>\n",
              "      <td>0.006425</td>\n",
              "      <td>0.000375</td>\n",
              "      <td>0.0</td>\n",
              "      <td>0.000002</td>\n",
              "      <td>0.000174</td>\n",
              "      <td>0.0</td>\n",
              "      <td>0.0</td>\n",
              "      <td>0.0</td>\n",
              "      <td>0.0</td>\n",
              "      <td>0.002373</td>\n",
              "      <td>0.000152</td>\n",
              "      <td>0.0</td>\n",
              "      <td>0.000002</td>\n",
              "      <td>0.000102</td>\n",
              "      <td>0.0</td>\n",
              "      <td>0.0</td>\n",
              "      <td>0.0</td>\n",
              "      <td>0.0</td>\n",
              "      <td>0.0</td>\n",
              "      <td>0.0</td>\n",
              "      <td>0.0</td>\n",
              "      <td>0.0</td>\n",
              "      <td>0.000020</td>\n",
              "      <td>0.0</td>\n",
              "      <td>0.0</td>\n",
              "      <td>0.0</td>\n",
              "      <td>0.0</td>\n",
              "      <td>0.0</td>\n",
              "      <td>0.0</td>\n",
              "      <td>0.0</td>\n",
              "      <td>0.0</td>\n",
              "      <td>0.0</td>\n",
              "      <td>0.0</td>\n",
              "      <td>0.0</td>\n",
              "      <td>0.0</td>\n",
              "      <td>0.0</td>\n",
              "      <td>...</td>\n",
              "      <td>0.000278</td>\n",
              "      <td>0.000744</td>\n",
              "      <td>0.000484</td>\n",
              "      <td>0.000155</td>\n",
              "      <td>0.000077</td>\n",
              "      <td>0.000000</td>\n",
              "      <td>0.000161</td>\n",
              "      <td>0.000563</td>\n",
              "      <td>0.000084</td>\n",
              "      <td>0.000132</td>\n",
              "      <td>0.000375</td>\n",
              "      <td>0.000358</td>\n",
              "      <td>0.000227</td>\n",
              "      <td>0.000075</td>\n",
              "      <td>0.000002</td>\n",
              "      <td>0.000077</td>\n",
              "      <td>0.000135</td>\n",
              "      <td>0.000007</td>\n",
              "      <td>0.000009</td>\n",
              "      <td>0.000011</td>\n",
              "      <td>0.000007</td>\n",
              "      <td>0.000190</td>\n",
              "      <td>0.000049</td>\n",
              "      <td>0.000004</td>\n",
              "      <td>0.000305</td>\n",
              "      <td>0.001002</td>\n",
              "      <td>0.000099</td>\n",
              "      <td>0.000038</td>\n",
              "      <td>0.000106</td>\n",
              "      <td>0.000075</td>\n",
              "      <td>0.000495</td>\n",
              "      <td>0.000210</td>\n",
              "      <td>0.000002</td>\n",
              "      <td>0.000342</td>\n",
              "      <td>0.002027</td>\n",
              "      <td>0.000124</td>\n",
              "      <td>0.000307</td>\n",
              "      <td>0.001239</td>\n",
              "      <td>0.001047</td>\n",
              "      <td>video6635</td>\n",
              "    </tr>\n",
              "    <tr>\n",
              "      <th>4</th>\n",
              "      <td>0.030360</td>\n",
              "      <td>0.005834</td>\n",
              "      <td>0.000169</td>\n",
              "      <td>0.0</td>\n",
              "      <td>0.006578</td>\n",
              "      <td>0.000542</td>\n",
              "      <td>0.0</td>\n",
              "      <td>0.000016</td>\n",
              "      <td>0.000373</td>\n",
              "      <td>0.0</td>\n",
              "      <td>0.0</td>\n",
              "      <td>0.0</td>\n",
              "      <td>0.0</td>\n",
              "      <td>0.001041</td>\n",
              "      <td>0.000113</td>\n",
              "      <td>0.0</td>\n",
              "      <td>0.000007</td>\n",
              "      <td>0.000102</td>\n",
              "      <td>0.0</td>\n",
              "      <td>0.0</td>\n",
              "      <td>0.0</td>\n",
              "      <td>0.0</td>\n",
              "      <td>0.0</td>\n",
              "      <td>0.0</td>\n",
              "      <td>0.0</td>\n",
              "      <td>0.0</td>\n",
              "      <td>0.000009</td>\n",
              "      <td>0.0</td>\n",
              "      <td>0.0</td>\n",
              "      <td>0.0</td>\n",
              "      <td>0.0</td>\n",
              "      <td>0.0</td>\n",
              "      <td>0.0</td>\n",
              "      <td>0.0</td>\n",
              "      <td>0.0</td>\n",
              "      <td>0.0</td>\n",
              "      <td>0.0</td>\n",
              "      <td>0.0</td>\n",
              "      <td>0.0</td>\n",
              "      <td>0.0</td>\n",
              "      <td>...</td>\n",
              "      <td>0.000696</td>\n",
              "      <td>0.001019</td>\n",
              "      <td>0.000197</td>\n",
              "      <td>0.000239</td>\n",
              "      <td>0.000111</td>\n",
              "      <td>0.000011</td>\n",
              "      <td>0.000298</td>\n",
              "      <td>0.000389</td>\n",
              "      <td>0.000056</td>\n",
              "      <td>0.000291</td>\n",
              "      <td>0.000395</td>\n",
              "      <td>0.000090</td>\n",
              "      <td>0.000115</td>\n",
              "      <td>0.000052</td>\n",
              "      <td>0.000002</td>\n",
              "      <td>0.000054</td>\n",
              "      <td>0.000070</td>\n",
              "      <td>0.000007</td>\n",
              "      <td>0.000014</td>\n",
              "      <td>0.000041</td>\n",
              "      <td>0.000011</td>\n",
              "      <td>0.000124</td>\n",
              "      <td>0.000045</td>\n",
              "      <td>0.000005</td>\n",
              "      <td>0.000176</td>\n",
              "      <td>0.000181</td>\n",
              "      <td>0.000029</td>\n",
              "      <td>0.000052</td>\n",
              "      <td>0.000090</td>\n",
              "      <td>0.000027</td>\n",
              "      <td>0.000199</td>\n",
              "      <td>0.000061</td>\n",
              "      <td>0.000002</td>\n",
              "      <td>0.000228</td>\n",
              "      <td>0.000253</td>\n",
              "      <td>0.000023</td>\n",
              "      <td>0.000359</td>\n",
              "      <td>0.000375</td>\n",
              "      <td>0.000088</td>\n",
              "      <td>video6637</td>\n",
              "    </tr>\n",
              "  </tbody>\n",
              "</table>\n",
              "<p>5 rows × 6076 columns</p>\n",
              "</div>"
            ],
            "text/plain": [
              "          0         1         2    3  ...      6072      6073      6074      video\n",
              "0  0.012099  0.001466  0.000017  0.0  ...  0.000135  0.000111  0.000076  video6634\n",
              "1  0.078170  0.013597  0.000122  0.0  ...  0.000052  0.000082  0.000061  video6633\n",
              "2  0.112506  0.014053  0.000263  0.0  ...  0.000285  0.000504  0.000179  video6639\n",
              "3  0.066072  0.012682  0.000283  0.0  ...  0.000307  0.001239  0.001047  video6635\n",
              "4  0.030360  0.005834  0.000169  0.0  ...  0.000359  0.000375  0.000088  video6637\n",
              "\n",
              "[5 rows x 6076 columns]"
            ]
          },
          "metadata": {
            "tags": []
          },
          "execution_count": 82
        }
      ]
    },
    {
      "cell_type": "code",
      "metadata": {
        "id": "RLbk0lgd-6zN",
        "colab_type": "code",
        "outputId": "581e847e-8226-4ffd-fc0d-23dbea3d6274",
        "colab": {
          "base_uri": "https://localhost:8080/",
          "height": 244
        }
      },
      "source": [
        "HMP_features.head()"
      ],
      "execution_count": 0,
      "outputs": [
        {
          "output_type": "execute_result",
          "data": {
            "text/html": [
              "<div>\n",
              "<style scoped>\n",
              "    .dataframe tbody tr th:only-of-type {\n",
              "        vertical-align: middle;\n",
              "    }\n",
              "\n",
              "    .dataframe tbody tr th {\n",
              "        vertical-align: top;\n",
              "    }\n",
              "\n",
              "    .dataframe thead th {\n",
              "        text-align: right;\n",
              "    }\n",
              "</style>\n",
              "<table border=\"1\" class=\"dataframe\">\n",
              "  <thead>\n",
              "    <tr style=\"text-align: right;\">\n",
              "      <th></th>\n",
              "      <th>0</th>\n",
              "      <th>1</th>\n",
              "      <th>2</th>\n",
              "      <th>3</th>\n",
              "      <th>4</th>\n",
              "      <th>5</th>\n",
              "      <th>6</th>\n",
              "      <th>7</th>\n",
              "      <th>8</th>\n",
              "      <th>9</th>\n",
              "      <th>10</th>\n",
              "      <th>11</th>\n",
              "      <th>12</th>\n",
              "      <th>13</th>\n",
              "      <th>14</th>\n",
              "      <th>15</th>\n",
              "      <th>16</th>\n",
              "      <th>17</th>\n",
              "      <th>18</th>\n",
              "      <th>19</th>\n",
              "      <th>20</th>\n",
              "      <th>21</th>\n",
              "      <th>22</th>\n",
              "      <th>23</th>\n",
              "      <th>24</th>\n",
              "      <th>25</th>\n",
              "      <th>26</th>\n",
              "      <th>27</th>\n",
              "      <th>28</th>\n",
              "      <th>29</th>\n",
              "      <th>30</th>\n",
              "      <th>31</th>\n",
              "      <th>32</th>\n",
              "      <th>33</th>\n",
              "      <th>34</th>\n",
              "      <th>35</th>\n",
              "      <th>36</th>\n",
              "      <th>37</th>\n",
              "      <th>38</th>\n",
              "      <th>39</th>\n",
              "      <th>...</th>\n",
              "      <th>6036</th>\n",
              "      <th>6037</th>\n",
              "      <th>6038</th>\n",
              "      <th>6039</th>\n",
              "      <th>6040</th>\n",
              "      <th>6041</th>\n",
              "      <th>6042</th>\n",
              "      <th>6043</th>\n",
              "      <th>6044</th>\n",
              "      <th>6045</th>\n",
              "      <th>6046</th>\n",
              "      <th>6047</th>\n",
              "      <th>6048</th>\n",
              "      <th>6049</th>\n",
              "      <th>6050</th>\n",
              "      <th>6051</th>\n",
              "      <th>6052</th>\n",
              "      <th>6053</th>\n",
              "      <th>6054</th>\n",
              "      <th>6055</th>\n",
              "      <th>6056</th>\n",
              "      <th>6057</th>\n",
              "      <th>6058</th>\n",
              "      <th>6059</th>\n",
              "      <th>6060</th>\n",
              "      <th>6061</th>\n",
              "      <th>6062</th>\n",
              "      <th>6063</th>\n",
              "      <th>6064</th>\n",
              "      <th>6065</th>\n",
              "      <th>6066</th>\n",
              "      <th>6067</th>\n",
              "      <th>6068</th>\n",
              "      <th>6069</th>\n",
              "      <th>6070</th>\n",
              "      <th>6071</th>\n",
              "      <th>6072</th>\n",
              "      <th>6073</th>\n",
              "      <th>6074</th>\n",
              "      <th>video</th>\n",
              "    </tr>\n",
              "  </thead>\n",
              "  <tbody>\n",
              "    <tr>\n",
              "      <th>0</th>\n",
              "      <td>0.012099</td>\n",
              "      <td>0.001466</td>\n",
              "      <td>0.000017</td>\n",
              "      <td>0.0</td>\n",
              "      <td>0.000683</td>\n",
              "      <td>0.000007</td>\n",
              "      <td>0.0</td>\n",
              "      <td>0.000000</td>\n",
              "      <td>0.000007</td>\n",
              "      <td>0.0</td>\n",
              "      <td>0.0</td>\n",
              "      <td>0.0</td>\n",
              "      <td>0.0</td>\n",
              "      <td>0.000170</td>\n",
              "      <td>0.000002</td>\n",
              "      <td>0.0</td>\n",
              "      <td>0.000002</td>\n",
              "      <td>0.000000</td>\n",
              "      <td>0.0</td>\n",
              "      <td>0.0</td>\n",
              "      <td>0.0</td>\n",
              "      <td>0.0</td>\n",
              "      <td>0.0</td>\n",
              "      <td>0.0</td>\n",
              "      <td>0.0</td>\n",
              "      <td>0.0</td>\n",
              "      <td>0.000002</td>\n",
              "      <td>0.0</td>\n",
              "      <td>0.0</td>\n",
              "      <td>0.0</td>\n",
              "      <td>0.0</td>\n",
              "      <td>0.0</td>\n",
              "      <td>0.0</td>\n",
              "      <td>0.0</td>\n",
              "      <td>0.0</td>\n",
              "      <td>0.0</td>\n",
              "      <td>0.0</td>\n",
              "      <td>0.0</td>\n",
              "      <td>0.0</td>\n",
              "      <td>0.0</td>\n",
              "      <td>...</td>\n",
              "      <td>0.000239</td>\n",
              "      <td>0.000324</td>\n",
              "      <td>0.000151</td>\n",
              "      <td>0.000106</td>\n",
              "      <td>0.000050</td>\n",
              "      <td>0.000014</td>\n",
              "      <td>0.000156</td>\n",
              "      <td>0.000123</td>\n",
              "      <td>0.000031</td>\n",
              "      <td>0.000163</td>\n",
              "      <td>0.000177</td>\n",
              "      <td>0.000097</td>\n",
              "      <td>0.000047</td>\n",
              "      <td>0.000021</td>\n",
              "      <td>0.000002</td>\n",
              "      <td>0.000019</td>\n",
              "      <td>0.000021</td>\n",
              "      <td>0.000000</td>\n",
              "      <td>0.000002</td>\n",
              "      <td>0.000009</td>\n",
              "      <td>0.000002</td>\n",
              "      <td>0.000059</td>\n",
              "      <td>0.000024</td>\n",
              "      <td>0.000007</td>\n",
              "      <td>0.000057</td>\n",
              "      <td>0.000052</td>\n",
              "      <td>0.000012</td>\n",
              "      <td>0.000026</td>\n",
              "      <td>0.000007</td>\n",
              "      <td>0.000014</td>\n",
              "      <td>0.000057</td>\n",
              "      <td>0.000028</td>\n",
              "      <td>0.000007</td>\n",
              "      <td>0.000059</td>\n",
              "      <td>0.000097</td>\n",
              "      <td>0.000012</td>\n",
              "      <td>0.000135</td>\n",
              "      <td>0.000111</td>\n",
              "      <td>0.000076</td>\n",
              "      <td>video6634</td>\n",
              "    </tr>\n",
              "    <tr>\n",
              "      <th>1</th>\n",
              "      <td>0.078170</td>\n",
              "      <td>0.013597</td>\n",
              "      <td>0.000122</td>\n",
              "      <td>0.0</td>\n",
              "      <td>0.005590</td>\n",
              "      <td>0.000074</td>\n",
              "      <td>0.0</td>\n",
              "      <td>0.000000</td>\n",
              "      <td>0.000026</td>\n",
              "      <td>0.0</td>\n",
              "      <td>0.0</td>\n",
              "      <td>0.0</td>\n",
              "      <td>0.0</td>\n",
              "      <td>0.001137</td>\n",
              "      <td>0.000017</td>\n",
              "      <td>0.0</td>\n",
              "      <td>0.000000</td>\n",
              "      <td>0.000017</td>\n",
              "      <td>0.0</td>\n",
              "      <td>0.0</td>\n",
              "      <td>0.0</td>\n",
              "      <td>0.0</td>\n",
              "      <td>0.0</td>\n",
              "      <td>0.0</td>\n",
              "      <td>0.0</td>\n",
              "      <td>0.0</td>\n",
              "      <td>0.000000</td>\n",
              "      <td>0.0</td>\n",
              "      <td>0.0</td>\n",
              "      <td>0.0</td>\n",
              "      <td>0.0</td>\n",
              "      <td>0.0</td>\n",
              "      <td>0.0</td>\n",
              "      <td>0.0</td>\n",
              "      <td>0.0</td>\n",
              "      <td>0.0</td>\n",
              "      <td>0.0</td>\n",
              "      <td>0.0</td>\n",
              "      <td>0.0</td>\n",
              "      <td>0.0</td>\n",
              "      <td>...</td>\n",
              "      <td>0.000069</td>\n",
              "      <td>0.000091</td>\n",
              "      <td>0.000026</td>\n",
              "      <td>0.000061</td>\n",
              "      <td>0.000022</td>\n",
              "      <td>0.000004</td>\n",
              "      <td>0.000091</td>\n",
              "      <td>0.000048</td>\n",
              "      <td>0.000013</td>\n",
              "      <td>0.000043</td>\n",
              "      <td>0.000095</td>\n",
              "      <td>0.000030</td>\n",
              "      <td>0.000043</td>\n",
              "      <td>0.000013</td>\n",
              "      <td>0.000000</td>\n",
              "      <td>0.000039</td>\n",
              "      <td>0.000026</td>\n",
              "      <td>0.000000</td>\n",
              "      <td>0.000009</td>\n",
              "      <td>0.000013</td>\n",
              "      <td>0.000000</td>\n",
              "      <td>0.000069</td>\n",
              "      <td>0.000026</td>\n",
              "      <td>0.000004</td>\n",
              "      <td>0.000143</td>\n",
              "      <td>0.000139</td>\n",
              "      <td>0.000009</td>\n",
              "      <td>0.000017</td>\n",
              "      <td>0.000043</td>\n",
              "      <td>0.000022</td>\n",
              "      <td>0.000043</td>\n",
              "      <td>0.000026</td>\n",
              "      <td>0.000004</td>\n",
              "      <td>0.000078</td>\n",
              "      <td>0.000074</td>\n",
              "      <td>0.000022</td>\n",
              "      <td>0.000052</td>\n",
              "      <td>0.000082</td>\n",
              "      <td>0.000061</td>\n",
              "      <td>video6633</td>\n",
              "    </tr>\n",
              "    <tr>\n",
              "      <th>2</th>\n",
              "      <td>0.112506</td>\n",
              "      <td>0.014053</td>\n",
              "      <td>0.000263</td>\n",
              "      <td>0.0</td>\n",
              "      <td>0.043205</td>\n",
              "      <td>0.000560</td>\n",
              "      <td>0.0</td>\n",
              "      <td>0.000005</td>\n",
              "      <td>0.000364</td>\n",
              "      <td>0.0</td>\n",
              "      <td>0.0</td>\n",
              "      <td>0.0</td>\n",
              "      <td>0.0</td>\n",
              "      <td>0.002472</td>\n",
              "      <td>0.000206</td>\n",
              "      <td>0.0</td>\n",
              "      <td>0.000002</td>\n",
              "      <td>0.000064</td>\n",
              "      <td>0.0</td>\n",
              "      <td>0.0</td>\n",
              "      <td>0.0</td>\n",
              "      <td>0.0</td>\n",
              "      <td>0.0</td>\n",
              "      <td>0.0</td>\n",
              "      <td>0.0</td>\n",
              "      <td>0.0</td>\n",
              "      <td>0.000000</td>\n",
              "      <td>0.0</td>\n",
              "      <td>0.0</td>\n",
              "      <td>0.0</td>\n",
              "      <td>0.0</td>\n",
              "      <td>0.0</td>\n",
              "      <td>0.0</td>\n",
              "      <td>0.0</td>\n",
              "      <td>0.0</td>\n",
              "      <td>0.0</td>\n",
              "      <td>0.0</td>\n",
              "      <td>0.0</td>\n",
              "      <td>0.0</td>\n",
              "      <td>0.0</td>\n",
              "      <td>...</td>\n",
              "      <td>0.000310</td>\n",
              "      <td>0.000629</td>\n",
              "      <td>0.000263</td>\n",
              "      <td>0.000145</td>\n",
              "      <td>0.000061</td>\n",
              "      <td>0.000002</td>\n",
              "      <td>0.000098</td>\n",
              "      <td>0.000248</td>\n",
              "      <td>0.000007</td>\n",
              "      <td>0.000125</td>\n",
              "      <td>0.000354</td>\n",
              "      <td>0.000076</td>\n",
              "      <td>0.000135</td>\n",
              "      <td>0.000049</td>\n",
              "      <td>0.000000</td>\n",
              "      <td>0.000074</td>\n",
              "      <td>0.000103</td>\n",
              "      <td>0.000000</td>\n",
              "      <td>0.000012</td>\n",
              "      <td>0.000039</td>\n",
              "      <td>0.000002</td>\n",
              "      <td>0.000066</td>\n",
              "      <td>0.000012</td>\n",
              "      <td>0.000002</td>\n",
              "      <td>0.000098</td>\n",
              "      <td>0.000221</td>\n",
              "      <td>0.000012</td>\n",
              "      <td>0.000029</td>\n",
              "      <td>0.000076</td>\n",
              "      <td>0.000022</td>\n",
              "      <td>0.000261</td>\n",
              "      <td>0.000069</td>\n",
              "      <td>0.000000</td>\n",
              "      <td>0.000157</td>\n",
              "      <td>0.000558</td>\n",
              "      <td>0.000017</td>\n",
              "      <td>0.000285</td>\n",
              "      <td>0.000504</td>\n",
              "      <td>0.000179</td>\n",
              "      <td>video6639</td>\n",
              "    </tr>\n",
              "    <tr>\n",
              "      <th>3</th>\n",
              "      <td>0.066072</td>\n",
              "      <td>0.012682</td>\n",
              "      <td>0.000283</td>\n",
              "      <td>0.0</td>\n",
              "      <td>0.006425</td>\n",
              "      <td>0.000375</td>\n",
              "      <td>0.0</td>\n",
              "      <td>0.000002</td>\n",
              "      <td>0.000174</td>\n",
              "      <td>0.0</td>\n",
              "      <td>0.0</td>\n",
              "      <td>0.0</td>\n",
              "      <td>0.0</td>\n",
              "      <td>0.002373</td>\n",
              "      <td>0.000152</td>\n",
              "      <td>0.0</td>\n",
              "      <td>0.000002</td>\n",
              "      <td>0.000102</td>\n",
              "      <td>0.0</td>\n",
              "      <td>0.0</td>\n",
              "      <td>0.0</td>\n",
              "      <td>0.0</td>\n",
              "      <td>0.0</td>\n",
              "      <td>0.0</td>\n",
              "      <td>0.0</td>\n",
              "      <td>0.0</td>\n",
              "      <td>0.000020</td>\n",
              "      <td>0.0</td>\n",
              "      <td>0.0</td>\n",
              "      <td>0.0</td>\n",
              "      <td>0.0</td>\n",
              "      <td>0.0</td>\n",
              "      <td>0.0</td>\n",
              "      <td>0.0</td>\n",
              "      <td>0.0</td>\n",
              "      <td>0.0</td>\n",
              "      <td>0.0</td>\n",
              "      <td>0.0</td>\n",
              "      <td>0.0</td>\n",
              "      <td>0.0</td>\n",
              "      <td>...</td>\n",
              "      <td>0.000278</td>\n",
              "      <td>0.000744</td>\n",
              "      <td>0.000484</td>\n",
              "      <td>0.000155</td>\n",
              "      <td>0.000077</td>\n",
              "      <td>0.000000</td>\n",
              "      <td>0.000161</td>\n",
              "      <td>0.000563</td>\n",
              "      <td>0.000084</td>\n",
              "      <td>0.000132</td>\n",
              "      <td>0.000375</td>\n",
              "      <td>0.000358</td>\n",
              "      <td>0.000227</td>\n",
              "      <td>0.000075</td>\n",
              "      <td>0.000002</td>\n",
              "      <td>0.000077</td>\n",
              "      <td>0.000135</td>\n",
              "      <td>0.000007</td>\n",
              "      <td>0.000009</td>\n",
              "      <td>0.000011</td>\n",
              "      <td>0.000007</td>\n",
              "      <td>0.000190</td>\n",
              "      <td>0.000049</td>\n",
              "      <td>0.000004</td>\n",
              "      <td>0.000305</td>\n",
              "      <td>0.001002</td>\n",
              "      <td>0.000099</td>\n",
              "      <td>0.000038</td>\n",
              "      <td>0.000106</td>\n",
              "      <td>0.000075</td>\n",
              "      <td>0.000495</td>\n",
              "      <td>0.000210</td>\n",
              "      <td>0.000002</td>\n",
              "      <td>0.000342</td>\n",
              "      <td>0.002027</td>\n",
              "      <td>0.000124</td>\n",
              "      <td>0.000307</td>\n",
              "      <td>0.001239</td>\n",
              "      <td>0.001047</td>\n",
              "      <td>video6635</td>\n",
              "    </tr>\n",
              "    <tr>\n",
              "      <th>4</th>\n",
              "      <td>0.030360</td>\n",
              "      <td>0.005834</td>\n",
              "      <td>0.000169</td>\n",
              "      <td>0.0</td>\n",
              "      <td>0.006578</td>\n",
              "      <td>0.000542</td>\n",
              "      <td>0.0</td>\n",
              "      <td>0.000016</td>\n",
              "      <td>0.000373</td>\n",
              "      <td>0.0</td>\n",
              "      <td>0.0</td>\n",
              "      <td>0.0</td>\n",
              "      <td>0.0</td>\n",
              "      <td>0.001041</td>\n",
              "      <td>0.000113</td>\n",
              "      <td>0.0</td>\n",
              "      <td>0.000007</td>\n",
              "      <td>0.000102</td>\n",
              "      <td>0.0</td>\n",
              "      <td>0.0</td>\n",
              "      <td>0.0</td>\n",
              "      <td>0.0</td>\n",
              "      <td>0.0</td>\n",
              "      <td>0.0</td>\n",
              "      <td>0.0</td>\n",
              "      <td>0.0</td>\n",
              "      <td>0.000009</td>\n",
              "      <td>0.0</td>\n",
              "      <td>0.0</td>\n",
              "      <td>0.0</td>\n",
              "      <td>0.0</td>\n",
              "      <td>0.0</td>\n",
              "      <td>0.0</td>\n",
              "      <td>0.0</td>\n",
              "      <td>0.0</td>\n",
              "      <td>0.0</td>\n",
              "      <td>0.0</td>\n",
              "      <td>0.0</td>\n",
              "      <td>0.0</td>\n",
              "      <td>0.0</td>\n",
              "      <td>...</td>\n",
              "      <td>0.000696</td>\n",
              "      <td>0.001019</td>\n",
              "      <td>0.000197</td>\n",
              "      <td>0.000239</td>\n",
              "      <td>0.000111</td>\n",
              "      <td>0.000011</td>\n",
              "      <td>0.000298</td>\n",
              "      <td>0.000389</td>\n",
              "      <td>0.000056</td>\n",
              "      <td>0.000291</td>\n",
              "      <td>0.000395</td>\n",
              "      <td>0.000090</td>\n",
              "      <td>0.000115</td>\n",
              "      <td>0.000052</td>\n",
              "      <td>0.000002</td>\n",
              "      <td>0.000054</td>\n",
              "      <td>0.000070</td>\n",
              "      <td>0.000007</td>\n",
              "      <td>0.000014</td>\n",
              "      <td>0.000041</td>\n",
              "      <td>0.000011</td>\n",
              "      <td>0.000124</td>\n",
              "      <td>0.000045</td>\n",
              "      <td>0.000005</td>\n",
              "      <td>0.000176</td>\n",
              "      <td>0.000181</td>\n",
              "      <td>0.000029</td>\n",
              "      <td>0.000052</td>\n",
              "      <td>0.000090</td>\n",
              "      <td>0.000027</td>\n",
              "      <td>0.000199</td>\n",
              "      <td>0.000061</td>\n",
              "      <td>0.000002</td>\n",
              "      <td>0.000228</td>\n",
              "      <td>0.000253</td>\n",
              "      <td>0.000023</td>\n",
              "      <td>0.000359</td>\n",
              "      <td>0.000375</td>\n",
              "      <td>0.000088</td>\n",
              "      <td>video6637</td>\n",
              "    </tr>\n",
              "  </tbody>\n",
              "</table>\n",
              "<p>5 rows × 6076 columns</p>\n",
              "</div>"
            ],
            "text/plain": [
              "          0         1         2    3  ...      6072      6073      6074      video\n",
              "0  0.012099  0.001466  0.000017  0.0  ...  0.000135  0.000111  0.000076  video6634\n",
              "1  0.078170  0.013597  0.000122  0.0  ...  0.000052  0.000082  0.000061  video6633\n",
              "2  0.112506  0.014053  0.000263  0.0  ...  0.000285  0.000504  0.000179  video6639\n",
              "3  0.066072  0.012682  0.000283  0.0  ...  0.000307  0.001239  0.001047  video6635\n",
              "4  0.030360  0.005834  0.000169  0.0  ...  0.000359  0.000375  0.000088  video6637\n",
              "\n",
              "[5 rows x 6076 columns]"
            ]
          },
          "metadata": {
            "tags": []
          },
          "execution_count": 113
        }
      ]
    },
    {
      "cell_type": "markdown",
      "metadata": {
        "id": "fIyUVnvmEyUS",
        "colab_type": "text"
      },
      "source": [
        "# FEATURE EXTRACTION OF CAPTION"
      ]
    },
    {
      "cell_type": "code",
      "metadata": {
        "id": "Unhm7zUHE9Xa",
        "colab_type": "code",
        "colab": {}
      },
      "source": [
        "train_ground_truth = pd.read_csv('./Dev-set/Ground-truth/ground-truth.csv')"
      ],
      "execution_count": 0,
      "outputs": []
    },
    {
      "cell_type": "code",
      "metadata": {
        "id": "uM7y4hd2GdBg",
        "colab_type": "code",
        "outputId": "d323c8a3-09ed-4daf-e846-3bafec9bbf47",
        "colab": {
          "base_uri": "https://localhost:8080/",
          "height": 195
        }
      },
      "source": [
        "train_ground_truth.head()"
      ],
      "execution_count": 16,
      "outputs": [
        {
          "output_type": "execute_result",
          "data": {
            "text/html": [
              "<div>\n",
              "<style scoped>\n",
              "    .dataframe tbody tr th:only-of-type {\n",
              "        vertical-align: middle;\n",
              "    }\n",
              "\n",
              "    .dataframe tbody tr th {\n",
              "        vertical-align: top;\n",
              "    }\n",
              "\n",
              "    .dataframe thead th {\n",
              "        text-align: right;\n",
              "    }\n",
              "</style>\n",
              "<table border=\"1\" class=\"dataframe\">\n",
              "  <thead>\n",
              "    <tr style=\"text-align: right;\">\n",
              "      <th></th>\n",
              "      <th>video</th>\n",
              "      <th>short-term_memorability</th>\n",
              "      <th>nb_short-term_annotations</th>\n",
              "      <th>long-term_memorability</th>\n",
              "      <th>nb_long-term_annotations</th>\n",
              "    </tr>\n",
              "  </thead>\n",
              "  <tbody>\n",
              "    <tr>\n",
              "      <th>0</th>\n",
              "      <td>video3.webm</td>\n",
              "      <td>0.924</td>\n",
              "      <td>34</td>\n",
              "      <td>0.846</td>\n",
              "      <td>13</td>\n",
              "    </tr>\n",
              "    <tr>\n",
              "      <th>1</th>\n",
              "      <td>video4.webm</td>\n",
              "      <td>0.923</td>\n",
              "      <td>33</td>\n",
              "      <td>0.667</td>\n",
              "      <td>12</td>\n",
              "    </tr>\n",
              "    <tr>\n",
              "      <th>2</th>\n",
              "      <td>video6.webm</td>\n",
              "      <td>0.863</td>\n",
              "      <td>33</td>\n",
              "      <td>0.700</td>\n",
              "      <td>10</td>\n",
              "    </tr>\n",
              "    <tr>\n",
              "      <th>3</th>\n",
              "      <td>video8.webm</td>\n",
              "      <td>0.922</td>\n",
              "      <td>33</td>\n",
              "      <td>0.818</td>\n",
              "      <td>11</td>\n",
              "    </tr>\n",
              "    <tr>\n",
              "      <th>4</th>\n",
              "      <td>video10.webm</td>\n",
              "      <td>0.950</td>\n",
              "      <td>34</td>\n",
              "      <td>0.900</td>\n",
              "      <td>10</td>\n",
              "    </tr>\n",
              "  </tbody>\n",
              "</table>\n",
              "</div>"
            ],
            "text/plain": [
              "          video  ...  nb_long-term_annotations\n",
              "0   video3.webm  ...                        13\n",
              "1   video4.webm  ...                        12\n",
              "2   video6.webm  ...                        10\n",
              "3   video8.webm  ...                        11\n",
              "4  video10.webm  ...                        10\n",
              "\n",
              "[5 rows x 5 columns]"
            ]
          },
          "metadata": {
            "tags": []
          },
          "execution_count": 16
        }
      ]
    },
    {
      "cell_type": "code",
      "metadata": {
        "id": "ZNYt6pviGd2v",
        "colab_type": "code",
        "colab": {}
      },
      "source": [
        "train_ground_truth = train_ground_truth.drop(['nb_short-term_annotations', 'nb_long-term_annotations'], axis=1)"
      ],
      "execution_count": 0,
      "outputs": []
    },
    {
      "cell_type": "code",
      "metadata": {
        "id": "u6bDz1ycGytz",
        "colab_type": "code",
        "outputId": "c95afe9c-c6a8-4640-b31a-25e56cf71bc9",
        "colab": {
          "base_uri": "https://localhost:8080/",
          "height": 195
        }
      },
      "source": [
        "train_ground_truth.tail()"
      ],
      "execution_count": 0,
      "outputs": [
        {
          "output_type": "execute_result",
          "data": {
            "text/html": [
              "<div>\n",
              "<style scoped>\n",
              "    .dataframe tbody tr th:only-of-type {\n",
              "        vertical-align: middle;\n",
              "    }\n",
              "\n",
              "    .dataframe tbody tr th {\n",
              "        vertical-align: top;\n",
              "    }\n",
              "\n",
              "    .dataframe thead th {\n",
              "        text-align: right;\n",
              "    }\n",
              "</style>\n",
              "<table border=\"1\" class=\"dataframe\">\n",
              "  <thead>\n",
              "    <tr style=\"text-align: right;\">\n",
              "      <th></th>\n",
              "      <th>video</th>\n",
              "      <th>short-term_memorability</th>\n",
              "      <th>long-term_memorability</th>\n",
              "    </tr>\n",
              "  </thead>\n",
              "  <tbody>\n",
              "    <tr>\n",
              "      <th>5995</th>\n",
              "      <td>video7488.webm</td>\n",
              "      <td>0.921</td>\n",
              "      <td>1.000</td>\n",
              "    </tr>\n",
              "    <tr>\n",
              "      <th>5996</th>\n",
              "      <td>video7489.webm</td>\n",
              "      <td>0.909</td>\n",
              "      <td>0.839</td>\n",
              "    </tr>\n",
              "    <tr>\n",
              "      <th>5997</th>\n",
              "      <td>video7491.webm</td>\n",
              "      <td>0.713</td>\n",
              "      <td>0.818</td>\n",
              "    </tr>\n",
              "    <tr>\n",
              "      <th>5998</th>\n",
              "      <td>video7492.webm</td>\n",
              "      <td>0.954</td>\n",
              "      <td>1.000</td>\n",
              "    </tr>\n",
              "    <tr>\n",
              "      <th>5999</th>\n",
              "      <td>video7493.webm</td>\n",
              "      <td>0.953</td>\n",
              "      <td>0.615</td>\n",
              "    </tr>\n",
              "  </tbody>\n",
              "</table>\n",
              "</div>"
            ],
            "text/plain": [
              "               video  short-term_memorability  long-term_memorability\n",
              "5995  video7488.webm                    0.921                   1.000\n",
              "5996  video7489.webm                    0.909                   0.839\n",
              "5997  video7491.webm                    0.713                   0.818\n",
              "5998  video7492.webm                    0.954                   1.000\n",
              "5999  video7493.webm                    0.953                   0.615"
            ]
          },
          "metadata": {
            "tags": []
          },
          "execution_count": 10
        }
      ]
    },
    {
      "cell_type": "code",
      "metadata": {
        "id": "T_d-8vUNGzAc",
        "colab_type": "code",
        "colab": {}
      },
      "source": [
        "test_ground_truth = pd.read_csv('./Test-set/Ground-truth_test/ground_truth_template.csv')\n"
      ],
      "execution_count": 0,
      "outputs": []
    },
    {
      "cell_type": "code",
      "metadata": {
        "id": "CLIT2GCTtZfO",
        "colab_type": "code",
        "colab": {}
      },
      "source": [
        "test_ground_truth = test_ground_truth.drop(['nb_short-term_annotations', 'nb_long-term_annotations'], axis=1)"
      ],
      "execution_count": 0,
      "outputs": []
    },
    {
      "cell_type": "code",
      "metadata": {
        "id": "r4PvXEz4GzRv",
        "colab_type": "code",
        "outputId": "b3ee2437-f3ee-442a-86e0-a060808aa739",
        "colab": {
          "base_uri": "https://localhost:8080/",
          "height": 195
        }
      },
      "source": [
        "test_ground_truth.tail()"
      ],
      "execution_count": 0,
      "outputs": [
        {
          "output_type": "execute_result",
          "data": {
            "text/html": [
              "<div>\n",
              "<style scoped>\n",
              "    .dataframe tbody tr th:only-of-type {\n",
              "        vertical-align: middle;\n",
              "    }\n",
              "\n",
              "    .dataframe tbody tr th {\n",
              "        vertical-align: top;\n",
              "    }\n",
              "\n",
              "    .dataframe thead th {\n",
              "        text-align: right;\n",
              "    }\n",
              "</style>\n",
              "<table border=\"1\" class=\"dataframe\">\n",
              "  <thead>\n",
              "    <tr style=\"text-align: right;\">\n",
              "      <th></th>\n",
              "      <th>video</th>\n",
              "      <th>short-term_memorability</th>\n",
              "      <th>long-term_memorability</th>\n",
              "    </tr>\n",
              "  </thead>\n",
              "  <tbody>\n",
              "    <tr>\n",
              "      <th>1995</th>\n",
              "      <td>10004</td>\n",
              "      <td>NaN</td>\n",
              "      <td>NaN</td>\n",
              "    </tr>\n",
              "    <tr>\n",
              "      <th>1996</th>\n",
              "      <td>10005</td>\n",
              "      <td>NaN</td>\n",
              "      <td>NaN</td>\n",
              "    </tr>\n",
              "    <tr>\n",
              "      <th>1997</th>\n",
              "      <td>10006</td>\n",
              "      <td>NaN</td>\n",
              "      <td>NaN</td>\n",
              "    </tr>\n",
              "    <tr>\n",
              "      <th>1998</th>\n",
              "      <td>10007</td>\n",
              "      <td>NaN</td>\n",
              "      <td>NaN</td>\n",
              "    </tr>\n",
              "    <tr>\n",
              "      <th>1999</th>\n",
              "      <td>10008</td>\n",
              "      <td>NaN</td>\n",
              "      <td>NaN</td>\n",
              "    </tr>\n",
              "  </tbody>\n",
              "</table>\n",
              "</div>"
            ],
            "text/plain": [
              "      video  short-term_memorability  long-term_memorability\n",
              "1995  10004                      NaN                     NaN\n",
              "1996  10005                      NaN                     NaN\n",
              "1997  10006                      NaN                     NaN\n",
              "1998  10007                      NaN                     NaN\n",
              "1999  10008                      NaN                     NaN"
            ]
          },
          "metadata": {
            "tags": []
          },
          "execution_count": 13
        }
      ]
    },
    {
      "cell_type": "code",
      "metadata": {
        "id": "2WseY-aW0QRs",
        "colab_type": "code",
        "colab": {}
      },
      "source": [
        "train_captions = pd.read_csv('./Dev-set/Captions/dev-set_video-captions.txt',delimiter='\\t',header= None,names=('video','Captions'))"
      ],
      "execution_count": 0,
      "outputs": []
    },
    {
      "cell_type": "code",
      "metadata": {
        "id": "He92dMJ20QV-",
        "colab_type": "code",
        "outputId": "c2911188-24bb-4dda-8207-4d40e0d7f771",
        "colab": {
          "base_uri": "https://localhost:8080/",
          "height": 195
        }
      },
      "source": [
        "train_captions.tail()"
      ],
      "execution_count": 0,
      "outputs": [
        {
          "output_type": "execute_result",
          "data": {
            "text/html": [
              "<div>\n",
              "<style scoped>\n",
              "    .dataframe tbody tr th:only-of-type {\n",
              "        vertical-align: middle;\n",
              "    }\n",
              "\n",
              "    .dataframe tbody tr th {\n",
              "        vertical-align: top;\n",
              "    }\n",
              "\n",
              "    .dataframe thead th {\n",
              "        text-align: right;\n",
              "    }\n",
              "</style>\n",
              "<table border=\"1\" class=\"dataframe\">\n",
              "  <thead>\n",
              "    <tr style=\"text-align: right;\">\n",
              "      <th></th>\n",
              "      <th>video</th>\n",
              "      <th>Captions</th>\n",
              "    </tr>\n",
              "  </thead>\n",
              "  <tbody>\n",
              "    <tr>\n",
              "      <th>5995</th>\n",
              "      <td>video7488.webm</td>\n",
              "      <td>beautiful-young-woman-in-front-of-fountains</td>\n",
              "    </tr>\n",
              "    <tr>\n",
              "      <th>5996</th>\n",
              "      <td>video7489.webm</td>\n",
              "      <td>focus-pull-from-molting-penguin-to-penguin-col...</td>\n",
              "    </tr>\n",
              "    <tr>\n",
              "      <th>5997</th>\n",
              "      <td>video7491.webm</td>\n",
              "      <td>students-walking-in-university-of-mexico</td>\n",
              "    </tr>\n",
              "    <tr>\n",
              "      <th>5998</th>\n",
              "      <td>video7492.webm</td>\n",
              "      <td>beautiful-black-woman-at-spa</td>\n",
              "    </tr>\n",
              "    <tr>\n",
              "      <th>5999</th>\n",
              "      <td>video7493.webm</td>\n",
              "      <td>beautiful-modern-brunette-woman-using-tablet-c...</td>\n",
              "    </tr>\n",
              "  </tbody>\n",
              "</table>\n",
              "</div>"
            ],
            "text/plain": [
              "               video                                           Captions\n",
              "5995  video7488.webm        beautiful-young-woman-in-front-of-fountains\n",
              "5996  video7489.webm  focus-pull-from-molting-penguin-to-penguin-col...\n",
              "5997  video7491.webm           students-walking-in-university-of-mexico\n",
              "5998  video7492.webm                       beautiful-black-woman-at-spa\n",
              "5999  video7493.webm  beautiful-modern-brunette-woman-using-tablet-c..."
            ]
          },
          "metadata": {
            "tags": []
          },
          "execution_count": 15
        }
      ]
    },
    {
      "cell_type": "code",
      "metadata": {
        "id": "UGyvTlhN0Qgz",
        "colab_type": "code",
        "colab": {}
      },
      "source": [
        "test_captions = pd.read_csv('./Test-set/Captions_test/test-set-1_video-captions.txt',delimiter='\\t',header= None,names=('video','Captions'))"
      ],
      "execution_count": 0,
      "outputs": []
    },
    {
      "cell_type": "code",
      "metadata": {
        "id": "qaiTbn9e0Qk5",
        "colab_type": "code",
        "outputId": "792c9837-0a8c-4575-9c1f-d43d2ab7ac06",
        "colab": {
          "base_uri": "https://localhost:8080/",
          "height": 195
        }
      },
      "source": [
        "test_captions.tail()"
      ],
      "execution_count": 67,
      "outputs": [
        {
          "output_type": "execute_result",
          "data": {
            "text/html": [
              "<div>\n",
              "<style scoped>\n",
              "    .dataframe tbody tr th:only-of-type {\n",
              "        vertical-align: middle;\n",
              "    }\n",
              "\n",
              "    .dataframe tbody tr th {\n",
              "        vertical-align: top;\n",
              "    }\n",
              "\n",
              "    .dataframe thead th {\n",
              "        text-align: right;\n",
              "    }\n",
              "</style>\n",
              "<table border=\"1\" class=\"dataframe\">\n",
              "  <thead>\n",
              "    <tr style=\"text-align: right;\">\n",
              "      <th></th>\n",
              "      <th>video</th>\n",
              "      <th>Captions</th>\n",
              "    </tr>\n",
              "  </thead>\n",
              "  <tbody>\n",
              "    <tr>\n",
              "      <th>1995</th>\n",
              "      <td>video10004.webm</td>\n",
              "      <td>astronaut-in-outer-space-against-the-backdrop-...</td>\n",
              "    </tr>\n",
              "    <tr>\n",
              "      <th>1996</th>\n",
              "      <td>video10005.webm</td>\n",
              "      <td>young-women-lying-on-sunbed-and-applying-sun-c...</td>\n",
              "    </tr>\n",
              "    <tr>\n",
              "      <th>1997</th>\n",
              "      <td>video10006.webm</td>\n",
              "      <td>doctor-talking-to-patient-using-a-tablet-to-ex...</td>\n",
              "    </tr>\n",
              "    <tr>\n",
              "      <th>1998</th>\n",
              "      <td>video10007.webm</td>\n",
              "      <td>businessman-sitting-on-the-beach-on-inflatable...</td>\n",
              "    </tr>\n",
              "    <tr>\n",
              "      <th>1999</th>\n",
              "      <td>video10008.webm</td>\n",
              "      <td>woman-eating-ice-cream-and-sitting-in-the-stre...</td>\n",
              "    </tr>\n",
              "  </tbody>\n",
              "</table>\n",
              "</div>"
            ],
            "text/plain": [
              "                video                                           Captions\n",
              "1995  video10004.webm  astronaut-in-outer-space-against-the-backdrop-...\n",
              "1996  video10005.webm  young-women-lying-on-sunbed-and-applying-sun-c...\n",
              "1997  video10006.webm  doctor-talking-to-patient-using-a-tablet-to-ex...\n",
              "1998  video10007.webm  businessman-sitting-on-the-beach-on-inflatable...\n",
              "1999  video10008.webm  woman-eating-ice-cream-and-sitting-in-the-stre..."
            ]
          },
          "metadata": {
            "tags": []
          },
          "execution_count": 67
        }
      ]
    },
    {
      "cell_type": "code",
      "metadata": {
        "id": "pdeIn_Dx0Qok",
        "colab_type": "code",
        "colab": {}
      },
      "source": [
        "merged_captions = pd.concat([train_captions, test_captions],ignore_index=True)"
      ],
      "execution_count": 0,
      "outputs": []
    },
    {
      "cell_type": "code",
      "metadata": {
        "id": "DPmh7nSw0QdN",
        "colab_type": "code",
        "outputId": "74a94c93-424d-4b9a-f83b-8e394f4f1349",
        "colab": {
          "base_uri": "https://localhost:8080/",
          "height": 195
        }
      },
      "source": [
        "merged_captions.tail()"
      ],
      "execution_count": 0,
      "outputs": [
        {
          "output_type": "execute_result",
          "data": {
            "text/html": [
              "<div>\n",
              "<style scoped>\n",
              "    .dataframe tbody tr th:only-of-type {\n",
              "        vertical-align: middle;\n",
              "    }\n",
              "\n",
              "    .dataframe tbody tr th {\n",
              "        vertical-align: top;\n",
              "    }\n",
              "\n",
              "    .dataframe thead th {\n",
              "        text-align: right;\n",
              "    }\n",
              "</style>\n",
              "<table border=\"1\" class=\"dataframe\">\n",
              "  <thead>\n",
              "    <tr style=\"text-align: right;\">\n",
              "      <th></th>\n",
              "      <th>video</th>\n",
              "      <th>Captions</th>\n",
              "    </tr>\n",
              "  </thead>\n",
              "  <tbody>\n",
              "    <tr>\n",
              "      <th>7995</th>\n",
              "      <td>video10004.webm</td>\n",
              "      <td>astronaut-in-outer-space-against-the-backdrop-...</td>\n",
              "    </tr>\n",
              "    <tr>\n",
              "      <th>7996</th>\n",
              "      <td>video10005.webm</td>\n",
              "      <td>young-women-lying-on-sunbed-and-applying-sun-c...</td>\n",
              "    </tr>\n",
              "    <tr>\n",
              "      <th>7997</th>\n",
              "      <td>video10006.webm</td>\n",
              "      <td>doctor-talking-to-patient-using-a-tablet-to-ex...</td>\n",
              "    </tr>\n",
              "    <tr>\n",
              "      <th>7998</th>\n",
              "      <td>video10007.webm</td>\n",
              "      <td>businessman-sitting-on-the-beach-on-inflatable...</td>\n",
              "    </tr>\n",
              "    <tr>\n",
              "      <th>7999</th>\n",
              "      <td>video10008.webm</td>\n",
              "      <td>woman-eating-ice-cream-and-sitting-in-the-stre...</td>\n",
              "    </tr>\n",
              "  </tbody>\n",
              "</table>\n",
              "</div>"
            ],
            "text/plain": [
              "                video                                           Captions\n",
              "7995  video10004.webm  astronaut-in-outer-space-against-the-backdrop-...\n",
              "7996  video10005.webm  young-women-lying-on-sunbed-and-applying-sun-c...\n",
              "7997  video10006.webm  doctor-talking-to-patient-using-a-tablet-to-ex...\n",
              "7998  video10007.webm  businessman-sitting-on-the-beach-on-inflatable...\n",
              "7999  video10008.webm  woman-eating-ice-cream-and-sitting-in-the-stre..."
            ]
          },
          "metadata": {
            "tags": []
          },
          "execution_count": 19
        }
      ]
    },
    {
      "cell_type": "code",
      "metadata": {
        "id": "mKLGZXGH0Qao",
        "colab_type": "code",
        "outputId": "0bf3f6d0-dbd1-4a7b-87c6-2e5961c7bedb",
        "colab": {
          "base_uri": "https://localhost:8080/",
          "height": 34
        }
      },
      "source": [
        "merged_captions['Captions'][0]"
      ],
      "execution_count": 0,
      "outputs": [
        {
          "output_type": "execute_result",
          "data": {
            "text/plain": [
              "'blonde-woman-is-massaged-tilt-down'"
            ]
          },
          "metadata": {
            "tags": []
          },
          "execution_count": 20
        }
      ]
    },
    {
      "cell_type": "markdown",
      "metadata": {
        "id": "whG6YJteOLnZ",
        "colab_type": "text"
      },
      "source": [
        "According to the Rohit Gupta et. al. paper on Linear Models for Video Memorability Prediction Using Visual and Semantic Feature, certain words had more impact than others. I am trying to give extra weights to such words and sending as a new feature. \n",
        "\n",
        "After training and validation, Captions using weights to certain words features gave extraordinary results as compared to other feature. Now my model is ready fr testing."
      ]
    },
    {
      "cell_type": "code",
      "metadata": {
        "id": "5ldzbAQy5GKe",
        "colab_type": "code",
        "colab": {}
      },
      "source": [
        "weights_to_certain_words = {'women':16,'woman':16,'eating':15,'putting':14,'lying':13,'girl':12,'selfie':11,'relaxing':10,'jellyfish':9,'cat':8,'super':7,'slow':6,'super':5,'american':4,'potrait':3,'pregnant':2,'couple':1}"
      ],
      "execution_count": 0,
      "outputs": []
    },
    {
      "cell_type": "code",
      "metadata": {
        "id": "-zpA-rbS5GOE",
        "colab_type": "code",
        "outputId": "8f91ac90-e1de-47b8-c993-7a8793004c1a",
        "colab": {
          "base_uri": "https://localhost:8080/",
          "height": 52
        }
      },
      "source": [
        "import re\n",
        "import nltk\n",
        "nltk.download('stopwords')\n",
        "from nltk.corpus import stopwords\n",
        "#from nltk.stem.porter import PorterStemmer"
      ],
      "execution_count": 24,
      "outputs": [
        {
          "output_type": "stream",
          "text": [
            "[nltk_data] Downloading package stopwords to /root/nltk_data...\n",
            "[nltk_data]   Unzipping corpora/stopwords.zip.\n"
          ],
          "name": "stdout"
        }
      ]
    },
    {
      "cell_type": "code",
      "metadata": {
        "id": "jc6FQj5o5GcM",
        "colab_type": "code",
        "colab": {}
      },
      "source": [
        "corpus = []\n",
        "weights = []\n",
        "for i in range(0, 8000):\n",
        "    local_weight = 0\n",
        "    caption = re.sub('[^a-zA-Z]', ' ', merged_captions['Captions'][i])\n",
        "    caption = caption.lower()\n",
        "    caption = caption.split()\n",
        "    caption = [word for word in caption if not word in set(stopwords.words('english'))]\n",
        "    for word in caption:\n",
        "        if(word in set(weights_to_certain_words.keys())):\n",
        "                local_weight = local_weight + weights_to_certain_words[word]\n",
        "    weights.append(local_weight)\n",
        "    caption = ' '.join(caption)\n",
        "    corpus.append(caption)"
      ],
      "execution_count": 0,
      "outputs": []
    },
    {
      "cell_type": "code",
      "metadata": {
        "id": "5u1-y6xM5Ghl",
        "colab_type": "code",
        "colab": {}
      },
      "source": [
        "weights_df = pd.DataFrame(np.array(weights).reshape(8000,1))"
      ],
      "execution_count": 0,
      "outputs": []
    },
    {
      "cell_type": "code",
      "metadata": {
        "id": "2cjI8-Uw5G2B",
        "colab_type": "code",
        "outputId": "35377f80-ed1f-4af8-8c96-d2d65d230bc9",
        "colab": {
          "base_uri": "https://localhost:8080/",
          "height": 34
        }
      },
      "source": [
        "len(corpus)"
      ],
      "execution_count": 0,
      "outputs": [
        {
          "output_type": "execute_result",
          "data": {
            "text/plain": [
              "8000"
            ]
          },
          "metadata": {
            "tags": []
          },
          "execution_count": 25
        }
      ]
    },
    {
      "cell_type": "markdown",
      "metadata": {
        "id": "Y5O-zSBx_weB",
        "colab_type": "text"
      },
      "source": [
        "\n",
        "Since TfIdf Vectorizer outperformed Count Vectorizer, using TfIdf Vectorizer for further evaluations.\n",
        "\n",
        "Using TfIdf value of each word occurance amongst the bag of words."
      ]
    },
    {
      "cell_type": "code",
      "metadata": {
        "id": "gdMVErKG5HL1",
        "colab_type": "code",
        "colab": {}
      },
      "source": [
        "from sklearn.feature_extraction.text import TfidfVectorizer\n",
        "tf = TfidfVectorizer()"
      ],
      "execution_count": 0,
      "outputs": []
    },
    {
      "cell_type": "code",
      "metadata": {
        "id": "dAkct7245HRO",
        "colab_type": "code",
        "colab": {}
      },
      "source": [
        "captions_array = tf.fit_transform(corpus).toarray()"
      ],
      "execution_count": 0,
      "outputs": []
    },
    {
      "cell_type": "code",
      "metadata": {
        "id": "eEOfxrYy5HZZ",
        "colab_type": "code",
        "colab": {}
      },
      "source": [
        "merged_array = np.concatenate((captions_array, weights_df), axis=1)"
      ],
      "execution_count": 0,
      "outputs": []
    },
    {
      "cell_type": "markdown",
      "metadata": {
        "id": "fJZ0GsOD6Mj1",
        "colab_type": "text"
      },
      "source": [
        "In order to build the model, split the data back to test and train"
      ]
    },
    {
      "cell_type": "code",
      "metadata": {
        "id": "LsAlZ_vS6J8_",
        "colab_type": "code",
        "colab": {}
      },
      "source": [
        "train_caption_feature = merged_array[:6000]"
      ],
      "execution_count": 0,
      "outputs": []
    },
    {
      "cell_type": "code",
      "metadata": {
        "id": "6WV1Rj6R6Kr8",
        "colab_type": "code",
        "colab": {}
      },
      "source": [
        "test_caption_feature = merged_array[6000:]"
      ],
      "execution_count": 0,
      "outputs": []
    },
    {
      "cell_type": "markdown",
      "metadata": {
        "id": "ZFFo90hSG0Qi",
        "colab_type": "text"
      },
      "source": [
        "# BUILDING MODEL"
      ]
    },
    {
      "cell_type": "code",
      "metadata": {
        "id": "4iUdx5edRBcV",
        "colab_type": "code",
        "colab": {}
      },
      "source": [
        "def Get_score(Y_pred,Y_true):\n",
        "    '''Calculate the Spearmann\"s correlation coefficient'''\n",
        "    Y_pred = np.squeeze(Y_pred)\n",
        "    Y_true = np.squeeze(Y_true)\n",
        "    if Y_pred.shape != Y_true.shape:\n",
        "        print('Input shapes don\\'t match!')\n",
        "    else:\n",
        "        if len(Y_pred.shape) == 1:\n",
        "            Res = pd.DataFrame({'Y_true':Y_true,'Y_pred':Y_pred})\n",
        "            score_mat = Res[['Y_true','Y_pred']].corr(method='spearman',min_periods=1)\n",
        "            print('The Spearman\\'s correlation coefficient is: %.3f' % score_mat.iloc[1][0])\n",
        "        else:\n",
        "            for ii in range(Y_pred.shape[1]):\n",
        "                Get_score(Y_pred[:,ii],Y_true[:,ii])\n"
      ],
      "execution_count": 0,
      "outputs": []
    },
    {
      "cell_type": "code",
      "metadata": {
        "id": "bt5pfUqKKkUK",
        "colab_type": "code",
        "colab": {}
      },
      "source": [
        "def Train_Test_Split_2Variable(X,Y):\n",
        "  from sklearn.model_selection import train_test_split\n",
        "  X_train, X_test, Y_train, Y_test = train_test_split(X, Y, test_size = 0.20, random_state=40)\n",
        "  return X_train,Y_train,Y_test,X_test"
      ],
      "execution_count": 0,
      "outputs": []
    },
    {
      "cell_type": "code",
      "metadata": {
        "id": "xrbKUmNmKodO",
        "colab_type": "code",
        "colab": {}
      },
      "source": [
        "def LinearRegression(X_train,Y_train,Y_test,X_test):\n",
        "  from sklearn.linear_model import LinearRegression\n",
        "  regressor1 = LinearRegression()\n",
        "  regressor1.fit(X_train, Y_train)\n",
        "  Y_pred1 = regressor1.predict(X_test)\n",
        "  Get_score(Y_pred1, Y_test)\n",
        "\n",
        "def RidgeRegression(X_train,Y_train,Y_test,X_test):\n",
        "  from sklearn.linear_model import Ridge\n",
        "  #Fit the model\n",
        "  ridge1 = Ridge(alpha = 4, normalize = True)\n",
        "  ridge1.fit(X_train, Y_train)            \n",
        "  pred1 = ridge1.predict(X_test)  \n",
        "  Get_score(pred1, Y_test)  \n",
        "\n",
        "def LassoRegression(X_train,Y_train,Y_test,X_test):\n",
        "  from sklearn.linear_model import Lasso\n",
        "  #Fit the model\n",
        "  lasso = Lasso()\n",
        "  lasso.fit(X_train, Y_train)            \n",
        "  predlasso = lasso.predict(X_test)  \n",
        "  Get_score(predlasso, Y_test)\n",
        "\n",
        "def ElasticNetRegression(X_train,Y_train,Y_test,X_test):\n",
        "  from sklearn.linear_model import ElasticNet\n",
        "  #Fit the model\n",
        "  elasticNet = ElasticNet()\n",
        "  elasticNet.fit(X_train, Y_train)            \n",
        "  preE = elasticNet.predict(X_test)  \n",
        "  Get_score(predeE, Y_test)\n",
        "\n",
        "def DecisionTree(X_train,Y_train,Y_test,X_test):\n",
        "  from sklearn.tree import DecisionTreeRegressor\n",
        "  regressor2 = DecisionTreeRegressor()\n",
        "  regressor2.fit(X_train, Y_train)\n",
        "  Y_pred2 = regressor2.predict(X_test)\n",
        "  Get_score(Y_pred2, Y_test)\n",
        "\n",
        "def RandomForest(X_train,Y_train,Y_test,X_test):\n",
        "  from sklearn.ensemble import RandomForestRegressor\n",
        "  regressor3 = RandomForestRegressor(n_estimators=100)\n",
        "  regressor3.fit(X_train, Y_train)\n",
        "  Y_pred3 = regressor3.predict(X_test)\n",
        "  Get_score(Y_pred3, Y_test)\n",
        "\n",
        "def Bayesian(X_train, X_test, Y1_train, Y1_test, Y2_train, Y2_test):\n",
        "  from sklearn.linear_model import BayesianRidge\n",
        "  from sklearn import linear_model\n",
        "  regressor4 = linear_model.BayesianRidge(compute_score=True)\n",
        "  regressor5 = linear_model.BayesianRidge(compute_score=True)\n",
        "  regressor4.fit(X_train,Y1_train)\n",
        "  Y_pred4 = regressor4.predict(X_test)\n",
        "  regressor5.fit(X_train,Y2_train)\n",
        "  Y_pred5 = regressor5.predict(X_test)\n",
        "  Get_score(Y_pred4, Y1_test)\n",
        "  Get_score(Y_pred5, Y2_test)\n",
        "  "
      ],
      "execution_count": 0,
      "outputs": []
    },
    {
      "cell_type": "code",
      "metadata": {
        "id": "u3UTxi89Z99D",
        "colab_type": "code",
        "colab": {}
      },
      "source": [
        "def TrainTestSplit_3Variables(X,Y1,Y2):\n",
        "  from sklearn.model_selection import train_test_split\n",
        "  X_train, X_test, Y1_train, Y1_test, Y2_train, Y2_test = train_test_split(X, Y1, Y2, test_size = 0.20, random_state=40)\n",
        "  return X_train, X_test, Y1_train, Y1_test, Y2_train, Y2_test"
      ],
      "execution_count": 0,
      "outputs": []
    },
    {
      "cell_type": "code",
      "metadata": {
        "id": "viahUD3Fz2yx",
        "colab_type": "code",
        "colab": {}
      },
      "source": [
        "def SVR(X_train, X_test, Y1_train, Y1_test, Y2_train, Y2_test):\n",
        " \n",
        "  from sklearn.svm import SVR\n",
        "  short_regressor = SVR(kernel = 'rbf')\n",
        "  long_regressor = SVR(kernel = 'rbf')\n",
        "\n",
        "  short_regressor.fit(X_train, Y1_train)\n",
        "  long_regressor.fit(X_train,Y2_train)\n",
        "\n",
        "  from sklearn.preprocessing import StandardScaler\n",
        "  X = StandardScaler()\n",
        "  Y1 = StandardScaler()\n",
        "  Y2 = StandardScaler()\n",
        "  X_train = X.fit_transform(X_train)\n",
        "  Y1_train = Y1.fit_transform(Y1_train)\n",
        "  Y2_train = Y2.fit_transform(Y2_train)\n",
        "\n",
        "  short_pred = short_regressor.predict(X_test)\n",
        "  short_pred = Y1.inverse_transform(short_pred)\n",
        "  long_pred = long_regressor.predict(X_test)\n",
        "  long_pred = Y2.inverse_transform(long_pred)\n",
        "\n",
        "  Get_score(short_pred, Y1_test)\n",
        "  Get_score(long_pred, Y2_test)   "
      ],
      "execution_count": 0,
      "outputs": []
    },
    {
      "cell_type": "code",
      "metadata": {
        "id": "uNI3j6vcUS1W",
        "colab_type": "code",
        "colab": {}
      },
      "source": [
        "def xgboost(X_train, X_test, Y1_train, Y1_test, Y2_train, Y2_test):\n",
        "  import xgboost as xgb\n",
        "  from xgboost import XGBRegressor\n",
        "  from sklearn.metrics import mean_squared_error\n",
        "  regressor4 = xgb.XGBRegressor(objective ='reg:linear', colsample_bytree = 0.3, learning_rate = 0.1, max_depth = 5, alpha = 10, n_estimators = 100)\n",
        "  regressor5 = xgb.XGBRegressor(objective ='reg:linear', colsample_bytree = 0.3, learning_rate = 0.1, max_depth = 5, alpha = 10, n_estimators = 100)\n",
        "  regressor4.fit(X_train,Y1_train)\n",
        "  Y_pred4 = regressor4.predict(X_test)\n",
        "  regressor5.fit(X_train,Y2_train)\n",
        "  Y_pred5 = regressor5.predict(X_test)\n",
        "  Get_score(Y_pred4, Y1_test)\n",
        "  Get_score(Y_pred5, Y2_test)"
      ],
      "execution_count": 0,
      "outputs": []
    },
    {
      "cell_type": "markdown",
      "metadata": {
        "id": "_n5BeN5MIdVA",
        "colab_type": "text"
      },
      "source": [
        "# 1.] VIDEO FEATURES: MERGE HMP FEATURE AND DEV-SET GROUND TRUTH "
      ]
    },
    {
      "cell_type": "code",
      "metadata": {
        "id": "qozpzB1yGzJg",
        "colab_type": "code",
        "colab": {}
      },
      "source": [
        "ground_truth = pd.read_csv('./Dev-set/Ground-truth/ground-truth.csv')"
      ],
      "execution_count": 0,
      "outputs": []
    },
    {
      "cell_type": "code",
      "metadata": {
        "id": "o5VCrSedIbp0",
        "colab_type": "code",
        "colab": {}
      },
      "source": [
        "ground_truth = ground_truth.drop(['nb_short-term_annotations', 'nb_long-term_annotations'], axis=1)"
      ],
      "execution_count": 0,
      "outputs": []
    },
    {
      "cell_type": "code",
      "metadata": {
        "id": "3u8THa99Ib2q",
        "colab_type": "code",
        "colab": {}
      },
      "source": [
        "ground_truth['video'] = ground_truth['video'].apply(lambda x : x.split('.')[0])"
      ],
      "execution_count": 0,
      "outputs": []
    },
    {
      "cell_type": "code",
      "metadata": {
        "id": "qABEq-9TQLvW",
        "colab_type": "code",
        "outputId": "d33beec0-ef63-4fa9-aa96-cdc3136f1c97",
        "colab": {
          "base_uri": "https://localhost:8080/",
          "height": 195
        }
      },
      "source": [
        "ground_truth.tail()"
      ],
      "execution_count": 0,
      "outputs": [
        {
          "output_type": "execute_result",
          "data": {
            "text/html": [
              "<div>\n",
              "<style scoped>\n",
              "    .dataframe tbody tr th:only-of-type {\n",
              "        vertical-align: middle;\n",
              "    }\n",
              "\n",
              "    .dataframe tbody tr th {\n",
              "        vertical-align: top;\n",
              "    }\n",
              "\n",
              "    .dataframe thead th {\n",
              "        text-align: right;\n",
              "    }\n",
              "</style>\n",
              "<table border=\"1\" class=\"dataframe\">\n",
              "  <thead>\n",
              "    <tr style=\"text-align: right;\">\n",
              "      <th></th>\n",
              "      <th>video</th>\n",
              "      <th>short-term_memorability</th>\n",
              "      <th>long-term_memorability</th>\n",
              "    </tr>\n",
              "  </thead>\n",
              "  <tbody>\n",
              "    <tr>\n",
              "      <th>5995</th>\n",
              "      <td>video7488</td>\n",
              "      <td>0.921</td>\n",
              "      <td>1.000</td>\n",
              "    </tr>\n",
              "    <tr>\n",
              "      <th>5996</th>\n",
              "      <td>video7489</td>\n",
              "      <td>0.909</td>\n",
              "      <td>0.839</td>\n",
              "    </tr>\n",
              "    <tr>\n",
              "      <th>5997</th>\n",
              "      <td>video7491</td>\n",
              "      <td>0.713</td>\n",
              "      <td>0.818</td>\n",
              "    </tr>\n",
              "    <tr>\n",
              "      <th>5998</th>\n",
              "      <td>video7492</td>\n",
              "      <td>0.954</td>\n",
              "      <td>1.000</td>\n",
              "    </tr>\n",
              "    <tr>\n",
              "      <th>5999</th>\n",
              "      <td>video7493</td>\n",
              "      <td>0.953</td>\n",
              "      <td>0.615</td>\n",
              "    </tr>\n",
              "  </tbody>\n",
              "</table>\n",
              "</div>"
            ],
            "text/plain": [
              "          video  short-term_memorability  long-term_memorability\n",
              "5995  video7488                    0.921                   1.000\n",
              "5996  video7489                    0.909                   0.839\n",
              "5997  video7491                    0.713                   0.818\n",
              "5998  video7492                    0.954                   1.000\n",
              "5999  video7493                    0.953                   0.615"
            ]
          },
          "metadata": {
            "tags": []
          },
          "execution_count": 77
        }
      ]
    },
    {
      "cell_type": "code",
      "metadata": {
        "id": "VT-LEagXTkJA",
        "colab_type": "code",
        "colab": {}
      },
      "source": [
        "df = pd.merge(ground_truth, HMP_featu , on='video')"
      ],
      "execution_count": 0,
      "outputs": []
    },
    {
      "cell_type": "code",
      "metadata": {
        "id": "4tw6JCUoLdGe",
        "colab_type": "code",
        "outputId": "7e1523db-c168-4086-8470-dcbf4c7c8d52",
        "colab": {
          "base_uri": "https://localhost:8080/",
          "height": 261
        }
      },
      "source": [
        "df.tail()"
      ],
      "execution_count": 0,
      "outputs": [
        {
          "output_type": "execute_result",
          "data": {
            "text/html": [
              "<div>\n",
              "<style scoped>\n",
              "    .dataframe tbody tr th:only-of-type {\n",
              "        vertical-align: middle;\n",
              "    }\n",
              "\n",
              "    .dataframe tbody tr th {\n",
              "        vertical-align: top;\n",
              "    }\n",
              "\n",
              "    .dataframe thead th {\n",
              "        text-align: right;\n",
              "    }\n",
              "</style>\n",
              "<table border=\"1\" class=\"dataframe\">\n",
              "  <thead>\n",
              "    <tr style=\"text-align: right;\">\n",
              "      <th></th>\n",
              "      <th>video</th>\n",
              "      <th>short-term_memorability</th>\n",
              "      <th>long-term_memorability</th>\n",
              "      <th>0</th>\n",
              "      <th>1</th>\n",
              "      <th>2</th>\n",
              "      <th>3</th>\n",
              "      <th>4</th>\n",
              "      <th>5</th>\n",
              "      <th>6</th>\n",
              "      <th>7</th>\n",
              "      <th>8</th>\n",
              "      <th>9</th>\n",
              "      <th>10</th>\n",
              "      <th>11</th>\n",
              "      <th>12</th>\n",
              "      <th>13</th>\n",
              "      <th>14</th>\n",
              "      <th>15</th>\n",
              "      <th>16</th>\n",
              "      <th>17</th>\n",
              "      <th>18</th>\n",
              "      <th>19</th>\n",
              "      <th>20</th>\n",
              "      <th>21</th>\n",
              "      <th>22</th>\n",
              "      <th>23</th>\n",
              "      <th>24</th>\n",
              "      <th>25</th>\n",
              "      <th>26</th>\n",
              "      <th>27</th>\n",
              "      <th>28</th>\n",
              "      <th>29</th>\n",
              "      <th>30</th>\n",
              "      <th>31</th>\n",
              "      <th>32</th>\n",
              "      <th>33</th>\n",
              "      <th>34</th>\n",
              "      <th>35</th>\n",
              "      <th>36</th>\n",
              "      <th>...</th>\n",
              "      <th>6035</th>\n",
              "      <th>6036</th>\n",
              "      <th>6037</th>\n",
              "      <th>6038</th>\n",
              "      <th>6039</th>\n",
              "      <th>6040</th>\n",
              "      <th>6041</th>\n",
              "      <th>6042</th>\n",
              "      <th>6043</th>\n",
              "      <th>6044</th>\n",
              "      <th>6045</th>\n",
              "      <th>6046</th>\n",
              "      <th>6047</th>\n",
              "      <th>6048</th>\n",
              "      <th>6049</th>\n",
              "      <th>6050</th>\n",
              "      <th>6051</th>\n",
              "      <th>6052</th>\n",
              "      <th>6053</th>\n",
              "      <th>6054</th>\n",
              "      <th>6055</th>\n",
              "      <th>6056</th>\n",
              "      <th>6057</th>\n",
              "      <th>6058</th>\n",
              "      <th>6059</th>\n",
              "      <th>6060</th>\n",
              "      <th>6061</th>\n",
              "      <th>6062</th>\n",
              "      <th>6063</th>\n",
              "      <th>6064</th>\n",
              "      <th>6065</th>\n",
              "      <th>6066</th>\n",
              "      <th>6067</th>\n",
              "      <th>6068</th>\n",
              "      <th>6069</th>\n",
              "      <th>6070</th>\n",
              "      <th>6071</th>\n",
              "      <th>6072</th>\n",
              "      <th>6073</th>\n",
              "      <th>6074</th>\n",
              "    </tr>\n",
              "  </thead>\n",
              "  <tbody>\n",
              "    <tr>\n",
              "      <th>5995</th>\n",
              "      <td>video7488</td>\n",
              "      <td>0.921</td>\n",
              "      <td>1.000</td>\n",
              "      <td>0.003779</td>\n",
              "      <td>0.001352</td>\n",
              "      <td>0.000077</td>\n",
              "      <td>0.0</td>\n",
              "      <td>0.000475</td>\n",
              "      <td>0.000074</td>\n",
              "      <td>0.0</td>\n",
              "      <td>0.000000</td>\n",
              "      <td>0.000020</td>\n",
              "      <td>0.0</td>\n",
              "      <td>0.0</td>\n",
              "      <td>0.0</td>\n",
              "      <td>0.0</td>\n",
              "      <td>0.000094</td>\n",
              "      <td>0.000035</td>\n",
              "      <td>0.0</td>\n",
              "      <td>0.000000</td>\n",
              "      <td>0.000009</td>\n",
              "      <td>0.0</td>\n",
              "      <td>0.0</td>\n",
              "      <td>0.0</td>\n",
              "      <td>0.0</td>\n",
              "      <td>0.0</td>\n",
              "      <td>0.0</td>\n",
              "      <td>0.0</td>\n",
              "      <td>0.0</td>\n",
              "      <td>0.000000</td>\n",
              "      <td>0.0</td>\n",
              "      <td>0.0</td>\n",
              "      <td>0.0</td>\n",
              "      <td>0.0</td>\n",
              "      <td>0.0</td>\n",
              "      <td>0.0</td>\n",
              "      <td>0.0</td>\n",
              "      <td>0.0</td>\n",
              "      <td>0.0</td>\n",
              "      <td>0.0</td>\n",
              "      <td>...</td>\n",
              "      <td>0.000464</td>\n",
              "      <td>0.000443</td>\n",
              "      <td>0.001429</td>\n",
              "      <td>0.000467</td>\n",
              "      <td>0.000199</td>\n",
              "      <td>0.000210</td>\n",
              "      <td>0.000004</td>\n",
              "      <td>0.000221</td>\n",
              "      <td>0.000589</td>\n",
              "      <td>0.000072</td>\n",
              "      <td>0.000269</td>\n",
              "      <td>0.000758</td>\n",
              "      <td>0.000237</td>\n",
              "      <td>0.000156</td>\n",
              "      <td>0.000123</td>\n",
              "      <td>0.000000</td>\n",
              "      <td>0.000081</td>\n",
              "      <td>0.000173</td>\n",
              "      <td>0.000011</td>\n",
              "      <td>0.000022</td>\n",
              "      <td>0.000074</td>\n",
              "      <td>0.000004</td>\n",
              "      <td>0.000088</td>\n",
              "      <td>0.000099</td>\n",
              "      <td>0.000004</td>\n",
              "      <td>0.000114</td>\n",
              "      <td>0.000368</td>\n",
              "      <td>0.000053</td>\n",
              "      <td>0.000042</td>\n",
              "      <td>0.000131</td>\n",
              "      <td>0.000057</td>\n",
              "      <td>0.000248</td>\n",
              "      <td>0.000081</td>\n",
              "      <td>0.000004</td>\n",
              "      <td>0.000147</td>\n",
              "      <td>0.000524</td>\n",
              "      <td>0.000059</td>\n",
              "      <td>0.000307</td>\n",
              "      <td>0.000684</td>\n",
              "      <td>0.000416</td>\n",
              "    </tr>\n",
              "    <tr>\n",
              "      <th>5996</th>\n",
              "      <td>video7489</td>\n",
              "      <td>0.909</td>\n",
              "      <td>0.839</td>\n",
              "      <td>0.001396</td>\n",
              "      <td>0.000417</td>\n",
              "      <td>0.000007</td>\n",
              "      <td>0.0</td>\n",
              "      <td>0.000145</td>\n",
              "      <td>0.000004</td>\n",
              "      <td>0.0</td>\n",
              "      <td>0.000000</td>\n",
              "      <td>0.000000</td>\n",
              "      <td>0.0</td>\n",
              "      <td>0.0</td>\n",
              "      <td>0.0</td>\n",
              "      <td>0.0</td>\n",
              "      <td>0.000020</td>\n",
              "      <td>0.000000</td>\n",
              "      <td>0.0</td>\n",
              "      <td>0.000000</td>\n",
              "      <td>0.000000</td>\n",
              "      <td>0.0</td>\n",
              "      <td>0.0</td>\n",
              "      <td>0.0</td>\n",
              "      <td>0.0</td>\n",
              "      <td>0.0</td>\n",
              "      <td>0.0</td>\n",
              "      <td>0.0</td>\n",
              "      <td>0.0</td>\n",
              "      <td>0.000000</td>\n",
              "      <td>0.0</td>\n",
              "      <td>0.0</td>\n",
              "      <td>0.0</td>\n",
              "      <td>0.0</td>\n",
              "      <td>0.0</td>\n",
              "      <td>0.0</td>\n",
              "      <td>0.0</td>\n",
              "      <td>0.0</td>\n",
              "      <td>0.0</td>\n",
              "      <td>0.0</td>\n",
              "      <td>...</td>\n",
              "      <td>0.000235</td>\n",
              "      <td>0.000261</td>\n",
              "      <td>0.001348</td>\n",
              "      <td>0.000180</td>\n",
              "      <td>0.000118</td>\n",
              "      <td>0.000140</td>\n",
              "      <td>0.000009</td>\n",
              "      <td>0.000204</td>\n",
              "      <td>0.000603</td>\n",
              "      <td>0.000053</td>\n",
              "      <td>0.000151</td>\n",
              "      <td>0.000758</td>\n",
              "      <td>0.000121</td>\n",
              "      <td>0.000064</td>\n",
              "      <td>0.000059</td>\n",
              "      <td>0.000004</td>\n",
              "      <td>0.000028</td>\n",
              "      <td>0.000077</td>\n",
              "      <td>0.000002</td>\n",
              "      <td>0.000009</td>\n",
              "      <td>0.000022</td>\n",
              "      <td>0.000000</td>\n",
              "      <td>0.000061</td>\n",
              "      <td>0.000077</td>\n",
              "      <td>0.000002</td>\n",
              "      <td>0.000081</td>\n",
              "      <td>0.000278</td>\n",
              "      <td>0.000018</td>\n",
              "      <td>0.000022</td>\n",
              "      <td>0.000092</td>\n",
              "      <td>0.000013</td>\n",
              "      <td>0.000079</td>\n",
              "      <td>0.000070</td>\n",
              "      <td>0.000000</td>\n",
              "      <td>0.000096</td>\n",
              "      <td>0.000364</td>\n",
              "      <td>0.000018</td>\n",
              "      <td>0.000105</td>\n",
              "      <td>0.000399</td>\n",
              "      <td>0.000072</td>\n",
              "    </tr>\n",
              "    <tr>\n",
              "      <th>5997</th>\n",
              "      <td>video7491</td>\n",
              "      <td>0.713</td>\n",
              "      <td>0.818</td>\n",
              "      <td>0.023139</td>\n",
              "      <td>0.007435</td>\n",
              "      <td>0.000322</td>\n",
              "      <td>0.0</td>\n",
              "      <td>0.004319</td>\n",
              "      <td>0.000366</td>\n",
              "      <td>0.0</td>\n",
              "      <td>0.000004</td>\n",
              "      <td>0.000099</td>\n",
              "      <td>0.0</td>\n",
              "      <td>0.0</td>\n",
              "      <td>0.0</td>\n",
              "      <td>0.0</td>\n",
              "      <td>0.001055</td>\n",
              "      <td>0.000132</td>\n",
              "      <td>0.0</td>\n",
              "      <td>0.000000</td>\n",
              "      <td>0.000024</td>\n",
              "      <td>0.0</td>\n",
              "      <td>0.0</td>\n",
              "      <td>0.0</td>\n",
              "      <td>0.0</td>\n",
              "      <td>0.0</td>\n",
              "      <td>0.0</td>\n",
              "      <td>0.0</td>\n",
              "      <td>0.0</td>\n",
              "      <td>0.000000</td>\n",
              "      <td>0.0</td>\n",
              "      <td>0.0</td>\n",
              "      <td>0.0</td>\n",
              "      <td>0.0</td>\n",
              "      <td>0.0</td>\n",
              "      <td>0.0</td>\n",
              "      <td>0.0</td>\n",
              "      <td>0.0</td>\n",
              "      <td>0.0</td>\n",
              "      <td>0.0</td>\n",
              "      <td>...</td>\n",
              "      <td>0.000253</td>\n",
              "      <td>0.001124</td>\n",
              "      <td>0.001166</td>\n",
              "      <td>0.000187</td>\n",
              "      <td>0.000220</td>\n",
              "      <td>0.000101</td>\n",
              "      <td>0.000000</td>\n",
              "      <td>0.000350</td>\n",
              "      <td>0.000355</td>\n",
              "      <td>0.000040</td>\n",
              "      <td>0.000461</td>\n",
              "      <td>0.000555</td>\n",
              "      <td>0.000082</td>\n",
              "      <td>0.000249</td>\n",
              "      <td>0.000075</td>\n",
              "      <td>0.000000</td>\n",
              "      <td>0.000236</td>\n",
              "      <td>0.000167</td>\n",
              "      <td>0.000018</td>\n",
              "      <td>0.000055</td>\n",
              "      <td>0.000059</td>\n",
              "      <td>0.000009</td>\n",
              "      <td>0.000097</td>\n",
              "      <td>0.000057</td>\n",
              "      <td>0.000002</td>\n",
              "      <td>0.000172</td>\n",
              "      <td>0.000260</td>\n",
              "      <td>0.000018</td>\n",
              "      <td>0.000082</td>\n",
              "      <td>0.000132</td>\n",
              "      <td>0.000024</td>\n",
              "      <td>0.000242</td>\n",
              "      <td>0.000073</td>\n",
              "      <td>0.000002</td>\n",
              "      <td>0.000320</td>\n",
              "      <td>0.000511</td>\n",
              "      <td>0.000044</td>\n",
              "      <td>0.000756</td>\n",
              "      <td>0.000738</td>\n",
              "      <td>0.000214</td>\n",
              "    </tr>\n",
              "    <tr>\n",
              "      <th>5998</th>\n",
              "      <td>video7492</td>\n",
              "      <td>0.954</td>\n",
              "      <td>1.000</td>\n",
              "      <td>0.014900</td>\n",
              "      <td>0.004607</td>\n",
              "      <td>0.000099</td>\n",
              "      <td>0.0</td>\n",
              "      <td>0.001559</td>\n",
              "      <td>0.000014</td>\n",
              "      <td>0.0</td>\n",
              "      <td>0.000000</td>\n",
              "      <td>0.000009</td>\n",
              "      <td>0.0</td>\n",
              "      <td>0.0</td>\n",
              "      <td>0.0</td>\n",
              "      <td>0.0</td>\n",
              "      <td>0.000264</td>\n",
              "      <td>0.000011</td>\n",
              "      <td>0.0</td>\n",
              "      <td>0.000002</td>\n",
              "      <td>0.000002</td>\n",
              "      <td>0.0</td>\n",
              "      <td>0.0</td>\n",
              "      <td>0.0</td>\n",
              "      <td>0.0</td>\n",
              "      <td>0.0</td>\n",
              "      <td>0.0</td>\n",
              "      <td>0.0</td>\n",
              "      <td>0.0</td>\n",
              "      <td>0.000000</td>\n",
              "      <td>0.0</td>\n",
              "      <td>0.0</td>\n",
              "      <td>0.0</td>\n",
              "      <td>0.0</td>\n",
              "      <td>0.0</td>\n",
              "      <td>0.0</td>\n",
              "      <td>0.0</td>\n",
              "      <td>0.0</td>\n",
              "      <td>0.0</td>\n",
              "      <td>0.0</td>\n",
              "      <td>...</td>\n",
              "      <td>0.000055</td>\n",
              "      <td>0.000126</td>\n",
              "      <td>0.000257</td>\n",
              "      <td>0.000039</td>\n",
              "      <td>0.000062</td>\n",
              "      <td>0.000018</td>\n",
              "      <td>0.000000</td>\n",
              "      <td>0.000090</td>\n",
              "      <td>0.000099</td>\n",
              "      <td>0.000000</td>\n",
              "      <td>0.000083</td>\n",
              "      <td>0.000119</td>\n",
              "      <td>0.000021</td>\n",
              "      <td>0.000025</td>\n",
              "      <td>0.000007</td>\n",
              "      <td>0.000000</td>\n",
              "      <td>0.000011</td>\n",
              "      <td>0.000007</td>\n",
              "      <td>0.000000</td>\n",
              "      <td>0.000002</td>\n",
              "      <td>0.000014</td>\n",
              "      <td>0.000000</td>\n",
              "      <td>0.000021</td>\n",
              "      <td>0.000002</td>\n",
              "      <td>0.000000</td>\n",
              "      <td>0.000039</td>\n",
              "      <td>0.000053</td>\n",
              "      <td>0.000002</td>\n",
              "      <td>0.000000</td>\n",
              "      <td>0.000014</td>\n",
              "      <td>0.000007</td>\n",
              "      <td>0.000039</td>\n",
              "      <td>0.000002</td>\n",
              "      <td>0.000000</td>\n",
              "      <td>0.000041</td>\n",
              "      <td>0.000034</td>\n",
              "      <td>0.000000</td>\n",
              "      <td>0.000064</td>\n",
              "      <td>0.000064</td>\n",
              "      <td>0.000011</td>\n",
              "    </tr>\n",
              "    <tr>\n",
              "      <th>5999</th>\n",
              "      <td>video7493</td>\n",
              "      <td>0.953</td>\n",
              "      <td>0.615</td>\n",
              "      <td>0.041592</td>\n",
              "      <td>0.013047</td>\n",
              "      <td>0.000448</td>\n",
              "      <td>0.0</td>\n",
              "      <td>0.010044</td>\n",
              "      <td>0.000567</td>\n",
              "      <td>0.0</td>\n",
              "      <td>0.000000</td>\n",
              "      <td>0.000119</td>\n",
              "      <td>0.0</td>\n",
              "      <td>0.0</td>\n",
              "      <td>0.0</td>\n",
              "      <td>0.0</td>\n",
              "      <td>0.001786</td>\n",
              "      <td>0.000176</td>\n",
              "      <td>0.0</td>\n",
              "      <td>0.000000</td>\n",
              "      <td>0.000046</td>\n",
              "      <td>0.0</td>\n",
              "      <td>0.0</td>\n",
              "      <td>0.0</td>\n",
              "      <td>0.0</td>\n",
              "      <td>0.0</td>\n",
              "      <td>0.0</td>\n",
              "      <td>0.0</td>\n",
              "      <td>0.0</td>\n",
              "      <td>0.000002</td>\n",
              "      <td>0.0</td>\n",
              "      <td>0.0</td>\n",
              "      <td>0.0</td>\n",
              "      <td>0.0</td>\n",
              "      <td>0.0</td>\n",
              "      <td>0.0</td>\n",
              "      <td>0.0</td>\n",
              "      <td>0.0</td>\n",
              "      <td>0.0</td>\n",
              "      <td>0.0</td>\n",
              "      <td>...</td>\n",
              "      <td>0.000198</td>\n",
              "      <td>0.000390</td>\n",
              "      <td>0.000979</td>\n",
              "      <td>0.000196</td>\n",
              "      <td>0.000174</td>\n",
              "      <td>0.000117</td>\n",
              "      <td>0.000002</td>\n",
              "      <td>0.000201</td>\n",
              "      <td>0.000523</td>\n",
              "      <td>0.000022</td>\n",
              "      <td>0.000194</td>\n",
              "      <td>0.000673</td>\n",
              "      <td>0.000088</td>\n",
              "      <td>0.000170</td>\n",
              "      <td>0.000101</td>\n",
              "      <td>0.000002</td>\n",
              "      <td>0.000093</td>\n",
              "      <td>0.000225</td>\n",
              "      <td>0.000007</td>\n",
              "      <td>0.000011</td>\n",
              "      <td>0.000031</td>\n",
              "      <td>0.000004</td>\n",
              "      <td>0.000097</td>\n",
              "      <td>0.000049</td>\n",
              "      <td>0.000002</td>\n",
              "      <td>0.000225</td>\n",
              "      <td>0.000523</td>\n",
              "      <td>0.000013</td>\n",
              "      <td>0.000051</td>\n",
              "      <td>0.000084</td>\n",
              "      <td>0.000031</td>\n",
              "      <td>0.000251</td>\n",
              "      <td>0.000157</td>\n",
              "      <td>0.000002</td>\n",
              "      <td>0.000302</td>\n",
              "      <td>0.001164</td>\n",
              "      <td>0.000037</td>\n",
              "      <td>0.000289</td>\n",
              "      <td>0.000988</td>\n",
              "      <td>0.000161</td>\n",
              "    </tr>\n",
              "  </tbody>\n",
              "</table>\n",
              "<p>5 rows × 6078 columns</p>\n",
              "</div>"
            ],
            "text/plain": [
              "          video  short-term_memorability  ...      6073      6074\n",
              "5995  video7488                    0.921  ...  0.000684  0.000416\n",
              "5996  video7489                    0.909  ...  0.000399  0.000072\n",
              "5997  video7491                    0.713  ...  0.000738  0.000214\n",
              "5998  video7492                    0.954  ...  0.000064  0.000011\n",
              "5999  video7493                    0.953  ...  0.000988  0.000161\n",
              "\n",
              "[5 rows x 6078 columns]"
            ]
          },
          "metadata": {
            "tags": []
          },
          "execution_count": 79
        }
      ]
    },
    {
      "cell_type": "markdown",
      "metadata": {
        "id": "5acSZJeJgGQX",
        "colab_type": "text"
      },
      "source": [
        "# TRAINING AND VALIDATION (HMP FEATURES)"
      ]
    },
    {
      "cell_type": "code",
      "metadata": {
        "id": "2b0VDzIZTkmf",
        "colab_type": "code",
        "colab": {}
      },
      "source": [
        "X = df.iloc[:,3:6078].values\n",
        "Y = df.iloc[:, 1:3].values"
      ],
      "execution_count": 0,
      "outputs": []
    },
    {
      "cell_type": "code",
      "metadata": {
        "id": "A6TfZ8MPgdMm",
        "colab_type": "code",
        "colab": {}
      },
      "source": [
        "from sklearn.model_selection import train_test_split\n",
        "X_train, X_test, Y_train, Y_test = train_test_split(X, Y, test_size = 0.20, random_state=40)"
      ],
      "execution_count": 0,
      "outputs": []
    },
    {
      "cell_type": "code",
      "metadata": {
        "id": "lclm7RKS7tmf",
        "colab_type": "code",
        "outputId": "28218bb7-5df7-4f37-f18e-69d1da63572e",
        "colab": {
          "base_uri": "https://localhost:8080/",
          "height": 52
        }
      },
      "source": [
        "LinearRegression(X_train,Y_train,Y_test,X_test)"
      ],
      "execution_count": 0,
      "outputs": [
        {
          "output_type": "stream",
          "text": [
            "The Spearman's correlation coefficient is: 0.071\n",
            "The Spearman's correlation coefficient is: 0.004\n"
          ],
          "name": "stdout"
        }
      ]
    },
    {
      "cell_type": "code",
      "metadata": {
        "id": "7oaaRzEm4qes",
        "colab_type": "code",
        "outputId": "62a609de-330b-4a7b-db08-7ee654f2b19e",
        "colab": {
          "base_uri": "https://localhost:8080/",
          "height": 52
        }
      },
      "source": [
        "RidgeRegression(X_train,Y_train,Y_test,X_test)"
      ],
      "execution_count": 0,
      "outputs": [
        {
          "output_type": "stream",
          "text": [
            "The Spearman's correlation coefficient is: 0.246\n",
            "The Spearman's correlation coefficient is: 0.137\n"
          ],
          "name": "stdout"
        }
      ]
    },
    {
      "cell_type": "code",
      "metadata": {
        "id": "9smzH3FuUOjh",
        "colab_type": "code",
        "outputId": "79df9950-c22b-4b37-afce-090bcd16ea07",
        "colab": {
          "base_uri": "https://localhost:8080/",
          "height": 52
        }
      },
      "source": [
        "DecisionTree(X_train,Y_train,Y_test,X_test)"
      ],
      "execution_count": 0,
      "outputs": [
        {
          "output_type": "stream",
          "text": [
            "The Spearman's correlation coefficient is: 0.082\n",
            "The Spearman's correlation coefficient is: 0.020\n"
          ],
          "name": "stdout"
        }
      ]
    },
    {
      "cell_type": "code",
      "metadata": {
        "id": "1ggnVA7v0zaN",
        "colab_type": "code",
        "outputId": "64aa0567-c667-4063-eb8f-50e15a1e62e0",
        "colab": {
          "base_uri": "https://localhost:8080/",
          "height": 52
        }
      },
      "source": [
        "RandomForest(X_train,Y_train,Y_test,X_test)"
      ],
      "execution_count": 0,
      "outputs": [
        {
          "output_type": "stream",
          "text": [
            "The Spearman's correlation coefficient is: 0.291\n",
            "The Spearman's correlation coefficient is: 0.142\n"
          ],
          "name": "stdout"
        }
      ]
    },
    {
      "cell_type": "code",
      "metadata": {
        "id": "AzWBED7Jf7UU",
        "colab_type": "code",
        "colab": {}
      },
      "source": [
        "X = df.iloc[:,3:6078].values\n",
        "Y1 = df.iloc[:, 1:2].values\n",
        "Y2 = df.iloc[:, 2:3].values"
      ],
      "execution_count": 0,
      "outputs": []
    },
    {
      "cell_type": "code",
      "metadata": {
        "id": "7_QAqMPyf8HH",
        "colab_type": "code",
        "colab": {}
      },
      "source": [
        "from sklearn.model_selection import train_test_split\n",
        "X_train, X_test, Y1_train, Y1_test, Y2_train, Y2_test = train_test_split(X, Y1, Y2, test_size = 0.20, random_state=40)"
      ],
      "execution_count": 0,
      "outputs": []
    },
    {
      "cell_type": "code",
      "metadata": {
        "id": "k_WvNl9vf8xC",
        "colab_type": "code",
        "outputId": "7acabfe7-5fb9-41a3-82dc-ab89af5b3efe",
        "colab": {
          "base_uri": "https://localhost:8080/",
          "height": 87
        }
      },
      "source": [
        "xgboost(X_train, X_test, Y1_train, Y1_test, Y2_train, Y2_test)"
      ],
      "execution_count": 0,
      "outputs": [
        {
          "output_type": "stream",
          "text": [
            "[01:05:37] WARNING: /workspace/src/objective/regression_obj.cu:152: reg:linear is now deprecated in favor of reg:squarederror.\n",
            "[01:06:26] WARNING: /workspace/src/objective/regression_obj.cu:152: reg:linear is now deprecated in favor of reg:squarederror.\n",
            "The Spearman's correlation coefficient is: 0.303\n",
            "The Spearman's correlation coefficient is: 0.112\n"
          ],
          "name": "stdout"
        }
      ]
    },
    {
      "cell_type": "code",
      "metadata": {
        "id": "IWbhPAsrZJBT",
        "colab_type": "code",
        "outputId": "49099eec-f9bb-4262-b472-9ef4c2988be7",
        "colab": {
          "base_uri": "https://localhost:8080/",
          "height": 142
        }
      },
      "source": [
        "SVR(X_train, X_test, Y1_train, Y1_test, Y2_train, Y2_test)"
      ],
      "execution_count": 0,
      "outputs": [
        {
          "output_type": "stream",
          "text": [
            "/usr/local/lib/python3.6/dist-packages/sklearn/utils/validation.py:760: DataConversionWarning: A column-vector y was passed when a 1d array was expected. Please change the shape of y to (n_samples, ), for example using ravel().\n",
            "  y = column_or_1d(y, warn=True)\n",
            "/usr/local/lib/python3.6/dist-packages/sklearn/utils/validation.py:760: DataConversionWarning: A column-vector y was passed when a 1d array was expected. Please change the shape of y to (n_samples, ), for example using ravel().\n",
            "  y = column_or_1d(y, warn=True)\n"
          ],
          "name": "stderr"
        },
        {
          "output_type": "stream",
          "text": [
            "The Spearman's correlation coefficient is: 0.279\n",
            "The Spearman's correlation coefficient is: 0.093\n"
          ],
          "name": "stdout"
        }
      ]
    },
    {
      "cell_type": "code",
      "metadata": {
        "id": "47La8OKABMFv",
        "colab_type": "code",
        "outputId": "18ae947b-3bcb-4216-8968-cd93118363fb",
        "colab": {
          "base_uri": "https://localhost:8080/",
          "height": 142
        }
      },
      "source": [
        "Bayesian(X_train, X_test, Y1_train, Y1_test, Y2_train, Y2_test)"
      ],
      "execution_count": 0,
      "outputs": [
        {
          "output_type": "stream",
          "text": [
            "/usr/local/lib/python3.6/dist-packages/sklearn/utils/validation.py:760: DataConversionWarning: A column-vector y was passed when a 1d array was expected. Please change the shape of y to (n_samples, ), for example using ravel().\n",
            "  y = column_or_1d(y, warn=True)\n",
            "/usr/local/lib/python3.6/dist-packages/sklearn/utils/validation.py:760: DataConversionWarning: A column-vector y was passed when a 1d array was expected. Please change the shape of y to (n_samples, ), for example using ravel().\n",
            "  y = column_or_1d(y, warn=True)\n"
          ],
          "name": "stderr"
        },
        {
          "output_type": "stream",
          "text": [
            "The Spearman's correlation coefficient is: 0.261\n",
            "The Spearman's correlation coefficient is: 0.116\n"
          ],
          "name": "stdout"
        }
      ]
    },
    {
      "cell_type": "markdown",
      "metadata": {
        "id": "E5o8due6claf",
        "colab_type": "text"
      },
      "source": [
        "#CONCLUSION: XGBOOST outperformed all other model, Using only HMP video features."
      ]
    },
    {
      "cell_type": "markdown",
      "metadata": {
        "id": "ijH2VoP34Ziv",
        "colab_type": "text"
      },
      "source": [
        "# 1.] VIDEO FEATURE: MERGE C3D FEATURE AND GROUND TRUTH "
      ]
    },
    {
      "cell_type": "code",
      "metadata": {
        "id": "VVGcn0_92RKz",
        "colab_type": "code",
        "colab": {}
      },
      "source": [
        "df = pd.merge(ground_truth, C3D_featu, on='video')"
      ],
      "execution_count": 0,
      "outputs": []
    },
    {
      "cell_type": "code",
      "metadata": {
        "id": "Wf0zndjX2ncJ",
        "colab_type": "code",
        "outputId": "a3cfcac0-19a7-404b-ebd2-8c21d8ee32c2",
        "colab": {
          "base_uri": "https://localhost:8080/",
          "height": 345
        }
      },
      "source": [
        "df.head()"
      ],
      "execution_count": 0,
      "outputs": [
        {
          "output_type": "execute_result",
          "data": {
            "text/html": [
              "<div>\n",
              "<style scoped>\n",
              "    .dataframe tbody tr th:only-of-type {\n",
              "        vertical-align: middle;\n",
              "    }\n",
              "\n",
              "    .dataframe tbody tr th {\n",
              "        vertical-align: top;\n",
              "    }\n",
              "\n",
              "    .dataframe thead th {\n",
              "        text-align: right;\n",
              "    }\n",
              "</style>\n",
              "<table border=\"1\" class=\"dataframe\">\n",
              "  <thead>\n",
              "    <tr style=\"text-align: right;\">\n",
              "      <th></th>\n",
              "      <th>video</th>\n",
              "      <th>short-term_memorability</th>\n",
              "      <th>long-term_memorability</th>\n",
              "      <th>0</th>\n",
              "      <th>1</th>\n",
              "      <th>2</th>\n",
              "      <th>3</th>\n",
              "      <th>4</th>\n",
              "      <th>5</th>\n",
              "      <th>6</th>\n",
              "      <th>7</th>\n",
              "      <th>8</th>\n",
              "      <th>9</th>\n",
              "      <th>10</th>\n",
              "      <th>11</th>\n",
              "      <th>12</th>\n",
              "      <th>13</th>\n",
              "      <th>14</th>\n",
              "      <th>15</th>\n",
              "      <th>16</th>\n",
              "      <th>17</th>\n",
              "      <th>18</th>\n",
              "      <th>19</th>\n",
              "      <th>20</th>\n",
              "      <th>21</th>\n",
              "      <th>22</th>\n",
              "      <th>23</th>\n",
              "      <th>24</th>\n",
              "      <th>25</th>\n",
              "      <th>26</th>\n",
              "      <th>27</th>\n",
              "      <th>28</th>\n",
              "      <th>29</th>\n",
              "      <th>30</th>\n",
              "      <th>31</th>\n",
              "      <th>32</th>\n",
              "      <th>33</th>\n",
              "      <th>34</th>\n",
              "      <th>35</th>\n",
              "      <th>36</th>\n",
              "      <th>...</th>\n",
              "      <th>61</th>\n",
              "      <th>62</th>\n",
              "      <th>63</th>\n",
              "      <th>64</th>\n",
              "      <th>65</th>\n",
              "      <th>66</th>\n",
              "      <th>67</th>\n",
              "      <th>68</th>\n",
              "      <th>69</th>\n",
              "      <th>70</th>\n",
              "      <th>71</th>\n",
              "      <th>72</th>\n",
              "      <th>73</th>\n",
              "      <th>74</th>\n",
              "      <th>75</th>\n",
              "      <th>76</th>\n",
              "      <th>77</th>\n",
              "      <th>78</th>\n",
              "      <th>79</th>\n",
              "      <th>80</th>\n",
              "      <th>81</th>\n",
              "      <th>82</th>\n",
              "      <th>83</th>\n",
              "      <th>84</th>\n",
              "      <th>85</th>\n",
              "      <th>86</th>\n",
              "      <th>87</th>\n",
              "      <th>88</th>\n",
              "      <th>89</th>\n",
              "      <th>90</th>\n",
              "      <th>91</th>\n",
              "      <th>92</th>\n",
              "      <th>93</th>\n",
              "      <th>94</th>\n",
              "      <th>95</th>\n",
              "      <th>96</th>\n",
              "      <th>97</th>\n",
              "      <th>98</th>\n",
              "      <th>99</th>\n",
              "      <th>100</th>\n",
              "    </tr>\n",
              "  </thead>\n",
              "  <tbody>\n",
              "    <tr>\n",
              "      <th>0</th>\n",
              "      <td>video3</td>\n",
              "      <td>0.924</td>\n",
              "      <td>0.846</td>\n",
              "      <td>0.020249</td>\n",
              "      <td>0.001578</td>\n",
              "      <td>0.000826</td>\n",
              "      <td>0.000945</td>\n",
              "      <td>0.000063</td>\n",
              "      <td>0.000003</td>\n",
              "      <td>0.001162</td>\n",
              "      <td>0.000097</td>\n",
              "      <td>0.000022</td>\n",
              "      <td>0.000010</td>\n",
              "      <td>0.000337</td>\n",
              "      <td>0.000636</td>\n",
              "      <td>1.111700e-04</td>\n",
              "      <td>0.001008</td>\n",
              "      <td>0.000004</td>\n",
              "      <td>0.000631</td>\n",
              "      <td>3.905000e-05</td>\n",
              "      <td>0.000041</td>\n",
              "      <td>0.000091</td>\n",
              "      <td>0.000303</td>\n",
              "      <td>1.541000e-05</td>\n",
              "      <td>0.000032</td>\n",
              "      <td>5.221000e-05</td>\n",
              "      <td>0.000062</td>\n",
              "      <td>0.017465</td>\n",
              "      <td>0.000666</td>\n",
              "      <td>0.000065</td>\n",
              "      <td>0.000054</td>\n",
              "      <td>0.000273</td>\n",
              "      <td>0.001386</td>\n",
              "      <td>0.000003</td>\n",
              "      <td>0.001356</td>\n",
              "      <td>0.000517</td>\n",
              "      <td>2.426120e-03</td>\n",
              "      <td>0.002719</td>\n",
              "      <td>2.770000e-06</td>\n",
              "      <td>0.001557</td>\n",
              "      <td>...</td>\n",
              "      <td>0.096647</td>\n",
              "      <td>0.004458</td>\n",
              "      <td>0.011840</td>\n",
              "      <td>0.000287</td>\n",
              "      <td>0.002195</td>\n",
              "      <td>0.002792</td>\n",
              "      <td>0.000018</td>\n",
              "      <td>0.003365</td>\n",
              "      <td>0.000061</td>\n",
              "      <td>0.000573</td>\n",
              "      <td>0.000273</td>\n",
              "      <td>0.000034</td>\n",
              "      <td>0.006737</td>\n",
              "      <td>0.000021</td>\n",
              "      <td>0.000098</td>\n",
              "      <td>2.502000e-05</td>\n",
              "      <td>0.005768</td>\n",
              "      <td>2.990000e-06</td>\n",
              "      <td>0.000085</td>\n",
              "      <td>0.000607</td>\n",
              "      <td>0.000461</td>\n",
              "      <td>0.001189</td>\n",
              "      <td>0.000270</td>\n",
              "      <td>0.000127</td>\n",
              "      <td>0.000106</td>\n",
              "      <td>0.000154</td>\n",
              "      <td>0.000567</td>\n",
              "      <td>0.000020</td>\n",
              "      <td>0.000894</td>\n",
              "      <td>0.001079</td>\n",
              "      <td>0.001042</td>\n",
              "      <td>0.000161</td>\n",
              "      <td>0.000257</td>\n",
              "      <td>0.046617</td>\n",
              "      <td>0.000156</td>\n",
              "      <td>0.000006</td>\n",
              "      <td>0.000537</td>\n",
              "      <td>0.000339</td>\n",
              "      <td>0.008437</td>\n",
              "      <td>0.000470</td>\n",
              "    </tr>\n",
              "    <tr>\n",
              "      <th>1</th>\n",
              "      <td>video4</td>\n",
              "      <td>0.923</td>\n",
              "      <td>0.667</td>\n",
              "      <td>0.000118</td>\n",
              "      <td>0.000891</td>\n",
              "      <td>0.000188</td>\n",
              "      <td>0.000045</td>\n",
              "      <td>0.000063</td>\n",
              "      <td>0.000002</td>\n",
              "      <td>0.000641</td>\n",
              "      <td>0.000011</td>\n",
              "      <td>0.000017</td>\n",
              "      <td>0.000014</td>\n",
              "      <td>0.000336</td>\n",
              "      <td>0.004081</td>\n",
              "      <td>5.900000e-07</td>\n",
              "      <td>0.000411</td>\n",
              "      <td>0.000003</td>\n",
              "      <td>0.000243</td>\n",
              "      <td>6.600000e-07</td>\n",
              "      <td>0.000002</td>\n",
              "      <td>0.000535</td>\n",
              "      <td>0.000278</td>\n",
              "      <td>4.804000e-05</td>\n",
              "      <td>0.001153</td>\n",
              "      <td>2.792000e-05</td>\n",
              "      <td>0.000040</td>\n",
              "      <td>0.022276</td>\n",
              "      <td>0.004529</td>\n",
              "      <td>0.000020</td>\n",
              "      <td>0.000029</td>\n",
              "      <td>0.000045</td>\n",
              "      <td>0.060436</td>\n",
              "      <td>0.000039</td>\n",
              "      <td>0.027208</td>\n",
              "      <td>0.000074</td>\n",
              "      <td>2.719000e-05</td>\n",
              "      <td>0.000623</td>\n",
              "      <td>2.609600e-04</td>\n",
              "      <td>0.000183</td>\n",
              "      <td>...</td>\n",
              "      <td>0.000372</td>\n",
              "      <td>0.000154</td>\n",
              "      <td>0.000148</td>\n",
              "      <td>0.000086</td>\n",
              "      <td>0.000267</td>\n",
              "      <td>0.000014</td>\n",
              "      <td>0.001430</td>\n",
              "      <td>0.004417</td>\n",
              "      <td>0.000064</td>\n",
              "      <td>0.000105</td>\n",
              "      <td>0.003129</td>\n",
              "      <td>0.000055</td>\n",
              "      <td>0.000061</td>\n",
              "      <td>0.000025</td>\n",
              "      <td>0.004283</td>\n",
              "      <td>1.032000e-05</td>\n",
              "      <td>0.000062</td>\n",
              "      <td>2.903000e-05</td>\n",
              "      <td>0.000374</td>\n",
              "      <td>0.000139</td>\n",
              "      <td>0.741702</td>\n",
              "      <td>0.007178</td>\n",
              "      <td>0.000346</td>\n",
              "      <td>0.000104</td>\n",
              "      <td>0.000181</td>\n",
              "      <td>0.000052</td>\n",
              "      <td>0.004839</td>\n",
              "      <td>0.000078</td>\n",
              "      <td>0.042325</td>\n",
              "      <td>0.000623</td>\n",
              "      <td>0.000582</td>\n",
              "      <td>0.000393</td>\n",
              "      <td>0.000864</td>\n",
              "      <td>0.000947</td>\n",
              "      <td>0.000136</td>\n",
              "      <td>0.000007</td>\n",
              "      <td>0.000360</td>\n",
              "      <td>0.000159</td>\n",
              "      <td>0.001025</td>\n",
              "      <td>0.000020</td>\n",
              "    </tr>\n",
              "    <tr>\n",
              "      <th>2</th>\n",
              "      <td>video6</td>\n",
              "      <td>0.863</td>\n",
              "      <td>0.700</td>\n",
              "      <td>0.011765</td>\n",
              "      <td>0.000746</td>\n",
              "      <td>0.000784</td>\n",
              "      <td>0.000013</td>\n",
              "      <td>0.000007</td>\n",
              "      <td>0.000028</td>\n",
              "      <td>0.000041</td>\n",
              "      <td>0.000014</td>\n",
              "      <td>0.000041</td>\n",
              "      <td>0.000083</td>\n",
              "      <td>0.000048</td>\n",
              "      <td>0.000080</td>\n",
              "      <td>1.066610e-03</td>\n",
              "      <td>0.000958</td>\n",
              "      <td>0.000011</td>\n",
              "      <td>0.000070</td>\n",
              "      <td>2.992000e-05</td>\n",
              "      <td>0.000038</td>\n",
              "      <td>0.000031</td>\n",
              "      <td>0.000008</td>\n",
              "      <td>9.700000e-07</td>\n",
              "      <td>0.002905</td>\n",
              "      <td>1.849000e-05</td>\n",
              "      <td>0.000013</td>\n",
              "      <td>0.000192</td>\n",
              "      <td>0.000050</td>\n",
              "      <td>0.000532</td>\n",
              "      <td>0.000027</td>\n",
              "      <td>0.000051</td>\n",
              "      <td>0.000010</td>\n",
              "      <td>0.000005</td>\n",
              "      <td>0.000029</td>\n",
              "      <td>0.000033</td>\n",
              "      <td>3.260172e-02</td>\n",
              "      <td>0.000034</td>\n",
              "      <td>7.100000e-07</td>\n",
              "      <td>0.000006</td>\n",
              "      <td>...</td>\n",
              "      <td>0.876291</td>\n",
              "      <td>0.005509</td>\n",
              "      <td>0.008852</td>\n",
              "      <td>0.000399</td>\n",
              "      <td>0.000069</td>\n",
              "      <td>0.013166</td>\n",
              "      <td>0.000015</td>\n",
              "      <td>0.000044</td>\n",
              "      <td>0.000520</td>\n",
              "      <td>0.000046</td>\n",
              "      <td>0.000007</td>\n",
              "      <td>0.000024</td>\n",
              "      <td>0.010491</td>\n",
              "      <td>0.000475</td>\n",
              "      <td>0.000023</td>\n",
              "      <td>5.590000e-06</td>\n",
              "      <td>0.005554</td>\n",
              "      <td>2.500000e-07</td>\n",
              "      <td>0.000057</td>\n",
              "      <td>0.000328</td>\n",
              "      <td>0.000149</td>\n",
              "      <td>0.001844</td>\n",
              "      <td>0.000008</td>\n",
              "      <td>0.000103</td>\n",
              "      <td>0.000030</td>\n",
              "      <td>0.000005</td>\n",
              "      <td>0.000179</td>\n",
              "      <td>0.000001</td>\n",
              "      <td>0.000006</td>\n",
              "      <td>0.000215</td>\n",
              "      <td>0.000224</td>\n",
              "      <td>0.000003</td>\n",
              "      <td>0.000031</td>\n",
              "      <td>0.002538</td>\n",
              "      <td>0.000104</td>\n",
              "      <td>0.000005</td>\n",
              "      <td>0.000064</td>\n",
              "      <td>0.005380</td>\n",
              "      <td>0.001027</td>\n",
              "      <td>0.001384</td>\n",
              "    </tr>\n",
              "    <tr>\n",
              "      <th>3</th>\n",
              "      <td>video8</td>\n",
              "      <td>0.922</td>\n",
              "      <td>0.818</td>\n",
              "      <td>0.000223</td>\n",
              "      <td>0.000165</td>\n",
              "      <td>0.000007</td>\n",
              "      <td>0.000016</td>\n",
              "      <td>0.000005</td>\n",
              "      <td>0.000014</td>\n",
              "      <td>0.000154</td>\n",
              "      <td>0.000008</td>\n",
              "      <td>0.000004</td>\n",
              "      <td>0.000009</td>\n",
              "      <td>0.001057</td>\n",
              "      <td>0.000126</td>\n",
              "      <td>3.404000e-05</td>\n",
              "      <td>0.000004</td>\n",
              "      <td>0.000006</td>\n",
              "      <td>0.000012</td>\n",
              "      <td>1.940000e-06</td>\n",
              "      <td>0.000003</td>\n",
              "      <td>0.001759</td>\n",
              "      <td>0.000005</td>\n",
              "      <td>8.330000e-06</td>\n",
              "      <td>0.000027</td>\n",
              "      <td>3.200000e-07</td>\n",
              "      <td>0.000010</td>\n",
              "      <td>0.000137</td>\n",
              "      <td>0.000006</td>\n",
              "      <td>0.000005</td>\n",
              "      <td>0.000008</td>\n",
              "      <td>0.000008</td>\n",
              "      <td>0.000611</td>\n",
              "      <td>0.000166</td>\n",
              "      <td>0.583214</td>\n",
              "      <td>0.000004</td>\n",
              "      <td>2.100000e-07</td>\n",
              "      <td>0.000002</td>\n",
              "      <td>2.136000e-05</td>\n",
              "      <td>0.000003</td>\n",
              "      <td>...</td>\n",
              "      <td>0.000009</td>\n",
              "      <td>0.000007</td>\n",
              "      <td>0.000005</td>\n",
              "      <td>0.000539</td>\n",
              "      <td>0.000035</td>\n",
              "      <td>0.000391</td>\n",
              "      <td>0.000021</td>\n",
              "      <td>0.000043</td>\n",
              "      <td>0.000010</td>\n",
              "      <td>0.000028</td>\n",
              "      <td>0.012471</td>\n",
              "      <td>0.006671</td>\n",
              "      <td>0.001187</td>\n",
              "      <td>0.000002</td>\n",
              "      <td>0.119488</td>\n",
              "      <td>5.600000e-07</td>\n",
              "      <td>0.000004</td>\n",
              "      <td>4.250000e-06</td>\n",
              "      <td>0.000040</td>\n",
              "      <td>0.000148</td>\n",
              "      <td>0.103989</td>\n",
              "      <td>0.058989</td>\n",
              "      <td>0.000002</td>\n",
              "      <td>0.000069</td>\n",
              "      <td>0.000004</td>\n",
              "      <td>0.000130</td>\n",
              "      <td>0.001182</td>\n",
              "      <td>0.000003</td>\n",
              "      <td>0.000006</td>\n",
              "      <td>0.000044</td>\n",
              "      <td>0.000046</td>\n",
              "      <td>0.000009</td>\n",
              "      <td>0.000023</td>\n",
              "      <td>0.000053</td>\n",
              "      <td>0.000048</td>\n",
              "      <td>0.000019</td>\n",
              "      <td>0.000001</td>\n",
              "      <td>0.000004</td>\n",
              "      <td>0.000380</td>\n",
              "      <td>0.000029</td>\n",
              "    </tr>\n",
              "    <tr>\n",
              "      <th>4</th>\n",
              "      <td>video10</td>\n",
              "      <td>0.950</td>\n",
              "      <td>0.900</td>\n",
              "      <td>0.000090</td>\n",
              "      <td>0.000615</td>\n",
              "      <td>0.003436</td>\n",
              "      <td>0.001281</td>\n",
              "      <td>0.003551</td>\n",
              "      <td>0.000313</td>\n",
              "      <td>0.000042</td>\n",
              "      <td>0.000018</td>\n",
              "      <td>0.000157</td>\n",
              "      <td>0.000117</td>\n",
              "      <td>0.000256</td>\n",
              "      <td>0.000116</td>\n",
              "      <td>3.234800e-04</td>\n",
              "      <td>0.009888</td>\n",
              "      <td>0.000001</td>\n",
              "      <td>0.000576</td>\n",
              "      <td>3.004000e-05</td>\n",
              "      <td>0.000008</td>\n",
              "      <td>0.002029</td>\n",
              "      <td>0.000016</td>\n",
              "      <td>7.690000e-06</td>\n",
              "      <td>0.007324</td>\n",
              "      <td>2.863000e-05</td>\n",
              "      <td>0.000015</td>\n",
              "      <td>0.035220</td>\n",
              "      <td>0.000153</td>\n",
              "      <td>0.001053</td>\n",
              "      <td>0.000031</td>\n",
              "      <td>0.000026</td>\n",
              "      <td>0.001376</td>\n",
              "      <td>0.000215</td>\n",
              "      <td>0.001759</td>\n",
              "      <td>0.000013</td>\n",
              "      <td>1.698540e-03</td>\n",
              "      <td>0.000248</td>\n",
              "      <td>1.754577e-02</td>\n",
              "      <td>0.000260</td>\n",
              "      <td>...</td>\n",
              "      <td>0.000236</td>\n",
              "      <td>0.000046</td>\n",
              "      <td>0.000027</td>\n",
              "      <td>0.000203</td>\n",
              "      <td>0.010644</td>\n",
              "      <td>0.000252</td>\n",
              "      <td>0.000349</td>\n",
              "      <td>0.001776</td>\n",
              "      <td>0.000006</td>\n",
              "      <td>0.001443</td>\n",
              "      <td>0.000146</td>\n",
              "      <td>0.019003</td>\n",
              "      <td>0.000584</td>\n",
              "      <td>0.000027</td>\n",
              "      <td>0.000692</td>\n",
              "      <td>5.650000e-06</td>\n",
              "      <td>0.000403</td>\n",
              "      <td>2.894700e-04</td>\n",
              "      <td>0.000197</td>\n",
              "      <td>0.001254</td>\n",
              "      <td>0.005257</td>\n",
              "      <td>0.045808</td>\n",
              "      <td>0.000008</td>\n",
              "      <td>0.000296</td>\n",
              "      <td>0.003893</td>\n",
              "      <td>0.000318</td>\n",
              "      <td>0.000048</td>\n",
              "      <td>0.000018</td>\n",
              "      <td>0.000263</td>\n",
              "      <td>0.000026</td>\n",
              "      <td>0.000037</td>\n",
              "      <td>0.000690</td>\n",
              "      <td>0.000171</td>\n",
              "      <td>0.000231</td>\n",
              "      <td>0.000637</td>\n",
              "      <td>0.000040</td>\n",
              "      <td>0.000061</td>\n",
              "      <td>0.000075</td>\n",
              "      <td>0.000002</td>\n",
              "      <td>0.001323</td>\n",
              "    </tr>\n",
              "  </tbody>\n",
              "</table>\n",
              "<p>5 rows × 104 columns</p>\n",
              "</div>"
            ],
            "text/plain": [
              "     video  short-term_memorability  ...        99       100\n",
              "0   video3                    0.924  ...  0.008437  0.000470\n",
              "1   video4                    0.923  ...  0.001025  0.000020\n",
              "2   video6                    0.863  ...  0.001027  0.001384\n",
              "3   video8                    0.922  ...  0.000380  0.000029\n",
              "4  video10                    0.950  ...  0.000002  0.001323\n",
              "\n",
              "[5 rows x 104 columns]"
            ]
          },
          "metadata": {
            "tags": []
          },
          "execution_count": 164
        }
      ]
    },
    {
      "cell_type": "code",
      "metadata": {
        "id": "dTz7lE-M4f8n",
        "colab_type": "code",
        "outputId": "04f4daba-87aa-4cf2-8b2b-7bb08862421f",
        "colab": {
          "base_uri": "https://localhost:8080/",
          "height": 34
        }
      },
      "source": [
        "df.shape"
      ],
      "execution_count": 0,
      "outputs": [
        {
          "output_type": "execute_result",
          "data": {
            "text/plain": [
              "(6000, 104)"
            ]
          },
          "metadata": {
            "tags": []
          },
          "execution_count": 87
        }
      ]
    },
    {
      "cell_type": "markdown",
      "metadata": {
        "id": "aMvdeZ9kdNVP",
        "colab_type": "text"
      },
      "source": [
        "# TRAINING AND VALIDATION (C3D FEATURES)"
      ]
    },
    {
      "cell_type": "code",
      "metadata": {
        "id": "4bx3P_Qg4iJK",
        "colab_type": "code",
        "colab": {}
      },
      "source": [
        "X = df.iloc[:,3:104].values\n",
        "Y = df.iloc[:, 1:3].values"
      ],
      "execution_count": 0,
      "outputs": []
    },
    {
      "cell_type": "code",
      "metadata": {
        "id": "1HayyM1KLqM-",
        "colab_type": "code",
        "colab": {}
      },
      "source": [
        "from sklearn.model_selection import train_test_split\n",
        "X_train, X_test, Y_train, Y_test = train_test_split(X, Y, test_size = 0.20, random_state=40)"
      ],
      "execution_count": 0,
      "outputs": []
    },
    {
      "cell_type": "code",
      "metadata": {
        "id": "KplIA-jm8aKW",
        "colab_type": "code",
        "outputId": "e92620db-9b54-44de-c40c-14b20552f6b9",
        "colab": {
          "base_uri": "https://localhost:8080/",
          "height": 52
        }
      },
      "source": [
        "LinearRegression(X_train,Y_train,Y_test,X_test)"
      ],
      "execution_count": 0,
      "outputs": [
        {
          "output_type": "stream",
          "text": [
            "The Spearman's correlation coefficient is: 0.290\n",
            "The Spearman's correlation coefficient is: 0.139\n"
          ],
          "name": "stdout"
        }
      ]
    },
    {
      "cell_type": "code",
      "metadata": {
        "id": "GWAjAsH9IiYZ",
        "colab_type": "code",
        "outputId": "86382dc0-3380-47e6-e6b4-1581e74a9cce",
        "colab": {
          "base_uri": "https://localhost:8080/",
          "height": 52
        }
      },
      "source": [
        "DecisionTree(X_train,Y_train,Y_test,X_test)"
      ],
      "execution_count": 0,
      "outputs": [
        {
          "output_type": "stream",
          "text": [
            "The Spearman's correlation coefficient is: 0.093\n",
            "The Spearman's correlation coefficient is: 0.057\n"
          ],
          "name": "stdout"
        }
      ]
    },
    {
      "cell_type": "code",
      "metadata": {
        "id": "yzNLph_sIli7",
        "colab_type": "code",
        "outputId": "db28b5d9-2bdb-4f14-94d7-34285ab1584c",
        "colab": {
          "base_uri": "https://localhost:8080/",
          "height": 52
        }
      },
      "source": [
        "RandomForest(X_train,Y_train,Y_test,X_test)"
      ],
      "execution_count": 0,
      "outputs": [
        {
          "output_type": "stream",
          "text": [
            "The Spearman's correlation coefficient is: 0.331\n",
            "The Spearman's correlation coefficient is: 0.129\n"
          ],
          "name": "stdout"
        }
      ]
    },
    {
      "cell_type": "code",
      "metadata": {
        "id": "dMJl3G1l9JEK",
        "colab_type": "code",
        "outputId": "8765eb51-c212-4697-f2be-0a3cba7cdd7a",
        "colab": {
          "base_uri": "https://localhost:8080/",
          "height": 52
        }
      },
      "source": [
        "RidgeRegression(X_train,Y_train,Y_test,X_test)"
      ],
      "execution_count": 0,
      "outputs": [
        {
          "output_type": "stream",
          "text": [
            "The Spearman's correlation coefficient is: 0.296\n",
            "The Spearman's correlation coefficient is: 0.142\n"
          ],
          "name": "stdout"
        }
      ]
    },
    {
      "cell_type": "code",
      "metadata": {
        "id": "TQeEOsvzj3io",
        "colab_type": "code",
        "colab": {}
      },
      "source": [
        "X = df.iloc[:,3:104].values\n",
        "Y1 = df.iloc[:, 1:2].values\n",
        "Y2 = df.iloc[:, 2:3].values"
      ],
      "execution_count": 0,
      "outputs": []
    },
    {
      "cell_type": "code",
      "metadata": {
        "id": "8asUyX-5zdAX",
        "colab_type": "code",
        "colab": {}
      },
      "source": [
        "from sklearn.model_selection import train_test_split\n",
        "X_train, X_test, Y1_train, Y1_test, Y2_train, Y2_test = train_test_split(X, Y1, Y2, test_size = 0.20, random_state=40)"
      ],
      "execution_count": 0,
      "outputs": []
    },
    {
      "cell_type": "code",
      "metadata": {
        "id": "-IY-hgLd_s-R",
        "colab_type": "code",
        "outputId": "4b1c0e53-b849-4eb7-a1ea-13d2583e23f4",
        "colab": {
          "base_uri": "https://localhost:8080/",
          "height": 87
        }
      },
      "source": [
        "xgboost(X_train, X_test, Y1_train, Y1_test, Y2_train, Y2_test)"
      ],
      "execution_count": 0,
      "outputs": [
        {
          "output_type": "stream",
          "text": [
            "[02:30:25] WARNING: /workspace/src/objective/regression_obj.cu:152: reg:linear is now deprecated in favor of reg:squarederror.\n",
            "[02:30:26] WARNING: /workspace/src/objective/regression_obj.cu:152: reg:linear is now deprecated in favor of reg:squarederror.\n",
            "The Spearman's correlation coefficient is: 0.278\n",
            "The Spearman's correlation coefficient is: 0.095\n"
          ],
          "name": "stdout"
        }
      ]
    },
    {
      "cell_type": "code",
      "metadata": {
        "id": "vd4e0Vzgbewg",
        "colab_type": "code",
        "outputId": "b6c6aeb6-5d1f-4fe2-be63-31ee2c5ef21b",
        "colab": {
          "base_uri": "https://localhost:8080/",
          "height": 142
        }
      },
      "source": [
        "SVR( X_train, X_test, Y1_train, Y1_test, Y2_train, Y2_test)"
      ],
      "execution_count": 0,
      "outputs": [
        {
          "output_type": "stream",
          "text": [
            "/usr/local/lib/python3.6/dist-packages/sklearn/utils/validation.py:760: DataConversionWarning: A column-vector y was passed when a 1d array was expected. Please change the shape of y to (n_samples, ), for example using ravel().\n",
            "  y = column_or_1d(y, warn=True)\n",
            "/usr/local/lib/python3.6/dist-packages/sklearn/utils/validation.py:760: DataConversionWarning: A column-vector y was passed when a 1d array was expected. Please change the shape of y to (n_samples, ), for example using ravel().\n",
            "  y = column_or_1d(y, warn=True)\n"
          ],
          "name": "stderr"
        },
        {
          "output_type": "stream",
          "text": [
            "The Spearman's correlation coefficient is: 0.201\n",
            "The Spearman's correlation coefficient is: 0.091\n"
          ],
          "name": "stdout"
        }
      ]
    },
    {
      "cell_type": "code",
      "metadata": {
        "id": "XGJwypNKA-R-",
        "colab_type": "code",
        "outputId": "997c2497-dd3a-4981-abbc-a9b04332d7f7",
        "colab": {
          "base_uri": "https://localhost:8080/",
          "height": 142
        }
      },
      "source": [
        "Bayesian(X_train, X_test, Y1_train, Y1_test, Y2_train, Y2_test)"
      ],
      "execution_count": 0,
      "outputs": [
        {
          "output_type": "stream",
          "text": [
            "The Spearman's correlation coefficient is: 0.293\n",
            "The Spearman's correlation coefficient is: 0.128\n"
          ],
          "name": "stdout"
        },
        {
          "output_type": "stream",
          "text": [
            "/usr/local/lib/python3.6/dist-packages/sklearn/utils/validation.py:760: DataConversionWarning: A column-vector y was passed when a 1d array was expected. Please change the shape of y to (n_samples, ), for example using ravel().\n",
            "  y = column_or_1d(y, warn=True)\n",
            "/usr/local/lib/python3.6/dist-packages/sklearn/utils/validation.py:760: DataConversionWarning: A column-vector y was passed when a 1d array was expected. Please change the shape of y to (n_samples, ), for example using ravel().\n",
            "  y = column_or_1d(y, warn=True)\n"
          ],
          "name": "stderr"
        }
      ]
    },
    {
      "cell_type": "markdown",
      "metadata": {
        "id": "ToRJ6l3L36hv",
        "colab_type": "text"
      },
      "source": [
        "#CONCLUSION: Bayesian Ridge Regression gave better results, Using only C3D video features yields better results then using only HMP."
      ]
    },
    {
      "cell_type": "markdown",
      "metadata": {
        "id": "1SNDjCikfZO-",
        "colab_type": "text"
      },
      "source": [
        "\n",
        "--------------------------------------------------------------------------------------------------------------------------------------------------------------------------------------------------------------------------------------------------------------------------------------------------------------------------------\n",
        "\n",
        "--------------------------------------------------------------------------------------------------------------------------------------------------------------------------------------------------------------------------------------------------------------------------------------------------------------------------------\n",
        "\n",
        "# 2.] SEMANTIC FEATURE: TRAINING AND VALIDATIONS ON CAPTIONS\n",
        "\n",
        "--------------------------------------------------------------------------------------------------------------------------------------------------------------------------------------------------------------------------------------------------------------------------------------------------------------------------------\n",
        "1. CAPTIONS TFIDF \n",
        "2. CAPTIONS COUNT VECTORIZER \n",
        "3. CAPTIONS WEIGHTS\n",
        "\n",
        "--------------------------------------------------------------------------------------------------------------------------------------------------------------------------------------------------------------------------------------------------------------------------------------------------------------------------------\n"
      ]
    },
    {
      "cell_type": "code",
      "metadata": {
        "id": "ejZyeliD0bM0",
        "colab_type": "code",
        "colab": {}
      },
      "source": [
        "df = pd.read_csv('./Dev-set/Ground-truth/ground-truth.csv')"
      ],
      "execution_count": 0,
      "outputs": []
    },
    {
      "cell_type": "code",
      "metadata": {
        "id": "T_k-eEQJ2KNu",
        "colab_type": "code",
        "colab": {}
      },
      "source": [
        "df = df.drop(['nb_short-term_annotations', 'nb_long-term_annotations'], axis=1)"
      ],
      "execution_count": 0,
      "outputs": []
    },
    {
      "cell_type": "code",
      "metadata": {
        "id": "eSTN9PaL2Klw",
        "colab_type": "code",
        "colab": {}
      },
      "source": [
        "df['video'] = df['video'].apply(lambda x : x.split('.')[0])"
      ],
      "execution_count": 0,
      "outputs": []
    },
    {
      "cell_type": "code",
      "metadata": {
        "id": "QjB2PCty4UM8",
        "colab_type": "code",
        "outputId": "acbb0bf7-2a6d-4b3c-b886-56de34cffa3f",
        "colab": {
          "base_uri": "https://localhost:8080/",
          "height": 195
        }
      },
      "source": [
        "df.head()"
      ],
      "execution_count": 0,
      "outputs": [
        {
          "output_type": "execute_result",
          "data": {
            "text/html": [
              "<div>\n",
              "<style scoped>\n",
              "    .dataframe tbody tr th:only-of-type {\n",
              "        vertical-align: middle;\n",
              "    }\n",
              "\n",
              "    .dataframe tbody tr th {\n",
              "        vertical-align: top;\n",
              "    }\n",
              "\n",
              "    .dataframe thead th {\n",
              "        text-align: right;\n",
              "    }\n",
              "</style>\n",
              "<table border=\"1\" class=\"dataframe\">\n",
              "  <thead>\n",
              "    <tr style=\"text-align: right;\">\n",
              "      <th></th>\n",
              "      <th>video</th>\n",
              "      <th>short-term_memorability</th>\n",
              "      <th>long-term_memorability</th>\n",
              "    </tr>\n",
              "  </thead>\n",
              "  <tbody>\n",
              "    <tr>\n",
              "      <th>0</th>\n",
              "      <td>video3</td>\n",
              "      <td>0.924</td>\n",
              "      <td>0.846</td>\n",
              "    </tr>\n",
              "    <tr>\n",
              "      <th>1</th>\n",
              "      <td>video4</td>\n",
              "      <td>0.923</td>\n",
              "      <td>0.667</td>\n",
              "    </tr>\n",
              "    <tr>\n",
              "      <th>2</th>\n",
              "      <td>video6</td>\n",
              "      <td>0.863</td>\n",
              "      <td>0.700</td>\n",
              "    </tr>\n",
              "    <tr>\n",
              "      <th>3</th>\n",
              "      <td>video8</td>\n",
              "      <td>0.922</td>\n",
              "      <td>0.818</td>\n",
              "    </tr>\n",
              "    <tr>\n",
              "      <th>4</th>\n",
              "      <td>video10</td>\n",
              "      <td>0.950</td>\n",
              "      <td>0.900</td>\n",
              "    </tr>\n",
              "  </tbody>\n",
              "</table>\n",
              "</div>"
            ],
            "text/plain": [
              "     video  short-term_memorability  long-term_memorability\n",
              "0   video3                    0.924                   0.846\n",
              "1   video4                    0.923                   0.667\n",
              "2   video6                    0.863                   0.700\n",
              "3   video8                    0.922                   0.818\n",
              "4  video10                    0.950                   0.900"
            ]
          },
          "metadata": {
            "tags": []
          },
          "execution_count": 98
        }
      ]
    },
    {
      "cell_type": "markdown",
      "metadata": {
        "id": "cHZzV59E-za1",
        "colab_type": "text"
      },
      "source": [
        "Merging the ground truth file and captions file"
      ]
    },
    {
      "cell_type": "code",
      "metadata": {
        "id": "fUTijiy8-j2U",
        "colab_type": "code",
        "colab": {}
      },
      "source": [
        "for line in df:\n",
        "  df['Captions'] = merged_captions['Captions']"
      ],
      "execution_count": 0,
      "outputs": []
    },
    {
      "cell_type": "code",
      "metadata": {
        "id": "OZqHbAdX-pDl",
        "colab_type": "code",
        "outputId": "77adf7b8-31de-4e93-a22a-398d46df7b2f",
        "colab": {
          "base_uri": "https://localhost:8080/",
          "height": 195
        }
      },
      "source": [
        "df.head()"
      ],
      "execution_count": 0,
      "outputs": [
        {
          "output_type": "execute_result",
          "data": {
            "text/html": [
              "<div>\n",
              "<style scoped>\n",
              "    .dataframe tbody tr th:only-of-type {\n",
              "        vertical-align: middle;\n",
              "    }\n",
              "\n",
              "    .dataframe tbody tr th {\n",
              "        vertical-align: top;\n",
              "    }\n",
              "\n",
              "    .dataframe thead th {\n",
              "        text-align: right;\n",
              "    }\n",
              "</style>\n",
              "<table border=\"1\" class=\"dataframe\">\n",
              "  <thead>\n",
              "    <tr style=\"text-align: right;\">\n",
              "      <th></th>\n",
              "      <th>video</th>\n",
              "      <th>short-term_memorability</th>\n",
              "      <th>long-term_memorability</th>\n",
              "      <th>Captions</th>\n",
              "    </tr>\n",
              "  </thead>\n",
              "  <tbody>\n",
              "    <tr>\n",
              "      <th>0</th>\n",
              "      <td>video3</td>\n",
              "      <td>0.924</td>\n",
              "      <td>0.846</td>\n",
              "      <td>blonde-woman-is-massaged-tilt-down</td>\n",
              "    </tr>\n",
              "    <tr>\n",
              "      <th>1</th>\n",
              "      <td>video4</td>\n",
              "      <td>0.923</td>\n",
              "      <td>0.667</td>\n",
              "      <td>roulette-table-spinning-with-ball-in-closeup-shot</td>\n",
              "    </tr>\n",
              "    <tr>\n",
              "      <th>2</th>\n",
              "      <td>video6</td>\n",
              "      <td>0.863</td>\n",
              "      <td>0.700</td>\n",
              "      <td>khr-gangsters</td>\n",
              "    </tr>\n",
              "    <tr>\n",
              "      <th>3</th>\n",
              "      <td>video8</td>\n",
              "      <td>0.922</td>\n",
              "      <td>0.818</td>\n",
              "      <td>medical-helicopter-hovers-at-airport</td>\n",
              "    </tr>\n",
              "    <tr>\n",
              "      <th>4</th>\n",
              "      <td>video10</td>\n",
              "      <td>0.950</td>\n",
              "      <td>0.900</td>\n",
              "      <td>couple-relaxing-on-picnic-crane-shot</td>\n",
              "    </tr>\n",
              "  </tbody>\n",
              "</table>\n",
              "</div>"
            ],
            "text/plain": [
              "     video  ...                                           Captions\n",
              "0   video3  ...                 blonde-woman-is-massaged-tilt-down\n",
              "1   video4  ...  roulette-table-spinning-with-ball-in-closeup-shot\n",
              "2   video6  ...                                      khr-gangsters\n",
              "3   video8  ...               medical-helicopter-hovers-at-airport\n",
              "4  video10  ...               couple-relaxing-on-picnic-crane-shot\n",
              "\n",
              "[5 rows x 4 columns]"
            ]
          },
          "metadata": {
            "tags": []
          },
          "execution_count": 115
        }
      ]
    },
    {
      "cell_type": "code",
      "metadata": {
        "id": "X_heQVVFGeny",
        "colab_type": "code",
        "colab": {}
      },
      "source": [
        "corpus = []\n",
        "for i in range(0, 6000):\n",
        "    caption = re.sub('[^a-zA-Z]', ' ', df['Captions'][i])\n",
        "    caption = caption.lower()\n",
        "    caption = caption.split()\n",
        "    caption = [word for word in caption if not word in set(stopwords.words('english'))]\n",
        "    caption = ' '.join(caption)\n",
        "    corpus.append(caption)"
      ],
      "execution_count": 0,
      "outputs": []
    },
    {
      "cell_type": "markdown",
      "metadata": {
        "id": "RhpzGCQ34V-v",
        "colab_type": "text"
      },
      "source": [
        "\n",
        "\n",
        "--------------------------------------------------------------------------------------------------------------------------------------------------------------------------------------------------------------------------------------------------------------------------------------------------------------------------------\n",
        "\n",
        "\n",
        "--------------------------------------------------------------------------------------------------------------------------------------------------------------------------------------------------------------------------------------------------------------------------------------------------------------------------------\n",
        "\n",
        "# A.] CAPTIONS Tfidf Vectorizer : Each word occurance amongst the bag of words."
      ]
    },
    {
      "cell_type": "code",
      "metadata": {
        "id": "dElBkzUgGsfs",
        "colab_type": "code",
        "colab": {}
      },
      "source": [
        "from sklearn.feature_extraction.text import TfidfVectorizer\n",
        "tf = TfidfVectorizer()"
      ],
      "execution_count": 0,
      "outputs": []
    },
    {
      "cell_type": "markdown",
      "metadata": {
        "id": "GKkg24_1dg61",
        "colab_type": "text"
      },
      "source": [
        "# A.] TRAINING AND VALIDATION (CAPTIONS FEATURES - TFIDF VECTORIZER)"
      ]
    },
    {
      "cell_type": "code",
      "metadata": {
        "id": "r2idM0juG0Gk",
        "colab_type": "code",
        "colab": {}
      },
      "source": [
        "X = tf.fit_transform(corpus).toarray()\n",
        "Y = df.iloc[:, 1:3].values"
      ],
      "execution_count": 0,
      "outputs": []
    },
    {
      "cell_type": "code",
      "metadata": {
        "id": "J3Ax0TbmL9Oc",
        "colab_type": "code",
        "colab": {}
      },
      "source": [
        "from sklearn.model_selection import train_test_split\n",
        "X_train, X_test, Y_train, Y_test = train_test_split(X, Y, test_size = 0.20, random_state=40)"
      ],
      "execution_count": 0,
      "outputs": []
    },
    {
      "cell_type": "code",
      "metadata": {
        "id": "slMFmtqRG9dK",
        "colab_type": "code",
        "outputId": "b72172dc-97ad-4dfc-cb14-0ef7981e7d3f",
        "colab": {
          "base_uri": "https://localhost:8080/",
          "height": 52
        }
      },
      "source": [
        "LinearRegression(X_train,Y_train,Y_test,X_test)"
      ],
      "execution_count": 0,
      "outputs": [
        {
          "output_type": "stream",
          "text": [
            "The Spearman's correlation coefficient is: 0.059\n",
            "The Spearman's correlation coefficient is: 0.038\n"
          ],
          "name": "stdout"
        }
      ]
    },
    {
      "cell_type": "code",
      "metadata": {
        "id": "31iKMjCIJ-4d",
        "colab_type": "code",
        "outputId": "d2a484f8-1cef-4f80-a753-8438ec99db03",
        "colab": {
          "base_uri": "https://localhost:8080/",
          "height": 52
        }
      },
      "source": [
        "DecisionTree(X_train,Y_train,Y_test,X_test)"
      ],
      "execution_count": 0,
      "outputs": [
        {
          "output_type": "stream",
          "text": [
            "The Spearman's correlation coefficient is: 0.268\n",
            "The Spearman's correlation coefficient is: 0.104\n"
          ],
          "name": "stdout"
        }
      ]
    },
    {
      "cell_type": "code",
      "metadata": {
        "id": "ztnsXjunYBs6",
        "colab_type": "code",
        "outputId": "5eff5ebb-0593-4300-9b54-47021dde32f8",
        "colab": {
          "base_uri": "https://localhost:8080/",
          "height": 52
        }
      },
      "source": [
        "RandomForest(X_train,Y_train,Y_test,X_test)"
      ],
      "execution_count": 0,
      "outputs": [
        {
          "output_type": "stream",
          "text": [
            "The Spearman's correlation coefficient is: 0.383\n",
            "The Spearman's correlation coefficient is: 0.203\n"
          ],
          "name": "stdout"
        }
      ]
    },
    {
      "cell_type": "code",
      "metadata": {
        "id": "T1wB7MLbEX7A",
        "colab_type": "code",
        "outputId": "5aac750e-58d2-48b4-8561-6ab1b020ea7e",
        "colab": {
          "base_uri": "https://localhost:8080/",
          "height": 52
        }
      },
      "source": [
        "RidgeRegression(X_train,Y_train,Y_test,X_test)"
      ],
      "execution_count": 0,
      "outputs": [
        {
          "output_type": "stream",
          "text": [
            "The Spearman's correlation coefficient is: 0.392\n",
            "The Spearman's correlation coefficient is: 0.203\n"
          ],
          "name": "stdout"
        }
      ]
    },
    {
      "cell_type": "code",
      "metadata": {
        "id": "-KPWWgW0mBI_",
        "colab_type": "code",
        "colab": {}
      },
      "source": [
        "X = tf.fit_transform(corpus).toarray()\n",
        "Y1 = df.iloc[:, 1:2].values\n",
        "Y2 = df.iloc[:, 2:3].values"
      ],
      "execution_count": 0,
      "outputs": []
    },
    {
      "cell_type": "code",
      "metadata": {
        "id": "KX32cXm6mBfC",
        "colab_type": "code",
        "colab": {}
      },
      "source": [
        "from sklearn.model_selection import train_test_split\n",
        "X_train, X_test, Y1_train, Y1_test, Y2_train, Y2_test = train_test_split(X, Y1, Y2, test_size = 0.20, random_state=40)"
      ],
      "execution_count": 0,
      "outputs": []
    },
    {
      "cell_type": "code",
      "metadata": {
        "id": "cDgTLJWlmBua",
        "colab_type": "code",
        "outputId": "4593572e-860c-4ccb-b528-c885f2f30802",
        "colab": {
          "base_uri": "https://localhost:8080/",
          "height": 87
        }
      },
      "source": [
        "xgboost(X_train, X_test, Y1_train, Y1_test, Y2_train, Y2_test)"
      ],
      "execution_count": 0,
      "outputs": [
        {
          "output_type": "stream",
          "text": [
            "[02:31:31] WARNING: /workspace/src/objective/regression_obj.cu:152: reg:linear is now deprecated in favor of reg:squarederror.\n",
            "[02:32:01] WARNING: /workspace/src/objective/regression_obj.cu:152: reg:linear is now deprecated in favor of reg:squarederror.\n",
            "The Spearman's correlation coefficient is: 0.338\n",
            "The Spearman's correlation coefficient is: 0.164\n"
          ],
          "name": "stdout"
        }
      ]
    },
    {
      "cell_type": "code",
      "metadata": {
        "id": "saVaX8JNdZLx",
        "colab_type": "code",
        "outputId": "1e15a9e7-a4f2-4278-e6ad-6fb877a1ba43",
        "colab": {
          "base_uri": "https://localhost:8080/",
          "height": 142
        }
      },
      "source": [
        "SVR(X_train, X_test, Y1_train, Y1_test, Y2_train, Y2_test)"
      ],
      "execution_count": 0,
      "outputs": [
        {
          "output_type": "stream",
          "text": [
            "/usr/local/lib/python3.6/dist-packages/sklearn/utils/validation.py:760: DataConversionWarning: A column-vector y was passed when a 1d array was expected. Please change the shape of y to (n_samples, ), for example using ravel().\n",
            "  y = column_or_1d(y, warn=True)\n",
            "/usr/local/lib/python3.6/dist-packages/sklearn/utils/validation.py:760: DataConversionWarning: A column-vector y was passed when a 1d array was expected. Please change the shape of y to (n_samples, ), for example using ravel().\n",
            "  y = column_or_1d(y, warn=True)\n"
          ],
          "name": "stderr"
        },
        {
          "output_type": "stream",
          "text": [
            "The Spearman's correlation coefficient is: 0.359\n",
            "The Spearman's correlation coefficient is: 0.204\n"
          ],
          "name": "stdout"
        }
      ]
    },
    {
      "cell_type": "code",
      "metadata": {
        "id": "jsiamMF3C9dL",
        "colab_type": "code",
        "outputId": "1e21907c-ea30-4c07-b9c6-6369832e7572",
        "colab": {
          "base_uri": "https://localhost:8080/",
          "height": 142
        }
      },
      "source": [
        "Bayesian(X_train, X_test, Y1_train, Y1_test, Y2_train, Y2_test)"
      ],
      "execution_count": 0,
      "outputs": [
        {
          "output_type": "stream",
          "text": [
            "/usr/local/lib/python3.6/dist-packages/sklearn/utils/validation.py:760: DataConversionWarning: A column-vector y was passed when a 1d array was expected. Please change the shape of y to (n_samples, ), for example using ravel().\n",
            "  y = column_or_1d(y, warn=True)\n",
            "/usr/local/lib/python3.6/dist-packages/sklearn/utils/validation.py:760: DataConversionWarning: A column-vector y was passed when a 1d array was expected. Please change the shape of y to (n_samples, ), for example using ravel().\n",
            "  y = column_or_1d(y, warn=True)\n"
          ],
          "name": "stderr"
        },
        {
          "output_type": "stream",
          "text": [
            "The Spearman's correlation coefficient is: 0.404\n",
            "The Spearman's correlation coefficient is: 0.244\n"
          ],
          "name": "stdout"
        }
      ]
    },
    {
      "cell_type": "markdown",
      "metadata": {
        "id": "Cqyr8CXGwShH",
        "colab_type": "text"
      },
      "source": [
        "# A.] CONCLUSION (CAPTIONS - TFIDF ): Bayesian Regression gives extraordinary results.\n",
        "\n",
        "--------------------------------------------------------------------------------------------------------------------------------------------------------------------------------------------------------------------------------------------------------------------------------------------------------------------------------\n",
        "\n",
        "--------------------------------------------------------------------------------------------------------------------------------------------------------------------------------------------------------------------------------------------------------------------------------------------------------------------------------\n",
        "\n"
      ]
    },
    {
      "cell_type": "markdown",
      "metadata": {
        "id": "qNaftEp0NAYl",
        "colab_type": "text"
      },
      "source": [
        "\n",
        "# B.] CAPTIONS CountVectorizer : Count of occurance of each word amongst the bag of words "
      ]
    },
    {
      "cell_type": "markdown",
      "metadata": {
        "id": "IOBoF6poNIJl",
        "colab_type": "text"
      },
      "source": [
        "Building Models"
      ]
    },
    {
      "cell_type": "code",
      "metadata": {
        "id": "J9rYTZYQ4igh",
        "colab_type": "code",
        "colab": {}
      },
      "source": [
        "from sklearn.feature_extraction.text import CountVectorizer\n",
        "cv = CountVectorizer()"
      ],
      "execution_count": 0,
      "outputs": []
    },
    {
      "cell_type": "markdown",
      "metadata": {
        "id": "CiDwrsp8dyXS",
        "colab_type": "text"
      },
      "source": [
        "# B.] TRAINING AND VALIDATION (CAPTIONS FEATURES - COUNT VECTORIZER)"
      ]
    },
    {
      "cell_type": "code",
      "metadata": {
        "id": "iSKz1SiCHIuL",
        "colab_type": "code",
        "colab": {}
      },
      "source": [
        "X = cv.fit_transform(corpus).toarray()\n",
        "Y = df.iloc[:, 1:3].values"
      ],
      "execution_count": 0,
      "outputs": []
    },
    {
      "cell_type": "code",
      "metadata": {
        "id": "xibkCQa99ELM",
        "colab_type": "code",
        "colab": {}
      },
      "source": [
        "from sklearn.model_selection import train_test_split\n",
        "X_train, X_test, Y_train, Y_test = train_test_split(X, Y, test_size = 0.20, random_state=40)"
      ],
      "execution_count": 0,
      "outputs": []
    },
    {
      "cell_type": "code",
      "metadata": {
        "id": "vx1GJrCB4pfv",
        "colab_type": "code",
        "outputId": "8ccbb2af-1831-41cb-954e-caa8ac465722",
        "colab": {
          "base_uri": "https://localhost:8080/",
          "height": 52
        }
      },
      "source": [
        "LinearRegression(X_train,Y_train,Y_test,X_test)"
      ],
      "execution_count": 0,
      "outputs": [
        {
          "output_type": "stream",
          "text": [
            "The Spearman's correlation coefficient is: 0.114\n",
            "The Spearman's correlation coefficient is: 0.029\n"
          ],
          "name": "stdout"
        }
      ]
    },
    {
      "cell_type": "code",
      "metadata": {
        "id": "2B3aA7nJMBbD",
        "colab_type": "code",
        "outputId": "4436ad52-be90-4c87-d933-2f6f5c586107",
        "colab": {
          "base_uri": "https://localhost:8080/",
          "height": 52
        }
      },
      "source": [
        "DecisionTree(X_train,Y_train,Y_test,X_test)"
      ],
      "execution_count": 0,
      "outputs": [
        {
          "output_type": "stream",
          "text": [
            "The Spearman's correlation coefficient is: 0.238\n",
            "The Spearman's correlation coefficient is: 0.111\n"
          ],
          "name": "stdout"
        }
      ]
    },
    {
      "cell_type": "code",
      "metadata": {
        "id": "N8Re8taLMDd3",
        "colab_type": "code",
        "outputId": "5622bd85-db4d-448d-f179-24c8ea92deed",
        "colab": {
          "base_uri": "https://localhost:8080/",
          "height": 52
        }
      },
      "source": [
        "RandomForest(X_train,Y_train,Y_test,X_test)"
      ],
      "execution_count": 0,
      "outputs": [
        {
          "output_type": "stream",
          "text": [
            "The Spearman's correlation coefficient is: 0.392\n",
            "The Spearman's correlation coefficient is: 0.191\n"
          ],
          "name": "stdout"
        }
      ]
    },
    {
      "cell_type": "code",
      "metadata": {
        "id": "ysGjIUK8EnB9",
        "colab_type": "code",
        "outputId": "1e93743c-63b5-42de-ac9f-7a16e56734df",
        "colab": {
          "base_uri": "https://localhost:8080/",
          "height": 52
        }
      },
      "source": [
        "RidgeRegression(X_train,Y_train,Y_test,X_test)"
      ],
      "execution_count": 0,
      "outputs": [
        {
          "output_type": "stream",
          "text": [
            "The Spearman's correlation coefficient is: 0.392\n",
            "The Spearman's correlation coefficient is: 0.205\n"
          ],
          "name": "stdout"
        }
      ]
    },
    {
      "cell_type": "code",
      "metadata": {
        "id": "AeFItcGjoqDq",
        "colab_type": "code",
        "colab": {}
      },
      "source": [
        "X = cv.fit_transform(corpus).toarray()\n",
        "Y1 = df.iloc[:, 1:2].values\n",
        "Y2 = df.iloc[:, 2:3].values"
      ],
      "execution_count": 0,
      "outputs": []
    },
    {
      "cell_type": "code",
      "metadata": {
        "id": "diADRDHEoqWO",
        "colab_type": "code",
        "colab": {}
      },
      "source": [
        "from sklearn.model_selection import train_test_split\n",
        "X_train, X_test, Y1_train, Y1_test, Y2_train, Y2_test = train_test_split(X, Y1, Y2, test_size = 0.20, random_state=40)"
      ],
      "execution_count": 0,
      "outputs": []
    },
    {
      "cell_type": "code",
      "metadata": {
        "id": "c0KZoVjnoqpS",
        "colab_type": "code",
        "outputId": "2c664afe-fc41-426d-b81d-a2d7b7ee4539",
        "colab": {
          "base_uri": "https://localhost:8080/",
          "height": 87
        }
      },
      "source": [
        "xgboost(X_train, X_test, Y1_train, Y1_test, Y2_train, Y2_test)"
      ],
      "execution_count": 0,
      "outputs": [
        {
          "output_type": "stream",
          "text": [
            "[02:03:17] WARNING: /workspace/src/objective/regression_obj.cu:152: reg:linear is now deprecated in favor of reg:squarederror.\n",
            "[02:03:47] WARNING: /workspace/src/objective/regression_obj.cu:152: reg:linear is now deprecated in favor of reg:squarederror.\n",
            "The Spearman's correlation coefficient is: 0.350\n",
            "The Spearman's correlation coefficient is: 0.183\n"
          ],
          "name": "stdout"
        }
      ]
    },
    {
      "cell_type": "code",
      "metadata": {
        "id": "STMURi95e3A6",
        "colab_type": "code",
        "outputId": "7cfcf381-7965-4556-f563-54740375142e",
        "colab": {
          "base_uri": "https://localhost:8080/",
          "height": 142
        }
      },
      "source": [
        "SVR(X_train, X_test, Y1_train, Y1_test, Y2_train, Y2_test )"
      ],
      "execution_count": 0,
      "outputs": [
        {
          "output_type": "stream",
          "text": [
            "/usr/local/lib/python3.6/dist-packages/sklearn/utils/validation.py:760: DataConversionWarning: A column-vector y was passed when a 1d array was expected. Please change the shape of y to (n_samples, ), for example using ravel().\n",
            "  y = column_or_1d(y, warn=True)\n",
            "/usr/local/lib/python3.6/dist-packages/sklearn/utils/validation.py:760: DataConversionWarning: A column-vector y was passed when a 1d array was expected. Please change the shape of y to (n_samples, ), for example using ravel().\n",
            "  y = column_or_1d(y, warn=True)\n"
          ],
          "name": "stderr"
        },
        {
          "output_type": "stream",
          "text": [
            "The Spearman's correlation coefficient is: 0.369\n",
            "The Spearman's correlation coefficient is: 0.203\n"
          ],
          "name": "stdout"
        }
      ]
    },
    {
      "cell_type": "code",
      "metadata": {
        "id": "4Ip5o8cqOZsI",
        "colab_type": "code",
        "outputId": "bada34e8-baf8-4344-969f-a90dd146e44c",
        "colab": {
          "base_uri": "https://localhost:8080/",
          "height": 142
        }
      },
      "source": [
        "Bayesian(X_train, X_test, Y1_train, Y1_test, Y2_train, Y2_test )"
      ],
      "execution_count": 0,
      "outputs": [
        {
          "output_type": "stream",
          "text": [
            "/usr/local/lib/python3.6/dist-packages/sklearn/utils/validation.py:760: DataConversionWarning: A column-vector y was passed when a 1d array was expected. Please change the shape of y to (n_samples, ), for example using ravel().\n",
            "  y = column_or_1d(y, warn=True)\n",
            "/usr/local/lib/python3.6/dist-packages/sklearn/utils/validation.py:760: DataConversionWarning: A column-vector y was passed when a 1d array was expected. Please change the shape of y to (n_samples, ), for example using ravel().\n",
            "  y = column_or_1d(y, warn=True)\n"
          ],
          "name": "stderr"
        },
        {
          "output_type": "stream",
          "text": [
            "The Spearman's correlation coefficient is: 0.388\n",
            "The Spearman's correlation coefficient is: 0.236\n"
          ],
          "name": "stdout"
        }
      ]
    },
    {
      "cell_type": "markdown",
      "metadata": {
        "id": "I4wpMPwDwoOX",
        "colab_type": "text"
      },
      "source": [
        "# B.] CONCLUSION (CAPTIONS - COUNT VECTORIZER): Ridge Regression gives precise results. \n",
        "\n",
        "--------------------------------------------------------------------------------------------------------------------------------------------------------------------------------------------------------------------------------------------------------------------------------------------------------------------------------\n",
        "\n",
        "\n",
        "--------------------------------------------------------------------------------------------------------------------------------------------------------------------------------------------------------------------------------------------------------------------------------------------------------------------------------\n"
      ]
    },
    {
      "cell_type": "markdown",
      "metadata": {
        "id": "KeAryuoC492g",
        "colab_type": "text"
      },
      "source": [
        "\n",
        "\n",
        "# C.] CAPTIONS Weights : Certain words have more impact than others, Using weighted scores for positive words to predict memorability.\n"
      ]
    },
    {
      "cell_type": "code",
      "metadata": {
        "id": "9TLCfnZd6_5D",
        "colab_type": "code",
        "colab": {}
      },
      "source": [
        "df = pd.read_csv('./Dev-set/Ground-truth/ground-truth.csv')"
      ],
      "execution_count": 0,
      "outputs": []
    },
    {
      "cell_type": "code",
      "metadata": {
        "id": "y-QlT_RE7ABy",
        "colab_type": "code",
        "colab": {}
      },
      "source": [
        "df = df.drop(['nb_short-term_annotations', 'nb_long-term_annotations'], axis=1)"
      ],
      "execution_count": 0,
      "outputs": []
    },
    {
      "cell_type": "code",
      "metadata": {
        "id": "CMs8mxUx7AFi",
        "colab_type": "code",
        "colab": {}
      },
      "source": [
        "df['video'] = df['video'].apply(lambda x : x.split('.')[0])"
      ],
      "execution_count": 0,
      "outputs": []
    },
    {
      "cell_type": "code",
      "metadata": {
        "id": "Ri690rTB6_-w",
        "colab_type": "code",
        "outputId": "df98f7ba-922b-4601-f22b-fd80a3ffaaf8",
        "colab": {
          "base_uri": "https://localhost:8080/",
          "height": 195
        }
      },
      "source": [
        "df.head()"
      ],
      "execution_count": 83,
      "outputs": [
        {
          "output_type": "execute_result",
          "data": {
            "text/html": [
              "<div>\n",
              "<style scoped>\n",
              "    .dataframe tbody tr th:only-of-type {\n",
              "        vertical-align: middle;\n",
              "    }\n",
              "\n",
              "    .dataframe tbody tr th {\n",
              "        vertical-align: top;\n",
              "    }\n",
              "\n",
              "    .dataframe thead th {\n",
              "        text-align: right;\n",
              "    }\n",
              "</style>\n",
              "<table border=\"1\" class=\"dataframe\">\n",
              "  <thead>\n",
              "    <tr style=\"text-align: right;\">\n",
              "      <th></th>\n",
              "      <th>video</th>\n",
              "      <th>short-term_memorability</th>\n",
              "      <th>long-term_memorability</th>\n",
              "    </tr>\n",
              "  </thead>\n",
              "  <tbody>\n",
              "    <tr>\n",
              "      <th>0</th>\n",
              "      <td>video3</td>\n",
              "      <td>0.924</td>\n",
              "      <td>0.846</td>\n",
              "    </tr>\n",
              "    <tr>\n",
              "      <th>1</th>\n",
              "      <td>video4</td>\n",
              "      <td>0.923</td>\n",
              "      <td>0.667</td>\n",
              "    </tr>\n",
              "    <tr>\n",
              "      <th>2</th>\n",
              "      <td>video6</td>\n",
              "      <td>0.863</td>\n",
              "      <td>0.700</td>\n",
              "    </tr>\n",
              "    <tr>\n",
              "      <th>3</th>\n",
              "      <td>video8</td>\n",
              "      <td>0.922</td>\n",
              "      <td>0.818</td>\n",
              "    </tr>\n",
              "    <tr>\n",
              "      <th>4</th>\n",
              "      <td>video10</td>\n",
              "      <td>0.950</td>\n",
              "      <td>0.900</td>\n",
              "    </tr>\n",
              "  </tbody>\n",
              "</table>\n",
              "</div>"
            ],
            "text/plain": [
              "     video  short-term_memorability  long-term_memorability\n",
              "0   video3                    0.924                   0.846\n",
              "1   video4                    0.923                   0.667\n",
              "2   video6                    0.863                   0.700\n",
              "3   video8                    0.922                   0.818\n",
              "4  video10                    0.950                   0.900"
            ]
          },
          "metadata": {
            "tags": []
          },
          "execution_count": 83
        }
      ]
    },
    {
      "cell_type": "code",
      "metadata": {
        "id": "8XdqM0zHybB0",
        "colab_type": "code",
        "colab": {}
      },
      "source": [
        "train_captions = pd.read_csv('./Dev-set/Captions/dev-set_video-captions.txt',delimiter='\\t',header= None,names=('video','Captions'))"
      ],
      "execution_count": 0,
      "outputs": []
    },
    {
      "cell_type": "code",
      "metadata": {
        "id": "Vf0NUZJZ7h7e",
        "colab_type": "code",
        "colab": {}
      },
      "source": [
        "for line in df:\n",
        "  df['Captions'] = train_captions['Captions']"
      ],
      "execution_count": 0,
      "outputs": []
    },
    {
      "cell_type": "code",
      "metadata": {
        "id": "4VGuV52VJyKt",
        "colab_type": "code",
        "colab": {}
      },
      "source": [
        "\n",
        "corpus = []\n",
        "weights = []\n",
        "for i in range(0, 6000):\n",
        "    local_weight = 0\n",
        "    caption = re.sub('[^a-zA-Z]', ' ', df['Captions'][i])\n",
        "    caption = caption.lower()\n",
        "    caption = caption.split()\n",
        "    caption = [word for word in caption if not word in set(stopwords.words('english'))]\n",
        "    for word in caption:\n",
        "        if(word in set(weights_to_certain_words.keys())):\n",
        "                local_weight = local_weight + weights_to_certain_words[word]\n",
        "    weights.append(local_weight)\n",
        "    caption = ' '.join(caption)\n",
        "    corpus.append(caption)"
      ],
      "execution_count": 0,
      "outputs": []
    },
    {
      "cell_type": "code",
      "metadata": {
        "id": "17ncdGz_7nC9",
        "colab_type": "code",
        "outputId": "8a8f1e8d-b4b4-482a-f5fb-ca32ad37c9cc",
        "colab": {
          "base_uri": "https://localhost:8080/",
          "height": 195
        }
      },
      "source": [
        " df.head()"
      ],
      "execution_count": 0,
      "outputs": [
        {
          "output_type": "execute_result",
          "data": {
            "text/html": [
              "<div>\n",
              "<style scoped>\n",
              "    .dataframe tbody tr th:only-of-type {\n",
              "        vertical-align: middle;\n",
              "    }\n",
              "\n",
              "    .dataframe tbody tr th {\n",
              "        vertical-align: top;\n",
              "    }\n",
              "\n",
              "    .dataframe thead th {\n",
              "        text-align: right;\n",
              "    }\n",
              "</style>\n",
              "<table border=\"1\" class=\"dataframe\">\n",
              "  <thead>\n",
              "    <tr style=\"text-align: right;\">\n",
              "      <th></th>\n",
              "      <th>video</th>\n",
              "      <th>short-term_memorability</th>\n",
              "      <th>long-term_memorability</th>\n",
              "      <th>Captions</th>\n",
              "    </tr>\n",
              "  </thead>\n",
              "  <tbody>\n",
              "    <tr>\n",
              "      <th>0</th>\n",
              "      <td>video3</td>\n",
              "      <td>0.924</td>\n",
              "      <td>0.846</td>\n",
              "      <td>blonde-woman-is-massaged-tilt-down</td>\n",
              "    </tr>\n",
              "    <tr>\n",
              "      <th>1</th>\n",
              "      <td>video4</td>\n",
              "      <td>0.923</td>\n",
              "      <td>0.667</td>\n",
              "      <td>roulette-table-spinning-with-ball-in-closeup-shot</td>\n",
              "    </tr>\n",
              "    <tr>\n",
              "      <th>2</th>\n",
              "      <td>video6</td>\n",
              "      <td>0.863</td>\n",
              "      <td>0.700</td>\n",
              "      <td>khr-gangsters</td>\n",
              "    </tr>\n",
              "    <tr>\n",
              "      <th>3</th>\n",
              "      <td>video8</td>\n",
              "      <td>0.922</td>\n",
              "      <td>0.818</td>\n",
              "      <td>medical-helicopter-hovers-at-airport</td>\n",
              "    </tr>\n",
              "    <tr>\n",
              "      <th>4</th>\n",
              "      <td>video10</td>\n",
              "      <td>0.950</td>\n",
              "      <td>0.900</td>\n",
              "      <td>couple-relaxing-on-picnic-crane-shot</td>\n",
              "    </tr>\n",
              "  </tbody>\n",
              "</table>\n",
              "</div>"
            ],
            "text/plain": [
              "     video  ...                                           Captions\n",
              "0   video3  ...                 blonde-woman-is-massaged-tilt-down\n",
              "1   video4  ...  roulette-table-spinning-with-ball-in-closeup-shot\n",
              "2   video6  ...                                      khr-gangsters\n",
              "3   video8  ...               medical-helicopter-hovers-at-airport\n",
              "4  video10  ...               couple-relaxing-on-picnic-crane-shot\n",
              "\n",
              "[5 rows x 4 columns]"
            ]
          },
          "metadata": {
            "tags": []
          },
          "execution_count": 190
        }
      ]
    },
    {
      "cell_type": "markdown",
      "metadata": {
        "id": "GJ86TefX7081",
        "colab_type": "text"
      },
      "source": [
        "According to the Rohit Gupta et. al. paper on Linear Models for Video Memorability Prediction Using Visual and Semantic Feature, certain words had more impact than others. I am trying to give extra weights to such words and sending as a new feature."
      ]
    },
    {
      "cell_type": "code",
      "metadata": {
        "id": "BGngKg6F7ov8",
        "colab_type": "code",
        "colab": {}
      },
      "source": [
        "weights_to_certain_words = {'women':16,'woman':16,'eating':15,'putting':14,'lying':13,'girl':12,'selfie':11,'relaxing':10,'jellyfish':9,'cat':8,'super':7,'slow':6,'super':5,'american':4,'potrait':3,'pregnant':2,'couple':1}"
      ],
      "execution_count": 0,
      "outputs": []
    },
    {
      "cell_type": "code",
      "metadata": {
        "id": "hGIAnsTN750-",
        "colab_type": "code",
        "colab": {}
      },
      "source": [
        "corpus = []\n",
        "weights = []\n",
        "for i in range(0, 2000):\n",
        "    local_weight = 0\n",
        "    caption = re.sub('[^a-zA-Z]', ' ', df['Captions'][i])\n",
        "    caption = caption.lower()\n",
        "    caption = caption.split()\n",
        "    caption = [word for word in caption if not word in set(stopwords.words('english'))]\n",
        "    for word in caption:\n",
        "        if(word in set(weights_to_certain_words.keys())):\n",
        "                local_weight = local_weight + weights_to_certain_words[word]\n",
        "    weights.append(local_weight)\n",
        "    caption = ' '.join(caption)\n",
        "    corpus.append(caption)"
      ],
      "execution_count": 0,
      "outputs": []
    },
    {
      "cell_type": "code",
      "metadata": {
        "id": "jyjI21948BIs",
        "colab_type": "code",
        "colab": {}
      },
      "source": [
        "weights_df = pd.DataFrame(np.array(weights).reshape(6000,1))"
      ],
      "execution_count": 0,
      "outputs": []
    },
    {
      "cell_type": "markdown",
      "metadata": {
        "id": "X5Kbfed28Psr",
        "colab_type": "text"
      },
      "source": [
        "Since TfIdf Vectorizer outperformed Count Vectorizer, using TfIdf Vectorizer for further evaluations.\n",
        "\n",
        "Using TfIdf value of each word occurance amongst the bag of words."
      ]
    },
    {
      "cell_type": "code",
      "metadata": {
        "id": "CDHyCVzW8Fo_",
        "colab_type": "code",
        "colab": {}
      },
      "source": [
        "from sklearn.feature_extraction.text import TfidfVectorizer\n",
        "tf = TfidfVectorizer()"
      ],
      "execution_count": 0,
      "outputs": []
    },
    {
      "cell_type": "code",
      "metadata": {
        "id": "u8CMjfMk8SWe",
        "colab_type": "code",
        "colab": {}
      },
      "source": [
        "captions_array = tf.fit_transform(corpus).toarray()"
      ],
      "execution_count": 0,
      "outputs": []
    },
    {
      "cell_type": "code",
      "metadata": {
        "id": "RgymBjvm8VCo",
        "colab_type": "code",
        "colab": {}
      },
      "source": [
        "merged_array = np.concatenate((captions_array, weights_df), axis=1)"
      ],
      "execution_count": 0,
      "outputs": []
    },
    {
      "cell_type": "markdown",
      "metadata": {
        "id": "g9Z19Ji9d9k7",
        "colab_type": "text"
      },
      "source": [
        "# C.] TRAINING AND VALIDATION (CAPTIONS FEATURES - WEIGHTS)"
      ]
    },
    {
      "cell_type": "code",
      "metadata": {
        "id": "mJQRjPCr8X6r",
        "colab_type": "code",
        "colab": {}
      },
      "source": [
        "X = merged_array\n",
        "Y = df.iloc[:, 1:3].values"
      ],
      "execution_count": 0,
      "outputs": []
    },
    {
      "cell_type": "code",
      "metadata": {
        "id": "UyvYawvGNEPS",
        "colab_type": "code",
        "colab": {}
      },
      "source": [
        "from sklearn.model_selection import train_test_split\n",
        "X_train, X_test, Y_train, Y_test = train_test_split(X, Y, test_size = 0.20, random_state=40)"
      ],
      "execution_count": 0,
      "outputs": []
    },
    {
      "cell_type": "code",
      "metadata": {
        "id": "LoqPvB8V8fdN",
        "colab_type": "code",
        "outputId": "70df1cf6-a681-4945-ed09-0d65ba30dcdf",
        "colab": {
          "base_uri": "https://localhost:8080/",
          "height": 52
        }
      },
      "source": [
        "LinearRegression(X_train,Y_train,Y_test,X_test)"
      ],
      "execution_count": 0,
      "outputs": [
        {
          "output_type": "stream",
          "text": [
            "The Spearman's correlation coefficient is: 0.095\n",
            "The Spearman's correlation coefficient is: 0.036\n"
          ],
          "name": "stdout"
        }
      ]
    },
    {
      "cell_type": "code",
      "metadata": {
        "id": "ThMetPeVMKXZ",
        "colab_type": "code",
        "outputId": "c0c2c00d-42dd-4b42-ad1b-06ce28f862e3",
        "colab": {
          "base_uri": "https://localhost:8080/",
          "height": 52
        }
      },
      "source": [
        "DecisionTree(X_train,Y_train,Y_test,X_test)"
      ],
      "execution_count": 0,
      "outputs": [
        {
          "output_type": "stream",
          "text": [
            "The Spearman's correlation coefficient is: 0.269\n",
            "The Spearman's correlation coefficient is: 0.084\n"
          ],
          "name": "stdout"
        }
      ]
    },
    {
      "cell_type": "code",
      "metadata": {
        "id": "UCgd7EsRMMQp",
        "colab_type": "code",
        "outputId": "62252de8-c784-4d2b-e607-8edb948a52db",
        "colab": {
          "base_uri": "https://localhost:8080/",
          "height": 52
        }
      },
      "source": [
        "RandomForest(X_train,Y_train,Y_test,X_test)"
      ],
      "execution_count": 0,
      "outputs": [
        {
          "output_type": "stream",
          "text": [
            "The Spearman's correlation coefficient is: 0.382\n",
            "The Spearman's correlation coefficient is: 0.184\n"
          ],
          "name": "stdout"
        }
      ]
    },
    {
      "cell_type": "code",
      "metadata": {
        "id": "xoxIbG06JIqy",
        "colab_type": "code",
        "outputId": "d14e60ac-f758-4b6f-8226-17c939e41802",
        "colab": {
          "base_uri": "https://localhost:8080/",
          "height": 52
        }
      },
      "source": [
        "RidgeRegression(X_train,Y_train,Y_test,X_test)"
      ],
      "execution_count": 0,
      "outputs": [
        {
          "output_type": "stream",
          "text": [
            "The Spearman's correlation coefficient is: 0.392\n",
            "The Spearman's correlation coefficient is: 0.205\n"
          ],
          "name": "stdout"
        }
      ]
    },
    {
      "cell_type": "code",
      "metadata": {
        "id": "OdY45rz3ptB6",
        "colab_type": "code",
        "colab": {}
      },
      "source": [
        "X = merged_array\n",
        "Y1 = df.iloc[:, 1:2].values\n",
        "Y2 = df.iloc[:, 2:3].values"
      ],
      "execution_count": 0,
      "outputs": []
    },
    {
      "cell_type": "code",
      "metadata": {
        "id": "KNLZl8p7ps7g",
        "colab_type": "code",
        "colab": {}
      },
      "source": [
        "from sklearn.model_selection import train_test_split\n",
        "X_train, X_test, Y1_train, Y1_test, Y2_train, Y2_test = train_test_split(X, Y1, Y2, test_size = 0.20, random_state=40)"
      ],
      "execution_count": 0,
      "outputs": []
    },
    {
      "cell_type": "code",
      "metadata": {
        "id": "lKgMIp3apszO",
        "colab_type": "code",
        "outputId": "77a82af4-688d-4a89-c12f-ea2c9b951283",
        "colab": {
          "base_uri": "https://localhost:8080/",
          "height": 87
        }
      },
      "source": [
        "xgboost(X_train, X_test, Y1_train, Y1_test, Y2_train, Y2_test)"
      ],
      "execution_count": 0,
      "outputs": [
        {
          "output_type": "stream",
          "text": [
            "[02:48:58] WARNING: /workspace/src/objective/regression_obj.cu:152: reg:linear is now deprecated in favor of reg:squarederror.\n",
            "[02:49:28] WARNING: /workspace/src/objective/regression_obj.cu:152: reg:linear is now deprecated in favor of reg:squarederror.\n",
            "The Spearman's correlation coefficient is: 0.335\n",
            "The Spearman's correlation coefficient is: 0.188\n"
          ],
          "name": "stdout"
        }
      ]
    },
    {
      "cell_type": "code",
      "metadata": {
        "id": "SFiVwc_ugfG9",
        "colab_type": "code",
        "outputId": "c145ac99-c690-4aba-f4be-a567248a2f3b",
        "colab": {
          "base_uri": "https://localhost:8080/",
          "height": 142
        }
      },
      "source": [
        "SVR(X_train, X_test, Y1_train, Y1_test, Y2_train, Y2_test)"
      ],
      "execution_count": 0,
      "outputs": [
        {
          "output_type": "stream",
          "text": [
            "/usr/local/lib/python3.6/dist-packages/sklearn/utils/validation.py:760: DataConversionWarning: A column-vector y was passed when a 1d array was expected. Please change the shape of y to (n_samples, ), for example using ravel().\n",
            "  y = column_or_1d(y, warn=True)\n",
            "/usr/local/lib/python3.6/dist-packages/sklearn/utils/validation.py:760: DataConversionWarning: A column-vector y was passed when a 1d array was expected. Please change the shape of y to (n_samples, ), for example using ravel().\n",
            "  y = column_or_1d(y, warn=True)\n"
          ],
          "name": "stderr"
        },
        {
          "output_type": "stream",
          "text": [
            "The Spearman's correlation coefficient is: 0.369\n",
            "The Spearman's correlation coefficient is: 0.242\n"
          ],
          "name": "stdout"
        }
      ]
    },
    {
      "cell_type": "code",
      "metadata": {
        "id": "l03h5vRdZglX",
        "colab_type": "code",
        "outputId": "a14afd03-ff3a-46d5-e1f7-ac92c9baa68a",
        "colab": {
          "base_uri": "https://localhost:8080/",
          "height": 142
        }
      },
      "source": [
        "Bayesian(X_train, X_test, Y1_train, Y1_test, Y2_train, Y2_test )"
      ],
      "execution_count": 0,
      "outputs": [
        {
          "output_type": "stream",
          "text": [
            "/usr/local/lib/python3.6/dist-packages/sklearn/utils/validation.py:760: DataConversionWarning: A column-vector y was passed when a 1d array was expected. Please change the shape of y to (n_samples, ), for example using ravel().\n",
            "  y = column_or_1d(y, warn=True)\n",
            "/usr/local/lib/python3.6/dist-packages/sklearn/utils/validation.py:760: DataConversionWarning: A column-vector y was passed when a 1d array was expected. Please change the shape of y to (n_samples, ), for example using ravel().\n",
            "  y = column_or_1d(y, warn=True)\n"
          ],
          "name": "stderr"
        },
        {
          "output_type": "stream",
          "text": [
            "The Spearman's correlation coefficient is: 0.397\n",
            "The Spearman's correlation coefficient is: 0.242\n"
          ],
          "name": "stdout"
        }
      ]
    },
    {
      "cell_type": "markdown",
      "metadata": {
        "id": "4AX4_Bmq85ed",
        "colab_type": "text"
      },
      "source": [
        "\n",
        "# C.] CONCLUSION (CAPTIONS - WEIGHTS): Ridge regression outperformed. \n",
        "\n",
        "--------------------------------------------------------------------------------------------------------------------------------------------------------------------------------------------------------------------------------------------------------------------------------------------------------------------------------\n",
        "\n",
        "\n",
        "--------------------------------------------------------------------------------------------------------------------------------------------------------------------------------------------------------------------------------------------------------------------------------------------------------------------------------\n"
      ]
    },
    {
      "cell_type": "markdown",
      "metadata": {
        "id": "0oHdWdhejViR",
        "colab_type": "text"
      },
      "source": [
        "# 3.] VIDEO + SEMANTIC FEATURES : MERGE ( CAPTION - TFIDF + C3D )"
      ]
    },
    {
      "cell_type": "code",
      "metadata": {
        "id": "a6w9tnPsSd92",
        "colab_type": "code",
        "colab": {}
      },
      "source": [
        "df = pd.read_csv('./Dev-set/Ground-truth/ground-truth.csv')"
      ],
      "execution_count": 0,
      "outputs": []
    },
    {
      "cell_type": "code",
      "metadata": {
        "id": "850bCMN6T-Dy",
        "colab_type": "code",
        "colab": {}
      },
      "source": [
        "test_ground_truth = pd.read_csv('./Test-set/Ground-truth_test/ground_truth_template.csv')\n",
        "test_ground_truth = test_ground_truth.drop(['nb_short-term_annotations', 'nb_long-term_annotations'], axis=1)\n",
        "df = test_ground_truth\n",
        "df['video'] = df['video'].apply(lambda x : x.split('.')[0])"
      ],
      "execution_count": 0,
      "outputs": []
    },
    {
      "cell_type": "code",
      "metadata": {
        "id": "yEETUbJU-zSe",
        "colab_type": "code",
        "colab": {}
      },
      "source": [
        "df = df.drop(['nb_short-term_annotations', 'nb_long-term_annotations'], axis=1)"
      ],
      "execution_count": 0,
      "outputs": []
    },
    {
      "cell_type": "code",
      "metadata": {
        "id": "QCtPS4O5-1rc",
        "colab_type": "code",
        "outputId": "bfbf4d6a-1ff0-46d3-dec8-d8e9606cc66a",
        "colab": {
          "base_uri": "https://localhost:8080/",
          "height": 195
        }
      },
      "source": [
        "df.head()\n"
      ],
      "execution_count": 0,
      "outputs": [
        {
          "output_type": "execute_result",
          "data": {
            "text/html": [
              "<div>\n",
              "<style scoped>\n",
              "    .dataframe tbody tr th:only-of-type {\n",
              "        vertical-align: middle;\n",
              "    }\n",
              "\n",
              "    .dataframe tbody tr th {\n",
              "        vertical-align: top;\n",
              "    }\n",
              "\n",
              "    .dataframe thead th {\n",
              "        text-align: right;\n",
              "    }\n",
              "</style>\n",
              "<table border=\"1\" class=\"dataframe\">\n",
              "  <thead>\n",
              "    <tr style=\"text-align: right;\">\n",
              "      <th></th>\n",
              "      <th>video</th>\n",
              "      <th>short-term_memorability</th>\n",
              "      <th>long-term_memorability</th>\n",
              "    </tr>\n",
              "  </thead>\n",
              "  <tbody>\n",
              "    <tr>\n",
              "      <th>0</th>\n",
              "      <td>video3.webm</td>\n",
              "      <td>0.924</td>\n",
              "      <td>0.846</td>\n",
              "    </tr>\n",
              "    <tr>\n",
              "      <th>1</th>\n",
              "      <td>video4.webm</td>\n",
              "      <td>0.923</td>\n",
              "      <td>0.667</td>\n",
              "    </tr>\n",
              "    <tr>\n",
              "      <th>2</th>\n",
              "      <td>video6.webm</td>\n",
              "      <td>0.863</td>\n",
              "      <td>0.700</td>\n",
              "    </tr>\n",
              "    <tr>\n",
              "      <th>3</th>\n",
              "      <td>video8.webm</td>\n",
              "      <td>0.922</td>\n",
              "      <td>0.818</td>\n",
              "    </tr>\n",
              "    <tr>\n",
              "      <th>4</th>\n",
              "      <td>video10.webm</td>\n",
              "      <td>0.950</td>\n",
              "      <td>0.900</td>\n",
              "    </tr>\n",
              "  </tbody>\n",
              "</table>\n",
              "</div>"
            ],
            "text/plain": [
              "          video  short-term_memorability  long-term_memorability\n",
              "0   video3.webm                    0.924                   0.846\n",
              "1   video4.webm                    0.923                   0.667\n",
              "2   video6.webm                    0.863                   0.700\n",
              "3   video8.webm                    0.922                   0.818\n",
              "4  video10.webm                    0.950                   0.900"
            ]
          },
          "metadata": {
            "tags": []
          },
          "execution_count": 36
        }
      ]
    },
    {
      "cell_type": "code",
      "metadata": {
        "id": "TlHdGK4x-8H4",
        "colab_type": "code",
        "colab": {}
      },
      "source": [
        "df['video'] = df['video'].apply(lambda x : x.split('.')[0])"
      ],
      "execution_count": 0,
      "outputs": []
    },
    {
      "cell_type": "code",
      "metadata": {
        "id": "zN6I5n4W--wo",
        "colab_type": "code",
        "outputId": "7276ee88-845e-4b88-e36c-d7419ffe34a3",
        "colab": {
          "base_uri": "https://localhost:8080/",
          "height": 195
        }
      },
      "source": [
        "df.head()"
      ],
      "execution_count": 0,
      "outputs": [
        {
          "output_type": "execute_result",
          "data": {
            "text/html": [
              "<div>\n",
              "<style scoped>\n",
              "    .dataframe tbody tr th:only-of-type {\n",
              "        vertical-align: middle;\n",
              "    }\n",
              "\n",
              "    .dataframe tbody tr th {\n",
              "        vertical-align: top;\n",
              "    }\n",
              "\n",
              "    .dataframe thead th {\n",
              "        text-align: right;\n",
              "    }\n",
              "</style>\n",
              "<table border=\"1\" class=\"dataframe\">\n",
              "  <thead>\n",
              "    <tr style=\"text-align: right;\">\n",
              "      <th></th>\n",
              "      <th>video</th>\n",
              "      <th>short-term_memorability</th>\n",
              "      <th>long-term_memorability</th>\n",
              "    </tr>\n",
              "  </thead>\n",
              "  <tbody>\n",
              "    <tr>\n",
              "      <th>0</th>\n",
              "      <td>video3</td>\n",
              "      <td>0.924</td>\n",
              "      <td>0.846</td>\n",
              "    </tr>\n",
              "    <tr>\n",
              "      <th>1</th>\n",
              "      <td>video4</td>\n",
              "      <td>0.923</td>\n",
              "      <td>0.667</td>\n",
              "    </tr>\n",
              "    <tr>\n",
              "      <th>2</th>\n",
              "      <td>video6</td>\n",
              "      <td>0.863</td>\n",
              "      <td>0.700</td>\n",
              "    </tr>\n",
              "    <tr>\n",
              "      <th>3</th>\n",
              "      <td>video8</td>\n",
              "      <td>0.922</td>\n",
              "      <td>0.818</td>\n",
              "    </tr>\n",
              "    <tr>\n",
              "      <th>4</th>\n",
              "      <td>video10</td>\n",
              "      <td>0.950</td>\n",
              "      <td>0.900</td>\n",
              "    </tr>\n",
              "  </tbody>\n",
              "</table>\n",
              "</div>"
            ],
            "text/plain": [
              "     video  short-term_memorability  long-term_memorability\n",
              "0   video3                    0.924                   0.846\n",
              "1   video4                    0.923                   0.667\n",
              "2   video6                    0.863                   0.700\n",
              "3   video8                    0.922                   0.818\n",
              "4  video10                    0.950                   0.900"
            ]
          },
          "metadata": {
            "tags": []
          },
          "execution_count": 38
        }
      ]
    },
    {
      "cell_type": "code",
      "metadata": {
        "id": "h-YYQALk_73I",
        "colab_type": "code",
        "colab": {}
      },
      "source": [
        "captions_features = pd.read_csv('./Dev-set/Captions/dev-set_video-captions.txt',delimiter='\\t',header= None,names=('video','Captions'))"
      ],
      "execution_count": 0,
      "outputs": []
    },
    {
      "cell_type": "code",
      "metadata": {
        "id": "bWkFYtQoAE3m",
        "colab_type": "code",
        "colab": {}
      },
      "source": [
        "captions_features['video'] = captions_features['video'].apply(lambda x : x.split('.')[0])"
      ],
      "execution_count": 0,
      "outputs": []
    },
    {
      "cell_type": "code",
      "metadata": {
        "id": "PTLpRzMuAlP_",
        "colab_type": "code",
        "outputId": "15d0abbe-0290-4435-e712-f550e3cbd2a6",
        "colab": {
          "base_uri": "https://localhost:8080/",
          "height": 195
        }
      },
      "source": [
        "captions_features.tail()"
      ],
      "execution_count": 0,
      "outputs": [
        {
          "output_type": "execute_result",
          "data": {
            "text/html": [
              "<div>\n",
              "<style scoped>\n",
              "    .dataframe tbody tr th:only-of-type {\n",
              "        vertical-align: middle;\n",
              "    }\n",
              "\n",
              "    .dataframe tbody tr th {\n",
              "        vertical-align: top;\n",
              "    }\n",
              "\n",
              "    .dataframe thead th {\n",
              "        text-align: right;\n",
              "    }\n",
              "</style>\n",
              "<table border=\"1\" class=\"dataframe\">\n",
              "  <thead>\n",
              "    <tr style=\"text-align: right;\">\n",
              "      <th></th>\n",
              "      <th>video</th>\n",
              "      <th>Captions</th>\n",
              "    </tr>\n",
              "  </thead>\n",
              "  <tbody>\n",
              "    <tr>\n",
              "      <th>5995</th>\n",
              "      <td>video7488</td>\n",
              "      <td>beautiful-young-woman-in-front-of-fountains</td>\n",
              "    </tr>\n",
              "    <tr>\n",
              "      <th>5996</th>\n",
              "      <td>video7489</td>\n",
              "      <td>focus-pull-from-molting-penguin-to-penguin-col...</td>\n",
              "    </tr>\n",
              "    <tr>\n",
              "      <th>5997</th>\n",
              "      <td>video7491</td>\n",
              "      <td>students-walking-in-university-of-mexico</td>\n",
              "    </tr>\n",
              "    <tr>\n",
              "      <th>5998</th>\n",
              "      <td>video7492</td>\n",
              "      <td>beautiful-black-woman-at-spa</td>\n",
              "    </tr>\n",
              "    <tr>\n",
              "      <th>5999</th>\n",
              "      <td>video7493</td>\n",
              "      <td>beautiful-modern-brunette-woman-using-tablet-c...</td>\n",
              "    </tr>\n",
              "  </tbody>\n",
              "</table>\n",
              "</div>"
            ],
            "text/plain": [
              "          video                                           Captions\n",
              "5995  video7488        beautiful-young-woman-in-front-of-fountains\n",
              "5996  video7489  focus-pull-from-molting-penguin-to-penguin-col...\n",
              "5997  video7491           students-walking-in-university-of-mexico\n",
              "5998  video7492                       beautiful-black-woman-at-spa\n",
              "5999  video7493  beautiful-modern-brunette-woman-using-tablet-c..."
            ]
          },
          "metadata": {
            "tags": []
          },
          "execution_count": 42
        }
      ]
    },
    {
      "cell_type": "code",
      "metadata": {
        "id": "fl_2tYzfAnfk",
        "colab_type": "code",
        "colab": {}
      },
      "source": [
        "corpus = []\n",
        "for i in range(0, 6000):\n",
        "    caption = re.sub('[^a-zA-Z]', ' ', captions_features['Captions'][i])\n",
        "    caption = caption.lower()\n",
        "    caption = caption.split()\n",
        "    caption = [word for word in caption if not word in set(stopwords.words('english'))]\n",
        "    caption = ' '.join(caption)\n",
        "    corpus.append(caption)"
      ],
      "execution_count": 0,
      "outputs": []
    },
    {
      "cell_type": "code",
      "metadata": {
        "id": "mnJ6mGXiAs_N",
        "colab_type": "code",
        "colab": {}
      },
      "source": [
        "from sklearn.feature_extraction.text import TfidfVectorizer\n",
        "tf = TfidfVectorizer()"
      ],
      "execution_count": 0,
      "outputs": []
    },
    {
      "cell_type": "code",
      "metadata": {
        "id": "0PCj1I3QAxYv",
        "colab_type": "code",
        "colab": {}
      },
      "source": [
        "captions_array = tf.fit_transform(corpus).toarray()"
      ],
      "execution_count": 0,
      "outputs": []
    },
    {
      "cell_type": "code",
      "metadata": {
        "id": "zdaO63StAzzW",
        "colab_type": "code",
        "colab": {}
      },
      "source": [
        "pdf = pd.merge(df, C3D_featu , on='video')"
      ],
      "execution_count": 0,
      "outputs": []
    },
    {
      "cell_type": "code",
      "metadata": {
        "id": "rHd2suIhA4WC",
        "colab_type": "code",
        "outputId": "d6bd4410-b85f-4e15-f03c-d7186dfb95bc",
        "colab": {
          "base_uri": "https://localhost:8080/",
          "height": 345
        }
      },
      "source": [
        "pdf.tail()"
      ],
      "execution_count": 0,
      "outputs": [
        {
          "output_type": "execute_result",
          "data": {
            "text/html": [
              "<div>\n",
              "<style scoped>\n",
              "    .dataframe tbody tr th:only-of-type {\n",
              "        vertical-align: middle;\n",
              "    }\n",
              "\n",
              "    .dataframe tbody tr th {\n",
              "        vertical-align: top;\n",
              "    }\n",
              "\n",
              "    .dataframe thead th {\n",
              "        text-align: right;\n",
              "    }\n",
              "</style>\n",
              "<table border=\"1\" class=\"dataframe\">\n",
              "  <thead>\n",
              "    <tr style=\"text-align: right;\">\n",
              "      <th></th>\n",
              "      <th>video</th>\n",
              "      <th>short-term_memorability</th>\n",
              "      <th>long-term_memorability</th>\n",
              "      <th>0</th>\n",
              "      <th>1</th>\n",
              "      <th>2</th>\n",
              "      <th>3</th>\n",
              "      <th>4</th>\n",
              "      <th>5</th>\n",
              "      <th>6</th>\n",
              "      <th>7</th>\n",
              "      <th>8</th>\n",
              "      <th>9</th>\n",
              "      <th>10</th>\n",
              "      <th>11</th>\n",
              "      <th>12</th>\n",
              "      <th>13</th>\n",
              "      <th>14</th>\n",
              "      <th>15</th>\n",
              "      <th>16</th>\n",
              "      <th>17</th>\n",
              "      <th>18</th>\n",
              "      <th>19</th>\n",
              "      <th>20</th>\n",
              "      <th>21</th>\n",
              "      <th>22</th>\n",
              "      <th>23</th>\n",
              "      <th>24</th>\n",
              "      <th>25</th>\n",
              "      <th>26</th>\n",
              "      <th>27</th>\n",
              "      <th>28</th>\n",
              "      <th>29</th>\n",
              "      <th>30</th>\n",
              "      <th>31</th>\n",
              "      <th>32</th>\n",
              "      <th>33</th>\n",
              "      <th>34</th>\n",
              "      <th>35</th>\n",
              "      <th>36</th>\n",
              "      <th>...</th>\n",
              "      <th>61</th>\n",
              "      <th>62</th>\n",
              "      <th>63</th>\n",
              "      <th>64</th>\n",
              "      <th>65</th>\n",
              "      <th>66</th>\n",
              "      <th>67</th>\n",
              "      <th>68</th>\n",
              "      <th>69</th>\n",
              "      <th>70</th>\n",
              "      <th>71</th>\n",
              "      <th>72</th>\n",
              "      <th>73</th>\n",
              "      <th>74</th>\n",
              "      <th>75</th>\n",
              "      <th>76</th>\n",
              "      <th>77</th>\n",
              "      <th>78</th>\n",
              "      <th>79</th>\n",
              "      <th>80</th>\n",
              "      <th>81</th>\n",
              "      <th>82</th>\n",
              "      <th>83</th>\n",
              "      <th>84</th>\n",
              "      <th>85</th>\n",
              "      <th>86</th>\n",
              "      <th>87</th>\n",
              "      <th>88</th>\n",
              "      <th>89</th>\n",
              "      <th>90</th>\n",
              "      <th>91</th>\n",
              "      <th>92</th>\n",
              "      <th>93</th>\n",
              "      <th>94</th>\n",
              "      <th>95</th>\n",
              "      <th>96</th>\n",
              "      <th>97</th>\n",
              "      <th>98</th>\n",
              "      <th>99</th>\n",
              "      <th>100</th>\n",
              "    </tr>\n",
              "  </thead>\n",
              "  <tbody>\n",
              "    <tr>\n",
              "      <th>5995</th>\n",
              "      <td>video7488</td>\n",
              "      <td>0.921</td>\n",
              "      <td>1.000</td>\n",
              "      <td>0.357246</td>\n",
              "      <td>0.075982</td>\n",
              "      <td>0.003025</td>\n",
              "      <td>0.000028</td>\n",
              "      <td>4.380000e-06</td>\n",
              "      <td>0.000008</td>\n",
              "      <td>3.398000e-05</td>\n",
              "      <td>0.000551</td>\n",
              "      <td>0.000112</td>\n",
              "      <td>3.792500e-04</td>\n",
              "      <td>0.000042</td>\n",
              "      <td>3.722000e-05</td>\n",
              "      <td>0.000440</td>\n",
              "      <td>0.005013</td>\n",
              "      <td>1.198000e-05</td>\n",
              "      <td>0.000138</td>\n",
              "      <td>0.000636</td>\n",
              "      <td>0.000059</td>\n",
              "      <td>9.690000e-06</td>\n",
              "      <td>0.000461</td>\n",
              "      <td>4.780000e-06</td>\n",
              "      <td>1.492000e-04</td>\n",
              "      <td>0.000036</td>\n",
              "      <td>4.110000e-06</td>\n",
              "      <td>0.001047</td>\n",
              "      <td>2.780000e-06</td>\n",
              "      <td>0.000108</td>\n",
              "      <td>0.000016</td>\n",
              "      <td>5.486000e-05</td>\n",
              "      <td>3.140000e-06</td>\n",
              "      <td>0.000035</td>\n",
              "      <td>0.000069</td>\n",
              "      <td>0.000103</td>\n",
              "      <td>0.469860</td>\n",
              "      <td>1.879900e-04</td>\n",
              "      <td>1.964000e-05</td>\n",
              "      <td>1.362900e-04</td>\n",
              "      <td>...</td>\n",
              "      <td>0.032424</td>\n",
              "      <td>0.009414</td>\n",
              "      <td>0.005849</td>\n",
              "      <td>0.002164</td>\n",
              "      <td>0.003890</td>\n",
              "      <td>0.001962</td>\n",
              "      <td>2.985200e-04</td>\n",
              "      <td>0.000020</td>\n",
              "      <td>2.617700e-04</td>\n",
              "      <td>0.000076</td>\n",
              "      <td>9.030000e-06</td>\n",
              "      <td>0.000022</td>\n",
              "      <td>5.630200e-04</td>\n",
              "      <td>1.628000e-05</td>\n",
              "      <td>0.000068</td>\n",
              "      <td>2.076000e-05</td>\n",
              "      <td>0.006603</td>\n",
              "      <td>8.080000e-06</td>\n",
              "      <td>0.000072</td>\n",
              "      <td>0.000189</td>\n",
              "      <td>0.000118</td>\n",
              "      <td>0.000060</td>\n",
              "      <td>6.537000e-05</td>\n",
              "      <td>0.000162</td>\n",
              "      <td>0.000031</td>\n",
              "      <td>0.000002</td>\n",
              "      <td>5.680000e-05</td>\n",
              "      <td>8.100000e-07</td>\n",
              "      <td>1.819000e-05</td>\n",
              "      <td>0.000451</td>\n",
              "      <td>0.000184</td>\n",
              "      <td>8.489000e-05</td>\n",
              "      <td>5.350000e-06</td>\n",
              "      <td>0.000419</td>\n",
              "      <td>2.165000e-05</td>\n",
              "      <td>5.900000e-07</td>\n",
              "      <td>0.000039</td>\n",
              "      <td>0.000943</td>\n",
              "      <td>0.000421</td>\n",
              "      <td>0.001512</td>\n",
              "    </tr>\n",
              "    <tr>\n",
              "      <th>5996</th>\n",
              "      <td>video7489</td>\n",
              "      <td>0.909</td>\n",
              "      <td>0.839</td>\n",
              "      <td>0.192803</td>\n",
              "      <td>0.000938</td>\n",
              "      <td>0.005061</td>\n",
              "      <td>0.000001</td>\n",
              "      <td>4.070000e-06</td>\n",
              "      <td>0.000004</td>\n",
              "      <td>9.500000e-07</td>\n",
              "      <td>0.000014</td>\n",
              "      <td>0.000003</td>\n",
              "      <td>4.652000e-05</td>\n",
              "      <td>0.000005</td>\n",
              "      <td>8.100000e-07</td>\n",
              "      <td>0.194622</td>\n",
              "      <td>0.000305</td>\n",
              "      <td>2.220000e-06</td>\n",
              "      <td>0.000002</td>\n",
              "      <td>0.000005</td>\n",
              "      <td>0.000064</td>\n",
              "      <td>1.700000e-07</td>\n",
              "      <td>0.000007</td>\n",
              "      <td>6.000000e-08</td>\n",
              "      <td>2.534600e-04</td>\n",
              "      <td>0.000001</td>\n",
              "      <td>4.000000e-08</td>\n",
              "      <td>0.000038</td>\n",
              "      <td>4.300000e-07</td>\n",
              "      <td>0.000981</td>\n",
              "      <td>0.000002</td>\n",
              "      <td>3.800000e-07</td>\n",
              "      <td>4.300000e-07</td>\n",
              "      <td>0.000001</td>\n",
              "      <td>0.000003</td>\n",
              "      <td>0.000006</td>\n",
              "      <td>0.147236</td>\n",
              "      <td>6.024000e-05</td>\n",
              "      <td>1.800000e-07</td>\n",
              "      <td>8.671000e-05</td>\n",
              "      <td>...</td>\n",
              "      <td>0.000778</td>\n",
              "      <td>0.000605</td>\n",
              "      <td>0.000067</td>\n",
              "      <td>0.000186</td>\n",
              "      <td>0.000105</td>\n",
              "      <td>0.000251</td>\n",
              "      <td>4.120000e-06</td>\n",
              "      <td>0.000018</td>\n",
              "      <td>6.528000e-05</td>\n",
              "      <td>0.000013</td>\n",
              "      <td>4.800000e-07</td>\n",
              "      <td>0.000005</td>\n",
              "      <td>3.578974e-01</td>\n",
              "      <td>3.120000e-05</td>\n",
              "      <td>0.000002</td>\n",
              "      <td>1.800000e-07</td>\n",
              "      <td>0.095437</td>\n",
              "      <td>6.500000e-07</td>\n",
              "      <td>0.000001</td>\n",
              "      <td>0.000008</td>\n",
              "      <td>0.000002</td>\n",
              "      <td>0.000064</td>\n",
              "      <td>4.100000e-07</td>\n",
              "      <td>0.000009</td>\n",
              "      <td>0.000001</td>\n",
              "      <td>0.000003</td>\n",
              "      <td>2.600000e-07</td>\n",
              "      <td>5.000000e-08</td>\n",
              "      <td>6.000000e-08</td>\n",
              "      <td>0.000004</td>\n",
              "      <td>0.000004</td>\n",
              "      <td>1.300000e-07</td>\n",
              "      <td>2.500000e-07</td>\n",
              "      <td>0.000649</td>\n",
              "      <td>1.500000e-07</td>\n",
              "      <td>4.300000e-07</td>\n",
              "      <td>0.000004</td>\n",
              "      <td>0.000003</td>\n",
              "      <td>0.000166</td>\n",
              "      <td>0.000046</td>\n",
              "    </tr>\n",
              "    <tr>\n",
              "      <th>5997</th>\n",
              "      <td>video7491</td>\n",
              "      <td>0.713</td>\n",
              "      <td>0.818</td>\n",
              "      <td>0.000026</td>\n",
              "      <td>0.000122</td>\n",
              "      <td>0.000028</td>\n",
              "      <td>0.000026</td>\n",
              "      <td>3.100000e-07</td>\n",
              "      <td>0.000008</td>\n",
              "      <td>2.869000e-05</td>\n",
              "      <td>0.000002</td>\n",
              "      <td>0.000033</td>\n",
              "      <td>5.500000e-07</td>\n",
              "      <td>0.000005</td>\n",
              "      <td>1.405600e-04</td>\n",
              "      <td>0.000002</td>\n",
              "      <td>0.000177</td>\n",
              "      <td>1.100000e-07</td>\n",
              "      <td>0.000118</td>\n",
              "      <td>0.000002</td>\n",
              "      <td>0.000002</td>\n",
              "      <td>1.790000e-06</td>\n",
              "      <td>0.000039</td>\n",
              "      <td>1.372000e-05</td>\n",
              "      <td>5.000000e-08</td>\n",
              "      <td>0.001146</td>\n",
              "      <td>5.180000e-05</td>\n",
              "      <td>0.000163</td>\n",
              "      <td>1.700000e-07</td>\n",
              "      <td>0.000006</td>\n",
              "      <td>0.000083</td>\n",
              "      <td>1.886000e-05</td>\n",
              "      <td>2.562130e-03</td>\n",
              "      <td>0.000005</td>\n",
              "      <td>0.000008</td>\n",
              "      <td>0.000016</td>\n",
              "      <td>0.000009</td>\n",
              "      <td>3.400000e-07</td>\n",
              "      <td>1.050000e-06</td>\n",
              "      <td>4.000000e-08</td>\n",
              "      <td>...</td>\n",
              "      <td>0.000444</td>\n",
              "      <td>0.000031</td>\n",
              "      <td>0.000095</td>\n",
              "      <td>0.000024</td>\n",
              "      <td>0.000058</td>\n",
              "      <td>0.000009</td>\n",
              "      <td>7.400000e-07</td>\n",
              "      <td>0.000007</td>\n",
              "      <td>3.600000e-07</td>\n",
              "      <td>0.000014</td>\n",
              "      <td>3.388000e-05</td>\n",
              "      <td>0.000020</td>\n",
              "      <td>9.700000e-07</td>\n",
              "      <td>1.900000e-07</td>\n",
              "      <td>0.000003</td>\n",
              "      <td>5.969210e-02</td>\n",
              "      <td>0.000002</td>\n",
              "      <td>1.600000e-07</td>\n",
              "      <td>0.000096</td>\n",
              "      <td>0.000161</td>\n",
              "      <td>0.000003</td>\n",
              "      <td>0.000051</td>\n",
              "      <td>1.012080e-03</td>\n",
              "      <td>0.000010</td>\n",
              "      <td>0.000007</td>\n",
              "      <td>0.000012</td>\n",
              "      <td>1.190000e-06</td>\n",
              "      <td>8.700000e-07</td>\n",
              "      <td>6.473700e-04</td>\n",
              "      <td>0.000106</td>\n",
              "      <td>0.002243</td>\n",
              "      <td>6.870000e-06</td>\n",
              "      <td>9.700000e-07</td>\n",
              "      <td>0.000003</td>\n",
              "      <td>1.692000e-05</td>\n",
              "      <td>1.460000e-06</td>\n",
              "      <td>0.000047</td>\n",
              "      <td>0.007159</td>\n",
              "      <td>0.004958</td>\n",
              "      <td>0.000892</td>\n",
              "    </tr>\n",
              "    <tr>\n",
              "      <th>5998</th>\n",
              "      <td>video7492</td>\n",
              "      <td>0.954</td>\n",
              "      <td>1.000</td>\n",
              "      <td>0.265091</td>\n",
              "      <td>0.096539</td>\n",
              "      <td>0.000060</td>\n",
              "      <td>0.000227</td>\n",
              "      <td>6.880000e-06</td>\n",
              "      <td>0.000052</td>\n",
              "      <td>5.517630e-03</td>\n",
              "      <td>0.000270</td>\n",
              "      <td>0.000426</td>\n",
              "      <td>1.957000e-05</td>\n",
              "      <td>0.000033</td>\n",
              "      <td>4.591700e-04</td>\n",
              "      <td>0.000096</td>\n",
              "      <td>0.075837</td>\n",
              "      <td>5.880000e-06</td>\n",
              "      <td>0.003816</td>\n",
              "      <td>0.000020</td>\n",
              "      <td>0.000003</td>\n",
              "      <td>8.917500e-04</td>\n",
              "      <td>0.015033</td>\n",
              "      <td>1.463000e-05</td>\n",
              "      <td>7.780000e-06</td>\n",
              "      <td>0.000020</td>\n",
              "      <td>8.240000e-06</td>\n",
              "      <td>0.198280</td>\n",
              "      <td>4.691000e-05</td>\n",
              "      <td>0.000825</td>\n",
              "      <td>0.000060</td>\n",
              "      <td>5.516900e-04</td>\n",
              "      <td>6.631000e-05</td>\n",
              "      <td>0.000224</td>\n",
              "      <td>0.001515</td>\n",
              "      <td>0.000078</td>\n",
              "      <td>0.066790</td>\n",
              "      <td>6.869000e-05</td>\n",
              "      <td>7.620000e-06</td>\n",
              "      <td>1.908000e-04</td>\n",
              "      <td>...</td>\n",
              "      <td>0.010091</td>\n",
              "      <td>0.101708</td>\n",
              "      <td>0.001564</td>\n",
              "      <td>0.002554</td>\n",
              "      <td>0.024584</td>\n",
              "      <td>0.000131</td>\n",
              "      <td>3.923000e-05</td>\n",
              "      <td>0.000131</td>\n",
              "      <td>1.508000e-05</td>\n",
              "      <td>0.000614</td>\n",
              "      <td>4.060200e-04</td>\n",
              "      <td>0.000049</td>\n",
              "      <td>1.759560e-03</td>\n",
              "      <td>5.700000e-07</td>\n",
              "      <td>0.000105</td>\n",
              "      <td>1.648000e-05</td>\n",
              "      <td>0.059299</td>\n",
              "      <td>1.934000e-05</td>\n",
              "      <td>0.000146</td>\n",
              "      <td>0.000277</td>\n",
              "      <td>0.000759</td>\n",
              "      <td>0.001582</td>\n",
              "      <td>8.110000e-06</td>\n",
              "      <td>0.000425</td>\n",
              "      <td>0.000092</td>\n",
              "      <td>0.000446</td>\n",
              "      <td>2.211670e-03</td>\n",
              "      <td>2.137000e-05</td>\n",
              "      <td>2.009800e-04</td>\n",
              "      <td>0.000657</td>\n",
              "      <td>0.003512</td>\n",
              "      <td>4.771000e-05</td>\n",
              "      <td>2.443000e-05</td>\n",
              "      <td>0.007414</td>\n",
              "      <td>5.672000e-05</td>\n",
              "      <td>4.590000e-06</td>\n",
              "      <td>0.000083</td>\n",
              "      <td>0.000108</td>\n",
              "      <td>0.001268</td>\n",
              "      <td>0.000710</td>\n",
              "    </tr>\n",
              "    <tr>\n",
              "      <th>5999</th>\n",
              "      <td>video7493</td>\n",
              "      <td>0.953</td>\n",
              "      <td>0.615</td>\n",
              "      <td>0.020589</td>\n",
              "      <td>0.001221</td>\n",
              "      <td>0.002066</td>\n",
              "      <td>0.002316</td>\n",
              "      <td>1.258000e-05</td>\n",
              "      <td>0.000056</td>\n",
              "      <td>2.576700e-04</td>\n",
              "      <td>0.000152</td>\n",
              "      <td>0.000413</td>\n",
              "      <td>1.863000e-05</td>\n",
              "      <td>0.000432</td>\n",
              "      <td>1.625900e-04</td>\n",
              "      <td>0.012113</td>\n",
              "      <td>0.000530</td>\n",
              "      <td>4.046000e-05</td>\n",
              "      <td>0.000207</td>\n",
              "      <td>0.000008</td>\n",
              "      <td>0.000089</td>\n",
              "      <td>2.330470e-03</td>\n",
              "      <td>0.000812</td>\n",
              "      <td>4.580000e-06</td>\n",
              "      <td>4.640000e-04</td>\n",
              "      <td>0.000239</td>\n",
              "      <td>1.779000e-05</td>\n",
              "      <td>0.248465</td>\n",
              "      <td>2.304700e-04</td>\n",
              "      <td>0.000157</td>\n",
              "      <td>0.000014</td>\n",
              "      <td>6.428600e-04</td>\n",
              "      <td>1.717182e-02</td>\n",
              "      <td>0.000111</td>\n",
              "      <td>0.022821</td>\n",
              "      <td>0.000042</td>\n",
              "      <td>0.012259</td>\n",
              "      <td>3.505000e-04</td>\n",
              "      <td>1.760500e-04</td>\n",
              "      <td>3.948000e-05</td>\n",
              "      <td>...</td>\n",
              "      <td>0.000148</td>\n",
              "      <td>0.007066</td>\n",
              "      <td>0.000152</td>\n",
              "      <td>0.000511</td>\n",
              "      <td>0.000795</td>\n",
              "      <td>0.001418</td>\n",
              "      <td>5.144100e-04</td>\n",
              "      <td>0.000175</td>\n",
              "      <td>1.432000e-05</td>\n",
              "      <td>0.000050</td>\n",
              "      <td>1.655860e-03</td>\n",
              "      <td>0.000888</td>\n",
              "      <td>2.611160e-03</td>\n",
              "      <td>3.161000e-05</td>\n",
              "      <td>0.000164</td>\n",
              "      <td>1.106000e-05</td>\n",
              "      <td>0.039290</td>\n",
              "      <td>1.059000e-05</td>\n",
              "      <td>0.019303</td>\n",
              "      <td>0.406328</td>\n",
              "      <td>0.005352</td>\n",
              "      <td>0.059101</td>\n",
              "      <td>9.656000e-05</td>\n",
              "      <td>0.000142</td>\n",
              "      <td>0.000191</td>\n",
              "      <td>0.000047</td>\n",
              "      <td>2.762960e-03</td>\n",
              "      <td>1.862000e-05</td>\n",
              "      <td>5.751000e-05</td>\n",
              "      <td>0.000073</td>\n",
              "      <td>0.000282</td>\n",
              "      <td>1.984700e-04</td>\n",
              "      <td>9.720000e-06</td>\n",
              "      <td>0.010042</td>\n",
              "      <td>6.885000e-05</td>\n",
              "      <td>7.910000e-06</td>\n",
              "      <td>0.000336</td>\n",
              "      <td>0.000828</td>\n",
              "      <td>0.004901</td>\n",
              "      <td>0.001185</td>\n",
              "    </tr>\n",
              "  </tbody>\n",
              "</table>\n",
              "<p>5 rows × 104 columns</p>\n",
              "</div>"
            ],
            "text/plain": [
              "          video  short-term_memorability  ...        99       100\n",
              "5995  video7488                    0.921  ...  0.000421  0.001512\n",
              "5996  video7489                    0.909  ...  0.000166  0.000046\n",
              "5997  video7491                    0.713  ...  0.004958  0.000892\n",
              "5998  video7492                    0.954  ...  0.001268  0.000710\n",
              "5999  video7493                    0.953  ...  0.004901  0.001185\n",
              "\n",
              "[5 rows x 104 columns]"
            ]
          },
          "metadata": {
            "tags": []
          },
          "execution_count": 47
        }
      ]
    },
    {
      "cell_type": "code",
      "metadata": {
        "id": "DAmVJ9soA7Jk",
        "colab_type": "code",
        "colab": {}
      },
      "source": [
        "C3D_array = pdf.iloc[:,3:104].values"
      ],
      "execution_count": 0,
      "outputs": []
    },
    {
      "cell_type": "code",
      "metadata": {
        "id": "t0wWP-oiBAA9",
        "colab_type": "code",
        "outputId": "f2d322a4-735d-4de3-b1a8-58b87762ef5d",
        "colab": {
          "base_uri": "https://localhost:8080/",
          "height": 34
        }
      },
      "source": [
        "C3D_array.shape"
      ],
      "execution_count": 156,
      "outputs": [
        {
          "output_type": "execute_result",
          "data": {
            "text/plain": [
              "(6000, 101)"
            ]
          },
          "metadata": {
            "tags": []
          },
          "execution_count": 156
        }
      ]
    },
    {
      "cell_type": "code",
      "metadata": {
        "id": "tDEPITxsBCEk",
        "colab_type": "code",
        "colab": {}
      },
      "source": [
        "merged_array = np.concatenate((captions_array, C3D_array), axis=1)"
      ],
      "execution_count": 0,
      "outputs": []
    },
    {
      "cell_type": "markdown",
      "metadata": {
        "id": "mQsfilL9BJw_",
        "colab_type": "text"
      },
      "source": [
        "Finally, merged C3D features, ground truth and captions"
      ]
    },
    {
      "cell_type": "markdown",
      "metadata": {
        "id": "jFb0Xj5peRUa",
        "colab_type": "text"
      },
      "source": [
        "# 3.] TRAINING AND VALIDATION (CAPTIONS FEATURES + C3D)"
      ]
    },
    {
      "cell_type": "code",
      "metadata": {
        "id": "aFuVfulABGG3",
        "colab_type": "code",
        "colab": {}
      },
      "source": [
        "X = merged_array\n",
        "Y = df.iloc[:, 1:3].values"
      ],
      "execution_count": 0,
      "outputs": []
    },
    {
      "cell_type": "code",
      "metadata": {
        "id": "Y17fkvcsZpbs",
        "colab_type": "code",
        "colab": {}
      },
      "source": [
        "from sklearn.model_selection import train_test_split\n",
        "X_train, X_test, Y_train, Y_test = train_test_split(X, Y, test_size = 0.20, random_state=40)\n",
        "#return X_train,Y_train,Y_test,X_test"
      ],
      "execution_count": 0,
      "outputs": []
    },
    {
      "cell_type": "code",
      "metadata": {
        "id": "VczINNwOBPOF",
        "colab_type": "code",
        "outputId": "de947c25-b7fa-4d67-ff33-436597756ed8",
        "colab": {
          "base_uri": "https://localhost:8080/",
          "height": 52
        }
      },
      "source": [
        "LinearRegression(X_train,Y_train,Y_test,X_test)"
      ],
      "execution_count": 0,
      "outputs": [
        {
          "output_type": "stream",
          "text": [
            "The Spearman's correlation coefficient is: 0.081\n",
            "The Spearman's correlation coefficient is: 0.091\n"
          ],
          "name": "stdout"
        }
      ]
    },
    {
      "cell_type": "code",
      "metadata": {
        "id": "85flyYU7CvCN",
        "colab_type": "code",
        "outputId": "d6dc4ee9-23b6-4ae3-94bd-ceaf9ba54c57",
        "colab": {
          "base_uri": "https://localhost:8080/",
          "height": 52
        }
      },
      "source": [
        "DecisionTree(X_train,Y_train,Y_test,X_test)"
      ],
      "execution_count": 0,
      "outputs": [
        {
          "output_type": "stream",
          "text": [
            "The Spearman's correlation coefficient is: 0.107\n",
            "The Spearman's correlation coefficient is: 0.096\n"
          ],
          "name": "stdout"
        }
      ]
    },
    {
      "cell_type": "code",
      "metadata": {
        "id": "WwI23dBACvWJ",
        "colab_type": "code",
        "outputId": "1768e606-0f96-4c0f-a400-069272534559",
        "colab": {
          "base_uri": "https://localhost:8080/",
          "height": 52
        }
      },
      "source": [
        "RandomForest(X_train,Y_train,Y_test,X_test)"
      ],
      "execution_count": 0,
      "outputs": [
        {
          "output_type": "stream",
          "text": [
            "The Spearman's correlation coefficient is: 0.222\n",
            "The Spearman's correlation coefficient is: 0.108\n"
          ],
          "name": "stdout"
        }
      ]
    },
    {
      "cell_type": "code",
      "metadata": {
        "id": "FhGPfR3XJg3H",
        "colab_type": "code",
        "outputId": "bc1e528a-1c18-4e46-b5fc-2ee8e1daa664",
        "colab": {
          "base_uri": "https://localhost:8080/",
          "height": 52
        }
      },
      "source": [
        "RidgeRegression(X_train,Y_train,Y_test,X_test)"
      ],
      "execution_count": 0,
      "outputs": [
        {
          "output_type": "stream",
          "text": [
            "The Spearman's correlation coefficient is: 0.392\n",
            "The Spearman's correlation coefficient is: 0.202\n"
          ],
          "name": "stdout"
        }
      ]
    },
    {
      "cell_type": "code",
      "metadata": {
        "id": "uaFUtdBCtPTq",
        "colab_type": "code",
        "colab": {}
      },
      "source": [
        "X = merged_array\n",
        "Y1 = df.iloc[:, 1:2].values\n",
        "Y2 = df.iloc[:, 2:3].values"
      ],
      "execution_count": 0,
      "outputs": []
    },
    {
      "cell_type": "code",
      "metadata": {
        "id": "hqIHnAiatP2M",
        "colab_type": "code",
        "colab": {}
      },
      "source": [
        "from sklearn.model_selection import train_test_split\n",
        "X_train, X_test, Y1_train, Y1_test, Y2_train, Y2_test = train_test_split(X, Y1, Y2, test_size = 0.20, random_state=40)"
      ],
      "execution_count": 0,
      "outputs": []
    },
    {
      "cell_type": "code",
      "metadata": {
        "id": "Jp6WE7pBtQPx",
        "colab_type": "code",
        "outputId": "e458289e-7a50-4ac5-8360-7e1113b951a5",
        "colab": {
          "base_uri": "https://localhost:8080/",
          "height": 87
        }
      },
      "source": [
        "xgboost(X_train, X_test, Y1_train, Y1_test, Y2_train, Y2_test )"
      ],
      "execution_count": 0,
      "outputs": [
        {
          "output_type": "stream",
          "text": [
            "[03:23:46] WARNING: /workspace/src/objective/regression_obj.cu:152: reg:linear is now deprecated in favor of reg:squarederror.\n",
            "[03:24:17] WARNING: /workspace/src/objective/regression_obj.cu:152: reg:linear is now deprecated in favor of reg:squarederror.\n",
            "The Spearman's correlation coefficient is: 0.358\n",
            "The Spearman's correlation coefficient is: 0.149\n"
          ],
          "name": "stdout"
        }
      ]
    },
    {
      "cell_type": "code",
      "metadata": {
        "id": "VKip4S7ohZBo",
        "colab_type": "code",
        "outputId": "c697a250-3df6-4fdf-aa2e-781598ddfaab",
        "colab": {
          "base_uri": "https://localhost:8080/",
          "height": 142
        }
      },
      "source": [
        "SVR(X_train, X_test, Y1_train, Y1_test, Y2_train, Y2_test )"
      ],
      "execution_count": 0,
      "outputs": [
        {
          "output_type": "stream",
          "text": [
            "/usr/local/lib/python3.6/dist-packages/sklearn/utils/validation.py:760: DataConversionWarning: A column-vector y was passed when a 1d array was expected. Please change the shape of y to (n_samples, ), for example using ravel().\n",
            "  y = column_or_1d(y, warn=True)\n",
            "/usr/local/lib/python3.6/dist-packages/sklearn/utils/validation.py:760: DataConversionWarning: A column-vector y was passed when a 1d array was expected. Please change the shape of y to (n_samples, ), for example using ravel().\n",
            "  y = column_or_1d(y, warn=True)\n"
          ],
          "name": "stderr"
        },
        {
          "output_type": "stream",
          "text": [
            "The Spearman's correlation coefficient is: 0.321\n",
            "The Spearman's correlation coefficient is: 0.233\n"
          ],
          "name": "stdout"
        }
      ]
    },
    {
      "cell_type": "code",
      "metadata": {
        "id": "plvH-C-pZoHC",
        "colab_type": "code",
        "outputId": "39b13f01-d8d1-4c20-eb26-526ec271e745",
        "colab": {
          "base_uri": "https://localhost:8080/",
          "height": 142
        }
      },
      "source": [
        "Bayesian(X_train, X_test, Y1_train, Y1_test, Y2_train, Y2_test )"
      ],
      "execution_count": 0,
      "outputs": [
        {
          "output_type": "stream",
          "text": [
            "/usr/local/lib/python3.6/dist-packages/sklearn/utils/validation.py:760: DataConversionWarning: A column-vector y was passed when a 1d array was expected. Please change the shape of y to (n_samples, ), for example using ravel().\n",
            "  y = column_or_1d(y, warn=True)\n",
            "/usr/local/lib/python3.6/dist-packages/sklearn/utils/validation.py:760: DataConversionWarning: A column-vector y was passed when a 1d array was expected. Please change the shape of y to (n_samples, ), for example using ravel().\n",
            "  y = column_or_1d(y, warn=True)\n"
          ],
          "name": "stderr"
        },
        {
          "output_type": "stream",
          "text": [
            "The Spearman's correlation coefficient is: 0.410\n",
            "The Spearman's correlation coefficient is: 0.229\n"
          ],
          "name": "stdout"
        }
      ]
    },
    {
      "cell_type": "markdown",
      "metadata": {
        "id": "F56GQystBqKE",
        "colab_type": "text"
      },
      "source": [
        "#3.] CONCLUSION (C3D+CAPTION-TFIDF): Bayesian Ridge Regression gave extraordinary results.\n",
        " \n",
        "\n",
        "\n",
        "--------------------------------------------------------------------------------------------------------------------------------------------------------------------------------------------------------------------------------------------------------------------------------------------------------------------------------\n",
        "\n",
        "\n",
        "--------------------------------------------------------------------------------------------------------------------------------------------------------------------------------------------------------------------------------------------------------------------------------------------------------------------------------\n",
        "\n",
        "\n"
      ]
    },
    {
      "cell_type": "markdown",
      "metadata": {
        "id": "2STH4Q9e-5Rz",
        "colab_type": "text"
      },
      "source": [
        "# 3.] FINAL RESULTS: TESTING OF C3D+CAPTION-TFIDF"
      ]
    },
    {
      "cell_type": "code",
      "metadata": {
        "id": "oeRTTZjFzlNR",
        "colab_type": "code",
        "colab": {}
      },
      "source": [
        "C3D_feature_list= []\n",
        "video_names_list = []\n",
        "path = 'C3D/*.txt'\n",
        "for filename in glob.glob('./Test-set/C3D_test/*.txt'):\n",
        "    name = ((filename.split('/')[-1]).split('.')[0])\n",
        "    video_names_list.append(name) \n",
        "    with open(filename) as f:\n",
        "        for line in f:\n",
        "            C3D_features =[float(item) for item in line.split()] \n",
        "    C3D_feature_list.append(C3D_features)\n"
      ],
      "execution_count": 0,
      "outputs": []
    },
    {
      "cell_type": "code",
      "metadata": {
        "id": "SKt7ird5Ftcd",
        "colab_type": "code",
        "colab": {
          "base_uri": "https://localhost:8080/",
          "height": 34
        },
        "outputId": "5a075c8a-b1af-4d48-d391-173cf3f5d0bf"
      },
      "source": [
        "C3D_test = pd.DataFrame(np.array(C3D_feature_list).reshape(2000,101))\n",
        "C3D_test.shape"
      ],
      "execution_count": 59,
      "outputs": [
        {
          "output_type": "execute_result",
          "data": {
            "text/plain": [
              "(2000, 101)"
            ]
          },
          "metadata": {
            "tags": []
          },
          "execution_count": 59
        }
      ]
    },
    {
      "cell_type": "code",
      "metadata": {
        "id": "ogO4_xBBGtdu",
        "colab_type": "code",
        "colab": {}
      },
      "source": [
        "C3D_array = pdf.iloc[:,0:101].values"
      ],
      "execution_count": 0,
      "outputs": []
    },
    {
      "cell_type": "code",
      "metadata": {
        "id": "oy39rNsSGPJG",
        "colab_type": "code",
        "colab": {}
      },
      "source": [
        "C3D_test.to_csv('/content/drive/My Drive/Features/C3D_test.csv')\n"
      ],
      "execution_count": 0,
      "outputs": []
    },
    {
      "cell_type": "code",
      "metadata": {
        "id": "eh3thr4NzJL8",
        "colab_type": "code",
        "colab": {
          "base_uri": "https://localhost:8080/",
          "height": 52
        },
        "outputId": "e4876f64-55b0-4cd8-a0d4-c2c21ab77e66"
      },
      "source": [
        "#m_array = np.concatenate((merged_array, C3D_test), axis=1)\n",
        "merged_array[0:1]"
      ],
      "execution_count": 144,
      "outputs": [
        {
          "output_type": "execute_result",
          "data": {
            "text/plain": [
              "array([[0.0000000e+00, 0.0000000e+00, 0.0000000e+00, ..., 5.0880000e-05,\n",
              "        6.6530000e-05, 6.8281257e-01]])"
            ]
          },
          "metadata": {
            "tags": []
          },
          "execution_count": 144
        }
      ]
    },
    {
      "cell_type": "code",
      "metadata": {
        "id": "lQwHwEDR3mQi",
        "colab_type": "code",
        "outputId": "de58869a-abf2-4037-e1ca-d534d3ee2e4e",
        "colab": {
          "base_uri": "https://localhost:8080/",
          "height": 34
        }
      },
      "source": [
        "#X_test.shape\n",
        "#m_array.shape\n",
        "merged_array.shape"
      ],
      "execution_count": 142,
      "outputs": [
        {
          "output_type": "execute_result",
          "data": {
            "text/plain": [
              "(2000, 3213)"
            ]
          },
          "metadata": {
            "tags": []
          },
          "execution_count": 142
        }
      ]
    },
    {
      "cell_type": "code",
      "metadata": {
        "id": "5Dtrp3LQsV2q",
        "colab_type": "code",
        "colab": {}
      },
      "source": [
        "X_train = merged_6000\n",
        "X_test = merged_array\n",
        "Y1_train = df.iloc[:, 1:2].values\n",
        "Y2_train = df.iloc[:, 2:3].values\n",
        "\n",
        "#Y_test = test_ground_truth.iloc[:2000, 1:3].values\n"
      ],
      "execution_count": 0,
      "outputs": []
    },
    {
      "cell_type": "code",
      "metadata": {
        "id": "ggcrDh1hsWJv",
        "colab_type": "code",
        "outputId": "ec0a7571-0bdc-4fa3-b148-cb1e31df9d0c",
        "colab": {
          "base_uri": "https://localhost:8080/",
          "height": 178
        }
      },
      "source": [
        "from sklearn.linear_model import BayesianRidge\n",
        "from sklearn import linear_model\n",
        "regressor1 = linear_model.BayesianRidge(compute_score=True)\n",
        "regressor1.fit(X_train,Y1_train)\n",
        "regressor2 = linear_model.BayesianRidge(compute_score=True)\n",
        "regressor2.fit(X_train,Y2_train)\n"
      ],
      "execution_count": 181,
      "outputs": [
        {
          "output_type": "stream",
          "text": [
            "/usr/local/lib/python3.6/dist-packages/sklearn/utils/validation.py:760: DataConversionWarning: A column-vector y was passed when a 1d array was expected. Please change the shape of y to (n_samples, ), for example using ravel().\n",
            "  y = column_or_1d(y, warn=True)\n",
            "/usr/local/lib/python3.6/dist-packages/sklearn/utils/validation.py:760: DataConversionWarning: A column-vector y was passed when a 1d array was expected. Please change the shape of y to (n_samples, ), for example using ravel().\n",
            "  y = column_or_1d(y, warn=True)\n"
          ],
          "name": "stderr"
        },
        {
          "output_type": "execute_result",
          "data": {
            "text/plain": [
              "BayesianRidge(alpha_1=1e-06, alpha_2=1e-06, alpha_init=None, compute_score=True,\n",
              "              copy_X=True, fit_intercept=True, lambda_1=1e-06, lambda_2=1e-06,\n",
              "              lambda_init=None, n_iter=300, normalize=False, tol=0.001,\n",
              "              verbose=False)"
            ]
          },
          "metadata": {
            "tags": []
          },
          "execution_count": 181
        }
      ]
    },
    {
      "cell_type": "code",
      "metadata": {
        "id": "0YH4NgGPwFMx",
        "colab_type": "code",
        "colab": {}
      },
      "source": [
        "Final_prediction1 = regressor1.predict(X_test)\n",
        "Final_prediction2 = regressor2.predict(X_test)"
      ],
      "execution_count": 0,
      "outputs": []
    },
    {
      "cell_type": "code",
      "metadata": {
        "id": "3N7mKshKsXGA",
        "colab_type": "code",
        "colab": {}
      },
      "source": [
        "results = pd.DataFrame(columns = ['short-term', 'long-term'])\n",
        "results ['short-term'] = Final_prediction1[:0]\n",
        "results ['long-term'] = Final_prediction2[:0]"
      ],
      "execution_count": 0,
      "outputs": []
    },
    {
      "cell_type": "markdown",
      "metadata": {
        "id": "z3eDcDWY_SQV",
        "colab_type": "text"
      },
      "source": [
        "#3.] FINAL RESULT IS EXTRACTED TO CSV"
      ]
    },
    {
      "cell_type": "code",
      "metadata": {
        "id": "vA-SOQIgsXiC",
        "colab_type": "code",
        "colab": {}
      },
      "source": [
        "results.to_csv('/content/drive/My Drive/Features/FinalResults.csv')"
      ],
      "execution_count": 0,
      "outputs": []
    },
    {
      "cell_type": "markdown",
      "metadata": {
        "id": "XK-RtOPJfdBM",
        "colab_type": "text"
      },
      "source": [
        "#4.] Deep Learning Regression Model"
      ]
    },
    {
      "cell_type": "code",
      "metadata": {
        "id": "T55H49fYfsVg",
        "colab_type": "code",
        "outputId": "777a0dd1-4bcc-4d4f-b3cb-7a72647a7278",
        "colab": {
          "base_uri": "https://localhost:8080/",
          "height": 52
        }
      },
      "source": [
        "from nltk.stem import PorterStemmer\n",
        "from nltk.stem import LancasterStemmer\n",
        "import keras\n",
        "from keras.layers import Dense\n",
        "from keras.layers import Dropout\n",
        "from keras.models import Sequential\n",
        "from keras.optimizers import SGD\n",
        "# Import EarlyStopping\n",
        "from keras.callbacks import EarlyStopping\n",
        "from sklearn.model_selection import train_test_split\n",
        "from sklearn.feature_extraction.text import CountVectorizer\n",
        "from sklearn.feature_extraction.text import TfidfVectorizer\n",
        "import nltk\n",
        "#nltk.download()\n",
        "nltk.download('punkt')\n",
        "\n",
        "import numpy as np\n",
        "\n",
        "import matplotlib.pyplot as plt"
      ],
      "execution_count": 0,
      "outputs": [
        {
          "output_type": "stream",
          "text": [
            "[nltk_data] Downloading package punkt to /root/nltk_data...\n",
            "[nltk_data]   Package punkt is already up-to-date!\n"
          ],
          "name": "stdout"
        }
      ]
    },
    {
      "cell_type": "code",
      "metadata": {
        "id": "Sp_gv6J9u1b9",
        "colab_type": "code",
        "colab": {}
      },
      "source": [
        "def Get_score(Y_pred,Y_true):\n",
        "    '''Calculate the Spearmann\"s correlation coefficient'''\n",
        "    Y_pred = np.squeeze(Y_pred)\n",
        "    Y_true = np.squeeze(Y_true)\n",
        "    if Y_pred.shape != Y_true.shape:\n",
        "        print('Input shapes don\\'t match!')\n",
        "    else:\n",
        "        if len(Y_pred.shape) == 1:\n",
        "            Res = pd.DataFrame({'Y_true':Y_true,'Y_pred':Y_pred})\n",
        "            score_mat = Res[['Y_true','Y_pred']].corr(method='spearman',min_periods=1)\n",
        "            print('The Spearman\\'s correlation coefficient is: %.3f' % score_mat.iloc[1][0])\n",
        "        else:\n",
        "            for ii in range(Y_pred.shape[1]):\n",
        "                Get_score(Y_pred[:,ii],Y_true[:,ii])"
      ],
      "execution_count": 0,
      "outputs": []
    },
    {
      "cell_type": "markdown",
      "metadata": {
        "id": "ciwj_0e0njNX",
        "colab_type": "text"
      },
      "source": [
        "# 4.] LOAD CAPTIONS AND GROUND-TRUTH"
      ]
    },
    {
      "cell_type": "code",
      "metadata": {
        "id": "40YiSPtLfwr1",
        "colab_type": "code",
        "colab": {}
      },
      "source": [
        "df_captions_dev = pd.read_csv('./Dev-set/Captions/dev-set_video-captions.txt',delimiter='\\t',header= None,names=('video','Captions'))\n",
        "df_captions_test = pd.read_csv('./Test-set/Captions_test/test-set-1_video-captions.txt',delimiter='\\t',header= None,names=('video','Captions'))\n",
        "labels = pd.read_csv('./Dev-set/Ground-truth/ground-truth.csv')"
      ],
      "execution_count": 0,
      "outputs": []
    },
    {
      "cell_type": "code",
      "metadata": {
        "id": "JEGw9TbngIFY",
        "colab_type": "code",
        "outputId": "2ad34098-5ffb-4187-e58e-580924302de6",
        "colab": {
          "base_uri": "https://localhost:8080/",
          "height": 195
        }
      },
      "source": [
        "df_captions_dev.tail()"
      ],
      "execution_count": 0,
      "outputs": [
        {
          "output_type": "execute_result",
          "data": {
            "text/html": [
              "<div>\n",
              "<style scoped>\n",
              "    .dataframe tbody tr th:only-of-type {\n",
              "        vertical-align: middle;\n",
              "    }\n",
              "\n",
              "    .dataframe tbody tr th {\n",
              "        vertical-align: top;\n",
              "    }\n",
              "\n",
              "    .dataframe thead th {\n",
              "        text-align: right;\n",
              "    }\n",
              "</style>\n",
              "<table border=\"1\" class=\"dataframe\">\n",
              "  <thead>\n",
              "    <tr style=\"text-align: right;\">\n",
              "      <th></th>\n",
              "      <th>video</th>\n",
              "      <th>Captions</th>\n",
              "    </tr>\n",
              "  </thead>\n",
              "  <tbody>\n",
              "    <tr>\n",
              "      <th>5995</th>\n",
              "      <td>video7488.webm</td>\n",
              "      <td>beautiful-young-woman-in-front-of-fountains</td>\n",
              "    </tr>\n",
              "    <tr>\n",
              "      <th>5996</th>\n",
              "      <td>video7489.webm</td>\n",
              "      <td>focus-pull-from-molting-penguin-to-penguin-col...</td>\n",
              "    </tr>\n",
              "    <tr>\n",
              "      <th>5997</th>\n",
              "      <td>video7491.webm</td>\n",
              "      <td>students-walking-in-university-of-mexico</td>\n",
              "    </tr>\n",
              "    <tr>\n",
              "      <th>5998</th>\n",
              "      <td>video7492.webm</td>\n",
              "      <td>beautiful-black-woman-at-spa</td>\n",
              "    </tr>\n",
              "    <tr>\n",
              "      <th>5999</th>\n",
              "      <td>video7493.webm</td>\n",
              "      <td>beautiful-modern-brunette-woman-using-tablet-c...</td>\n",
              "    </tr>\n",
              "  </tbody>\n",
              "</table>\n",
              "</div>"
            ],
            "text/plain": [
              "               video                                           Captions\n",
              "5995  video7488.webm        beautiful-young-woman-in-front-of-fountains\n",
              "5996  video7489.webm  focus-pull-from-molting-penguin-to-penguin-col...\n",
              "5997  video7491.webm           students-walking-in-university-of-mexico\n",
              "5998  video7492.webm                       beautiful-black-woman-at-spa\n",
              "5999  video7493.webm  beautiful-modern-brunette-woman-using-tablet-c..."
            ]
          },
          "metadata": {
            "tags": []
          },
          "execution_count": 191
        }
      ]
    },
    {
      "cell_type": "code",
      "metadata": {
        "id": "EhhewaAegKOX",
        "colab_type": "code",
        "outputId": "41807c78-aaf5-4ed3-b1df-319fabe817ab",
        "colab": {
          "base_uri": "https://localhost:8080/",
          "height": 195
        }
      },
      "source": [
        "df_captions_test.tail()"
      ],
      "execution_count": 0,
      "outputs": [
        {
          "output_type": "execute_result",
          "data": {
            "text/html": [
              "<div>\n",
              "<style scoped>\n",
              "    .dataframe tbody tr th:only-of-type {\n",
              "        vertical-align: middle;\n",
              "    }\n",
              "\n",
              "    .dataframe tbody tr th {\n",
              "        vertical-align: top;\n",
              "    }\n",
              "\n",
              "    .dataframe thead th {\n",
              "        text-align: right;\n",
              "    }\n",
              "</style>\n",
              "<table border=\"1\" class=\"dataframe\">\n",
              "  <thead>\n",
              "    <tr style=\"text-align: right;\">\n",
              "      <th></th>\n",
              "      <th>video</th>\n",
              "      <th>Captions</th>\n",
              "    </tr>\n",
              "  </thead>\n",
              "  <tbody>\n",
              "    <tr>\n",
              "      <th>1995</th>\n",
              "      <td>video10004.webm</td>\n",
              "      <td>astronaut-in-outer-space-against-the-backdrop-...</td>\n",
              "    </tr>\n",
              "    <tr>\n",
              "      <th>1996</th>\n",
              "      <td>video10005.webm</td>\n",
              "      <td>young-women-lying-on-sunbed-and-applying-sun-c...</td>\n",
              "    </tr>\n",
              "    <tr>\n",
              "      <th>1997</th>\n",
              "      <td>video10006.webm</td>\n",
              "      <td>doctor-talking-to-patient-using-a-tablet-to-ex...</td>\n",
              "    </tr>\n",
              "    <tr>\n",
              "      <th>1998</th>\n",
              "      <td>video10007.webm</td>\n",
              "      <td>businessman-sitting-on-the-beach-on-inflatable...</td>\n",
              "    </tr>\n",
              "    <tr>\n",
              "      <th>1999</th>\n",
              "      <td>video10008.webm</td>\n",
              "      <td>woman-eating-ice-cream-and-sitting-in-the-stre...</td>\n",
              "    </tr>\n",
              "  </tbody>\n",
              "</table>\n",
              "</div>"
            ],
            "text/plain": [
              "                video                                           Captions\n",
              "1995  video10004.webm  astronaut-in-outer-space-against-the-backdrop-...\n",
              "1996  video10005.webm  young-women-lying-on-sunbed-and-applying-sun-c...\n",
              "1997  video10006.webm  doctor-talking-to-patient-using-a-tablet-to-ex...\n",
              "1998  video10007.webm  businessman-sitting-on-the-beach-on-inflatable...\n",
              "1999  video10008.webm  woman-eating-ice-cream-and-sitting-in-the-stre..."
            ]
          },
          "metadata": {
            "tags": []
          },
          "execution_count": 192
        }
      ]
    },
    {
      "cell_type": "code",
      "metadata": {
        "id": "1aZXkudwkBrM",
        "colab_type": "code",
        "outputId": "f2392785-94cc-4c2e-ee17-2faab9094387",
        "colab": {
          "base_uri": "https://localhost:8080/",
          "height": 195
        }
      },
      "source": [
        "labels.head()"
      ],
      "execution_count": 0,
      "outputs": [
        {
          "output_type": "execute_result",
          "data": {
            "text/html": [
              "<div>\n",
              "<style scoped>\n",
              "    .dataframe tbody tr th:only-of-type {\n",
              "        vertical-align: middle;\n",
              "    }\n",
              "\n",
              "    .dataframe tbody tr th {\n",
              "        vertical-align: top;\n",
              "    }\n",
              "\n",
              "    .dataframe thead th {\n",
              "        text-align: right;\n",
              "    }\n",
              "</style>\n",
              "<table border=\"1\" class=\"dataframe\">\n",
              "  <thead>\n",
              "    <tr style=\"text-align: right;\">\n",
              "      <th></th>\n",
              "      <th>video</th>\n",
              "      <th>short-term_memorability</th>\n",
              "      <th>nb_short-term_annotations</th>\n",
              "      <th>long-term_memorability</th>\n",
              "      <th>nb_long-term_annotations</th>\n",
              "    </tr>\n",
              "  </thead>\n",
              "  <tbody>\n",
              "    <tr>\n",
              "      <th>0</th>\n",
              "      <td>video3.webm</td>\n",
              "      <td>0.924</td>\n",
              "      <td>34</td>\n",
              "      <td>0.846</td>\n",
              "      <td>13</td>\n",
              "    </tr>\n",
              "    <tr>\n",
              "      <th>1</th>\n",
              "      <td>video4.webm</td>\n",
              "      <td>0.923</td>\n",
              "      <td>33</td>\n",
              "      <td>0.667</td>\n",
              "      <td>12</td>\n",
              "    </tr>\n",
              "    <tr>\n",
              "      <th>2</th>\n",
              "      <td>video6.webm</td>\n",
              "      <td>0.863</td>\n",
              "      <td>33</td>\n",
              "      <td>0.700</td>\n",
              "      <td>10</td>\n",
              "    </tr>\n",
              "    <tr>\n",
              "      <th>3</th>\n",
              "      <td>video8.webm</td>\n",
              "      <td>0.922</td>\n",
              "      <td>33</td>\n",
              "      <td>0.818</td>\n",
              "      <td>11</td>\n",
              "    </tr>\n",
              "    <tr>\n",
              "      <th>4</th>\n",
              "      <td>video10.webm</td>\n",
              "      <td>0.950</td>\n",
              "      <td>34</td>\n",
              "      <td>0.900</td>\n",
              "      <td>10</td>\n",
              "    </tr>\n",
              "  </tbody>\n",
              "</table>\n",
              "</div>"
            ],
            "text/plain": [
              "          video  ...  nb_long-term_annotations\n",
              "0   video3.webm  ...                        13\n",
              "1   video4.webm  ...                        12\n",
              "2   video6.webm  ...                        10\n",
              "3   video8.webm  ...                        11\n",
              "4  video10.webm  ...                        10\n",
              "\n",
              "[5 rows x 5 columns]"
            ]
          },
          "metadata": {
            "tags": []
          },
          "execution_count": 193
        }
      ]
    },
    {
      "cell_type": "markdown",
      "metadata": {
        "id": "iJrmWPwdoGAO",
        "colab_type": "text"
      },
      "source": [
        "# 4.] MERGE GROUND-TRUTH AND CAPTIONS"
      ]
    },
    {
      "cell_type": "code",
      "metadata": {
        "id": "6ZuEg0CMkCOl",
        "colab_type": "code",
        "outputId": "10991f4a-6ff2-4103-d9be-1619202e45ca",
        "colab": {
          "base_uri": "https://localhost:8080/",
          "height": 195
        }
      },
      "source": [
        "df_captions_dev = df_captions_dev.merge(labels,on=[\"video\"],how=\"inner\")\n",
        "df_captions_dev.tail()"
      ],
      "execution_count": 0,
      "outputs": [
        {
          "output_type": "execute_result",
          "data": {
            "text/html": [
              "<div>\n",
              "<style scoped>\n",
              "    .dataframe tbody tr th:only-of-type {\n",
              "        vertical-align: middle;\n",
              "    }\n",
              "\n",
              "    .dataframe tbody tr th {\n",
              "        vertical-align: top;\n",
              "    }\n",
              "\n",
              "    .dataframe thead th {\n",
              "        text-align: right;\n",
              "    }\n",
              "</style>\n",
              "<table border=\"1\" class=\"dataframe\">\n",
              "  <thead>\n",
              "    <tr style=\"text-align: right;\">\n",
              "      <th></th>\n",
              "      <th>video</th>\n",
              "      <th>Captions</th>\n",
              "      <th>short-term_memorability</th>\n",
              "      <th>nb_short-term_annotations</th>\n",
              "      <th>long-term_memorability</th>\n",
              "      <th>nb_long-term_annotations</th>\n",
              "    </tr>\n",
              "  </thead>\n",
              "  <tbody>\n",
              "    <tr>\n",
              "      <th>5995</th>\n",
              "      <td>video7488.webm</td>\n",
              "      <td>beautiful-young-woman-in-front-of-fountains</td>\n",
              "      <td>0.921</td>\n",
              "      <td>33</td>\n",
              "      <td>1.000</td>\n",
              "      <td>9</td>\n",
              "    </tr>\n",
              "    <tr>\n",
              "      <th>5996</th>\n",
              "      <td>video7489.webm</td>\n",
              "      <td>focus-pull-from-molting-penguin-to-penguin-col...</td>\n",
              "      <td>0.909</td>\n",
              "      <td>53</td>\n",
              "      <td>0.839</td>\n",
              "      <td>31</td>\n",
              "    </tr>\n",
              "    <tr>\n",
              "      <th>5997</th>\n",
              "      <td>video7491.webm</td>\n",
              "      <td>students-walking-in-university-of-mexico</td>\n",
              "      <td>0.713</td>\n",
              "      <td>33</td>\n",
              "      <td>0.818</td>\n",
              "      <td>11</td>\n",
              "    </tr>\n",
              "    <tr>\n",
              "      <th>5998</th>\n",
              "      <td>video7492.webm</td>\n",
              "      <td>beautiful-black-woman-at-spa</td>\n",
              "      <td>0.954</td>\n",
              "      <td>34</td>\n",
              "      <td>1.000</td>\n",
              "      <td>16</td>\n",
              "    </tr>\n",
              "    <tr>\n",
              "      <th>5999</th>\n",
              "      <td>video7493.webm</td>\n",
              "      <td>beautiful-modern-brunette-woman-using-tablet-c...</td>\n",
              "      <td>0.953</td>\n",
              "      <td>33</td>\n",
              "      <td>0.615</td>\n",
              "      <td>13</td>\n",
              "    </tr>\n",
              "  </tbody>\n",
              "</table>\n",
              "</div>"
            ],
            "text/plain": [
              "               video  ... nb_long-term_annotations\n",
              "5995  video7488.webm  ...                        9\n",
              "5996  video7489.webm  ...                       31\n",
              "5997  video7491.webm  ...                       11\n",
              "5998  video7492.webm  ...                       16\n",
              "5999  video7493.webm  ...                       13\n",
              "\n",
              "[5 rows x 6 columns]"
            ]
          },
          "metadata": {
            "tags": []
          },
          "execution_count": 194
        }
      ]
    },
    {
      "cell_type": "markdown",
      "metadata": {
        "id": "ZHCE3ZDroM1S",
        "colab_type": "text"
      },
      "source": [
        "#4.] LOAD DEV-SET HMP FEATURES"
      ]
    },
    {
      "cell_type": "code",
      "metadata": {
        "id": "eGMvkL7kkh_i",
        "colab_type": "code",
        "colab": {}
      },
      "source": [
        "def read_HMP(fname):\n",
        "    \"\"\"Scan HMP(Histogram of Motion Patterns) features from file\"\"\"\n",
        "    with open(fname) as f:\n",
        "        for line in f:\n",
        "            pairs=line.split()\n",
        "            HMP_temp = { int(p.split(':')[0]) : float(p.split(':')[1]) for p in pairs}\n",
        "    # there are 6075 bins, fill zeros\n",
        "    HMP = np.zeros(6075)\n",
        "    for idx in HMP_temp.keys():\n",
        "        HMP[idx-1] = HMP_temp[idx]            \n",
        "    return HMP\n"
      ],
      "execution_count": 0,
      "outputs": []
    },
    {
      "cell_type": "code",
      "metadata": {
        "id": "qQq_zS3-qbPP",
        "colab_type": "code",
        "colab": {}
      },
      "source": [
        "#Load HMP Features\n",
        "df_hmp_dev = pd.DataFrame(columns = ['video', 'arrayInfo'])\n",
        "\n",
        "#dir_hmp = './dev-set/HMP'\n",
        "dir_hmp_dev = './Dev-set/HMP/'\n",
        "\n",
        "for filename in os.listdir(dir_hmp_dev):\n",
        "    if filename.endswith(\".txt\"):\n",
        "        path = os.path.join(dir_hmp_dev, filename)\n",
        "        array = read_HMP(path)\n",
        "        fileName= filename.replace(\".txt\",\".webm\")\n",
        "        df_hmp_dev = df_hmp_dev.append({'video': fileName, 'arrayInfo': array}, ignore_index=True)\n",
        "    else:\n",
        "        break"
      ],
      "execution_count": 0,
      "outputs": []
    },
    {
      "cell_type": "markdown",
      "metadata": {
        "id": "ItzEHB7TocGa",
        "colab_type": "text"
      },
      "source": [
        "#4.] MERGE DEV-SET CAPTIONS, HMP AND GROUND-TRUTH"
      ]
    },
    {
      "cell_type": "code",
      "metadata": {
        "id": "Dr4OpCenq6B7",
        "colab_type": "code",
        "outputId": "7dfc8fe3-79e1-4d3f-de26-030796c35e54",
        "colab": {
          "base_uri": "https://localhost:8080/",
          "height": 296
        }
      },
      "source": [
        "df_dev = df_captions_dev.merge(df_hmp_dev,on=[\"video\"],how=\"inner\")\n",
        "df_dev.columns\n",
        "df_dev.tail()"
      ],
      "execution_count": 0,
      "outputs": [
        {
          "output_type": "execute_result",
          "data": {
            "text/html": [
              "<div>\n",
              "<style scoped>\n",
              "    .dataframe tbody tr th:only-of-type {\n",
              "        vertical-align: middle;\n",
              "    }\n",
              "\n",
              "    .dataframe tbody tr th {\n",
              "        vertical-align: top;\n",
              "    }\n",
              "\n",
              "    .dataframe thead th {\n",
              "        text-align: right;\n",
              "    }\n",
              "</style>\n",
              "<table border=\"1\" class=\"dataframe\">\n",
              "  <thead>\n",
              "    <tr style=\"text-align: right;\">\n",
              "      <th></th>\n",
              "      <th>video</th>\n",
              "      <th>Captions</th>\n",
              "      <th>short-term_memorability</th>\n",
              "      <th>nb_short-term_annotations</th>\n",
              "      <th>long-term_memorability</th>\n",
              "      <th>nb_long-term_annotations</th>\n",
              "      <th>arrayInfo</th>\n",
              "    </tr>\n",
              "  </thead>\n",
              "  <tbody>\n",
              "    <tr>\n",
              "      <th>5995</th>\n",
              "      <td>video7488.webm</td>\n",
              "      <td>beautiful-young-woman-in-front-of-fountains</td>\n",
              "      <td>0.921</td>\n",
              "      <td>33</td>\n",
              "      <td>1.000</td>\n",
              "      <td>9</td>\n",
              "      <td>[0.003779, 0.001352, 7.7e-05, 0.0, 0.000475, 7...</td>\n",
              "    </tr>\n",
              "    <tr>\n",
              "      <th>5996</th>\n",
              "      <td>video7489.webm</td>\n",
              "      <td>focus-pull-from-molting-penguin-to-penguin-col...</td>\n",
              "      <td>0.909</td>\n",
              "      <td>53</td>\n",
              "      <td>0.839</td>\n",
              "      <td>31</td>\n",
              "      <td>[0.001396, 0.000417, 7e-06, 0.0, 0.000145, 4e-...</td>\n",
              "    </tr>\n",
              "    <tr>\n",
              "      <th>5997</th>\n",
              "      <td>video7491.webm</td>\n",
              "      <td>students-walking-in-university-of-mexico</td>\n",
              "      <td>0.713</td>\n",
              "      <td>33</td>\n",
              "      <td>0.818</td>\n",
              "      <td>11</td>\n",
              "      <td>[0.023139, 0.007435, 0.000322, 0.0, 0.004319, ...</td>\n",
              "    </tr>\n",
              "    <tr>\n",
              "      <th>5998</th>\n",
              "      <td>video7492.webm</td>\n",
              "      <td>beautiful-black-woman-at-spa</td>\n",
              "      <td>0.954</td>\n",
              "      <td>34</td>\n",
              "      <td>1.000</td>\n",
              "      <td>16</td>\n",
              "      <td>[0.0149, 0.004607, 9.9e-05, 0.0, 0.001559, 1.4...</td>\n",
              "    </tr>\n",
              "    <tr>\n",
              "      <th>5999</th>\n",
              "      <td>video7493.webm</td>\n",
              "      <td>beautiful-modern-brunette-woman-using-tablet-c...</td>\n",
              "      <td>0.953</td>\n",
              "      <td>33</td>\n",
              "      <td>0.615</td>\n",
              "      <td>13</td>\n",
              "      <td>[0.041592, 0.013047, 0.000448, 0.0, 0.010044, ...</td>\n",
              "    </tr>\n",
              "  </tbody>\n",
              "</table>\n",
              "</div>"
            ],
            "text/plain": [
              "               video  ...                                          arrayInfo\n",
              "5995  video7488.webm  ...  [0.003779, 0.001352, 7.7e-05, 0.0, 0.000475, 7...\n",
              "5996  video7489.webm  ...  [0.001396, 0.000417, 7e-06, 0.0, 0.000145, 4e-...\n",
              "5997  video7491.webm  ...  [0.023139, 0.007435, 0.000322, 0.0, 0.004319, ...\n",
              "5998  video7492.webm  ...  [0.0149, 0.004607, 9.9e-05, 0.0, 0.001559, 1.4...\n",
              "5999  video7493.webm  ...  [0.041592, 0.013047, 0.000448, 0.0, 0.010044, ...\n",
              "\n",
              "[5 rows x 7 columns]"
            ]
          },
          "metadata": {
            "tags": []
          },
          "execution_count": 30
        }
      ]
    },
    {
      "cell_type": "markdown",
      "metadata": {
        "id": "pBTjex-Co4EL",
        "colab_type": "text"
      },
      "source": [
        "# 4.] LOAD TEST-SET HMP FEATURES"
      ]
    },
    {
      "cell_type": "code",
      "metadata": {
        "id": "68J5CPA0qdwo",
        "colab_type": "code",
        "colab": {}
      },
      "source": [
        "#Load HMP Features\n",
        "df_hmp_test = pd.DataFrame(columns = ['video', 'arrayInfo'])\n",
        "\n",
        "#dir_hmp = './dev-set/HMP'\n",
        "dir_hmp_test = './Test-set/HMP_test'\n",
        "\n",
        "for filename in os.listdir(dir_hmp_test):\n",
        "    if filename.endswith(\".txt\"):\n",
        "        path = os.path.join(dir_hmp_test, filename)\n",
        "        array = read_HMP(path)\n",
        "        fileName= filename.replace(\".txt\",\".webm\")\n",
        "        df_hmp_test = df_hmp_test.append({'video': fileName, 'arrayInfo': array}, ignore_index=True)\n",
        "    else:\n",
        "        break"
      ],
      "execution_count": 0,
      "outputs": []
    },
    {
      "cell_type": "code",
      "metadata": {
        "id": "rhbj2WDDrWrK",
        "colab_type": "code",
        "outputId": "d2fa596b-4a34-49b7-e183-2775ac7235b2",
        "colab": {
          "base_uri": "https://localhost:8080/",
          "height": 195
        }
      },
      "source": [
        "df_hmp_test.head()"
      ],
      "execution_count": 0,
      "outputs": [
        {
          "output_type": "execute_result",
          "data": {
            "text/html": [
              "<div>\n",
              "<style scoped>\n",
              "    .dataframe tbody tr th:only-of-type {\n",
              "        vertical-align: middle;\n",
              "    }\n",
              "\n",
              "    .dataframe tbody tr th {\n",
              "        vertical-align: top;\n",
              "    }\n",
              "\n",
              "    .dataframe thead th {\n",
              "        text-align: right;\n",
              "    }\n",
              "</style>\n",
              "<table border=\"1\" class=\"dataframe\">\n",
              "  <thead>\n",
              "    <tr style=\"text-align: right;\">\n",
              "      <th></th>\n",
              "      <th>video</th>\n",
              "      <th>arrayInfo</th>\n",
              "    </tr>\n",
              "  </thead>\n",
              "  <tbody>\n",
              "    <tr>\n",
              "      <th>0</th>\n",
              "      <td>video8763.webm</td>\n",
              "      <td>[0.00206, 0.000583, 1.1e-05, 0.0, 0.000395, 3....</td>\n",
              "    </tr>\n",
              "    <tr>\n",
              "      <th>1</th>\n",
              "      <td>video8758.webm</td>\n",
              "      <td>[0.015623, 0.005571, 0.000267, 0.0, 0.003743, ...</td>\n",
              "    </tr>\n",
              "    <tr>\n",
              "      <th>2</th>\n",
              "      <td>video8768.webm</td>\n",
              "      <td>[0.00533, 0.001166, 2e-06, 0.0, 0.000927, 1.1e...</td>\n",
              "    </tr>\n",
              "    <tr>\n",
              "      <th>3</th>\n",
              "      <td>video8764.webm</td>\n",
              "      <td>[0.040748, 0.016237, 0.000303, 0.0, 0.007668, ...</td>\n",
              "    </tr>\n",
              "    <tr>\n",
              "      <th>4</th>\n",
              "      <td>video8760.webm</td>\n",
              "      <td>[0.056045, 0.012873, 0.000278, 0.0, 0.006645, ...</td>\n",
              "    </tr>\n",
              "  </tbody>\n",
              "</table>\n",
              "</div>"
            ],
            "text/plain": [
              "            video                                          arrayInfo\n",
              "0  video8763.webm  [0.00206, 0.000583, 1.1e-05, 0.0, 0.000395, 3....\n",
              "1  video8758.webm  [0.015623, 0.005571, 0.000267, 0.0, 0.003743, ...\n",
              "2  video8768.webm  [0.00533, 0.001166, 2e-06, 0.0, 0.000927, 1.1e...\n",
              "3  video8764.webm  [0.040748, 0.016237, 0.000303, 0.0, 0.007668, ...\n",
              "4  video8760.webm  [0.056045, 0.012873, 0.000278, 0.0, 0.006645, ..."
            ]
          },
          "metadata": {
            "tags": []
          },
          "execution_count": 32
        }
      ]
    },
    {
      "cell_type": "markdown",
      "metadata": {
        "id": "CcoH679wpAQI",
        "colab_type": "text"
      },
      "source": [
        "#4.] MERGE TEST-SET CAPTIONS AND HMP FEATURES "
      ]
    },
    {
      "cell_type": "code",
      "metadata": {
        "id": "s6LU-45prXqC",
        "colab_type": "code",
        "outputId": "63bfc8e8-50ba-400b-8747-3e368b201b0b",
        "colab": {
          "base_uri": "https://localhost:8080/",
          "height": 195
        }
      },
      "source": [
        "df_test = df_captions_test.merge(df_hmp_test,on=[\"video\"],how=\"inner\")\n",
        "df_test.columns\n",
        "df_test.head()"
      ],
      "execution_count": 0,
      "outputs": [
        {
          "output_type": "execute_result",
          "data": {
            "text/html": [
              "<div>\n",
              "<style scoped>\n",
              "    .dataframe tbody tr th:only-of-type {\n",
              "        vertical-align: middle;\n",
              "    }\n",
              "\n",
              "    .dataframe tbody tr th {\n",
              "        vertical-align: top;\n",
              "    }\n",
              "\n",
              "    .dataframe thead th {\n",
              "        text-align: right;\n",
              "    }\n",
              "</style>\n",
              "<table border=\"1\" class=\"dataframe\">\n",
              "  <thead>\n",
              "    <tr style=\"text-align: right;\">\n",
              "      <th></th>\n",
              "      <th>video</th>\n",
              "      <th>Captions</th>\n",
              "      <th>arrayInfo</th>\n",
              "    </tr>\n",
              "  </thead>\n",
              "  <tbody>\n",
              "    <tr>\n",
              "      <th>0</th>\n",
              "      <td>video7494.webm</td>\n",
              "      <td>green-jeep-struggling-to-drive-over-huge-rocks</td>\n",
              "      <td>[0.022039, 0.005264, 9.8e-05, 0.0, 0.003689, 0...</td>\n",
              "    </tr>\n",
              "    <tr>\n",
              "      <th>1</th>\n",
              "      <td>video7495.webm</td>\n",
              "      <td>hiking-woman-tourist-is-walking-forward-in-mou...</td>\n",
              "      <td>[0.004694, 0.001934, 4e-05, 0.0, 0.001226, 5.8...</td>\n",
              "    </tr>\n",
              "    <tr>\n",
              "      <th>2</th>\n",
              "      <td>video7496.webm</td>\n",
              "      <td>close-up-of-african-american-doctors-hands-usi...</td>\n",
              "      <td>[0.02653, 0.006208, 5.8e-05, 0.0, 0.00228, 3.1...</td>\n",
              "    </tr>\n",
              "    <tr>\n",
              "      <th>3</th>\n",
              "      <td>video7497.webm</td>\n",
              "      <td>slow-motion-of-a-man-using-treadmill-in-the-gy...</td>\n",
              "      <td>[0.045109, 0.008317, 0.000151, 0.0, 0.005598, ...</td>\n",
              "    </tr>\n",
              "    <tr>\n",
              "      <th>4</th>\n",
              "      <td>video7498.webm</td>\n",
              "      <td>slow-motion-of-photographer-in-national-park</td>\n",
              "      <td>[0.034691, 0.008619, 0.000412, 0.0, 0.028355, ...</td>\n",
              "    </tr>\n",
              "  </tbody>\n",
              "</table>\n",
              "</div>"
            ],
            "text/plain": [
              "            video  ...                                          arrayInfo\n",
              "0  video7494.webm  ...  [0.022039, 0.005264, 9.8e-05, 0.0, 0.003689, 0...\n",
              "1  video7495.webm  ...  [0.004694, 0.001934, 4e-05, 0.0, 0.001226, 5.8...\n",
              "2  video7496.webm  ...  [0.02653, 0.006208, 5.8e-05, 0.0, 0.00228, 3.1...\n",
              "3  video7497.webm  ...  [0.045109, 0.008317, 0.000151, 0.0, 0.005598, ...\n",
              "4  video7498.webm  ...  [0.034691, 0.008619, 0.000412, 0.0, 0.028355, ...\n",
              "\n",
              "[5 rows x 3 columns]"
            ]
          },
          "metadata": {
            "tags": []
          },
          "execution_count": 33
        }
      ]
    },
    {
      "cell_type": "markdown",
      "metadata": {
        "id": "u6gZXecKpF9_",
        "colab_type": "text"
      },
      "source": [
        "#4.] MERGE DEV-SET CAPTION, GROUND-TRUTH AND HMP FEATURES"
      ]
    },
    {
      "cell_type": "code",
      "metadata": {
        "id": "xxxm8NotraTK",
        "colab_type": "code",
        "outputId": "1303b7a1-39a7-4383-d133-c88712449bbd",
        "colab": {
          "base_uri": "https://localhost:8080/",
          "height": 296
        }
      },
      "source": [
        "df_dev = df_captions_dev.merge(df_hmp_dev,on=[\"video\"],how=\"inner\")\n",
        "df_dev.columns\n",
        "df_dev.tail()\n"
      ],
      "execution_count": 0,
      "outputs": [
        {
          "output_type": "execute_result",
          "data": {
            "text/html": [
              "<div>\n",
              "<style scoped>\n",
              "    .dataframe tbody tr th:only-of-type {\n",
              "        vertical-align: middle;\n",
              "    }\n",
              "\n",
              "    .dataframe tbody tr th {\n",
              "        vertical-align: top;\n",
              "    }\n",
              "\n",
              "    .dataframe thead th {\n",
              "        text-align: right;\n",
              "    }\n",
              "</style>\n",
              "<table border=\"1\" class=\"dataframe\">\n",
              "  <thead>\n",
              "    <tr style=\"text-align: right;\">\n",
              "      <th></th>\n",
              "      <th>video</th>\n",
              "      <th>Captions</th>\n",
              "      <th>short-term_memorability</th>\n",
              "      <th>nb_short-term_annotations</th>\n",
              "      <th>long-term_memorability</th>\n",
              "      <th>nb_long-term_annotations</th>\n",
              "      <th>arrayInfo</th>\n",
              "    </tr>\n",
              "  </thead>\n",
              "  <tbody>\n",
              "    <tr>\n",
              "      <th>5995</th>\n",
              "      <td>video7488.webm</td>\n",
              "      <td>beautiful-young-woman-in-front-of-fountains</td>\n",
              "      <td>0.921</td>\n",
              "      <td>33</td>\n",
              "      <td>1.000</td>\n",
              "      <td>9</td>\n",
              "      <td>[0.003779, 0.001352, 7.7e-05, 0.0, 0.000475, 7...</td>\n",
              "    </tr>\n",
              "    <tr>\n",
              "      <th>5996</th>\n",
              "      <td>video7489.webm</td>\n",
              "      <td>focus-pull-from-molting-penguin-to-penguin-col...</td>\n",
              "      <td>0.909</td>\n",
              "      <td>53</td>\n",
              "      <td>0.839</td>\n",
              "      <td>31</td>\n",
              "      <td>[0.001396, 0.000417, 7e-06, 0.0, 0.000145, 4e-...</td>\n",
              "    </tr>\n",
              "    <tr>\n",
              "      <th>5997</th>\n",
              "      <td>video7491.webm</td>\n",
              "      <td>students-walking-in-university-of-mexico</td>\n",
              "      <td>0.713</td>\n",
              "      <td>33</td>\n",
              "      <td>0.818</td>\n",
              "      <td>11</td>\n",
              "      <td>[0.023139, 0.007435, 0.000322, 0.0, 0.004319, ...</td>\n",
              "    </tr>\n",
              "    <tr>\n",
              "      <th>5998</th>\n",
              "      <td>video7492.webm</td>\n",
              "      <td>beautiful-black-woman-at-spa</td>\n",
              "      <td>0.954</td>\n",
              "      <td>34</td>\n",
              "      <td>1.000</td>\n",
              "      <td>16</td>\n",
              "      <td>[0.0149, 0.004607, 9.9e-05, 0.0, 0.001559, 1.4...</td>\n",
              "    </tr>\n",
              "    <tr>\n",
              "      <th>5999</th>\n",
              "      <td>video7493.webm</td>\n",
              "      <td>beautiful-modern-brunette-woman-using-tablet-c...</td>\n",
              "      <td>0.953</td>\n",
              "      <td>33</td>\n",
              "      <td>0.615</td>\n",
              "      <td>13</td>\n",
              "      <td>[0.041592, 0.013047, 0.000448, 0.0, 0.010044, ...</td>\n",
              "    </tr>\n",
              "  </tbody>\n",
              "</table>\n",
              "</div>"
            ],
            "text/plain": [
              "               video  ...                                          arrayInfo\n",
              "5995  video7488.webm  ...  [0.003779, 0.001352, 7.7e-05, 0.0, 0.000475, 7...\n",
              "5996  video7489.webm  ...  [0.001396, 0.000417, 7e-06, 0.0, 0.000145, 4e-...\n",
              "5997  video7491.webm  ...  [0.023139, 0.007435, 0.000322, 0.0, 0.004319, ...\n",
              "5998  video7492.webm  ...  [0.0149, 0.004607, 9.9e-05, 0.0, 0.001559, 1.4...\n",
              "5999  video7493.webm  ...  [0.041592, 0.013047, 0.000448, 0.0, 0.010044, ...\n",
              "\n",
              "[5 rows x 7 columns]"
            ]
          },
          "metadata": {
            "tags": []
          },
          "execution_count": 34
        }
      ]
    },
    {
      "cell_type": "markdown",
      "metadata": {
        "id": "rJFCMIZQp5xd",
        "colab_type": "text"
      },
      "source": [
        "#4.] DEV-SET AND TRAIN-SET TOKENIZING WORDS IN CAPTION"
      ]
    },
    {
      "cell_type": "code",
      "metadata": {
        "id": "sgdhxSpgrcgP",
        "colab_type": "code",
        "outputId": "3dfb5469-8800-4c06-8450-341b0fe7232c",
        "colab": {
          "base_uri": "https://localhost:8080/",
          "height": 122
        }
      },
      "source": [
        "#test set\n",
        "df_test['Captions'].apply(nltk.word_tokenize)\n",
        "df_test['Captions'].head()"
      ],
      "execution_count": 0,
      "outputs": [
        {
          "output_type": "execute_result",
          "data": {
            "text/plain": [
              "0       green-jeep-struggling-to-drive-over-huge-rocks\n",
              "1    hiking-woman-tourist-is-walking-forward-in-mou...\n",
              "2    close-up-of-african-american-doctors-hands-usi...\n",
              "3    slow-motion-of-a-man-using-treadmill-in-the-gy...\n",
              "4         slow-motion-of-photographer-in-national-park\n",
              "Name: Captions, dtype: object"
            ]
          },
          "metadata": {
            "tags": []
          },
          "execution_count": 35
        }
      ]
    },
    {
      "cell_type": "code",
      "metadata": {
        "id": "g03l6w5fIiTl",
        "colab_type": "code",
        "outputId": "d8af905d-d8be-4ee2-9110-6a32c47fe9d0",
        "colab": {
          "base_uri": "https://localhost:8080/",
          "height": 122
        }
      },
      "source": [
        "#dev set\n",
        "df_dev['Captions'].apply(nltk.word_tokenize)\n",
        "df_dev['Captions'].head()"
      ],
      "execution_count": 0,
      "outputs": [
        {
          "output_type": "execute_result",
          "data": {
            "text/plain": [
              "0                   blonde-woman-is-massaged-tilt-down\n",
              "1    roulette-table-spinning-with-ball-in-closeup-shot\n",
              "2                                        khr-gangsters\n",
              "3                 medical-helicopter-hovers-at-airport\n",
              "4                 couple-relaxing-on-picnic-crane-shot\n",
              "Name: Captions, dtype: object"
            ]
          },
          "metadata": {
            "tags": []
          },
          "execution_count": 36
        }
      ]
    },
    {
      "cell_type": "markdown",
      "metadata": {
        "id": "DkJb43QcqD2t",
        "colab_type": "text"
      },
      "source": [
        "#4.] DEV-SET AND TRAIN-SET STEMMING WORDS IN CAPTION"
      ]
    },
    {
      "cell_type": "code",
      "metadata": {
        "id": "BBRcsfM8rf1j",
        "colab_type": "code",
        "colab": {}
      },
      "source": [
        "porter = PorterStemmer()\n",
        "lancaster=LancasterStemmer()"
      ],
      "execution_count": 0,
      "outputs": []
    },
    {
      "cell_type": "code",
      "metadata": {
        "id": "oA9yk9RKrgnx",
        "colab_type": "code",
        "colab": {}
      },
      "source": [
        "def stem_sentences(sentence):\n",
        "    tokens = sentence.split()\n",
        "    stemmed_tokens = [lancaster.stem(token) for token in tokens]\n",
        "    return ' '.join(stemmed_tokens)\n",
        "  \n",
        "df_dev['Captions'] = df_dev['Captions'].apply(stem_sentences)"
      ],
      "execution_count": 0,
      "outputs": []
    },
    {
      "cell_type": "code",
      "metadata": {
        "id": "47n-a4XWrmiz",
        "colab_type": "code",
        "colab": {}
      },
      "source": [
        "def stem_sentences(sentence):\n",
        "    tokens = sentence.split()\n",
        "    stemmed_tokens = [lancaster.stem(token) for token in tokens]\n",
        "    return ' '.join(stemmed_tokens)\n",
        "  \n",
        "df_test['Captions'] = df_test['Captions'].apply(stem_sentences)"
      ],
      "execution_count": 0,
      "outputs": []
    },
    {
      "cell_type": "code",
      "metadata": {
        "id": "1h_Tc1coJ-U3",
        "colab_type": "code",
        "outputId": "45154cbe-ca18-4f4e-aaf2-08a936db3f58",
        "colab": {
          "base_uri": "https://localhost:8080/",
          "height": 195
        }
      },
      "source": [
        "df_test.head()"
      ],
      "execution_count": 0,
      "outputs": [
        {
          "output_type": "execute_result",
          "data": {
            "text/html": [
              "<div>\n",
              "<style scoped>\n",
              "    .dataframe tbody tr th:only-of-type {\n",
              "        vertical-align: middle;\n",
              "    }\n",
              "\n",
              "    .dataframe tbody tr th {\n",
              "        vertical-align: top;\n",
              "    }\n",
              "\n",
              "    .dataframe thead th {\n",
              "        text-align: right;\n",
              "    }\n",
              "</style>\n",
              "<table border=\"1\" class=\"dataframe\">\n",
              "  <thead>\n",
              "    <tr style=\"text-align: right;\">\n",
              "      <th></th>\n",
              "      <th>video</th>\n",
              "      <th>Captions</th>\n",
              "      <th>arrayInfo</th>\n",
              "    </tr>\n",
              "  </thead>\n",
              "  <tbody>\n",
              "    <tr>\n",
              "      <th>0</th>\n",
              "      <td>video7494.webm</td>\n",
              "      <td>green-jeep-struggling-to-drive-over-huge-rocks</td>\n",
              "      <td>[0.022039, 0.005264, 9.8e-05, 0.0, 0.003689, 0...</td>\n",
              "    </tr>\n",
              "    <tr>\n",
              "      <th>1</th>\n",
              "      <td>video7495.webm</td>\n",
              "      <td>hiking-woman-tourist-is-walking-forward-in-mou...</td>\n",
              "      <td>[0.004694, 0.001934, 4e-05, 0.0, 0.001226, 5.8...</td>\n",
              "    </tr>\n",
              "    <tr>\n",
              "      <th>2</th>\n",
              "      <td>video7496.webm</td>\n",
              "      <td>close-up-of-african-american-doctors-hands-usi...</td>\n",
              "      <td>[0.02653, 0.006208, 5.8e-05, 0.0, 0.00228, 3.1...</td>\n",
              "    </tr>\n",
              "    <tr>\n",
              "      <th>3</th>\n",
              "      <td>video7497.webm</td>\n",
              "      <td>slow-motion-of-a-man-using-treadmill-in-the-gy...</td>\n",
              "      <td>[0.045109, 0.008317, 0.000151, 0.0, 0.005598, ...</td>\n",
              "    </tr>\n",
              "    <tr>\n",
              "      <th>4</th>\n",
              "      <td>video7498.webm</td>\n",
              "      <td>slow-motion-of-photographer-in-national-park</td>\n",
              "      <td>[0.034691, 0.008619, 0.000412, 0.0, 0.028355, ...</td>\n",
              "    </tr>\n",
              "  </tbody>\n",
              "</table>\n",
              "</div>"
            ],
            "text/plain": [
              "            video  ...                                          arrayInfo\n",
              "0  video7494.webm  ...  [0.022039, 0.005264, 9.8e-05, 0.0, 0.003689, 0...\n",
              "1  video7495.webm  ...  [0.004694, 0.001934, 4e-05, 0.0, 0.001226, 5.8...\n",
              "2  video7496.webm  ...  [0.02653, 0.006208, 5.8e-05, 0.0, 0.00228, 3.1...\n",
              "3  video7497.webm  ...  [0.045109, 0.008317, 0.000151, 0.0, 0.005598, ...\n",
              "4  video7498.webm  ...  [0.034691, 0.008619, 0.000412, 0.0, 0.028355, ...\n",
              "\n",
              "[5 rows x 3 columns]"
            ]
          },
          "metadata": {
            "tags": []
          },
          "execution_count": 40
        }
      ]
    },
    {
      "cell_type": "code",
      "metadata": {
        "id": "gA0j9ICvKM9y",
        "colab_type": "code",
        "outputId": "cf63c4da-c503-4b5b-ea11-4f601b632cec",
        "colab": {
          "base_uri": "https://localhost:8080/",
          "height": 34
        }
      },
      "source": [
        "df_test.shape"
      ],
      "execution_count": 0,
      "outputs": [
        {
          "output_type": "execute_result",
          "data": {
            "text/plain": [
              "(2000, 3)"
            ]
          },
          "metadata": {
            "tags": []
          },
          "execution_count": 41
        }
      ]
    },
    {
      "cell_type": "code",
      "metadata": {
        "id": "QUSeDm-KKQIh",
        "colab_type": "code",
        "outputId": "a4fce6f7-cfcb-44d2-cc03-20ba1d56b541",
        "colab": {
          "base_uri": "https://localhost:8080/",
          "height": 195
        }
      },
      "source": [
        "df_test.tail()"
      ],
      "execution_count": 0,
      "outputs": [
        {
          "output_type": "execute_result",
          "data": {
            "text/html": [
              "<div>\n",
              "<style scoped>\n",
              "    .dataframe tbody tr th:only-of-type {\n",
              "        vertical-align: middle;\n",
              "    }\n",
              "\n",
              "    .dataframe tbody tr th {\n",
              "        vertical-align: top;\n",
              "    }\n",
              "\n",
              "    .dataframe thead th {\n",
              "        text-align: right;\n",
              "    }\n",
              "</style>\n",
              "<table border=\"1\" class=\"dataframe\">\n",
              "  <thead>\n",
              "    <tr style=\"text-align: right;\">\n",
              "      <th></th>\n",
              "      <th>video</th>\n",
              "      <th>Captions</th>\n",
              "      <th>arrayInfo</th>\n",
              "    </tr>\n",
              "  </thead>\n",
              "  <tbody>\n",
              "    <tr>\n",
              "      <th>1995</th>\n",
              "      <td>video10004.webm</td>\n",
              "      <td>astronaut-in-outer-space-against-the-backdrop-...</td>\n",
              "      <td>[0.003161, 0.00033, 0.0, 0.0, 0.000189, 0.0, 0...</td>\n",
              "    </tr>\n",
              "    <tr>\n",
              "      <th>1996</th>\n",
              "      <td>video10005.webm</td>\n",
              "      <td>young-women-lying-on-sunbed-and-applying-sun-c...</td>\n",
              "      <td>[0.016932, 0.003384, 8.3e-05, 0.0, 0.001586, 6...</td>\n",
              "    </tr>\n",
              "    <tr>\n",
              "      <th>1997</th>\n",
              "      <td>video10006.webm</td>\n",
              "      <td>doctor-talking-to-patient-using-a-tablet-to-ex...</td>\n",
              "      <td>[0.029347, 0.008073, 0.000101, 0.0, 0.001891, ...</td>\n",
              "    </tr>\n",
              "    <tr>\n",
              "      <th>1998</th>\n",
              "      <td>video10007.webm</td>\n",
              "      <td>businessman-sitting-on-the-beach-on-inflatable...</td>\n",
              "      <td>[0.021746, 0.003096, 4.5e-05, 0.0, 0.002586, 9...</td>\n",
              "    </tr>\n",
              "    <tr>\n",
              "      <th>1999</th>\n",
              "      <td>video10008.webm</td>\n",
              "      <td>woman-eating-ice-cream-and-sitting-in-the-stre...</td>\n",
              "      <td>[0.011207, 0.002827, 0.000137, 0.0, 0.003531, ...</td>\n",
              "    </tr>\n",
              "  </tbody>\n",
              "</table>\n",
              "</div>"
            ],
            "text/plain": [
              "                video  ...                                          arrayInfo\n",
              "1995  video10004.webm  ...  [0.003161, 0.00033, 0.0, 0.0, 0.000189, 0.0, 0...\n",
              "1996  video10005.webm  ...  [0.016932, 0.003384, 8.3e-05, 0.0, 0.001586, 6...\n",
              "1997  video10006.webm  ...  [0.029347, 0.008073, 0.000101, 0.0, 0.001891, ...\n",
              "1998  video10007.webm  ...  [0.021746, 0.003096, 4.5e-05, 0.0, 0.002586, 9...\n",
              "1999  video10008.webm  ...  [0.011207, 0.002827, 0.000137, 0.0, 0.003531, ...\n",
              "\n",
              "[5 rows x 3 columns]"
            ]
          },
          "metadata": {
            "tags": []
          },
          "execution_count": 42
        }
      ]
    },
    {
      "cell_type": "code",
      "metadata": {
        "id": "ITTqqzSfKCAE",
        "colab_type": "code",
        "outputId": "602f1347-621e-47f5-b1d0-ddd2e051686e",
        "colab": {
          "base_uri": "https://localhost:8080/",
          "height": 296
        }
      },
      "source": [
        "df_dev.tail()"
      ],
      "execution_count": 0,
      "outputs": [
        {
          "output_type": "execute_result",
          "data": {
            "text/html": [
              "<div>\n",
              "<style scoped>\n",
              "    .dataframe tbody tr th:only-of-type {\n",
              "        vertical-align: middle;\n",
              "    }\n",
              "\n",
              "    .dataframe tbody tr th {\n",
              "        vertical-align: top;\n",
              "    }\n",
              "\n",
              "    .dataframe thead th {\n",
              "        text-align: right;\n",
              "    }\n",
              "</style>\n",
              "<table border=\"1\" class=\"dataframe\">\n",
              "  <thead>\n",
              "    <tr style=\"text-align: right;\">\n",
              "      <th></th>\n",
              "      <th>video</th>\n",
              "      <th>Captions</th>\n",
              "      <th>short-term_memorability</th>\n",
              "      <th>nb_short-term_annotations</th>\n",
              "      <th>long-term_memorability</th>\n",
              "      <th>nb_long-term_annotations</th>\n",
              "      <th>arrayInfo</th>\n",
              "    </tr>\n",
              "  </thead>\n",
              "  <tbody>\n",
              "    <tr>\n",
              "      <th>5995</th>\n",
              "      <td>video7488.webm</td>\n",
              "      <td>beautiful-young-woman-in-front-of-fountains</td>\n",
              "      <td>0.921</td>\n",
              "      <td>33</td>\n",
              "      <td>1.000</td>\n",
              "      <td>9</td>\n",
              "      <td>[0.003779, 0.001352, 7.7e-05, 0.0, 0.000475, 7...</td>\n",
              "    </tr>\n",
              "    <tr>\n",
              "      <th>5996</th>\n",
              "      <td>video7489.webm</td>\n",
              "      <td>focus-pull-from-molting-penguin-to-penguin-col...</td>\n",
              "      <td>0.909</td>\n",
              "      <td>53</td>\n",
              "      <td>0.839</td>\n",
              "      <td>31</td>\n",
              "      <td>[0.001396, 0.000417, 7e-06, 0.0, 0.000145, 4e-...</td>\n",
              "    </tr>\n",
              "    <tr>\n",
              "      <th>5997</th>\n",
              "      <td>video7491.webm</td>\n",
              "      <td>students-walking-in-university-of-mexico</td>\n",
              "      <td>0.713</td>\n",
              "      <td>33</td>\n",
              "      <td>0.818</td>\n",
              "      <td>11</td>\n",
              "      <td>[0.023139, 0.007435, 0.000322, 0.0, 0.004319, ...</td>\n",
              "    </tr>\n",
              "    <tr>\n",
              "      <th>5998</th>\n",
              "      <td>video7492.webm</td>\n",
              "      <td>beautiful-black-woman-at-spa</td>\n",
              "      <td>0.954</td>\n",
              "      <td>34</td>\n",
              "      <td>1.000</td>\n",
              "      <td>16</td>\n",
              "      <td>[0.0149, 0.004607, 9.9e-05, 0.0, 0.001559, 1.4...</td>\n",
              "    </tr>\n",
              "    <tr>\n",
              "      <th>5999</th>\n",
              "      <td>video7493.webm</td>\n",
              "      <td>beautiful-modern-brunette-woman-using-tablet-c...</td>\n",
              "      <td>0.953</td>\n",
              "      <td>33</td>\n",
              "      <td>0.615</td>\n",
              "      <td>13</td>\n",
              "      <td>[0.041592, 0.013047, 0.000448, 0.0, 0.010044, ...</td>\n",
              "    </tr>\n",
              "  </tbody>\n",
              "</table>\n",
              "</div>"
            ],
            "text/plain": [
              "               video  ...                                          arrayInfo\n",
              "5995  video7488.webm  ...  [0.003779, 0.001352, 7.7e-05, 0.0, 0.000475, 7...\n",
              "5996  video7489.webm  ...  [0.001396, 0.000417, 7e-06, 0.0, 0.000145, 4e-...\n",
              "5997  video7491.webm  ...  [0.023139, 0.007435, 0.000322, 0.0, 0.004319, ...\n",
              "5998  video7492.webm  ...  [0.0149, 0.004607, 9.9e-05, 0.0, 0.001559, 1.4...\n",
              "5999  video7493.webm  ...  [0.041592, 0.013047, 0.000448, 0.0, 0.010044, ...\n",
              "\n",
              "[5 rows x 7 columns]"
            ]
          },
          "metadata": {
            "tags": []
          },
          "execution_count": 71
        }
      ]
    },
    {
      "cell_type": "markdown",
      "metadata": {
        "id": "Il7cjB1nqVmx",
        "colab_type": "text"
      },
      "source": [
        "#4.] CONCATENATING DEV-SET AND TRAIN-SET"
      ]
    },
    {
      "cell_type": "code",
      "metadata": {
        "id": "u9CWoB3hrnQY",
        "colab_type": "code",
        "outputId": "dcfe0399-5671-439f-e612-432dafbdae92",
        "colab": {
          "base_uri": "https://localhost:8080/",
          "height": 34
        }
      },
      "source": [
        "df = pd.concat([df_dev, df_test])\n",
        "df.shape\n",
        "#df = pd.merge(df_dev, df_test , on='video')"
      ],
      "execution_count": 0,
      "outputs": [
        {
          "output_type": "execute_result",
          "data": {
            "text/plain": [
              "(8000, 7)"
            ]
          },
          "metadata": {
            "tags": []
          },
          "execution_count": 152
        }
      ]
    },
    {
      "cell_type": "code",
      "metadata": {
        "id": "3Q7eDiuY3MoB",
        "colab_type": "code",
        "outputId": "dff93457-b333-46e5-d59a-5babdfaab970",
        "colab": {
          "base_uri": "https://localhost:8080/",
          "height": 70
        }
      },
      "source": [
        "print(\"df\", df.shape)\n",
        "print(\"df_dev\",df_dev.shape)\n",
        "print(\"df_test\",df_test.shape)"
      ],
      "execution_count": 0,
      "outputs": [
        {
          "output_type": "stream",
          "text": [
            "df (8000, 7)\n",
            "df_dev (6000, 7)\n",
            "df_test (2000, 3)\n"
          ],
          "name": "stdout"
        }
      ]
    },
    {
      "cell_type": "code",
      "metadata": {
        "id": "Y0b0n1Y62SIs",
        "colab_type": "code",
        "outputId": "2bab0235-ce45-46a5-cc75-9f81f33460bf",
        "colab": {
          "base_uri": "https://localhost:8080/",
          "height": 296
        }
      },
      "source": [
        "df.tail()"
      ],
      "execution_count": 0,
      "outputs": [
        {
          "output_type": "execute_result",
          "data": {
            "text/html": [
              "<div>\n",
              "<style scoped>\n",
              "    .dataframe tbody tr th:only-of-type {\n",
              "        vertical-align: middle;\n",
              "    }\n",
              "\n",
              "    .dataframe tbody tr th {\n",
              "        vertical-align: top;\n",
              "    }\n",
              "\n",
              "    .dataframe thead th {\n",
              "        text-align: right;\n",
              "    }\n",
              "</style>\n",
              "<table border=\"1\" class=\"dataframe\">\n",
              "  <thead>\n",
              "    <tr style=\"text-align: right;\">\n",
              "      <th></th>\n",
              "      <th>video</th>\n",
              "      <th>Captions</th>\n",
              "      <th>short-term_memorability</th>\n",
              "      <th>nb_short-term_annotations</th>\n",
              "      <th>long-term_memorability</th>\n",
              "      <th>nb_long-term_annotations</th>\n",
              "      <th>arrayInfo</th>\n",
              "    </tr>\n",
              "  </thead>\n",
              "  <tbody>\n",
              "    <tr>\n",
              "      <th>1995</th>\n",
              "      <td>video10004.webm</td>\n",
              "      <td>astronaut-in-outer-space-against-the-backdrop-...</td>\n",
              "      <td>NaN</td>\n",
              "      <td>NaN</td>\n",
              "      <td>NaN</td>\n",
              "      <td>NaN</td>\n",
              "      <td>[0.003161, 0.00033, 0.0, 0.0, 0.000189, 0.0, 0...</td>\n",
              "    </tr>\n",
              "    <tr>\n",
              "      <th>1996</th>\n",
              "      <td>video10005.webm</td>\n",
              "      <td>young-women-lying-on-sunbed-and-applying-sun-c...</td>\n",
              "      <td>NaN</td>\n",
              "      <td>NaN</td>\n",
              "      <td>NaN</td>\n",
              "      <td>NaN</td>\n",
              "      <td>[0.016932, 0.003384, 8.3e-05, 0.0, 0.001586, 6...</td>\n",
              "    </tr>\n",
              "    <tr>\n",
              "      <th>1997</th>\n",
              "      <td>video10006.webm</td>\n",
              "      <td>doctor-talking-to-patient-using-a-tablet-to-ex...</td>\n",
              "      <td>NaN</td>\n",
              "      <td>NaN</td>\n",
              "      <td>NaN</td>\n",
              "      <td>NaN</td>\n",
              "      <td>[0.029347, 0.008073, 0.000101, 0.0, 0.001891, ...</td>\n",
              "    </tr>\n",
              "    <tr>\n",
              "      <th>1998</th>\n",
              "      <td>video10007.webm</td>\n",
              "      <td>businessman-sitting-on-the-beach-on-inflatable...</td>\n",
              "      <td>NaN</td>\n",
              "      <td>NaN</td>\n",
              "      <td>NaN</td>\n",
              "      <td>NaN</td>\n",
              "      <td>[0.021746, 0.003096, 4.5e-05, 0.0, 0.002586, 9...</td>\n",
              "    </tr>\n",
              "    <tr>\n",
              "      <th>1999</th>\n",
              "      <td>video10008.webm</td>\n",
              "      <td>woman-eating-ice-cream-and-sitting-in-the-stre...</td>\n",
              "      <td>NaN</td>\n",
              "      <td>NaN</td>\n",
              "      <td>NaN</td>\n",
              "      <td>NaN</td>\n",
              "      <td>[0.011207, 0.002827, 0.000137, 0.0, 0.003531, ...</td>\n",
              "    </tr>\n",
              "  </tbody>\n",
              "</table>\n",
              "</div>"
            ],
            "text/plain": [
              "                video  ...                                          arrayInfo\n",
              "1995  video10004.webm  ...  [0.003161, 0.00033, 0.0, 0.0, 0.000189, 0.0, 0...\n",
              "1996  video10005.webm  ...  [0.016932, 0.003384, 8.3e-05, 0.0, 0.001586, 6...\n",
              "1997  video10006.webm  ...  [0.029347, 0.008073, 0.000101, 0.0, 0.001891, ...\n",
              "1998  video10007.webm  ...  [0.021746, 0.003096, 4.5e-05, 0.0, 0.002586, 9...\n",
              "1999  video10008.webm  ...  [0.011207, 0.002827, 0.000137, 0.0, 0.003531, ...\n",
              "\n",
              "[5 rows x 7 columns]"
            ]
          },
          "metadata": {
            "tags": []
          },
          "execution_count": 150
        }
      ]
    },
    {
      "cell_type": "markdown",
      "metadata": {
        "id": "UQDbzz_BxJla",
        "colab_type": "text"
      },
      "source": [
        "#4.] 1. USING COUNT VECTORIZE"
      ]
    },
    {
      "cell_type": "code",
      "metadata": {
        "id": "IA1t788DrpsI",
        "colab_type": "code",
        "colab": {}
      },
      "source": [
        "cv=CountVectorizer(ngram_range=(1, 2))"
      ],
      "execution_count": 0,
      "outputs": []
    },
    {
      "cell_type": "code",
      "metadata": {
        "id": "RO0p_z2Mm45k",
        "colab_type": "code",
        "colab": {}
      },
      "source": [
        "X_CV=cv.fit_transform(df['Captions'])"
      ],
      "execution_count": 0,
      "outputs": []
    },
    {
      "cell_type": "code",
      "metadata": {
        "id": "fw467_-15FlN",
        "colab_type": "code",
        "outputId": "fc73bc42-2224-4e71-e5bd-b9040a503677",
        "colab": {
          "base_uri": "https://localhost:8080/",
          "height": 34
        }
      },
      "source": [
        "type(X_CV)"
      ],
      "execution_count": 0,
      "outputs": [
        {
          "output_type": "execute_result",
          "data": {
            "text/plain": [
              "scipy.sparse.csr.csr_matrix"
            ]
          },
          "metadata": {
            "tags": []
          },
          "execution_count": 211
        }
      ]
    },
    {
      "cell_type": "code",
      "metadata": {
        "id": "h0nsAs-SruvR",
        "colab_type": "code",
        "outputId": "a410ed6f-0598-446d-f073-b7ff998fbe9d",
        "colab": {
          "base_uri": "https://localhost:8080/",
          "height": 34
        }
      },
      "source": [
        "#dev-set\n",
        "X_arrseq=X_CV.toarray()\n",
        "type(X_arrseq)"
      ],
      "execution_count": 0,
      "outputs": [
        {
          "output_type": "execute_result",
          "data": {
            "text/plain": [
              "numpy.ndarray"
            ]
          },
          "metadata": {
            "tags": []
          },
          "execution_count": 212
        }
      ]
    },
    {
      "cell_type": "code",
      "metadata": {
        "id": "RJXhbd9wrx0Y",
        "colab_type": "code",
        "outputId": "27f0e686-8248-4e01-ba3b-0c667d05a23e",
        "colab": {
          "base_uri": "https://localhost:8080/",
          "height": 34
        }
      },
      "source": [
        "print(X_arrseq[0])"
      ],
      "execution_count": 0,
      "outputs": [
        {
          "output_type": "stream",
          "text": [
            "[0 0 0 ... 0 0 0]\n"
          ],
          "name": "stdout"
        }
      ]
    },
    {
      "cell_type": "markdown",
      "metadata": {
        "id": "Wt5AxoeEq-YL",
        "colab_type": "text"
      },
      "source": [
        "#1. SPLITTING THE DATA INTO TRAIN AND TEST"
      ]
    },
    {
      "cell_type": "code",
      "metadata": {
        "id": "TP3HbBlgr04W",
        "colab_type": "code",
        "colab": {}
      },
      "source": [
        "Y=df[['short-term_memorability','long-term_memorability']].values  #targets\n",
        "X=X_arrseq[:6000] #input"
      ],
      "execution_count": 0,
      "outputs": []
    },
    {
      "cell_type": "code",
      "metadata": {
        "id": "qn_P9hZ8y1FL",
        "colab_type": "code",
        "colab": {}
      },
      "source": [
        "X_train=X_arrseq[:6000]\n",
        "X_test=\n",
        "Y_train\n",
        "Y_test"
      ],
      "execution_count": 0,
      "outputs": []
    },
    {
      "cell_type": "code",
      "metadata": {
        "id": "hlft8PpCJMpG",
        "colab_type": "code",
        "outputId": "ccac8dc8-bd5b-4be2-9c38-b99e2d065405",
        "colab": {
          "base_uri": "https://localhost:8080/",
          "height": 87
        }
      },
      "source": [
        "print('X_train', X_train.shape)\n",
        "print('X_test', X_test.shape)\n",
        "print('Y_train', Y_train.shape)\n",
        "print('Y_test', Y_test.shape)"
      ],
      "execution_count": 0,
      "outputs": [
        {
          "output_type": "stream",
          "text": [
            "X_train (6000, 6075)\n",
            "X_test (0, 6075)\n",
            "Y_train (6000, 2)\n",
            "Y_test (2000, 2)\n"
          ],
          "name": "stdout"
        }
      ]
    },
    {
      "cell_type": "markdown",
      "metadata": {
        "id": "q46wzQf_r2ci",
        "colab_type": "text"
      },
      "source": [
        "#1. Construction of neural network construction"
      ]
    },
    {
      "cell_type": "code",
      "metadata": {
        "id": "4KW-twHuKGrQ",
        "colab_type": "code",
        "outputId": "522b775f-afa6-4360-bdc2-9d3ee0091210",
        "colab": {
          "base_uri": "https://localhost:8080/",
          "height": 492
        }
      },
      "source": [
        "# Compile the model\n",
        "model.compile(optimizer='adam', loss='mean_squared_error', metrics=['accuracy'])\n",
        "   \n",
        "# Define early_stopping_monitor\n",
        "early_stopping_monitor = EarlyStopping(patience=2)\n",
        "    \n",
        "# Fit the model\n",
        "history=model.fit(X_train, Y_train, validation_split=0.3, epochs=30, callbacks= [early_stopping_monitor])"
      ],
      "execution_count": 0,
      "outputs": [
        {
          "output_type": "stream",
          "text": [
            "Train on 3360 samples, validate on 1440 samples\n",
            "Epoch 1/30\n",
            "3360/3360 [==============================] - 5s 2ms/step - loss: 0.1597 - accuracy: 0.5863 - val_loss: 0.0269 - val_accuracy: 0.6903\n",
            "Epoch 2/30\n",
            "3360/3360 [==============================] - 5s 2ms/step - loss: 0.0547 - accuracy: 0.6131 - val_loss: 0.0261 - val_accuracy: 0.6944\n",
            "Epoch 3/30\n",
            "3360/3360 [==============================] - 5s 2ms/step - loss: 0.0406 - accuracy: 0.6232 - val_loss: 0.0224 - val_accuracy: 0.6917\n",
            "Epoch 4/30\n",
            "3360/3360 [==============================] - 5s 2ms/step - loss: 0.0324 - accuracy: 0.6562 - val_loss: 0.0166 - val_accuracy: 0.6938\n",
            "Epoch 5/30\n",
            "3360/3360 [==============================] - 5s 2ms/step - loss: 0.0292 - accuracy: 0.6702 - val_loss: 0.0174 - val_accuracy: 0.6896\n",
            "Epoch 6/30\n",
            "3360/3360 [==============================] - 5s 2ms/step - loss: 0.0256 - accuracy: 0.6780 - val_loss: 0.0157 - val_accuracy: 0.6931\n",
            "Epoch 7/30\n",
            "3360/3360 [==============================] - 5s 2ms/step - loss: 0.0255 - accuracy: 0.6890 - val_loss: 0.0153 - val_accuracy: 0.6931\n",
            "Epoch 8/30\n",
            "3360/3360 [==============================] - 5s 2ms/step - loss: 0.0229 - accuracy: 0.7054 - val_loss: 0.0155 - val_accuracy: 0.6924\n",
            "Epoch 9/30\n",
            "3360/3360 [==============================] - 5s 2ms/step - loss: 0.0211 - accuracy: 0.7113 - val_loss: 0.0146 - val_accuracy: 0.6931\n",
            "Epoch 10/30\n",
            "3360/3360 [==============================] - 5s 2ms/step - loss: 0.0205 - accuracy: 0.7140 - val_loss: 0.0158 - val_accuracy: 0.6938\n",
            "Epoch 11/30\n",
            "3360/3360 [==============================] - 5s 2ms/step - loss: 0.0195 - accuracy: 0.7110 - val_loss: 0.0142 - val_accuracy: 0.6951\n",
            "Epoch 12/30\n",
            "3360/3360 [==============================] - 5s 2ms/step - loss: 0.0182 - accuracy: 0.7217 - val_loss: 0.0154 - val_accuracy: 0.6938\n",
            "Epoch 13/30\n",
            "3360/3360 [==============================] - 5s 2ms/step - loss: 0.0167 - accuracy: 0.7232 - val_loss: 0.0153 - val_accuracy: 0.6938\n"
          ],
          "name": "stdout"
        }
      ]
    },
    {
      "cell_type": "code",
      "metadata": {
        "id": "Tez75xe7r5Pr",
        "colab_type": "code",
        "colab": {}
      },
      "source": [
        "n_cols = X_train.shape[1]"
      ],
      "execution_count": 0,
      "outputs": []
    },
    {
      "cell_type": "code",
      "metadata": {
        "id": "2AnHiZ9GQPHK",
        "colab_type": "code",
        "colab": {}
      },
      "source": [
        "# Set up the model: model\n",
        "model = Sequential()"
      ],
      "execution_count": 0,
      "outputs": []
    },
    {
      "cell_type": "code",
      "metadata": {
        "id": "Z-53EAYqQPZv",
        "colab_type": "code",
        "colab": {}
      },
      "source": [
        "# Add the first layer and Save the number of columns in predictors: n_cols\n",
        "model.add(Dense(100, activation='relu', input_shape=(n_cols,)))\n",
        "model.add(Dropout(0.5))"
      ],
      "execution_count": 0,
      "outputs": []
    },
    {
      "cell_type": "code",
      "metadata": {
        "id": "_SFIlFgTQPVx",
        "colab_type": "code",
        "colab": {}
      },
      "source": [
        "# Add the second layer\n",
        "model.add(Dense(100, activation='relu'))\n",
        "model.add(Dropout(0.5))"
      ],
      "execution_count": 0,
      "outputs": []
    },
    {
      "cell_type": "code",
      "metadata": {
        "id": "e20ZGfvNQrV_",
        "colab_type": "code",
        "colab": {}
      },
      "source": [
        "# Add the output layer\n",
        "model.add(Dense(2))"
      ],
      "execution_count": 0,
      "outputs": []
    },
    {
      "cell_type": "markdown",
      "metadata": {
        "id": "i2e-FA6zq2PH",
        "colab_type": "text"
      },
      "source": [
        "#1. Creating a dense network. Using Early stopping monitor to avoid overfitting"
      ]
    },
    {
      "cell_type": "code",
      "metadata": {
        "id": "YjLIANkuQrRw",
        "colab_type": "code",
        "outputId": "0132c1fc-ffaa-47e0-cb55-994a504e882e",
        "colab": {
          "base_uri": "https://localhost:8080/",
          "height": 386
        }
      },
      "source": [
        "# Compile the model\n",
        "model.compile(optimizer='adam', loss='mean_squared_error', metrics=['accuracy'])\n",
        "   \n",
        "# Define early_stopping_monitor\n",
        "early_stopping_monitor = EarlyStopping(patience=2)\n",
        "    \n",
        "# Fit the model\n",
        "history=model.fit(X_train, Y_train, validation_split=0.3, epochs=30, callbacks= [early_stopping_monitor])"
      ],
      "execution_count": 0,
      "outputs": [
        {
          "output_type": "stream",
          "text": [
            "Train on 3360 samples, validate on 1440 samples\n",
            "Epoch 1/30\n",
            "3360/3360 [==============================] - 1s 354us/step - loss: 0.1518 - accuracy: 0.5405 - val_loss: 0.0197 - val_accuracy: 0.6868\n",
            "Epoch 2/30\n",
            "3360/3360 [==============================] - 1s 326us/step - loss: 0.0398 - accuracy: 0.5908 - val_loss: 0.0205 - val_accuracy: 0.6868\n",
            "Epoch 3/30\n",
            "3360/3360 [==============================] - 1s 318us/step - loss: 0.0330 - accuracy: 0.6196 - val_loss: 0.0169 - val_accuracy: 0.6868\n",
            "Epoch 4/30\n",
            "3360/3360 [==============================] - 1s 319us/step - loss: 0.0278 - accuracy: 0.6435 - val_loss: 0.0158 - val_accuracy: 0.6868\n",
            "Epoch 5/30\n",
            "3360/3360 [==============================] - 1s 331us/step - loss: 0.0256 - accuracy: 0.6512 - val_loss: 0.0147 - val_accuracy: 0.6868\n",
            "Epoch 6/30\n",
            "3360/3360 [==============================] - 1s 322us/step - loss: 0.0231 - accuracy: 0.6622 - val_loss: 0.0154 - val_accuracy: 0.6868\n",
            "Epoch 7/30\n",
            "3360/3360 [==============================] - 1s 329us/step - loss: 0.0221 - accuracy: 0.6810 - val_loss: 0.0145 - val_accuracy: 0.6861\n",
            "Epoch 8/30\n",
            "3360/3360 [==============================] - 1s 347us/step - loss: 0.0198 - accuracy: 0.6917 - val_loss: 0.0141 - val_accuracy: 0.6868\n",
            "Epoch 9/30\n",
            "3360/3360 [==============================] - 1s 335us/step - loss: 0.0194 - accuracy: 0.6997 - val_loss: 0.0145 - val_accuracy: 0.6875\n",
            "Epoch 10/30\n",
            "3360/3360 [==============================] - 1s 348us/step - loss: 0.0180 - accuracy: 0.7036 - val_loss: 0.0155 - val_accuracy: 0.6847\n"
          ],
          "name": "stdout"
        }
      ]
    },
    {
      "cell_type": "code",
      "metadata": {
        "id": "a_IF9xrKQrNA",
        "colab_type": "code",
        "outputId": "6a4f94b4-435d-416b-b369-2fdd2b7a824e",
        "colab": {
          "base_uri": "https://localhost:8080/",
          "height": 295
        }
      },
      "source": [
        "loss = history.history['loss']\n",
        "val_loss = history.history['val_loss']\n",
        "\n",
        "epochs = range(1,len(loss)+1)\n",
        "\n",
        "plt.plot(epochs,loss,'bo',label='Training loss')\n",
        "plt.plot(epochs,val_loss,'b',label='Validation loss')\n",
        "plt.title('Training and validation loss')\n",
        "plt.xlabel('Epochs')\n",
        "plt.ylabel('Loss')\n",
        "plt.legend()\n",
        "plt.show()"
      ],
      "execution_count": 0,
      "outputs": [
        {
          "output_type": "display_data",
          "data": {
            "image/png": "[encoded data removed]",
            "text/plain": [
              "<Figure size 432x288 with 1 Axes>"
            ]
          },
          "metadata": {
            "tags": [],
            "needs_background": "light"
          }
        }
      ]
    },
    {
      "cell_type": "code",
      "metadata": {
        "id": "MRN-B1YwQrI3",
        "colab_type": "code",
        "outputId": "783d3bfc-1aa3-4503-d1dc-a32446a3ebaa",
        "colab": {
          "base_uri": "https://localhost:8080/",
          "height": 175
        }
      },
      "source": [
        "predictions1 = model.predict(X_test)\n",
        "print(predictions1)\n",
        "Get_score(predictions1, Y_test) "
      ],
      "execution_count": 0,
      "outputs": [
        {
          "output_type": "stream",
          "text": [
            "[[0.8384767  0.7622064 ]\n",
            " [0.8388891  0.79507595]\n",
            " [0.84824336 0.7931835 ]\n",
            " ...\n",
            " [0.8293365  0.7202282 ]\n",
            " [0.81594646 0.69059396]\n",
            " [0.8155697  0.704761  ]]\n",
            "The Spearman's correlation coefficient is: 0.314\n",
            "The Spearman's correlation coefficient is: 0.130\n"
          ],
          "name": "stdout"
        }
      ]
    },
    {
      "cell_type": "markdown",
      "metadata": {
        "id": "vIo9Q4pKZyZ4",
        "colab_type": "text"
      },
      "source": [
        " # 4.] 2. Using TFIDF Vectorize"
      ]
    },
    {
      "cell_type": "code",
      "metadata": {
        "id": "qHCRxHtKQrA3",
        "colab_type": "code",
        "colab": {}
      },
      "source": [
        "tfidf=TfidfVectorizer(min_df=1, stop_words='english')"
      ],
      "execution_count": 0,
      "outputs": []
    },
    {
      "cell_type": "code",
      "metadata": {
        "id": "katgXY2XQq9B",
        "colab_type": "code",
        "colab": {}
      },
      "source": [
        "X_TF=tfidf.fit_transform(df_dev['Captions'])"
      ],
      "execution_count": 0,
      "outputs": []
    },
    {
      "cell_type": "code",
      "metadata": {
        "id": "A_hRiUjHQq3-",
        "colab_type": "code",
        "outputId": "1e3f6e5c-e3cd-48b1-a47d-129416cc9087",
        "colab": {
          "base_uri": "https://localhost:8080/",
          "height": 140
        }
      },
      "source": [
        "#for test features\n",
        "X_tfarrseq=X_TF.toarray()\n",
        "X_tfarrseq"
      ],
      "execution_count": 0,
      "outputs": [
        {
          "output_type": "execute_result",
          "data": {
            "text/plain": [
              "array([[0., 0., 0., ..., 0., 0., 0.],\n",
              "       [0., 0., 0., ..., 0., 0., 0.],\n",
              "       [0., 0., 0., ..., 0., 0., 0.],\n",
              "       ...,\n",
              "       [0., 0., 0., ..., 0., 0., 0.],\n",
              "       [0., 0., 0., ..., 0., 0., 0.],\n",
              "       [0., 0., 0., ..., 0., 0., 0.]])"
            ]
          },
          "metadata": {
            "tags": []
          },
          "execution_count": 155
        }
      ]
    },
    {
      "cell_type": "code",
      "metadata": {
        "id": "k5yF-aSaQqzI",
        "colab_type": "code",
        "outputId": "17e3a166-69d9-44e2-d531-a02acf00874c",
        "colab": {
          "base_uri": "https://localhost:8080/",
          "height": 34
        }
      },
      "source": [
        "print(X_tfarrseq[0])"
      ],
      "execution_count": 0,
      "outputs": [
        {
          "output_type": "stream",
          "text": [
            "[0. 0. 0. ... 0. 0. 0.]\n"
          ],
          "name": "stdout"
        }
      ]
    },
    {
      "cell_type": "code",
      "metadata": {
        "id": "4fck0irwaFwc",
        "colab_type": "code",
        "colab": {}
      },
      "source": [
        "Y=df[['short-term_memorability','long-term_memorability']].values  #targets\n",
        "X=X_tfarrseq #input"
      ],
      "execution_count": 0,
      "outputs": []
    },
    {
      "cell_type": "code",
      "metadata": {
        "id": "CKrfooW8uc7d",
        "colab_type": "code",
        "colab": {}
      },
      "source": [
        "X_train, X_test, Y_train, Y_test = train_test_split(X,Y, test_size=0.2, random_state=42)"
      ],
      "execution_count": 0,
      "outputs": []
    },
    {
      "cell_type": "code",
      "metadata": {
        "id": "y0eSWY0UaF9d",
        "colab_type": "code",
        "colab": {}
      },
      "source": [
        "#For test set prediction purposes\n",
        "Y_train = Y[0:6000]\n",
        "X_train = X_tfarrseq[0:6000]\n",
        "X_test = X_tfarrseq[6000:]"
      ],
      "execution_count": 0,
      "outputs": []
    },
    {
      "cell_type": "code",
      "metadata": {
        "id": "Pz9Kw48caGLj",
        "colab_type": "code",
        "outputId": "a1677303-e47f-48af-8d80-5d6ab3f47176",
        "colab": {
          "base_uri": "https://localhost:8080/",
          "height": 87
        }
      },
      "source": [
        "print('X_train', X_train.shape)\n",
        "print('X_test', X_test.shape)\n",
        "print('Y_train', Y_train.shape)\n",
        "print('Y_test', Y_test.shape)"
      ],
      "execution_count": 0,
      "outputs": [
        {
          "output_type": "stream",
          "text": [
            "X_train (4800, 5123)\n",
            "X_test (1200, 5123)\n",
            "Y_train (4800, 2)\n",
            "Y_test (1200, 2)\n"
          ],
          "name": "stdout"
        }
      ]
    },
    {
      "cell_type": "code",
      "metadata": {
        "id": "HA67svurQPQq",
        "colab_type": "code",
        "outputId": "af3dea9f-3cc2-47e7-f9e6-968dc4e9de72",
        "colab": {
          "base_uri": "https://localhost:8080/",
          "height": 34
        }
      },
      "source": [
        "n_cols = X_train.shape[1]\n",
        "n_cols"
      ],
      "execution_count": 0,
      "outputs": [
        {
          "output_type": "execute_result",
          "data": {
            "text/plain": [
              "5123"
            ]
          },
          "metadata": {
            "tags": []
          },
          "execution_count": 158
        }
      ]
    },
    {
      "cell_type": "code",
      "metadata": {
        "id": "_TxWgpg3aUsR",
        "colab_type": "code",
        "colab": {}
      },
      "source": [
        "# Set up the model: model and Save the number of columns in predictors: n_cols\n",
        "model = Sequential()\n",
        "# Add the first layer\n",
        "model.add(Dense(50, activation='relu', input_shape=(n_cols,)))\n",
        "model.add(Dropout(0.5))\n",
        "# Add the second layer\n",
        "model.add(Dense(32, activation='relu'))\n",
        "model.add(Dropout(0.5))\n",
        "# Add the output layer\n",
        "model.add(Dense(2))"
      ],
      "execution_count": 0,
      "outputs": []
    },
    {
      "cell_type": "code",
      "metadata": {
        "id": "AYfDrOZyaU4x",
        "colab_type": "code",
        "colab": {}
      },
      "source": [
        "# Compile the model\n",
        "model.compile(optimizer='adam', loss = 'mean_squared_error')"
      ],
      "execution_count": 0,
      "outputs": []
    },
    {
      "cell_type": "code",
      "metadata": {
        "id": "z3TVcnT5alqt",
        "colab_type": "code",
        "outputId": "91239566-7221-4a16-d88e-9aa4d02eb095",
        "colab": {
          "base_uri": "https://localhost:8080/",
          "height": 34
        }
      },
      "source": [
        "# Verify that model contains information from compiling\n",
        "print(\"Loss function: \" + model.loss)"
      ],
      "execution_count": 0,
      "outputs": [
        {
          "output_type": "stream",
          "text": [
            "Loss function: mean_squared_error\n"
          ],
          "name": "stdout"
        }
      ]
    },
    {
      "cell_type": "code",
      "metadata": {
        "id": "NVQxdZNVal1g",
        "colab_type": "code",
        "outputId": "a98f24cb-dba5-4a04-af31-1ab13dca1196",
        "colab": {
          "base_uri": "https://localhost:8080/",
          "height": 477
        }
      },
      "source": [
        "# Fit the model\n",
        "history=model.fit(X_train, Y_train, validation_split=0.3, epochs=30, callbacks= [early_stopping_monitor])"
      ],
      "execution_count": 0,
      "outputs": [
        {
          "output_type": "stream",
          "text": [
            "Train on 3360 samples, validate on 1440 samples\n",
            "Epoch 1/30\n",
            "3360/3360 [==============================] - 1s 250us/step - loss: 0.2819 - val_loss: 0.0284\n",
            "Epoch 2/30\n",
            "3360/3360 [==============================] - 1s 208us/step - loss: 0.0856 - val_loss: 0.0211\n",
            "Epoch 3/30\n",
            "3360/3360 [==============================] - 1s 204us/step - loss: 0.0724 - val_loss: 0.0217\n",
            "Epoch 4/30\n",
            "3360/3360 [==============================] - 1s 254us/step - loss: 0.0608 - val_loss: 0.0178\n",
            "Epoch 5/30\n",
            "3360/3360 [==============================] - 1s 227us/step - loss: 0.0521 - val_loss: 0.0177\n",
            "Epoch 6/30\n",
            "3360/3360 [==============================] - 1s 209us/step - loss: 0.0451 - val_loss: 0.0169\n",
            "Epoch 7/30\n",
            "3360/3360 [==============================] - 1s 203us/step - loss: 0.0382 - val_loss: 0.0173\n",
            "Epoch 8/30\n",
            "3360/3360 [==============================] - 1s 215us/step - loss: 0.0366 - val_loss: 0.0162\n",
            "Epoch 9/30\n",
            "3360/3360 [==============================] - 1s 205us/step - loss: 0.0325 - val_loss: 0.0148\n",
            "Epoch 10/30\n",
            "3360/3360 [==============================] - 1s 209us/step - loss: 0.0303 - val_loss: 0.0143\n",
            "Epoch 11/30\n",
            "3360/3360 [==============================] - 1s 213us/step - loss: 0.0285 - val_loss: 0.0153\n",
            "Epoch 12/30\n",
            "3360/3360 [==============================] - 1s 209us/step - loss: 0.0260 - val_loss: 0.0148\n"
          ],
          "name": "stdout"
        }
      ]
    },
    {
      "cell_type": "code",
      "metadata": {
        "id": "I_lEezSFKr9S",
        "colab_type": "code",
        "outputId": "494862e0-6ff6-4bdb-c398-e4eeaf62e0a0",
        "colab": {
          "base_uri": "https://localhost:8080/",
          "height": 295
        }
      },
      "source": [
        "loss = history.history['loss']\n",
        "val_loss = history.history['val_loss']\n",
        "\n",
        "epochs = range(1,len(loss)+1)\n",
        "\n",
        "plt.plot(epochs,loss,'bo',label='Training loss')\n",
        "plt.plot(epochs,val_loss,'b',label='Validation loss')\n",
        "plt.title('Training and validation loss')\n",
        "plt.xlabel('Epochs')\n",
        "plt.ylabel('Loss')\n",
        "plt.legend()\n",
        "plt.show()"
      ],
      "execution_count": 0,
      "outputs": [
        {
          "output_type": "display_data",
          "data": {
            "image/png": "[encoded data removed]",
            "text/plain": [
              "<Figure size 432x288 with 1 Axes>"
            ]
          },
          "metadata": {
            "tags": [],
            "needs_background": "light"
          }
        }
      ]
    },
    {
      "cell_type": "code",
      "metadata": {
        "id": "B04aPYIDa5_L",
        "colab_type": "code",
        "outputId": "9031409e-2005-4fa1-a917-9932422332d4",
        "colab": {
          "base_uri": "https://localhost:8080/",
          "height": 175
        }
      },
      "source": [
        "predictions2 = model.predict(X_test)\n",
        "print(predictions2)\n",
        "Get_score(predictions2, Y_test) # Try remember what the Spearman scores actually mean!"
      ],
      "execution_count": 0,
      "outputs": [
        {
          "output_type": "stream",
          "text": [
            "[[0.84516907 0.7724477 ]\n",
            " [0.8296598  0.76229405]\n",
            " [0.8297585  0.7524861 ]\n",
            " ...\n",
            " [0.83939326 0.7697942 ]\n",
            " [0.80512416 0.7310984 ]\n",
            " [0.797442   0.7201607 ]]\n",
            "The Spearman's correlation coefficient is: 0.353\n",
            "The Spearman's correlation coefficient is: 0.169\n"
          ],
          "name": "stdout"
        }
      ]
    },
    {
      "cell_type": "markdown",
      "metadata": {
        "id": "cg83IBoobx3m",
        "colab_type": "text"
      },
      "source": [
        "#4.] 3. IMAGE FEATURES"
      ]
    },
    {
      "cell_type": "code",
      "metadata": {
        "id": "ZbBpv9-o2C_0",
        "colab_type": "code",
        "outputId": "59b1b767-aa34-4ebe-fcea-02a32da944d9",
        "colab": {
          "base_uri": "https://localhost:8080/",
          "height": 195
        }
      },
      "source": [
        "train_ground_truth.tail()"
      ],
      "execution_count": 0,
      "outputs": [
        {
          "output_type": "execute_result",
          "data": {
            "text/html": [
              "<div>\n",
              "<style scoped>\n",
              "    .dataframe tbody tr th:only-of-type {\n",
              "        vertical-align: middle;\n",
              "    }\n",
              "\n",
              "    .dataframe tbody tr th {\n",
              "        vertical-align: top;\n",
              "    }\n",
              "\n",
              "    .dataframe thead th {\n",
              "        text-align: right;\n",
              "    }\n",
              "</style>\n",
              "<table border=\"1\" class=\"dataframe\">\n",
              "  <thead>\n",
              "    <tr style=\"text-align: right;\">\n",
              "      <th></th>\n",
              "      <th>video</th>\n",
              "      <th>short-term_memorability</th>\n",
              "      <th>long-term_memorability</th>\n",
              "    </tr>\n",
              "  </thead>\n",
              "  <tbody>\n",
              "    <tr>\n",
              "      <th>5995</th>\n",
              "      <td>video7488.webm</td>\n",
              "      <td>0.921</td>\n",
              "      <td>1.000</td>\n",
              "    </tr>\n",
              "    <tr>\n",
              "      <th>5996</th>\n",
              "      <td>video7489.webm</td>\n",
              "      <td>0.909</td>\n",
              "      <td>0.839</td>\n",
              "    </tr>\n",
              "    <tr>\n",
              "      <th>5997</th>\n",
              "      <td>video7491.webm</td>\n",
              "      <td>0.713</td>\n",
              "      <td>0.818</td>\n",
              "    </tr>\n",
              "    <tr>\n",
              "      <th>5998</th>\n",
              "      <td>video7492.webm</td>\n",
              "      <td>0.954</td>\n",
              "      <td>1.000</td>\n",
              "    </tr>\n",
              "    <tr>\n",
              "      <th>5999</th>\n",
              "      <td>video7493.webm</td>\n",
              "      <td>0.953</td>\n",
              "      <td>0.615</td>\n",
              "    </tr>\n",
              "  </tbody>\n",
              "</table>\n",
              "</div>"
            ],
            "text/plain": [
              "               video  short-term_memorability  long-term_memorability\n",
              "5995  video7488.webm                    0.921                   1.000\n",
              "5996  video7489.webm                    0.909                   0.839\n",
              "5997  video7491.webm                    0.713                   0.818\n",
              "5998  video7492.webm                    0.954                   1.000\n",
              "5999  video7493.webm                    0.953                   0.615"
            ]
          },
          "metadata": {
            "tags": []
          },
          "execution_count": 195
        }
      ]
    },
    {
      "cell_type": "code",
      "metadata": {
        "id": "NCllhQipOPX4",
        "colab_type": "code",
        "outputId": "23d4dfa0-93b4-4d02-fa6f-e0541bbc4245",
        "colab": {
          "base_uri": "https://localhost:8080/",
          "height": 195
        }
      },
      "source": [
        "test_ground_truth.tail()"
      ],
      "execution_count": 0,
      "outputs": [
        {
          "output_type": "execute_result",
          "data": {
            "text/html": [
              "<div>\n",
              "<style scoped>\n",
              "    .dataframe tbody tr th:only-of-type {\n",
              "        vertical-align: middle;\n",
              "    }\n",
              "\n",
              "    .dataframe tbody tr th {\n",
              "        vertical-align: top;\n",
              "    }\n",
              "\n",
              "    .dataframe thead th {\n",
              "        text-align: right;\n",
              "    }\n",
              "</style>\n",
              "<table border=\"1\" class=\"dataframe\">\n",
              "  <thead>\n",
              "    <tr style=\"text-align: right;\">\n",
              "      <th></th>\n",
              "      <th>video</th>\n",
              "      <th>short-term_memorability</th>\n",
              "      <th>long-term_memorability</th>\n",
              "    </tr>\n",
              "  </thead>\n",
              "  <tbody>\n",
              "    <tr>\n",
              "      <th>1995</th>\n",
              "      <td>10004</td>\n",
              "      <td>NaN</td>\n",
              "      <td>NaN</td>\n",
              "    </tr>\n",
              "    <tr>\n",
              "      <th>1996</th>\n",
              "      <td>10005</td>\n",
              "      <td>NaN</td>\n",
              "      <td>NaN</td>\n",
              "    </tr>\n",
              "    <tr>\n",
              "      <th>1997</th>\n",
              "      <td>10006</td>\n",
              "      <td>NaN</td>\n",
              "      <td>NaN</td>\n",
              "    </tr>\n",
              "    <tr>\n",
              "      <th>1998</th>\n",
              "      <td>10007</td>\n",
              "      <td>NaN</td>\n",
              "      <td>NaN</td>\n",
              "    </tr>\n",
              "    <tr>\n",
              "      <th>1999</th>\n",
              "      <td>10008</td>\n",
              "      <td>NaN</td>\n",
              "      <td>NaN</td>\n",
              "    </tr>\n",
              "  </tbody>\n",
              "</table>\n",
              "</div>"
            ],
            "text/plain": [
              "      video  short-term_memorability  long-term_memorability\n",
              "1995  10004                      NaN                     NaN\n",
              "1996  10005                      NaN                     NaN\n",
              "1997  10006                      NaN                     NaN\n",
              "1998  10007                      NaN                     NaN\n",
              "1999  10008                      NaN                     NaN"
            ]
          },
          "metadata": {
            "tags": []
          },
          "execution_count": 196
        }
      ]
    },
    {
      "cell_type": "code",
      "metadata": {
        "id": "W5prXnVMbBXT",
        "colab_type": "code",
        "colab": {}
      },
      "source": [
        "result_array = np.empty((0, 6075))\n",
        "for line in df_dev['arrayInfo']:\n",
        "    result_array = np.append(result_array, np.array([line]), axis = 0)"
      ],
      "execution_count": 0,
      "outputs": []
    },
    {
      "cell_type": "code",
      "metadata": {
        "id": "X4nOMWvmb2Jp",
        "colab_type": "code",
        "outputId": "6da755a6-98f7-420d-a8fd-0337f5134b0d",
        "colab": {
          "base_uri": "https://localhost:8080/",
          "height": 263
        }
      },
      "source": [
        "X_arrHMP = result_array\n",
        "print(type(X_arrHMP))\n",
        "X_arrHMP"
      ],
      "execution_count": 0,
      "outputs": [
        {
          "output_type": "stream",
          "text": [
            "<class 'numpy.ndarray'>\n"
          ],
          "name": "stdout"
        },
        {
          "output_type": "execute_result",
          "data": {
            "text/plain": [
              "array([[1.25563e-01, 2.40360e-02, 3.14000e-04, ..., 8.60000e-05,\n",
              "        5.80000e-04, 0.00000e+00],\n",
              "       [7.52600e-03, 1.42100e-03, 6.80000e-05, ..., 2.20000e-04,\n",
              "        7.62000e-04, 1.22400e-03],\n",
              "       [1.09584e-01, 1.89780e-02, 2.89000e-04, ..., 5.20000e-05,\n",
              "        2.58000e-04, 2.15000e-04],\n",
              "       ...,\n",
              "       [2.31390e-02, 7.43500e-03, 3.22000e-04, ..., 7.56000e-04,\n",
              "        7.38000e-04, 2.14000e-04],\n",
              "       [1.49000e-02, 4.60700e-03, 9.90000e-05, ..., 6.40000e-05,\n",
              "        6.40000e-05, 1.10000e-05],\n",
              "       [4.15920e-02, 1.30470e-02, 4.48000e-04, ..., 2.89000e-04,\n",
              "        9.88000e-04, 1.61000e-04]])"
            ]
          },
          "metadata": {
            "tags": []
          },
          "execution_count": 198
        }
      ]
    },
    {
      "cell_type": "code",
      "metadata": {
        "id": "a16-9GM_b2g5",
        "colab_type": "code",
        "colab": {}
      },
      "source": [
        "Y=df_dev[['short-term_memorability','long-term_memorability']].values  #targets\n",
        "X=X_arrHMP #input"
      ],
      "execution_count": 0,
      "outputs": []
    },
    {
      "cell_type": "code",
      "metadata": {
        "id": "xIrgyrSK1Hx9",
        "colab_type": "code",
        "colab": {}
      },
      "source": [
        "X_train, X_test, Y_train, Y_test = train_test_split(X,Y, test_size=0.2, random_state=42)"
      ],
      "execution_count": 0,
      "outputs": []
    },
    {
      "cell_type": "code",
      "metadata": {
        "id": "x3JmkLhWb3AN",
        "colab_type": "code",
        "colab": {}
      },
      "source": [
        "#For test set prediction purposes\n",
        "Y_train=train_ground_truth[['short-term_memorability','long-term_memorability']].values  #targets\n",
        "Y_test=test_ground_truth[['short-term_memorability','long-term_memorability']].values  #targets\n",
        "X=X_arrHMP #input\n",
        "X_train = X[0:6000]\n",
        "X_test = X[6000:]\n"
      ],
      "execution_count": 0,
      "outputs": []
    },
    {
      "cell_type": "code",
      "metadata": {
        "id": "Z_2UYu1Bb3eS",
        "colab_type": "code",
        "outputId": "dcf65bed-a2df-4ff8-8249-b34ece168f11",
        "colab": {
          "base_uri": "https://localhost:8080/",
          "height": 87
        }
      },
      "source": [
        "#X_train, X_test = train_test_split(X, test_size=0.2, random_state=42) \n",
        "\n",
        "print('X_train', X_train.shape)\n",
        "print('X_test', X_test.shape)\n",
        "print('Y_train', Y_train.shape)\n",
        "print('Y_test', Y_test.shape)"
      ],
      "execution_count": 0,
      "outputs": [
        {
          "output_type": "stream",
          "text": [
            "X_train (6000, 6075)\n",
            "X_test (0, 6075)\n",
            "Y_train (6000, 2)\n",
            "Y_test (2000, 2)\n"
          ],
          "name": "stdout"
        }
      ]
    },
    {
      "cell_type": "code",
      "metadata": {
        "id": "TuIY-SPzb3_m",
        "colab_type": "code",
        "outputId": "4d5d6513-2834-4734-933e-bd31d070530f",
        "colab": {
          "base_uri": "https://localhost:8080/",
          "height": 34
        }
      },
      "source": [
        "n_cols = X_train.shape[1]\n",
        "n_cols"
      ],
      "execution_count": 0,
      "outputs": [
        {
          "output_type": "execute_result",
          "data": {
            "text/plain": [
              "6075"
            ]
          },
          "metadata": {
            "tags": []
          },
          "execution_count": 203
        }
      ]
    },
    {
      "cell_type": "code",
      "metadata": {
        "id": "3ArwENdYb4eR",
        "colab_type": "code",
        "colab": {}
      },
      "source": [
        "model = Sequential()\n",
        "model.add(Dense(100, activation='relu', input_shape=(n_cols,)))\n",
        "model.add(Dropout(0.5))\n",
        "# Add the second layer\n",
        "model.add(Dense(100, activation='relu'))\n",
        "model.add(Dropout(0.5))\n",
        "# Add the output layer\n",
        "model.add(Dense(2))"
      ],
      "execution_count": 0,
      "outputs": []
    },
    {
      "cell_type": "code",
      "metadata": {
        "id": "2R6M1BhycMPn",
        "colab_type": "code",
        "colab": {}
      },
      "source": [
        "# Compile the model\n",
        "model.compile(optimizer='adam', loss='mean_squared_error', metrics=['accuracy'])\n",
        "   \n",
        "# Define early_stopping_monitor\n",
        "early_stopping_monitor = EarlyStopping(patience=2)"
      ],
      "execution_count": 0,
      "outputs": []
    },
    {
      "cell_type": "code",
      "metadata": {
        "id": "6ovYDWOJxb_y",
        "colab_type": "code",
        "outputId": "47a733c0-0425-49dd-bb0a-012e7938bdd8",
        "colab": {
          "base_uri": "https://localhost:8080/",
          "height": 295
        }
      },
      "source": [
        "# Fit the model\n",
        "#history=model.fit(X_train, Y_train, validation_split=0.3, epochs=30, callbacks= [early_stopping_monitor])\n",
        "# Fit the model\n",
        "#history=model.fit(X_train, Y_train, validation_split=0.3, epochs=30, callbacks= [early_stopping_monitor])\n",
        "loss = history.history['loss']\n",
        "val_loss = history.history['val_loss']\n",
        "\n",
        "epochs = range(1,len(loss)+1)\n",
        "\n",
        "plt.plot(epochs,loss,'bo',label='Training loss')\n",
        "plt.plot(epochs,val_loss,'b',label='Validation loss')\n",
        "plt.title('Training and validation loss')\n",
        "plt.xlabel('Epochs')\n",
        "plt.ylabel('Loss')\n",
        "plt.legend()\n",
        "plt.show()"
      ],
      "execution_count": 0,
      "outputs": [
        {
          "output_type": "display_data",
          "data": {
            "image/png": "[encoded data removed]",
            "text/plain": [
              "<Figure size 432x288 with 1 Axes>"
            ]
          },
          "metadata": {
            "tags": [],
            "needs_background": "light"
          }
        }
      ]
    },
    {
      "cell_type": "code",
      "metadata": {
        "id": "SoKWJGmBO46-",
        "colab_type": "code",
        "outputId": "e8d3f522-271a-4133-8aef-208831994d0f",
        "colab": {
          "base_uri": "https://localhost:8080/",
          "height": 246
        }
      },
      "source": [
        "# Fit the model\n",
        "history=model.fit(X_train, Y_train, validation_split=0.3, epochs=30, callbacks= [early_stopping_monitor])\n",
        "# Fit the model\n",
        "#history=model.fit(X_train, Y_train, validation_split=0.3, epochs=30, callbacks= [early_stopping_monitor])\n"
      ],
      "execution_count": 0,
      "outputs": [
        {
          "output_type": "stream",
          "text": [
            "Train on 4200 samples, validate on 1800 samples\n",
            "Epoch 1/30\n",
            "4200/4200 [==============================] - 2s 434us/step - loss: 0.1235 - accuracy: 0.6012 - val_loss: 0.0151 - val_accuracy: 0.7044\n",
            "Epoch 2/30\n",
            "4200/4200 [==============================] - 2s 395us/step - loss: 0.0364 - accuracy: 0.6148 - val_loss: 0.0149 - val_accuracy: 0.7044\n",
            "Epoch 3/30\n",
            "4200/4200 [==============================] - 2s 398us/step - loss: 0.0309 - accuracy: 0.6379 - val_loss: 0.0137 - val_accuracy: 0.7044\n",
            "Epoch 4/30\n",
            "4200/4200 [==============================] - 2s 397us/step - loss: 0.0268 - accuracy: 0.6379 - val_loss: 0.0136 - val_accuracy: 0.7044\n",
            "Epoch 5/30\n",
            "4200/4200 [==============================] - 2s 390us/step - loss: 0.0249 - accuracy: 0.6560 - val_loss: 0.0137 - val_accuracy: 0.7044\n",
            "Epoch 6/30\n",
            "4200/4200 [==============================] - 2s 400us/step - loss: 0.0236 - accuracy: 0.6760 - val_loss: 0.0140 - val_accuracy: 0.7044\n"
          ],
          "name": "stdout"
        }
      ]
    },
    {
      "cell_type": "code",
      "metadata": {
        "id": "IlFlcqCGbBmJ",
        "colab_type": "code",
        "outputId": "9c554be2-25f7-45cf-bd09-8a2233f9f97a",
        "colab": {
          "base_uri": "https://localhost:8080/",
          "height": 295
        }
      },
      "source": [
        "loss = history.history['loss']\n",
        "val_loss = history.history['val_loss']\n",
        "\n",
        "epochs = range(1,len(loss)+1)\n",
        "\n",
        "plt.plot(epochs,loss,'bo',label='Training loss')\n",
        "plt.plot(epochs,val_loss,'b',label='Validation loss')\n",
        "plt.title('Training and validation loss')\n",
        "plt.xlabel('Epochs')\n",
        "plt.ylabel('Loss')\n",
        "plt.legend()\n",
        "plt.show()"
      ],
      "execution_count": 0,
      "outputs": [
        {
          "output_type": "display_data",
          "data": {
            "image/png": "[encoded data removed]",
            "text/plain": [
              "<Figure size 432x288 with 1 Axes>"
            ]
          },
          "metadata": {
            "tags": [],
            "needs_background": "light"
          }
        }
      ]
    },
    {
      "cell_type": "code",
      "metadata": {
        "id": "JphVf7P7cWvh",
        "colab_type": "code",
        "outputId": "ca373613-6514-4c10-9375-061b9bbdc3db",
        "colab": {
          "base_uri": "https://localhost:8080/",
          "height": 158
        }
      },
      "source": [
        "#test set predictions\n",
        "predictions3_test = model.predict(X_test)\n",
        "print(predictions3_test)\n",
        "Get_score(predictions3_test, X_test)"
      ],
      "execution_count": 0,
      "outputs": [
        {
          "output_type": "stream",
          "text": [
            "[[0.8618469  0.7885598 ]\n",
            " [0.83826214 0.76315325]\n",
            " [0.86731255 0.7905973 ]\n",
            " ...\n",
            " [0.85938287 0.78235346]\n",
            " [0.85346794 0.7768066 ]\n",
            " [0.84871674 0.7745671 ]]\n",
            "Input shapes don't match!\n"
          ],
          "name": "stdout"
        }
      ]
    },
    {
      "cell_type": "code",
      "metadata": {
        "id": "Q6FZt3A0cXUk",
        "colab_type": "code",
        "colab": {}
      },
      "source": [
        "predictions_test = np.divide(predictions_test, 2)"
      ],
      "execution_count": 0,
      "outputs": []
    },
    {
      "cell_type": "code",
      "metadata": {
        "id": "HnKo1skkwUSF",
        "colab_type": "code",
        "outputId": "157fb324-db62-47db-89a6-464ca9ee13a3",
        "colab": {
          "base_uri": "https://localhost:8080/",
          "height": 34
        }
      },
      "source": [
        "predictions_test.shape"
      ],
      "execution_count": 0,
      "outputs": [
        {
          "output_type": "execute_result",
          "data": {
            "text/plain": [
              "(2000, 2)"
            ]
          },
          "metadata": {
            "tags": []
          },
          "execution_count": 507
        }
      ]
    },
    {
      "cell_type": "code",
      "metadata": {
        "id": "2NMvKp177CtF",
        "colab_type": "code",
        "outputId": "35738131-5c4d-496a-f585-2b6002ec1a4b",
        "colab": {
          "base_uri": "https://localhost:8080/",
          "height": 140
        }
      },
      "source": [
        "predictions_test[0:2000]"
      ],
      "execution_count": 0,
      "outputs": [
        {
          "output_type": "execute_result",
          "data": {
            "text/plain": [
              "array([[0.79928935, 0.7025093 ],\n",
              "       [0.80432814, 0.72336626],\n",
              "       [0.8148873 , 0.72174054],\n",
              "       ...,\n",
              "       [0.8620664 , 0.7693423 ],\n",
              "       [0.9066935 , 0.83314013],\n",
              "       [0.82940066, 0.7409984 ]], dtype=float32)"
            ]
          },
          "metadata": {
            "tags": []
          },
          "execution_count": 510
        }
      ]
    },
    {
      "cell_type": "code",
      "metadata": {
        "id": "cXZV0MTTBIb-",
        "colab_type": "code",
        "colab": {}
      },
      "source": [
        "Result = pd.read_csv('/content/drive/My Drive/Features/FinalResults.csv')"
      ],
      "execution_count": 0,
      "outputs": []
    },
    {
      "cell_type": "code",
      "metadata": {
        "id": "NVCiI-dPBM-k",
        "colab_type": "code",
        "colab": {
          "base_uri": "https://localhost:8080/",
          "height": 34
        },
        "outputId": "2ce696ce-ab29-414c-ce6b-f36642765339"
      },
      "source": [
        "Result.shape"
      ],
      "execution_count": 12,
      "outputs": [
        {
          "output_type": "execute_result",
          "data": {
            "text/plain": [
              "(0, 3)"
            ]
          },
          "metadata": {
            "tags": []
          },
          "execution_count": 12
        }
      ]
    },
    {
      "cell_type": "code",
      "metadata": {
        "id": "UVKopRBhBjMT",
        "colab_type": "code",
        "colab": {}
      },
      "source": [
        ""
      ],
      "execution_count": 0,
      "outputs": []
    }
  ]
}